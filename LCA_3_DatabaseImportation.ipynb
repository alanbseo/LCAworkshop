{
  "cells": [
    {
      "cell_type": "markdown",
      "metadata": {
        "id": "view-in-github",
        "colab_type": "text"
      },
      "source": [
        "<a href=\"https://colab.research.google.com/github/alanbseo/LCAworkshop/blob/master/LCA_3_DatabaseImportation.ipynb\" target=\"_parent\"><img src=\"https://colab.research.google.com/assets/colab-badge.svg\" alt=\"Open In Colab\"/></a>"
      ]
    },
    {
      "cell_type": "code",
      "execution_count": 1,
      "metadata": {
        "colab": {
          "base_uri": "https://localhost:8080/"
        },
        "id": "pnRir9GM_1rm",
        "outputId": "de57f024-2c39-47b0-af5a-219cdeabd9ea"
      },
      "outputs": [
        {
          "output_type": "stream",
          "name": "stdout",
          "text": [
            "Collecting brightway25\n",
            "  Downloading brightway25-1.0.6.tar.gz (12.0 MB)\n",
            "\u001b[2K     \u001b[90m━━━━━━━━━━━━━━━━━━━━━━━━━━━━━━━━━━━━━━━━\u001b[0m \u001b[32m12.0/12.0 MB\u001b[0m \u001b[31m28.1 MB/s\u001b[0m eta \u001b[36m0:00:00\u001b[0m\n",
            "\u001b[?25h  Preparing metadata (setup.py) ... \u001b[?25l\u001b[?25hdone\n",
            "Collecting bw2analyzer>=0.11.1 (from brightway25)\n",
            "  Downloading bw2analyzer-0.11.8-py3-none-any.whl (29 kB)\n",
            "Collecting bw2calc>=2.0.dev5 (from brightway25)\n",
            "  Downloading bw2calc-2.0.dev16-py3-none-any.whl (29 kB)\n",
            "Collecting bw2data>=4.0.dev11 (from brightway25)\n",
            "  Downloading bw2data-4.0.dev33.tar.gz (188 kB)\n",
            "\u001b[2K     \u001b[90m━━━━━━━━━━━━━━━━━━━━━━━━━━━━━━━━━━━━━━━━\u001b[0m \u001b[32m188.4/188.4 kB\u001b[0m \u001b[31m7.3 MB/s\u001b[0m eta \u001b[36m0:00:00\u001b[0m\n",
            "\u001b[?25h  Preparing metadata (setup.py) ... \u001b[?25l\u001b[?25hdone\n",
            "Collecting bw2io>=0.9.dev6 (from brightway25)\n",
            "  Downloading bw2io-0.9.dev26.tar.gz (27.9 MB)\n",
            "\u001b[2K     \u001b[90m━━━━━━━━━━━━━━━━━━━━━━━━━━━━━━━━━━━━━━━━\u001b[0m \u001b[32m27.9/27.9 MB\u001b[0m \u001b[31m11.8 MB/s\u001b[0m eta \u001b[36m0:00:00\u001b[0m\n",
            "\u001b[?25h  Preparing metadata (setup.py) ... \u001b[?25l\u001b[?25hdone\n",
            "Collecting bw2parameters>=0.6.6 (from brightway25)\n",
            "  Downloading bw2parameters-1.1.0-py3-none-any.whl (15 kB)\n",
            "Collecting bw_processing>=0.7.1 (from brightway25)\n",
            "  Downloading bw_processing-0.9-py3-none-any.whl (46 kB)\n",
            "\u001b[2K     \u001b[90m━━━━━━━━━━━━━━━━━━━━━━━━━━━━━━━━━━━━━━━━\u001b[0m \u001b[32m47.0/47.0 kB\u001b[0m \u001b[31m3.6 MB/s\u001b[0m eta \u001b[36m0:00:00\u001b[0m\n",
            "\u001b[?25hCollecting matrix_utils>=0.2.2 (from brightway25)\n",
            "  Downloading matrix_utils-0.4.1-py3-none-any.whl (19 kB)\n",
            "Collecting mrio_common_metadata>=0.2 (from brightway25)\n",
            "  Downloading mrio_common_metadata-0.2.1-py3-none-any.whl (18 kB)\n",
            "Collecting bw_migrations>=0.2 (from brightway25)\n",
            "  Downloading bw_migrations-0.2-py3-none-any.whl (9.3 kB)\n",
            "Requirement already satisfied: numpy>=1.20 in /usr/local/lib/python3.10/dist-packages (from brightway25) (1.23.5)\n",
            "Requirement already satisfied: scipy in /usr/local/lib/python3.10/dist-packages (from brightway25) (1.11.4)\n",
            "Collecting stats_arrays>=0.6.5 (from brightway25)\n",
            "  Downloading stats_arrays-0.6.6-py3-none-any.whl (26 kB)\n",
            "Requirement already satisfied: pandas in /usr/local/lib/python3.10/dist-packages (from bw_migrations>=0.2->brightway25) (1.5.3)\n",
            "Collecting fs (from bw_processing>=0.7.1->brightway25)\n",
            "  Downloading fs-2.4.16-py2.py3-none-any.whl (135 kB)\n",
            "\u001b[2K     \u001b[90m━━━━━━━━━━━━━━━━━━━━━━━━━━━━━━━━━━━━━━━━\u001b[0m \u001b[32m135.3/135.3 kB\u001b[0m \u001b[31m12.2 MB/s\u001b[0m eta \u001b[36m0:00:00\u001b[0m\n",
            "\u001b[?25hRequirement already satisfied: matplotlib in /usr/local/lib/python3.10/dist-packages (from bw2analyzer>=0.11.1->brightway25) (3.7.1)\n",
            "Requirement already satisfied: requests in /usr/local/lib/python3.10/dist-packages (from bw2analyzer>=0.11.1->brightway25) (2.31.0)\n",
            "Requirement already satisfied: tabulate in /usr/local/lib/python3.10/dist-packages (from bw2analyzer>=0.11.1->brightway25) (0.9.0)\n",
            "Requirement already satisfied: tqdm in /usr/local/lib/python3.10/dist-packages (from bw2analyzer>=0.11.1->brightway25) (4.66.1)\n",
            "Requirement already satisfied: lxml in /usr/local/lib/python3.10/dist-packages (from bw2data>=4.0.dev11->brightway25) (4.9.4)\n",
            "Requirement already satisfied: peewee>=3.9.4 in /usr/local/lib/python3.10/dist-packages (from bw2data>=4.0.dev11->brightway25) (3.17.0)\n",
            "Requirement already satisfied: platformdirs in /usr/local/lib/python3.10/dist-packages (from bw2data>=4.0.dev11->brightway25) (4.1.0)\n",
            "Collecting voluptuous (from bw2data>=4.0.dev11->brightway25)\n",
            "  Downloading voluptuous-0.14.1-py3-none-any.whl (30 kB)\n",
            "Collecting whoosh (from bw2data>=4.0.dev11->brightway25)\n",
            "  Downloading Whoosh-2.7.4-py2.py3-none-any.whl (468 kB)\n",
            "\u001b[2K     \u001b[90m━━━━━━━━━━━━━━━━━━━━━━━━━━━━━━━━━━━━━━━━\u001b[0m \u001b[32m468.8/468.8 kB\u001b[0m \u001b[31m31.7 MB/s\u001b[0m eta \u001b[36m0:00:00\u001b[0m\n",
            "\u001b[?25hRequirement already satisfied: wrapt in /usr/local/lib/python3.10/dist-packages (from bw2data>=4.0.dev11->brightway25) (1.14.1)\n",
            "Requirement already satisfied: openpyxl in /usr/local/lib/python3.10/dist-packages (from bw2io>=0.9.dev6->brightway25) (3.1.2)\n",
            "Collecting unidecode (from bw2io>=0.9.dev6->brightway25)\n",
            "  Downloading Unidecode-1.3.8-py3-none-any.whl (235 kB)\n",
            "\u001b[2K     \u001b[90m━━━━━━━━━━━━━━━━━━━━━━━━━━━━━━━━━━━━━━━━\u001b[0m \u001b[32m235.5/235.5 kB\u001b[0m \u001b[31m21.3 MB/s\u001b[0m eta \u001b[36m0:00:00\u001b[0m\n",
            "\u001b[?25hRequirement already satisfied: xlrd in /usr/local/lib/python3.10/dist-packages (from bw2io>=0.9.dev6->brightway25) (2.0.1)\n",
            "Collecting xlsxwriter (from bw2io>=0.9.dev6->brightway25)\n",
            "  Downloading XlsxWriter-3.1.9-py3-none-any.whl (154 kB)\n",
            "\u001b[2K     \u001b[90m━━━━━━━━━━━━━━━━━━━━━━━━━━━━━━━━━━━━━━━━\u001b[0m \u001b[32m154.8/154.8 kB\u001b[0m \u001b[31m12.7 MB/s\u001b[0m eta \u001b[36m0:00:00\u001b[0m\n",
            "\u001b[?25hCollecting asteval (from bw2parameters>=0.6.6->brightway25)\n",
            "  Downloading asteval-0.9.31-py3-none-any.whl (20 kB)\n",
            "Requirement already satisfied: astunparse in /usr/local/lib/python3.10/dist-packages (from bw2parameters>=0.6.6->brightway25) (1.6.3)\n",
            "Collecting pint (from bw2parameters>=0.6.6->brightway25)\n",
            "  Downloading Pint-0.23-py3-none-any.whl (305 kB)\n",
            "\u001b[2K     \u001b[90m━━━━━━━━━━━━━━━━━━━━━━━━━━━━━━━━━━━━━━━━\u001b[0m \u001b[32m305.0/305.0 kB\u001b[0m \u001b[31m24.8 MB/s\u001b[0m eta \u001b[36m0:00:00\u001b[0m\n",
            "\u001b[?25hCollecting pyxlsb (from mrio_common_metadata>=0.2->brightway25)\n",
            "  Downloading pyxlsb-1.0.10-py2.py3-none-any.whl (23 kB)\n",
            "Requirement already satisfied: wheel<1.0,>=0.23.0 in /usr/local/lib/python3.10/dist-packages (from astunparse->bw2parameters>=0.6.6->brightway25) (0.42.0)\n",
            "Requirement already satisfied: six<2.0,>=1.6.1 in /usr/local/lib/python3.10/dist-packages (from astunparse->bw2parameters>=0.6.6->brightway25) (1.16.0)\n",
            "Requirement already satisfied: appdirs~=1.4.3 in /usr/local/lib/python3.10/dist-packages (from fs->bw_processing>=0.7.1->brightway25) (1.4.4)\n",
            "Requirement already satisfied: setuptools in /usr/local/lib/python3.10/dist-packages (from fs->bw_processing>=0.7.1->brightway25) (67.7.2)\n",
            "Requirement already satisfied: contourpy>=1.0.1 in /usr/local/lib/python3.10/dist-packages (from matplotlib->bw2analyzer>=0.11.1->brightway25) (1.2.0)\n",
            "Requirement already satisfied: cycler>=0.10 in /usr/local/lib/python3.10/dist-packages (from matplotlib->bw2analyzer>=0.11.1->brightway25) (0.12.1)\n",
            "Requirement already satisfied: fonttools>=4.22.0 in /usr/local/lib/python3.10/dist-packages (from matplotlib->bw2analyzer>=0.11.1->brightway25) (4.47.0)\n",
            "Requirement already satisfied: kiwisolver>=1.0.1 in /usr/local/lib/python3.10/dist-packages (from matplotlib->bw2analyzer>=0.11.1->brightway25) (1.4.5)\n",
            "Requirement already satisfied: packaging>=20.0 in /usr/local/lib/python3.10/dist-packages (from matplotlib->bw2analyzer>=0.11.1->brightway25) (23.2)\n",
            "Requirement already satisfied: pillow>=6.2.0 in /usr/local/lib/python3.10/dist-packages (from matplotlib->bw2analyzer>=0.11.1->brightway25) (9.4.0)\n",
            "Requirement already satisfied: pyparsing>=2.3.1 in /usr/local/lib/python3.10/dist-packages (from matplotlib->bw2analyzer>=0.11.1->brightway25) (3.1.1)\n",
            "Requirement already satisfied: python-dateutil>=2.7 in /usr/local/lib/python3.10/dist-packages (from matplotlib->bw2analyzer>=0.11.1->brightway25) (2.8.2)\n",
            "Requirement already satisfied: et-xmlfile in /usr/local/lib/python3.10/dist-packages (from openpyxl->bw2io>=0.9.dev6->brightway25) (1.1.0)\n",
            "Requirement already satisfied: pytz>=2020.1 in /usr/local/lib/python3.10/dist-packages (from pandas->bw_migrations>=0.2->brightway25) (2023.3.post1)\n",
            "Requirement already satisfied: typing-extensions in /usr/local/lib/python3.10/dist-packages (from pint->bw2parameters>=0.6.6->brightway25) (4.5.0)\n",
            "Requirement already satisfied: charset-normalizer<4,>=2 in /usr/local/lib/python3.10/dist-packages (from requests->bw2analyzer>=0.11.1->brightway25) (3.3.2)\n",
            "Requirement already satisfied: idna<4,>=2.5 in /usr/local/lib/python3.10/dist-packages (from requests->bw2analyzer>=0.11.1->brightway25) (3.6)\n",
            "Requirement already satisfied: urllib3<3,>=1.21.1 in /usr/local/lib/python3.10/dist-packages (from requests->bw2analyzer>=0.11.1->brightway25) (2.0.7)\n",
            "Requirement already satisfied: certifi>=2017.4.17 in /usr/local/lib/python3.10/dist-packages (from requests->bw2analyzer>=0.11.1->brightway25) (2023.11.17)\n",
            "Building wheels for collected packages: brightway25, bw2data, bw2io\n",
            "  Building wheel for brightway25 (setup.py) ... \u001b[?25l\u001b[?25hdone\n",
            "  Created wheel for brightway25: filename=brightway25-1.0.6-py3-none-any.whl size=3453 sha256=d7d73859692d0776ecd6fc1ee1759f902f2b06681091446a0dc034303ff3a384\n",
            "  Stored in directory: /root/.cache/pip/wheels/df/95/3b/d50d3d4340cee6afe567fc6972201a169b1e2818001f57d22b\n",
            "  Building wheel for bw2data (setup.py) ... \u001b[?25l\u001b[?25hdone\n",
            "  Created wheel for bw2data: filename=bw2data-4.0.dev33-py3-none-any.whl size=79245 sha256=cf05d985a6cc7d10ee88306a9a961e1ab8f3272a9c8c866fdde7f827d22a9b3b\n",
            "  Stored in directory: /root/.cache/pip/wheels/e4/82/3e/dd58ca35f521774303ae959e02440919f2f9dd482fb19e2767\n",
            "  Building wheel for bw2io (setup.py) ... \u001b[?25l\u001b[?25hdone\n",
            "  Created wheel for bw2io: filename=bw2io-0.9.dev26-py3-none-any.whl size=27612286 sha256=7c0429724980cacaa77f2eb32d807cc8f66d4e50ab4d1332dd983d20cefc7fd3\n",
            "  Stored in directory: /root/.cache/pip/wheels/90/48/54/58a072cb29b9f8a62bded832ddb1f99823dee77dfb37d404f1\n",
            "Successfully built brightway25 bw2data bw2io\n",
            "Installing collected packages: whoosh, pyxlsb, xlsxwriter, voluptuous, unidecode, pint, fs, asteval, stats_arrays, mrio_common_metadata, bw2parameters, bw_processing, matrix_utils, bw2data, bw2calc, bw_migrations, bw2io, bw2analyzer, brightway25\n",
            "Successfully installed asteval-0.9.31 brightway25-1.0.6 bw2analyzer-0.11.8 bw2calc-2.0.dev16 bw2data-4.0.dev33 bw2io-0.9.dev26 bw2parameters-1.1.0 bw_migrations-0.2 bw_processing-0.9 fs-2.4.16 matrix_utils-0.4.1 mrio_common_metadata-0.2.1 pint-0.23 pyxlsb-1.0.10 stats_arrays-0.6.6 unidecode-1.3.8 voluptuous-0.14.1 whoosh-2.7.4 xlsxwriter-3.1.9\n"
          ]
        }
      ],
      "source": [
        "# install the BW package\n",
        "!pip install brightway25"
      ],
      "id": "pnRir9GM_1rm"
    },
    {
      "cell_type": "code",
      "execution_count": 6,
      "metadata": {
        "id": "4bce7555-2e88-4398-bf2c-5ea1a34290c9"
      },
      "outputs": [],
      "source": [
        "import bw2data as bd\n",
        "import bw2io as bi\n",
        "import bw2calc as bc\n",
        "import bw2analyzer as bwa\n",
        "\n",
        "import os"
      ],
      "id": "4bce7555-2e88-4398-bf2c-5ea1a34290c9"
    },
    {
      "cell_type": "code",
      "execution_count": null,
      "metadata": {
        "id": "fd26f71a-b205-4bbc-b579-eae613dbb956"
      },
      "outputs": [],
      "source": [
        "# Importing OLCA data to BW doesn't work for the time being..\n",
        "# https://github.com/cyrillefrancois/openlca2bw\n",
        "# !pip install openlca2bw\n",
        "# import openlca2bw\n",
        "\n",
        "# my_dict = {'FirstDatabase': ['Folder1','Folder2'],'SecondDatabase': 'Folder3'}\n",
        "\n",
        "#after exporting json zip from OpenLCA\n",
        "\n",
        "# load_openLCA_Json(path_zip=r'C:\\user\\userprofile\\document\\olcaJSON.zip',user_databases=my_dict)\n"
      ],
      "id": "fd26f71a-b205-4bbc-b579-eae613dbb956"
    },
    {
      "cell_type": "code",
      "execution_count": 7,
      "metadata": {
        "id": "SOjgjIYigowx",
        "colab": {
          "base_uri": "https://localhost:8080/"
        },
        "outputId": "4995d9ab-c3b5-4cb4-f4c8-251e2d378c47"
      },
      "outputs": [
        {
          "output_type": "stream",
          "name": "stdout",
          "text": [
            "Drive already mounted at /content/gdrive; to attempt to forcibly remount, call drive.mount(\"/content/gdrive\", force_remount=True).\n"
          ]
        }
      ],
      "source": [
        "from google.colab import drive\n",
        "drive.mount('/content/gdrive')"
      ],
      "id": "SOjgjIYigowx"
    },
    {
      "cell_type": "code",
      "execution_count": 11,
      "metadata": {
        "colab": {
          "base_uri": "https://localhost:8080/"
        },
        "id": "lHNF8gBZg-Oj",
        "outputId": "b12493ce-7533-4997-c78a-390ab6f0e273"
      },
      "outputs": [
        {
          "output_type": "execute_result",
          "data": {
            "text/plain": [
              "['Donggul',\n",
              " 'UML',\n",
              " 'Colab Notebooks',\n",
              " 'Habitat modelling and conservation area planning using camera-trap photos, computer vision, and network analysis: a case study of Yellow-throated marten in South Korea .gdoc',\n",
              " 'ActivityTags_trainingdata_v1.gsheet',\n",
              " 'CRAFTY - landchange.earth page.gdoc',\n",
              " 'Literature_Guideline paper',\n",
              " 'Landchange.earth - homepage layout .gslides',\n",
              " 'Title: EU’s forestation targets demand dietary rethink.gdoc',\n",
              " 'clc_legend_label4_Feb2020.gsheet',\n",
              " 'Manual Evaluation',\n",
              " 'A new guideline for automated image classification using machine learing (for MEE).gdoc',\n",
              " 'C-P file transfer_KIT_11Oct2018.gdoc',\n",
              " 'Middle Fork Activities - Shared',\n",
              " 'BeeWalk - Terrain, Climate, and Land Use variables (2020).gdoc',\n",
              " 'Grassland paper issues.gdoc',\n",
              " \"Appropriate technologies for developing countries' greenhouse gas research \",\n",
              " 'Net zero built environment',\n",
              " 'Author Response (Bioenergy paper).gdoc',\n",
              " 'LCAworkshop']"
            ]
          },
          "metadata": {},
          "execution_count": 11
        }
      ],
      "source": [
        "os.chdir('/content/gdrive/MyDrive')\n",
        "os.listdir()\n",
        "\n"
      ],
      "id": "lHNF8gBZg-Oj"
    },
    {
      "cell_type": "code",
      "source": [
        "os.makedirs(\"LCAworkshop\")\n",
        "print(os.path.abspath(\"LCAworkshop\")) #print the path\n"
      ],
      "metadata": {
        "colab": {
          "base_uri": "https://localhost:8080/"
        },
        "id": "Jzciy0PIzwAh",
        "outputId": "4a73396b-8c26-4431-8403-be42e96f8366"
      },
      "id": "Jzciy0PIzwAh",
      "execution_count": 15,
      "outputs": [
        {
          "output_type": "stream",
          "name": "stdout",
          "text": [
            "/content/gdrive/MyDrive/MyLCA/LCAworkshop\n"
          ]
        }
      ]
    },
    {
      "cell_type": "code",
      "execution_count": 16,
      "metadata": {
        "id": "fGXbEWxwiAVf",
        "colab": {
          "base_uri": "https://localhost:8080/"
        },
        "outputId": "ad3a31a1-c376-4382-8277-ad72cd34245c"
      },
      "outputs": [
        {
          "output_type": "stream",
          "name": "stdout",
          "text": [
            "/content/gdrive/MyDrive/LCAworkshop\n"
          ]
        },
        {
          "output_type": "execute_result",
          "data": {
            "text/plain": [
              "['lci-bike.xlsx']"
            ]
          },
          "metadata": {},
          "execution_count": 16
        }
      ],
      "source": [
        "os.chdir('/content/gdrive/MyDrive/LCAworkshop')\n",
        "\n",
        "print(os.getcwd())          #print the current working directory\n",
        "os.listdir('.')"
      ],
      "id": "fGXbEWxwiAVf"
    },
    {
      "cell_type": "code",
      "execution_count": 17,
      "metadata": {
        "id": "a2b41a9b-7e69-4e9d-93e2-0e13f7cc59e9",
        "colab": {
          "base_uri": "https://localhost:8080/"
        },
        "outputId": "760a0cff-2163-4a2c-df06-879a09bf5750"
      },
      "outputs": [
        {
          "output_type": "stream",
          "name": "stdout",
          "text": [
            "Extracted 1 worksheets in 0.79 seconds\n",
            "Applying strategy: csv_restore_tuples\n",
            "Applying strategy: csv_restore_booleans\n",
            "Applying strategy: csv_numerize\n",
            "Applying strategy: csv_drop_unknown\n",
            "Applying strategy: csv_add_missing_exchanges_section\n",
            "Applying strategy: normalize_units\n",
            "Applying strategy: normalize_biosphere_categories\n",
            "Applying strategy: normalize_biosphere_names\n",
            "Applying strategy: strip_biosphere_exc_locations\n",
            "Applying strategy: set_code_by_activity_hash\n",
            "Applying strategy: link_iterable_by_fields\n",
            "Applying strategy: assign_only_product_as_production\n",
            "Applying strategy: link_technosphere_by_activity_hash\n",
            "Applying strategy: drop_falsey_uncertainty_fields_but_keep_zeros\n",
            "Applying strategy: convert_uncertainty_types_to_integers\n",
            "Applying strategy: convert_activity_parameters_to_list\n",
            "Applied 16 strategies in 0.02 seconds\n",
            "4 datasets\n",
            "3 exchanges\n",
            "1 unlinked exchanges\n",
            "  Type biosphere: 1 unique unlinked exchanges\n",
            "{'name': 'Carbon Dioxide', 'amount': 26.6, 'unit': 'kilogram', 'categories': ('air',), 'type': 'biosphere', 'minimum': 26, 'maximum': 27.2, 'uncertainty_type': 5}\n"
          ]
        }
      ],
      "source": [
        "bd.projects.set_current(\"spreadsheet\")\n",
        "bi.create_core_migrations()\n",
        "\n",
        "xl_importer = bi.ExcelImporter(\"lci-bike.xlsx\")\n",
        "xl_importer.apply_strategies()\n",
        "xl_importer.statistics()\n",
        "\n",
        "\n"
      ],
      "id": "a2b41a9b-7e69-4e9d-93e2-0e13f7cc59e9"
    },
    {
      "cell_type": "code",
      "source": [
        "for obj in xl_importer.unlinked:\n",
        "    print(obj)"
      ],
      "metadata": {
        "colab": {
          "base_uri": "https://localhost:8080/"
        },
        "id": "fpQnHORC0Il9",
        "outputId": "2a87320f-ebf5-4912-dbf6-e190259dbe57"
      },
      "id": "fpQnHORC0Il9",
      "execution_count": 18,
      "outputs": [
        {
          "output_type": "stream",
          "name": "stdout",
          "text": [
            "{'name': 'Carbon Dioxide', 'amount': 26.6, 'unit': 'kilogram', 'categories': ('air',), 'type': 'biosphere', 'minimum': 26, 'maximum': 27.2, 'uncertainty_type': 5}\n"
          ]
        }
      ]
    },
    {
      "cell_type": "code",
      "execution_count": 19,
      "metadata": {
        "id": "Ud-JR6mmgYIu",
        "colab": {
          "base_uri": "https://localhost:8080/"
        },
        "outputId": "8519ae5b-dda5-4d95-83ba-89ce4e0ecbc3"
      },
      "outputs": [
        {
          "output_type": "stream",
          "name": "stdout",
          "text": [
            "Applying strategy: link_iterable_by_fields\n",
            "4 datasets\n",
            "3 exchanges\n",
            "0 unlinked exchanges\n",
            "  \n"
          ]
        },
        {
          "output_type": "stream",
          "name": "stderr",
          "text": [
            "100%|██████████| 4/4 [00:00<00:00, 5121.25it/s]"
          ]
        },
        {
          "output_type": "stream",
          "name": "stdout",
          "text": [
            "Vacuuming database \n",
            "Created database: bike\n"
          ]
        },
        {
          "output_type": "stream",
          "name": "stderr",
          "text": [
            "\n"
          ]
        },
        {
          "output_type": "execute_result",
          "data": {
            "text/plain": [
              "Databases dictionary with 1 object(s):\n",
              "\tbike"
            ]
          },
          "metadata": {},
          "execution_count": 19
        }
      ],
      "source": [
        "\n",
        "xl_importer.match_database(fields=['name'])\n",
        "xl_importer.statistics()\n",
        "xl_importer.write_database()\n",
        "\n",
        "# Check that your db now exists\n",
        "\n",
        "bd.databases"
      ],
      "id": "Ud-JR6mmgYIu"
    },
    {
      "cell_type": "code",
      "source": [
        "bikedb = bd.Database(\"bike\")\n",
        "for act in bikedb:\n",
        "    print(act)"
      ],
      "metadata": {
        "colab": {
          "base_uri": "https://localhost:8080/"
        },
        "id": "2Cox-5LL0b8j",
        "outputId": "5af43691-c8f8-44a0-d0c2-166e4247b075"
      },
      "id": "2Cox-5LL0b8j",
      "execution_count": 20,
      "outputs": [
        {
          "output_type": "stream",
          "name": "stdout",
          "text": [
            "'carbon fibre production' (kilogram, DE, None)\n",
            "'bike production' (bike, DK, None)\n",
            "'natural gas production' (megajoule, NO, None)\n",
            "'Carbon Dioxide' (kilogram, GLO, ('air',))\n"
          ]
        }
      ]
    },
    {
      "cell_type": "code",
      "source": [
        "bp = [act for act in bikedb][0]\n",
        "for exc in bp.exchanges():\n",
        "    print(exc)"
      ],
      "metadata": {
        "id": "4UCO_CwL0mYU"
      },
      "id": "4UCO_CwL0mYU",
      "execution_count": 21,
      "outputs": []
    },
    {
      "cell_type": "markdown",
      "source": [
        "*See* whether the details of our biosphere exchange are correct:"
      ],
      "metadata": {
        "id": "6tbvXpgJ03co"
      },
      "id": "6tbvXpgJ03co"
    },
    {
      "cell_type": "code",
      "source": [
        "# todo implement LCA using excel data values\n",
        "lca = bc.LCA(.. )\n",
        "lca.lci()\n",
        "lca.lcia()\n",
        "lca.score"
      ],
      "metadata": {
        "colab": {
          "base_uri": "https://localhost:8080/",
          "height": 385
        },
        "id": "e9fk_uqu0vYA",
        "outputId": "cab298e0-61bd-4bbe-f72d-4915dbf0f147"
      },
      "id": "e9fk_uqu0vYA",
      "execution_count": 26,
      "outputs": [
        {
          "output_type": "error",
          "ename": "KeyError",
          "evalue": "'BW2 Excel water bottle import'",
          "traceback": [
            "\u001b[0;31m---------------------------------------------------------------------------\u001b[0m",
            "\u001b[0;31mKeyError\u001b[0m                                  Traceback (most recent call last)",
            "\u001b[0;32m<ipython-input-26-f6eee4efe62b>\u001b[0m in \u001b[0;36m<cell line: 1>\u001b[0;34m()\u001b[0m\n\u001b[0;32m----> 1\u001b[0;31m lca = bc.LCA(\n\u001b[0m\u001b[1;32m      2\u001b[0m     \u001b[0;34m{\u001b[0m\u001b[0;34m(\u001b[0m\u001b[0;34m\"BW2 Excel water bottle import\"\u001b[0m\u001b[0;34m,\u001b[0m \u001b[0;34m\"WriteSomeCode_UUID_isFineButNotNecessary\"\u001b[0m\u001b[0;34m)\u001b[0m\u001b[0;34m:\u001b[0m \u001b[0;36m1\u001b[0m\u001b[0;34m}\u001b[0m\u001b[0;34m,\u001b[0m\u001b[0;34m\u001b[0m\u001b[0;34m\u001b[0m\u001b[0m\n\u001b[1;32m      3\u001b[0m     \u001b[0;34m(\u001b[0m\u001b[0;34m'IPCC 2013'\u001b[0m\u001b[0;34m,\u001b[0m \u001b[0;34m'climate change'\u001b[0m\u001b[0;34m,\u001b[0m \u001b[0;34m'GWP 100a'\u001b[0m\u001b[0;34m)\u001b[0m\u001b[0;34m\u001b[0m\u001b[0;34m\u001b[0m\u001b[0m\n\u001b[1;32m      4\u001b[0m )\n\u001b[1;32m      5\u001b[0m \u001b[0mlca\u001b[0m\u001b[0;34m.\u001b[0m\u001b[0mlci\u001b[0m\u001b[0;34m(\u001b[0m\u001b[0;34m)\u001b[0m\u001b[0;34m\u001b[0m\u001b[0;34m\u001b[0m\u001b[0m\n",
            "\u001b[0;32m/usr/local/lib/python3.10/dist-packages/bw2calc/lca.py\u001b[0m in \u001b[0;36m__init__\u001b[0;34m(self, demand, method, weighting, normalization, data_objs, remapping_dicts, log_config, seed_override, use_arrays, use_distributions, selective_use)\u001b[0m\n\u001b[1;32m     95\u001b[0m         \u001b[0;32mif\u001b[0m \u001b[0mdata_objs\u001b[0m \u001b[0;32mis\u001b[0m \u001b[0;32mNone\u001b[0m\u001b[0;34m:\u001b[0m\u001b[0;34m\u001b[0m\u001b[0;34m\u001b[0m\u001b[0m\n\u001b[1;32m     96\u001b[0m             \u001b[0mself\u001b[0m\u001b[0;34m.\u001b[0m\u001b[0mensure_bw2data_available\u001b[0m\u001b[0;34m(\u001b[0m\u001b[0;34m)\u001b[0m\u001b[0;34m\u001b[0m\u001b[0;34m\u001b[0m\u001b[0m\n\u001b[0;32m---> 97\u001b[0;31m             demand, self.packages, remapping_dicts = prepare_lca_inputs(\n\u001b[0m\u001b[1;32m     98\u001b[0m                 \u001b[0mdemand\u001b[0m\u001b[0;34m=\u001b[0m\u001b[0mdemand\u001b[0m\u001b[0;34m,\u001b[0m\u001b[0;34m\u001b[0m\u001b[0;34m\u001b[0m\u001b[0m\n\u001b[1;32m     99\u001b[0m                 \u001b[0mmethod\u001b[0m\u001b[0;34m=\u001b[0m\u001b[0mmethod\u001b[0m\u001b[0;34m,\u001b[0m\u001b[0;34m\u001b[0m\u001b[0;34m\u001b[0m\u001b[0m\n",
            "\u001b[0;32m/usr/local/lib/python3.10/dist-packages/bw2data/compat.py\u001b[0m in \u001b[0;36mprepare_lca_inputs\u001b[0;34m(demand, method, weighting, normalization, demands, remapping, demand_database_last)\u001b[0m\n\u001b[1;32m     87\u001b[0m     \u001b[0;32mif\u001b[0m \u001b[0mdemand_database_names\u001b[0m\u001b[0;34m:\u001b[0m\u001b[0;34m\u001b[0m\u001b[0;34m\u001b[0m\u001b[0m\n\u001b[1;32m     88\u001b[0m         database_names = set.union(\n\u001b[0;32m---> 89\u001b[0;31m             *[\n\u001b[0m\u001b[1;32m     90\u001b[0m                 \u001b[0mDatabase\u001b[0m\u001b[0;34m(\u001b[0m\u001b[0mdb_label\u001b[0m\u001b[0;34m)\u001b[0m\u001b[0;34m.\u001b[0m\u001b[0mfind_graph_dependents\u001b[0m\u001b[0;34m(\u001b[0m\u001b[0;34m)\u001b[0m\u001b[0;34m\u001b[0m\u001b[0;34m\u001b[0m\u001b[0m\n\u001b[1;32m     91\u001b[0m                 \u001b[0;32mfor\u001b[0m \u001b[0mdb_label\u001b[0m \u001b[0;32min\u001b[0m \u001b[0mdemand_database_names\u001b[0m\u001b[0;34m\u001b[0m\u001b[0;34m\u001b[0m\u001b[0m\n",
            "\u001b[0;32m/usr/local/lib/python3.10/dist-packages/bw2data/compat.py\u001b[0m in \u001b[0;36m<listcomp>\u001b[0;34m(.0)\u001b[0m\n\u001b[1;32m     88\u001b[0m         database_names = set.union(\n\u001b[1;32m     89\u001b[0m             *[\n\u001b[0;32m---> 90\u001b[0;31m                 \u001b[0mDatabase\u001b[0m\u001b[0;34m(\u001b[0m\u001b[0mdb_label\u001b[0m\u001b[0;34m)\u001b[0m\u001b[0;34m.\u001b[0m\u001b[0mfind_graph_dependents\u001b[0m\u001b[0;34m(\u001b[0m\u001b[0;34m)\u001b[0m\u001b[0;34m\u001b[0m\u001b[0;34m\u001b[0m\u001b[0m\n\u001b[0m\u001b[1;32m     91\u001b[0m                 \u001b[0;32mfor\u001b[0m \u001b[0mdb_label\u001b[0m \u001b[0;32min\u001b[0m \u001b[0mdemand_database_names\u001b[0m\u001b[0;34m\u001b[0m\u001b[0;34m\u001b[0m\u001b[0m\n\u001b[1;32m     92\u001b[0m             ]\n",
            "\u001b[0;32m/usr/local/lib/python3.10/dist-packages/bw2data/backends/base.py\u001b[0m in \u001b[0;36mfind_graph_dependents\u001b[0;34m(self)\u001b[0m\n\u001b[1;32m    196\u001b[0m             )\n\u001b[1;32m    197\u001b[0m \u001b[0;34m\u001b[0m\u001b[0m\n\u001b[0;32m--> 198\u001b[0;31m         \u001b[0mseed\u001b[0m\u001b[0;34m,\u001b[0m \u001b[0mextended\u001b[0m \u001b[0;34m=\u001b[0m \u001b[0;34m{\u001b[0m\u001b[0mself\u001b[0m\u001b[0;34m.\u001b[0m\u001b[0mname\u001b[0m\u001b[0;34m}\u001b[0m\u001b[0;34m,\u001b[0m \u001b[0mextend\u001b[0m\u001b[0;34m(\u001b[0m\u001b[0;34m{\u001b[0m\u001b[0mself\u001b[0m\u001b[0;34m.\u001b[0m\u001b[0mname\u001b[0m\u001b[0;34m}\u001b[0m\u001b[0;34m)\u001b[0m\u001b[0;34m\u001b[0m\u001b[0;34m\u001b[0m\u001b[0m\n\u001b[0m\u001b[1;32m    199\u001b[0m         \u001b[0;32mwhile\u001b[0m \u001b[0mextended\u001b[0m \u001b[0;34m!=\u001b[0m \u001b[0mseed\u001b[0m\u001b[0;34m:\u001b[0m\u001b[0;34m\u001b[0m\u001b[0;34m\u001b[0m\u001b[0m\n\u001b[1;32m    200\u001b[0m             \u001b[0mseed\u001b[0m\u001b[0;34m,\u001b[0m \u001b[0mextended\u001b[0m \u001b[0;34m=\u001b[0m \u001b[0mextended\u001b[0m\u001b[0;34m,\u001b[0m \u001b[0mextend\u001b[0m\u001b[0;34m(\u001b[0m\u001b[0mextended\u001b[0m\u001b[0;34m)\u001b[0m\u001b[0;34m\u001b[0m\u001b[0;34m\u001b[0m\u001b[0m\n",
            "\u001b[0;32m/usr/local/lib/python3.10/dist-packages/bw2data/backends/base.py\u001b[0m in \u001b[0;36mextend\u001b[0;34m(seeds)\u001b[0m\n\u001b[1;32m    193\u001b[0m         \u001b[0;32mdef\u001b[0m \u001b[0mextend\u001b[0m\u001b[0;34m(\u001b[0m\u001b[0mseeds\u001b[0m\u001b[0;34m)\u001b[0m\u001b[0;34m:\u001b[0m\u001b[0;34m\u001b[0m\u001b[0;34m\u001b[0m\u001b[0m\n\u001b[1;32m    194\u001b[0m             return set.union(\n\u001b[0;32m--> 195\u001b[0;31m                 \u001b[0mseeds\u001b[0m\u001b[0;34m,\u001b[0m \u001b[0mset\u001b[0m\u001b[0;34m.\u001b[0m\u001b[0munion\u001b[0m\u001b[0;34m(\u001b[0m\u001b[0;34m*\u001b[0m\u001b[0;34m[\u001b[0m\u001b[0mset\u001b[0m\u001b[0;34m(\u001b[0m\u001b[0mdatabases\u001b[0m\u001b[0;34m[\u001b[0m\u001b[0mobj\u001b[0m\u001b[0;34m]\u001b[0m\u001b[0;34m[\u001b[0m\u001b[0;34m\"depends\"\u001b[0m\u001b[0;34m]\u001b[0m\u001b[0;34m)\u001b[0m \u001b[0;32mfor\u001b[0m \u001b[0mobj\u001b[0m \u001b[0;32min\u001b[0m \u001b[0mseeds\u001b[0m\u001b[0;34m]\u001b[0m\u001b[0;34m)\u001b[0m\u001b[0;34m\u001b[0m\u001b[0;34m\u001b[0m\u001b[0m\n\u001b[0m\u001b[1;32m    196\u001b[0m             )\n\u001b[1;32m    197\u001b[0m \u001b[0;34m\u001b[0m\u001b[0m\n",
            "\u001b[0;32m/usr/local/lib/python3.10/dist-packages/bw2data/backends/base.py\u001b[0m in \u001b[0;36m<listcomp>\u001b[0;34m(.0)\u001b[0m\n\u001b[1;32m    193\u001b[0m         \u001b[0;32mdef\u001b[0m \u001b[0mextend\u001b[0m\u001b[0;34m(\u001b[0m\u001b[0mseeds\u001b[0m\u001b[0;34m)\u001b[0m\u001b[0;34m:\u001b[0m\u001b[0;34m\u001b[0m\u001b[0;34m\u001b[0m\u001b[0m\n\u001b[1;32m    194\u001b[0m             return set.union(\n\u001b[0;32m--> 195\u001b[0;31m                 \u001b[0mseeds\u001b[0m\u001b[0;34m,\u001b[0m \u001b[0mset\u001b[0m\u001b[0;34m.\u001b[0m\u001b[0munion\u001b[0m\u001b[0;34m(\u001b[0m\u001b[0;34m*\u001b[0m\u001b[0;34m[\u001b[0m\u001b[0mset\u001b[0m\u001b[0;34m(\u001b[0m\u001b[0mdatabases\u001b[0m\u001b[0;34m[\u001b[0m\u001b[0mobj\u001b[0m\u001b[0;34m]\u001b[0m\u001b[0;34m[\u001b[0m\u001b[0;34m\"depends\"\u001b[0m\u001b[0;34m]\u001b[0m\u001b[0;34m)\u001b[0m \u001b[0;32mfor\u001b[0m \u001b[0mobj\u001b[0m \u001b[0;32min\u001b[0m \u001b[0mseeds\u001b[0m\u001b[0;34m]\u001b[0m\u001b[0;34m)\u001b[0m\u001b[0;34m\u001b[0m\u001b[0;34m\u001b[0m\u001b[0m\n\u001b[0m\u001b[1;32m    196\u001b[0m             )\n\u001b[1;32m    197\u001b[0m \u001b[0;34m\u001b[0m\u001b[0m\n",
            "\u001b[0;32m/usr/local/lib/python3.10/dist-packages/bw2data/serialization.py\u001b[0m in \u001b[0;36m__getitem__\u001b[0;34m(self, key)\u001b[0m\n\u001b[1;32m    129\u001b[0m         \u001b[0;32mif\u001b[0m \u001b[0misinstance\u001b[0m\u001b[0;34m(\u001b[0m\u001b[0mkey\u001b[0m\u001b[0;34m,\u001b[0m \u001b[0mlist\u001b[0m\u001b[0;34m)\u001b[0m\u001b[0;34m:\u001b[0m\u001b[0;34m\u001b[0m\u001b[0;34m\u001b[0m\u001b[0m\n\u001b[1;32m    130\u001b[0m             \u001b[0mkey\u001b[0m \u001b[0;34m=\u001b[0m \u001b[0mtuple\u001b[0m\u001b[0;34m(\u001b[0m\u001b[0mkey\u001b[0m\u001b[0;34m)\u001b[0m\u001b[0;34m\u001b[0m\u001b[0;34m\u001b[0m\u001b[0m\n\u001b[0;32m--> 131\u001b[0;31m         \u001b[0;32mreturn\u001b[0m \u001b[0mself\u001b[0m\u001b[0;34m.\u001b[0m\u001b[0mdata\u001b[0m\u001b[0;34m[\u001b[0m\u001b[0mkey\u001b[0m\u001b[0;34m]\u001b[0m\u001b[0;34m\u001b[0m\u001b[0;34m\u001b[0m\u001b[0m\n\u001b[0m\u001b[1;32m    132\u001b[0m \u001b[0;34m\u001b[0m\u001b[0m\n\u001b[1;32m    133\u001b[0m     \u001b[0;32mdef\u001b[0m \u001b[0m__setitem__\u001b[0m\u001b[0;34m(\u001b[0m\u001b[0mself\u001b[0m\u001b[0;34m,\u001b[0m \u001b[0mkey\u001b[0m\u001b[0;34m,\u001b[0m \u001b[0mvalue\u001b[0m\u001b[0;34m)\u001b[0m\u001b[0;34m:\u001b[0m\u001b[0;34m\u001b[0m\u001b[0;34m\u001b[0m\u001b[0m\n",
            "\u001b[0;31mKeyError\u001b[0m: 'BW2 Excel water bottle import'"
          ]
        }
      ]
    }
  ],
  "metadata": {
    "colab": {
      "provenance": [],
      "include_colab_link": true
    },
    "kernelspec": {
      "display_name": "Python [conda env:bw25]",
      "language": "python",
      "name": "conda-env-bw25-py"
    },
    "language_info": {
      "codemirror_mode": {
        "name": "ipython",
        "version": 3
      },
      "file_extension": ".py",
      "mimetype": "text/x-python",
      "name": "python",
      "nbconvert_exporter": "python",
      "pygments_lexer": "ipython3",
      "version": "3.10.10"
    }
  },
  "nbformat": 4,
  "nbformat_minor": 5
}