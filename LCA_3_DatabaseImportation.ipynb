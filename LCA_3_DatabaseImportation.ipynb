{
  "cells": [
    {
      "cell_type": "markdown",
      "metadata": {
        "id": "view-in-github",
        "colab_type": "text"
      },
      "source": [
        "<a href=\"https://colab.research.google.com/github/alanbseo/LCAworkshop/blob/master/LCA_3_DatabaseImportation.ipynb\" target=\"_parent\"><img src=\"https://colab.research.google.com/assets/colab-badge.svg\" alt=\"Open In Colab\"/></a>"
      ]
    },
    {
      "cell_type": "code",
      "execution_count": 1,
      "metadata": {
        "colab": {
          "base_uri": "https://localhost:8080/"
        },
        "id": "pnRir9GM_1rm",
        "outputId": "de57f024-2c39-47b0-af5a-219cdeabd9ea"
      },
      "outputs": [
        {
          "output_type": "stream",
          "name": "stdout",
          "text": [
            "Collecting brightway25\n",
            "  Downloading brightway25-1.0.6.tar.gz (12.0 MB)\n",
            "\u001b[2K     \u001b[90m━━━━━━━━━━━━━━━━━━━━━━━━━━━━━━━━━━━━━━━━\u001b[0m \u001b[32m12.0/12.0 MB\u001b[0m \u001b[31m28.1 MB/s\u001b[0m eta \u001b[36m0:00:00\u001b[0m\n",
            "\u001b[?25h  Preparing metadata (setup.py) ... \u001b[?25l\u001b[?25hdone\n",
            "Collecting bw2analyzer>=0.11.1 (from brightway25)\n",
            "  Downloading bw2analyzer-0.11.8-py3-none-any.whl (29 kB)\n",
            "Collecting bw2calc>=2.0.dev5 (from brightway25)\n",
            "  Downloading bw2calc-2.0.dev16-py3-none-any.whl (29 kB)\n",
            "Collecting bw2data>=4.0.dev11 (from brightway25)\n",
            "  Downloading bw2data-4.0.dev33.tar.gz (188 kB)\n",
            "\u001b[2K     \u001b[90m━━━━━━━━━━━━━━━━━━━━━━━━━━━━━━━━━━━━━━━━\u001b[0m \u001b[32m188.4/188.4 kB\u001b[0m \u001b[31m7.3 MB/s\u001b[0m eta \u001b[36m0:00:00\u001b[0m\n",
            "\u001b[?25h  Preparing metadata (setup.py) ... \u001b[?25l\u001b[?25hdone\n",
            "Collecting bw2io>=0.9.dev6 (from brightway25)\n",
            "  Downloading bw2io-0.9.dev26.tar.gz (27.9 MB)\n",
            "\u001b[2K     \u001b[90m━━━━━━━━━━━━━━━━━━━━━━━━━━━━━━━━━━━━━━━━\u001b[0m \u001b[32m27.9/27.9 MB\u001b[0m \u001b[31m11.8 MB/s\u001b[0m eta \u001b[36m0:00:00\u001b[0m\n",
            "\u001b[?25h  Preparing metadata (setup.py) ... \u001b[?25l\u001b[?25hdone\n",
            "Collecting bw2parameters>=0.6.6 (from brightway25)\n",
            "  Downloading bw2parameters-1.1.0-py3-none-any.whl (15 kB)\n",
            "Collecting bw_processing>=0.7.1 (from brightway25)\n",
            "  Downloading bw_processing-0.9-py3-none-any.whl (46 kB)\n",
            "\u001b[2K     \u001b[90m━━━━━━━━━━━━━━━━━━━━━━━━━━━━━━━━━━━━━━━━\u001b[0m \u001b[32m47.0/47.0 kB\u001b[0m \u001b[31m3.6 MB/s\u001b[0m eta \u001b[36m0:00:00\u001b[0m\n",
            "\u001b[?25hCollecting matrix_utils>=0.2.2 (from brightway25)\n",
            "  Downloading matrix_utils-0.4.1-py3-none-any.whl (19 kB)\n",
            "Collecting mrio_common_metadata>=0.2 (from brightway25)\n",
            "  Downloading mrio_common_metadata-0.2.1-py3-none-any.whl (18 kB)\n",
            "Collecting bw_migrations>=0.2 (from brightway25)\n",
            "  Downloading bw_migrations-0.2-py3-none-any.whl (9.3 kB)\n",
            "Requirement already satisfied: numpy>=1.20 in /usr/local/lib/python3.10/dist-packages (from brightway25) (1.23.5)\n",
            "Requirement already satisfied: scipy in /usr/local/lib/python3.10/dist-packages (from brightway25) (1.11.4)\n",
            "Collecting stats_arrays>=0.6.5 (from brightway25)\n",
            "  Downloading stats_arrays-0.6.6-py3-none-any.whl (26 kB)\n",
            "Requirement already satisfied: pandas in /usr/local/lib/python3.10/dist-packages (from bw_migrations>=0.2->brightway25) (1.5.3)\n",
            "Collecting fs (from bw_processing>=0.7.1->brightway25)\n",
            "  Downloading fs-2.4.16-py2.py3-none-any.whl (135 kB)\n",
            "\u001b[2K     \u001b[90m━━━━━━━━━━━━━━━━━━━━━━━━━━━━━━━━━━━━━━━━\u001b[0m \u001b[32m135.3/135.3 kB\u001b[0m \u001b[31m12.2 MB/s\u001b[0m eta \u001b[36m0:00:00\u001b[0m\n",
            "\u001b[?25hRequirement already satisfied: matplotlib in /usr/local/lib/python3.10/dist-packages (from bw2analyzer>=0.11.1->brightway25) (3.7.1)\n",
            "Requirement already satisfied: requests in /usr/local/lib/python3.10/dist-packages (from bw2analyzer>=0.11.1->brightway25) (2.31.0)\n",
            "Requirement already satisfied: tabulate in /usr/local/lib/python3.10/dist-packages (from bw2analyzer>=0.11.1->brightway25) (0.9.0)\n",
            "Requirement already satisfied: tqdm in /usr/local/lib/python3.10/dist-packages (from bw2analyzer>=0.11.1->brightway25) (4.66.1)\n",
            "Requirement already satisfied: lxml in /usr/local/lib/python3.10/dist-packages (from bw2data>=4.0.dev11->brightway25) (4.9.4)\n",
            "Requirement already satisfied: peewee>=3.9.4 in /usr/local/lib/python3.10/dist-packages (from bw2data>=4.0.dev11->brightway25) (3.17.0)\n",
            "Requirement already satisfied: platformdirs in /usr/local/lib/python3.10/dist-packages (from bw2data>=4.0.dev11->brightway25) (4.1.0)\n",
            "Collecting voluptuous (from bw2data>=4.0.dev11->brightway25)\n",
            "  Downloading voluptuous-0.14.1-py3-none-any.whl (30 kB)\n",
            "Collecting whoosh (from bw2data>=4.0.dev11->brightway25)\n",
            "  Downloading Whoosh-2.7.4-py2.py3-none-any.whl (468 kB)\n",
            "\u001b[2K     \u001b[90m━━━━━━━━━━━━━━━━━━━━━━━━━━━━━━━━━━━━━━━━\u001b[0m \u001b[32m468.8/468.8 kB\u001b[0m \u001b[31m31.7 MB/s\u001b[0m eta \u001b[36m0:00:00\u001b[0m\n",
            "\u001b[?25hRequirement already satisfied: wrapt in /usr/local/lib/python3.10/dist-packages (from bw2data>=4.0.dev11->brightway25) (1.14.1)\n",
            "Requirement already satisfied: openpyxl in /usr/local/lib/python3.10/dist-packages (from bw2io>=0.9.dev6->brightway25) (3.1.2)\n",
            "Collecting unidecode (from bw2io>=0.9.dev6->brightway25)\n",
            "  Downloading Unidecode-1.3.8-py3-none-any.whl (235 kB)\n",
            "\u001b[2K     \u001b[90m━━━━━━━━━━━━━━━━━━━━━━━━━━━━━━━━━━━━━━━━\u001b[0m \u001b[32m235.5/235.5 kB\u001b[0m \u001b[31m21.3 MB/s\u001b[0m eta \u001b[36m0:00:00\u001b[0m\n",
            "\u001b[?25hRequirement already satisfied: xlrd in /usr/local/lib/python3.10/dist-packages (from bw2io>=0.9.dev6->brightway25) (2.0.1)\n",
            "Collecting xlsxwriter (from bw2io>=0.9.dev6->brightway25)\n",
            "  Downloading XlsxWriter-3.1.9-py3-none-any.whl (154 kB)\n",
            "\u001b[2K     \u001b[90m━━━━━━━━━━━━━━━━━━━━━━━━━━━━━━━━━━━━━━━━\u001b[0m \u001b[32m154.8/154.8 kB\u001b[0m \u001b[31m12.7 MB/s\u001b[0m eta \u001b[36m0:00:00\u001b[0m\n",
            "\u001b[?25hCollecting asteval (from bw2parameters>=0.6.6->brightway25)\n",
            "  Downloading asteval-0.9.31-py3-none-any.whl (20 kB)\n",
            "Requirement already satisfied: astunparse in /usr/local/lib/python3.10/dist-packages (from bw2parameters>=0.6.6->brightway25) (1.6.3)\n",
            "Collecting pint (from bw2parameters>=0.6.6->brightway25)\n",
            "  Downloading Pint-0.23-py3-none-any.whl (305 kB)\n",
            "\u001b[2K     \u001b[90m━━━━━━━━━━━━━━━━━━━━━━━━━━━━━━━━━━━━━━━━\u001b[0m \u001b[32m305.0/305.0 kB\u001b[0m \u001b[31m24.8 MB/s\u001b[0m eta \u001b[36m0:00:00\u001b[0m\n",
            "\u001b[?25hCollecting pyxlsb (from mrio_common_metadata>=0.2->brightway25)\n",
            "  Downloading pyxlsb-1.0.10-py2.py3-none-any.whl (23 kB)\n",
            "Requirement already satisfied: wheel<1.0,>=0.23.0 in /usr/local/lib/python3.10/dist-packages (from astunparse->bw2parameters>=0.6.6->brightway25) (0.42.0)\n",
            "Requirement already satisfied: six<2.0,>=1.6.1 in /usr/local/lib/python3.10/dist-packages (from astunparse->bw2parameters>=0.6.6->brightway25) (1.16.0)\n",
            "Requirement already satisfied: appdirs~=1.4.3 in /usr/local/lib/python3.10/dist-packages (from fs->bw_processing>=0.7.1->brightway25) (1.4.4)\n",
            "Requirement already satisfied: setuptools in /usr/local/lib/python3.10/dist-packages (from fs->bw_processing>=0.7.1->brightway25) (67.7.2)\n",
            "Requirement already satisfied: contourpy>=1.0.1 in /usr/local/lib/python3.10/dist-packages (from matplotlib->bw2analyzer>=0.11.1->brightway25) (1.2.0)\n",
            "Requirement already satisfied: cycler>=0.10 in /usr/local/lib/python3.10/dist-packages (from matplotlib->bw2analyzer>=0.11.1->brightway25) (0.12.1)\n",
            "Requirement already satisfied: fonttools>=4.22.0 in /usr/local/lib/python3.10/dist-packages (from matplotlib->bw2analyzer>=0.11.1->brightway25) (4.47.0)\n",
            "Requirement already satisfied: kiwisolver>=1.0.1 in /usr/local/lib/python3.10/dist-packages (from matplotlib->bw2analyzer>=0.11.1->brightway25) (1.4.5)\n",
            "Requirement already satisfied: packaging>=20.0 in /usr/local/lib/python3.10/dist-packages (from matplotlib->bw2analyzer>=0.11.1->brightway25) (23.2)\n",
            "Requirement already satisfied: pillow>=6.2.0 in /usr/local/lib/python3.10/dist-packages (from matplotlib->bw2analyzer>=0.11.1->brightway25) (9.4.0)\n",
            "Requirement already satisfied: pyparsing>=2.3.1 in /usr/local/lib/python3.10/dist-packages (from matplotlib->bw2analyzer>=0.11.1->brightway25) (3.1.1)\n",
            "Requirement already satisfied: python-dateutil>=2.7 in /usr/local/lib/python3.10/dist-packages (from matplotlib->bw2analyzer>=0.11.1->brightway25) (2.8.2)\n",
            "Requirement already satisfied: et-xmlfile in /usr/local/lib/python3.10/dist-packages (from openpyxl->bw2io>=0.9.dev6->brightway25) (1.1.0)\n",
            "Requirement already satisfied: pytz>=2020.1 in /usr/local/lib/python3.10/dist-packages (from pandas->bw_migrations>=0.2->brightway25) (2023.3.post1)\n",
            "Requirement already satisfied: typing-extensions in /usr/local/lib/python3.10/dist-packages (from pint->bw2parameters>=0.6.6->brightway25) (4.5.0)\n",
            "Requirement already satisfied: charset-normalizer<4,>=2 in /usr/local/lib/python3.10/dist-packages (from requests->bw2analyzer>=0.11.1->brightway25) (3.3.2)\n",
            "Requirement already satisfied: idna<4,>=2.5 in /usr/local/lib/python3.10/dist-packages (from requests->bw2analyzer>=0.11.1->brightway25) (3.6)\n",
            "Requirement already satisfied: urllib3<3,>=1.21.1 in /usr/local/lib/python3.10/dist-packages (from requests->bw2analyzer>=0.11.1->brightway25) (2.0.7)\n",
            "Requirement already satisfied: certifi>=2017.4.17 in /usr/local/lib/python3.10/dist-packages (from requests->bw2analyzer>=0.11.1->brightway25) (2023.11.17)\n",
            "Building wheels for collected packages: brightway25, bw2data, bw2io\n",
            "  Building wheel for brightway25 (setup.py) ... \u001b[?25l\u001b[?25hdone\n",
            "  Created wheel for brightway25: filename=brightway25-1.0.6-py3-none-any.whl size=3453 sha256=d7d73859692d0776ecd6fc1ee1759f902f2b06681091446a0dc034303ff3a384\n",
            "  Stored in directory: /root/.cache/pip/wheels/df/95/3b/d50d3d4340cee6afe567fc6972201a169b1e2818001f57d22b\n",
            "  Building wheel for bw2data (setup.py) ... \u001b[?25l\u001b[?25hdone\n",
            "  Created wheel for bw2data: filename=bw2data-4.0.dev33-py3-none-any.whl size=79245 sha256=cf05d985a6cc7d10ee88306a9a961e1ab8f3272a9c8c866fdde7f827d22a9b3b\n",
            "  Stored in directory: /root/.cache/pip/wheels/e4/82/3e/dd58ca35f521774303ae959e02440919f2f9dd482fb19e2767\n",
            "  Building wheel for bw2io (setup.py) ... \u001b[?25l\u001b[?25hdone\n",
            "  Created wheel for bw2io: filename=bw2io-0.9.dev26-py3-none-any.whl size=27612286 sha256=7c0429724980cacaa77f2eb32d807cc8f66d4e50ab4d1332dd983d20cefc7fd3\n",
            "  Stored in directory: /root/.cache/pip/wheels/90/48/54/58a072cb29b9f8a62bded832ddb1f99823dee77dfb37d404f1\n",
            "Successfully built brightway25 bw2data bw2io\n",
            "Installing collected packages: whoosh, pyxlsb, xlsxwriter, voluptuous, unidecode, pint, fs, asteval, stats_arrays, mrio_common_metadata, bw2parameters, bw_processing, matrix_utils, bw2data, bw2calc, bw_migrations, bw2io, bw2analyzer, brightway25\n",
            "Successfully installed asteval-0.9.31 brightway25-1.0.6 bw2analyzer-0.11.8 bw2calc-2.0.dev16 bw2data-4.0.dev33 bw2io-0.9.dev26 bw2parameters-1.1.0 bw_migrations-0.2 bw_processing-0.9 fs-2.4.16 matrix_utils-0.4.1 mrio_common_metadata-0.2.1 pint-0.23 pyxlsb-1.0.10 stats_arrays-0.6.6 unidecode-1.3.8 voluptuous-0.14.1 whoosh-2.7.4 xlsxwriter-3.1.9\n"
          ]
        }
      ],
      "source": [
        "# install the BW package\n",
        "!pip install brightway25"
      ],
      "id": "pnRir9GM_1rm"
    },
    {
      "cell_type": "code",
      "execution_count": 6,
      "metadata": {
        "id": "4bce7555-2e88-4398-bf2c-5ea1a34290c9"
      },
      "outputs": [],
      "source": [
        "import bw2data as bd\n",
        "import bw2io as bi\n",
        "import bw2calc as bc\n",
        "import bw2analyzer as bwa\n",
        "\n",
        "import os"
      ],
      "id": "4bce7555-2e88-4398-bf2c-5ea1a34290c9"
    },
    {
      "cell_type": "code",
      "execution_count": null,
      "metadata": {
        "id": "fd26f71a-b205-4bbc-b579-eae613dbb956"
      },
      "outputs": [],
      "source": [
        "# Importing OLCA data to BW doesn't work for the time being..\n",
        "# https://github.com/cyrillefrancois/openlca2bw\n",
        "# !pip install openlca2bw\n",
        "# import openlca2bw\n",
        "\n",
        "# my_dict = {'FirstDatabase': ['Folder1','Folder2'],'SecondDatabase': 'Folder3'}\n",
        "\n",
        "#after exporting json zip from OpenLCA\n",
        "\n",
        "# load_openLCA_Json(path_zip=r'C:\\user\\userprofile\\document\\olcaJSON.zip',user_databases=my_dict)\n"
      ],
      "id": "fd26f71a-b205-4bbc-b579-eae613dbb956"
    },
    {
      "cell_type": "code",
      "execution_count": 7,
      "metadata": {
        "id": "SOjgjIYigowx",
        "colab": {
          "base_uri": "https://localhost:8080/"
        },
        "outputId": "4995d9ab-c3b5-4cb4-f4c8-251e2d378c47"
      },
      "outputs": [
        {
          "output_type": "stream",
          "name": "stdout",
          "text": [
            "Drive already mounted at /content/gdrive; to attempt to forcibly remount, call drive.mount(\"/content/gdrive\", force_remount=True).\n"
          ]
        }
      ],
      "source": [
        "from google.colab import drive\n",
        "drive.mount('/content/gdrive')"
      ],
      "id": "SOjgjIYigowx"
    },
    {
      "cell_type": "code",
      "execution_count": 11,
      "metadata": {
        "colab": {
          "base_uri": "https://localhost:8080/"
        },
        "id": "lHNF8gBZg-Oj",
        "outputId": "b12493ce-7533-4997-c78a-390ab6f0e273"
      },
      "outputs": [
        {
          "output_type": "execute_result",
          "data": {
            "text/plain": [
              "['Donggul',\n",
              " 'UML',\n",
              " 'Colab Notebooks',\n",
              " 'Habitat modelling and conservation area planning using camera-trap photos, computer vision, and network analysis: a case study of Yellow-throated marten in South Korea .gdoc',\n",
              " 'ActivityTags_trainingdata_v1.gsheet',\n",
              " 'CRAFTY - landchange.earth page.gdoc',\n",
              " 'Literature_Guideline paper',\n",
              " 'Landchange.earth - homepage layout .gslides',\n",
              " 'Title: EU’s forestation targets demand dietary rethink.gdoc',\n",
              " 'clc_legend_label4_Feb2020.gsheet',\n",
              " 'Manual Evaluation',\n",
              " 'A new guideline for automated image classification using machine learing (for MEE).gdoc',\n",
              " 'C-P file transfer_KIT_11Oct2018.gdoc',\n",
              " 'Middle Fork Activities - Shared',\n",
              " 'BeeWalk - Terrain, Climate, and Land Use variables (2020).gdoc',\n",
              " 'Grassland paper issues.gdoc',\n",
              " \"Appropriate technologies for developing countries' greenhouse gas research \",\n",
              " 'Net zero built environment',\n",
              " 'Author Response (Bioenergy paper).gdoc',\n",
              " 'LCAworkshop']"
            ]
          },
          "metadata": {},
          "execution_count": 11
        }
      ],
      "source": [
        "os.chdir('/content/gdrive/MyDrive')\n",
        "os.listdir()\n",
        "\n"
      ],
      "id": "lHNF8gBZg-Oj"
    },
    {
      "cell_type": "code",
      "source": [
        "os.makedirs(\"LCAworkshop\")\n",
        "print(os.path.abspath(\"LCAworkshop\")) #print the path\n"
      ],
      "metadata": {
        "colab": {
          "base_uri": "https://localhost:8080/"
        },
        "id": "Jzciy0PIzwAh",
        "outputId": "4a73396b-8c26-4431-8403-be42e96f8366"
      },
      "id": "Jzciy0PIzwAh",
      "execution_count": 15,
      "outputs": [
        {
          "output_type": "stream",
          "name": "stdout",
          "text": [
            "/content/gdrive/MyDrive/MyLCA/LCAworkshop\n"
          ]
        }
      ]
    },
    {
      "cell_type": "code",
      "execution_count": 16,
      "metadata": {
        "id": "fGXbEWxwiAVf",
        "colab": {
          "base_uri": "https://localhost:8080/"
        },
        "outputId": "ad3a31a1-c376-4382-8277-ad72cd34245c"
      },
      "outputs": [
        {
          "output_type": "stream",
          "name": "stdout",
          "text": [
            "/content/gdrive/MyDrive/LCAworkshop\n"
          ]
        },
        {
          "output_type": "execute_result",
          "data": {
            "text/plain": [
              "['lci-bike.xlsx']"
            ]
          },
          "metadata": {},
          "execution_count": 16
        }
      ],
      "source": [
        "os.chdir('/content/gdrive/MyDrive/LCAworkshop')\n",
        "\n",
        "print(os.getcwd())          #print the current working directory\n",
        "os.listdir('.')"
      ],
      "id": "fGXbEWxwiAVf"
    },
    {
      "cell_type": "code",
      "execution_count": null,
      "metadata": {
        "id": "a2b41a9b-7e69-4e9d-93e2-0e13f7cc59e9"
      },
      "outputs": [],
      "source": [
        "bd.projects.set_current(\"spreadsheet\")\n",
        "bi.create_core_migrations()\n",
        "\n",
        "xl_importer = bi.ExcelImporter(\"lci-bike.xlsx\")\n",
        "xl_importer.apply_strategies()\n",
        "xl_importer.statistics()\n",
        "\n",
        "\n"
      ],
      "id": "a2b41a9b-7e69-4e9d-93e2-0e13f7cc59e9"
    },
    {
      "cell_type": "code",
      "source": [
        "for obj in xl_importer.unlinked:\n",
        "    print(obj)"
      ],
      "metadata": {
        "id": "fpQnHORC0Il9"
      },
      "id": "fpQnHORC0Il9",
      "execution_count": null,
      "outputs": []
    },
    {
      "cell_type": "code",
      "execution_count": null,
      "metadata": {
        "id": "Ud-JR6mmgYIu"
      },
      "outputs": [],
      "source": [
        "\n",
        "xl_importer.match_database(fields=['name'])\n",
        "xl_importer.statistics()\n",
        "xl_importer.write_database()\n",
        "\n",
        "bd.databases"
      ],
      "id": "Ud-JR6mmgYIu"
    }
  ],
  "metadata": {
    "colab": {
      "provenance": [],
      "include_colab_link": true
    },
    "kernelspec": {
      "display_name": "Python [conda env:bw25]",
      "language": "python",
      "name": "conda-env-bw25-py"
    },
    "language_info": {
      "codemirror_mode": {
        "name": "ipython",
        "version": 3
      },
      "file_extension": ".py",
      "mimetype": "text/x-python",
      "name": "python",
      "nbconvert_exporter": "python",
      "pygments_lexer": "ipython3",
      "version": "3.10.10"
    }
  },
  "nbformat": 4,
  "nbformat_minor": 5
}