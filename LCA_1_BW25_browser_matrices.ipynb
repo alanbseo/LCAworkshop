{
  "metadata": {
    "kernelspec": {
      "name": "python3",
      "display_name": "Python 3"
    },
    "language_info": {
      "name": "python"
    },
    "colab": {
      "provenance": [],
      "include_colab_link": true
    }
  },
  "nbformat_minor": 5,
  "nbformat": 4,
  "cells": [
    {
      "cell_type": "markdown",
      "metadata": {
        "id": "view-in-github",
        "colab_type": "text"
      },
      "source": [
        "<a href=\"https://colab.research.google.com/github/alanbseo/LCAworkshop/blob/master/LCA_1_BW25_browser_matrices.ipynb\" target=\"_parent\"><img src=\"https://colab.research.google.com/assets/colab-badge.svg\" alt=\"Open In Colab\"/></a>"
      ]
    },
    {
      "cell_type": "markdown",
      "source": [
        "The notebook is imported from the https://live.brightway.dev/lab/index.html"
      ],
      "metadata": {
        "id": "1c6c844b-622e-4e74-83b1-c8a1071aaaea"
      },
      "id": "1c6c844b-622e-4e74-83b1-c8a1071aaaea"
    },
    {
      "cell_type": "markdown",
      "source": [
        "References: https://learn.brightway.dev/en/latest/content/notebooks/BW25_for_beginners.html\n",
        "https://live.brightway.dev/lab/index.html\n",
        "https://github.com/maximikos/Brightway2_Intro/blob/master/BW2_tutorial.ipynb\n",
        "Please see the overview at https://wiki.ubc.ca/Documentation:Brightway_Tutorials\n",
        "API documentation https://docs.brightway.dev/en/latest/api/index.html"
      ],
      "metadata": {
        "id": "IGa9mou_akc8"
      },
      "id": "IGa9mou_akc8"
    },
    {
      "cell_type": "markdown",
      "source": [
        "# Imports"
      ],
      "metadata": {
        "id": "3beee94f"
      },
      "id": "3beee94f"
    },
    {
      "cell_type": "code",
      "source": [
        "# install the BW package\n",
        "!pip install brightway25"
      ],
      "metadata": {
        "colab": {
          "base_uri": "https://localhost:8080/"
        },
        "id": "VSuP4SdrM7Ej",
        "outputId": "fbb9038b-668c-48ca-e6c0-44da01e040d0"
      },
      "id": "VSuP4SdrM7Ej",
      "execution_count": 1,
      "outputs": [
        {
          "output_type": "stream",
          "name": "stdout",
          "text": [
            "Collecting brightway25\n",
            "  Downloading brightway25-1.0.6.tar.gz (12.0 MB)\n",
            "\u001b[2K     \u001b[90m━━━━━━━━━━━━━━━━━━━━━━━━━━━━━━━━━━━━━━━━\u001b[0m \u001b[32m12.0/12.0 MB\u001b[0m \u001b[31m38.2 MB/s\u001b[0m eta \u001b[36m0:00:00\u001b[0m\n",
            "\u001b[?25h  Preparing metadata (setup.py) ... \u001b[?25l\u001b[?25hdone\n",
            "Collecting bw2analyzer>=0.11.1 (from brightway25)\n",
            "  Downloading bw2analyzer-0.11.8-py3-none-any.whl (29 kB)\n",
            "Collecting bw2calc>=2.0.dev5 (from brightway25)\n",
            "  Downloading bw2calc-2.0.dev16-py3-none-any.whl (29 kB)\n",
            "Collecting bw2data>=4.0.dev11 (from brightway25)\n",
            "  Downloading bw2data-4.0.dev33.tar.gz (188 kB)\n",
            "\u001b[2K     \u001b[90m━━━━━━━━━━━━━━━━━━━━━━━━━━━━━━━━━━━━━━━━\u001b[0m \u001b[32m188.4/188.4 kB\u001b[0m \u001b[31m4.0 MB/s\u001b[0m eta \u001b[36m0:00:00\u001b[0m\n",
            "\u001b[?25h  Preparing metadata (setup.py) ... \u001b[?25l\u001b[?25hdone\n",
            "Collecting bw2io>=0.9.dev6 (from brightway25)\n",
            "  Downloading bw2io-0.9.dev26.tar.gz (27.9 MB)\n",
            "\u001b[2K     \u001b[90m━━━━━━━━━━━━━━━━━━━━━━━━━━━━━━━━━━━━━━━━\u001b[0m \u001b[32m27.9/27.9 MB\u001b[0m \u001b[31m16.2 MB/s\u001b[0m eta \u001b[36m0:00:00\u001b[0m\n",
            "\u001b[?25h  Preparing metadata (setup.py) ... \u001b[?25l\u001b[?25hdone\n",
            "Collecting bw2parameters>=0.6.6 (from brightway25)\n",
            "  Downloading bw2parameters-1.1.0-py3-none-any.whl (15 kB)\n",
            "Collecting bw_processing>=0.7.1 (from brightway25)\n",
            "  Downloading bw_processing-0.9-py3-none-any.whl (46 kB)\n",
            "\u001b[2K     \u001b[90m━━━━━━━━━━━━━━━━━━━━━━━━━━━━━━━━━━━━━━━━\u001b[0m \u001b[32m47.0/47.0 kB\u001b[0m \u001b[31m2.1 MB/s\u001b[0m eta \u001b[36m0:00:00\u001b[0m\n",
            "\u001b[?25hCollecting matrix_utils>=0.2.2 (from brightway25)\n",
            "  Downloading matrix_utils-0.4.1-py3-none-any.whl (19 kB)\n",
            "Collecting mrio_common_metadata>=0.2 (from brightway25)\n",
            "  Downloading mrio_common_metadata-0.2.1-py3-none-any.whl (18 kB)\n",
            "Collecting bw_migrations>=0.2 (from brightway25)\n",
            "  Downloading bw_migrations-0.2-py3-none-any.whl (9.3 kB)\n",
            "Requirement already satisfied: numpy>=1.20 in /usr/local/lib/python3.10/dist-packages (from brightway25) (1.23.5)\n",
            "Requirement already satisfied: scipy in /usr/local/lib/python3.10/dist-packages (from brightway25) (1.11.4)\n",
            "Collecting stats_arrays>=0.6.5 (from brightway25)\n",
            "  Downloading stats_arrays-0.6.6-py3-none-any.whl (26 kB)\n",
            "Requirement already satisfied: pandas in /usr/local/lib/python3.10/dist-packages (from bw_migrations>=0.2->brightway25) (1.5.3)\n",
            "Collecting fs (from bw_processing>=0.7.1->brightway25)\n",
            "  Downloading fs-2.4.16-py2.py3-none-any.whl (135 kB)\n",
            "\u001b[2K     \u001b[90m━━━━━━━━━━━━━━━━━━━━━━━━━━━━━━━━━━━━━━━━\u001b[0m \u001b[32m135.3/135.3 kB\u001b[0m \u001b[31m5.1 MB/s\u001b[0m eta \u001b[36m0:00:00\u001b[0m\n",
            "\u001b[?25hRequirement already satisfied: matplotlib in /usr/local/lib/python3.10/dist-packages (from bw2analyzer>=0.11.1->brightway25) (3.7.1)\n",
            "Requirement already satisfied: requests in /usr/local/lib/python3.10/dist-packages (from bw2analyzer>=0.11.1->brightway25) (2.31.0)\n",
            "Requirement already satisfied: tabulate in /usr/local/lib/python3.10/dist-packages (from bw2analyzer>=0.11.1->brightway25) (0.9.0)\n",
            "Requirement already satisfied: tqdm in /usr/local/lib/python3.10/dist-packages (from bw2analyzer>=0.11.1->brightway25) (4.66.1)\n",
            "Requirement already satisfied: lxml in /usr/local/lib/python3.10/dist-packages (from bw2data>=4.0.dev11->brightway25) (4.9.4)\n",
            "Requirement already satisfied: peewee>=3.9.4 in /usr/local/lib/python3.10/dist-packages (from bw2data>=4.0.dev11->brightway25) (3.17.0)\n",
            "Requirement already satisfied: platformdirs in /usr/local/lib/python3.10/dist-packages (from bw2data>=4.0.dev11->brightway25) (4.1.0)\n",
            "Collecting voluptuous (from bw2data>=4.0.dev11->brightway25)\n",
            "  Downloading voluptuous-0.14.1-py3-none-any.whl (30 kB)\n",
            "Collecting whoosh (from bw2data>=4.0.dev11->brightway25)\n",
            "  Downloading Whoosh-2.7.4-py2.py3-none-any.whl (468 kB)\n",
            "\u001b[2K     \u001b[90m━━━━━━━━━━━━━━━━━━━━━━━━━━━━━━━━━━━━━━━━\u001b[0m \u001b[32m468.8/468.8 kB\u001b[0m \u001b[31m10.8 MB/s\u001b[0m eta \u001b[36m0:00:00\u001b[0m\n",
            "\u001b[?25hRequirement already satisfied: wrapt in /usr/local/lib/python3.10/dist-packages (from bw2data>=4.0.dev11->brightway25) (1.14.1)\n",
            "Requirement already satisfied: openpyxl in /usr/local/lib/python3.10/dist-packages (from bw2io>=0.9.dev6->brightway25) (3.1.2)\n",
            "Collecting unidecode (from bw2io>=0.9.dev6->brightway25)\n",
            "  Downloading Unidecode-1.3.8-py3-none-any.whl (235 kB)\n",
            "\u001b[2K     \u001b[90m━━━━━━━━━━━━━━━━━━━━━━━━━━━━━━━━━━━━━━━━\u001b[0m \u001b[32m235.5/235.5 kB\u001b[0m \u001b[31m6.2 MB/s\u001b[0m eta \u001b[36m0:00:00\u001b[0m\n",
            "\u001b[?25hRequirement already satisfied: xlrd in /usr/local/lib/python3.10/dist-packages (from bw2io>=0.9.dev6->brightway25) (2.0.1)\n",
            "Collecting xlsxwriter (from bw2io>=0.9.dev6->brightway25)\n",
            "  Downloading XlsxWriter-3.1.9-py3-none-any.whl (154 kB)\n",
            "\u001b[2K     \u001b[90m━━━━━━━━━━━━━━━━━━━━━━━━━━━━━━━━━━━━━━━━\u001b[0m \u001b[32m154.8/154.8 kB\u001b[0m \u001b[31m4.1 MB/s\u001b[0m eta \u001b[36m0:00:00\u001b[0m\n",
            "\u001b[?25hCollecting asteval (from bw2parameters>=0.6.6->brightway25)\n",
            "  Downloading asteval-0.9.31-py3-none-any.whl (20 kB)\n",
            "Requirement already satisfied: astunparse in /usr/local/lib/python3.10/dist-packages (from bw2parameters>=0.6.6->brightway25) (1.6.3)\n",
            "Collecting pint (from bw2parameters>=0.6.6->brightway25)\n",
            "  Downloading Pint-0.23-py3-none-any.whl (305 kB)\n",
            "\u001b[2K     \u001b[90m━━━━━━━━━━━━━━━━━━━━━━━━━━━━━━━━━━━━━━━━\u001b[0m \u001b[32m305.0/305.0 kB\u001b[0m \u001b[31m14.2 MB/s\u001b[0m eta \u001b[36m0:00:00\u001b[0m\n",
            "\u001b[?25hCollecting pyxlsb (from mrio_common_metadata>=0.2->brightway25)\n",
            "  Downloading pyxlsb-1.0.10-py2.py3-none-any.whl (23 kB)\n",
            "Requirement already satisfied: wheel<1.0,>=0.23.0 in /usr/local/lib/python3.10/dist-packages (from astunparse->bw2parameters>=0.6.6->brightway25) (0.42.0)\n",
            "Requirement already satisfied: six<2.0,>=1.6.1 in /usr/local/lib/python3.10/dist-packages (from astunparse->bw2parameters>=0.6.6->brightway25) (1.16.0)\n",
            "Requirement already satisfied: appdirs~=1.4.3 in /usr/local/lib/python3.10/dist-packages (from fs->bw_processing>=0.7.1->brightway25) (1.4.4)\n",
            "Requirement already satisfied: setuptools in /usr/local/lib/python3.10/dist-packages (from fs->bw_processing>=0.7.1->brightway25) (67.7.2)\n",
            "Requirement already satisfied: contourpy>=1.0.1 in /usr/local/lib/python3.10/dist-packages (from matplotlib->bw2analyzer>=0.11.1->brightway25) (1.2.0)\n",
            "Requirement already satisfied: cycler>=0.10 in /usr/local/lib/python3.10/dist-packages (from matplotlib->bw2analyzer>=0.11.1->brightway25) (0.12.1)\n",
            "Requirement already satisfied: fonttools>=4.22.0 in /usr/local/lib/python3.10/dist-packages (from matplotlib->bw2analyzer>=0.11.1->brightway25) (4.47.0)\n",
            "Requirement already satisfied: kiwisolver>=1.0.1 in /usr/local/lib/python3.10/dist-packages (from matplotlib->bw2analyzer>=0.11.1->brightway25) (1.4.5)\n",
            "Requirement already satisfied: packaging>=20.0 in /usr/local/lib/python3.10/dist-packages (from matplotlib->bw2analyzer>=0.11.1->brightway25) (23.2)\n",
            "Requirement already satisfied: pillow>=6.2.0 in /usr/local/lib/python3.10/dist-packages (from matplotlib->bw2analyzer>=0.11.1->brightway25) (9.4.0)\n",
            "Requirement already satisfied: pyparsing>=2.3.1 in /usr/local/lib/python3.10/dist-packages (from matplotlib->bw2analyzer>=0.11.1->brightway25) (3.1.1)\n",
            "Requirement already satisfied: python-dateutil>=2.7 in /usr/local/lib/python3.10/dist-packages (from matplotlib->bw2analyzer>=0.11.1->brightway25) (2.8.2)\n",
            "Requirement already satisfied: et-xmlfile in /usr/local/lib/python3.10/dist-packages (from openpyxl->bw2io>=0.9.dev6->brightway25) (1.1.0)\n",
            "Requirement already satisfied: pytz>=2020.1 in /usr/local/lib/python3.10/dist-packages (from pandas->bw_migrations>=0.2->brightway25) (2023.3.post1)\n",
            "Requirement already satisfied: typing-extensions in /usr/local/lib/python3.10/dist-packages (from pint->bw2parameters>=0.6.6->brightway25) (4.5.0)\n",
            "Requirement already satisfied: charset-normalizer<4,>=2 in /usr/local/lib/python3.10/dist-packages (from requests->bw2analyzer>=0.11.1->brightway25) (3.3.2)\n",
            "Requirement already satisfied: idna<4,>=2.5 in /usr/local/lib/python3.10/dist-packages (from requests->bw2analyzer>=0.11.1->brightway25) (3.6)\n",
            "Requirement already satisfied: urllib3<3,>=1.21.1 in /usr/local/lib/python3.10/dist-packages (from requests->bw2analyzer>=0.11.1->brightway25) (2.0.7)\n",
            "Requirement already satisfied: certifi>=2017.4.17 in /usr/local/lib/python3.10/dist-packages (from requests->bw2analyzer>=0.11.1->brightway25) (2023.11.17)\n",
            "Building wheels for collected packages: brightway25, bw2data, bw2io\n",
            "  Building wheel for brightway25 (setup.py) ... \u001b[?25l\u001b[?25hdone\n",
            "  Created wheel for brightway25: filename=brightway25-1.0.6-py3-none-any.whl size=3453 sha256=9a6aba339b066d8c3086463e4361564ba19037a6deb78a27f654e4123649e5d4\n",
            "  Stored in directory: /root/.cache/pip/wheels/df/95/3b/d50d3d4340cee6afe567fc6972201a169b1e2818001f57d22b\n",
            "  Building wheel for bw2data (setup.py) ... \u001b[?25l\u001b[?25hdone\n",
            "  Created wheel for bw2data: filename=bw2data-4.0.dev33-py3-none-any.whl size=79245 sha256=1544802b2aaec93816ab55ad9853ada4bf9bc28942c0c7caf0236c781f0f50c1\n",
            "  Stored in directory: /root/.cache/pip/wheels/e4/82/3e/dd58ca35f521774303ae959e02440919f2f9dd482fb19e2767\n",
            "  Building wheel for bw2io (setup.py) ... \u001b[?25l\u001b[?25hdone\n",
            "  Created wheel for bw2io: filename=bw2io-0.9.dev26-py3-none-any.whl size=27612286 sha256=2aef10a517340041da00a622d79c348d7341aa13e170becf2b7bcec428da68f1\n",
            "  Stored in directory: /root/.cache/pip/wheels/90/48/54/58a072cb29b9f8a62bded832ddb1f99823dee77dfb37d404f1\n",
            "Successfully built brightway25 bw2data bw2io\n",
            "Installing collected packages: whoosh, pyxlsb, xlsxwriter, voluptuous, unidecode, pint, fs, asteval, stats_arrays, mrio_common_metadata, bw2parameters, bw_processing, matrix_utils, bw2data, bw2calc, bw_migrations, bw2io, bw2analyzer, brightway25\n",
            "Successfully installed asteval-0.9.31 brightway25-1.0.6 bw2analyzer-0.11.8 bw2calc-2.0.dev16 bw2data-4.0.dev33 bw2io-0.9.dev26 bw2parameters-1.1.0 bw_migrations-0.2 bw_processing-0.9 fs-2.4.16 matrix_utils-0.4.1 mrio_common_metadata-0.2.1 pint-0.23 pyxlsb-1.0.10 stats_arrays-0.6.6 unidecode-1.3.8 voluptuous-0.14.1 whoosh-2.7.4 xlsxwriter-3.1.9\n"
          ]
        }
      ]
    },
    {
      "cell_type": "code",
      "source": [
        "# Import BW25 packages. You'll notice the packages are imported individually, unlike a one-and-done import with BW2.\n",
        "import bw2data as bd\n",
        "import bw2io as bi\n",
        "import bw2calc as bc\n",
        "import bw2analyzer as bwa\n",
        "\n",
        "# Library for storing numeric data for use in matrix-based calculations. Designed for use with the Brightway life cycle assessment framework.\n",
        "import bw_processing as bwp\n",
        "\n",
        "import matrix_utils as mu\n",
        "import numpy as np\n",
        "import pandas as pd\n",
        "import seaborn as sb\n"
      ],
      "metadata": {
        "id": "80d2e946"
      },
      "execution_count": 2,
      "outputs": [],
      "id": "80d2e946"
    },
    {
      "cell_type": "markdown",
      "source": [
        "Brightway25 is the umbrella package, as well as documentation. When installing this package, it will pull as dependencies the following packages:\n",
        "Brightway2-data handles storing and searching all data sources (databases, LCIA methods, etc.).\n",
        "Brightway2-calc does LCA calculations.\n",
        "Brightway2-io tools for the import, export, and management of inventory databases and impact assessment methods. LCA calculations.\n",
        "Brightway2-analyzer analyzes input data like databases and methods, as well as the result of LCA calculations.\n",
        "Brightway2-parameters Library for storing, validating, and calculating with parameters.\n"
      ],
      "metadata": {
        "collapsed": false,
        "id": "4c847737e7268ef8"
      },
      "id": "4c847737e7268ef8"
    },
    {
      "cell_type": "markdown",
      "source": [
        "Before we dive into it, let's think about what we need to actually build a matrix. What specific data would you need? What don't you need?\n",
        "\n",
        "## Exercise\n",
        "\n",
        "Please think about the minimal set of information you would need to build a *sparse matrix* using [scipy.sparse.coo_matrix](https://docs.scipy.org/doc/scipy/reference/generated/scipy.sparse.coo_matrix.html) (sparse matrices store only non-zero values). Then, create this information as Numpy arrays and actually build a sparse matrix.\n",
        "\n",
        "Here is the matrix you should build:\n",
        "\n",
        "$$\\begin{bmatrix} 0 & 1 \\\\ 2 & 3 \\end{bmatrix}$$"
      ],
      "metadata": {
        "id": "4a8c9830-d0ca-479a-9f6a-020b5dd8bc15"
      },
      "id": "4a8c9830-d0ca-479a-9f6a-020b5dd8bc15"
    },
    {
      "cell_type": "markdown",
      "source": [
        "## Hint"
      ],
      "metadata": {
        "tags": [],
        "id": "1635ef16-d33c-4663-9237-747b45a2ccde"
      },
      "id": "1635ef16-d33c-4663-9237-747b45a2ccde"
    },
    {
      "cell_type": "markdown",
      "source": [
        "You will need three Numpy arrays: one for the data, one for the row indices, and one for the column indices."
      ],
      "metadata": {
        "tags": [],
        "id": "9b41ae23-bc12-4ddc-9292-49da20f33c32"
      },
      "id": "9b41ae23-bc12-4ddc-9292-49da20f33c32"
    },
    {
      "cell_type": "markdown",
      "source": [
        "## Solution"
      ],
      "metadata": {
        "id": "41a9de30-1ac1-40af-9ba8-092564e31278"
      },
      "id": "41a9de30-1ac1-40af-9ba8-092564e31278"
    },
    {
      "cell_type": "code",
      "source": [
        "from scipy import sparse\n",
        "\n",
        "data = np.array([1, 2, 3])\n",
        "rows = np.array([0, 1, 1])\n",
        "cols = np.array([1, 0, 1])\n",
        "\n",
        "matrix = sparse.coo_matrix((data, (rows, cols)), (2, 2))\n",
        "matrix.toarray()"
      ],
      "metadata": {
        "tags": [],
        "id": "47d29ce0-79a9-4afd-b1db-7c76faa40bf6",
        "colab": {
          "base_uri": "https://localhost:8080/"
        },
        "outputId": "5aa53b93-01b4-4965-d88d-bb75d81744b7"
      },
      "execution_count": 3,
      "outputs": [
        {
          "output_type": "execute_result",
          "data": {
            "text/plain": [
              "array([[0, 1],\n",
              "       [2, 3]])"
            ]
          },
          "metadata": {},
          "execution_count": 3
        }
      ],
      "id": "47d29ce0-79a9-4afd-b1db-7c76faa40bf6"
    },
    {
      "cell_type": "markdown",
      "source": [
        "## `bw_processing`\n",
        "\n",
        "We can run into difficulties when we want to store this data. The library `bw_processing` helps us create data packages, which can store this matrix-building data on variety of file systems. You can read the [`bw_processing` README](github.com/brightway-lca/bw_processing) for more information, and can see the [PyFilesystem2 Docs](https://docs.pyfilesystem.org/en/latest/) for more on the filesystems that can be used.\n",
        "\n",
        "Let's define this same matrix in `bw_processing`.\n",
        "\n",
        "Matrices by definition are two-dimensional, so we know that to build matrices we will always need to specify the row and column indices of the data. We combine these two arrays into a single Numpy [structured array](https://numpy.org/doc/stable/user/basics.rec.html), which uses the labels `row` and `col`."
      ],
      "metadata": {
        "id": "20404d5e-261f-4922-93e0-bd35ad0d0a15"
      },
      "id": "20404d5e-261f-4922-93e0-bd35ad0d0a15"
    },
    {
      "cell_type": "code",
      "source": [
        "import bw_processing as bwp\n",
        "import numpy as np\n",
        "\n",
        "indices_array = np.array([(0, 1), (1, 0), (1, 1)], dtype=bwp.INDICES_DTYPE)\n",
        "indices_array"
      ],
      "metadata": {
        "colab": {
          "base_uri": "https://localhost:8080/"
        },
        "id": "04ba1424-c124-4391-805e-68588143ef72",
        "outputId": "48ed4e8b-ac5f-4050-f6b6-0829464b74ff"
      },
      "execution_count": 4,
      "outputs": [
        {
          "output_type": "execute_result",
          "data": {
            "text/plain": [
              "array([(0, 1), (1, 0), (1, 1)], dtype=[('row', '<i4'), ('col', '<i4')])"
            ]
          },
          "metadata": {},
          "execution_count": 4
        }
      ],
      "id": "04ba1424-c124-4391-805e-68588143ef72"
    },
    {
      "cell_type": "code",
      "source": [
        "indices_array['row']"
      ],
      "metadata": {
        "colab": {
          "base_uri": "https://localhost:8080/"
        },
        "id": "6396041c-17bf-4a0b-b72a-7f7d73a180f0",
        "outputId": "1687eedd-d9a5-4c34-abc6-7ed085cc59e7"
      },
      "execution_count": 5,
      "outputs": [
        {
          "output_type": "execute_result",
          "data": {
            "text/plain": [
              "array([0, 1, 1], dtype=int32)"
            ]
          },
          "metadata": {},
          "execution_count": 5
        }
      ],
      "id": "6396041c-17bf-4a0b-b72a-7f7d73a180f0"
    },
    {
      "cell_type": "code",
      "source": [
        "bwp.INDICES_DTYPE"
      ],
      "metadata": {
        "colab": {
          "base_uri": "https://localhost:8080/"
        },
        "id": "3dcba032-da1a-4818-8126-f4ab1e418c4d",
        "outputId": "a824e4cb-b73c-42d1-ded7-83fb7a3c0597"
      },
      "execution_count": 6,
      "outputs": [
        {
          "output_type": "execute_result",
          "data": {
            "text/plain": [
              "[('row', numpy.int32), ('col', numpy.int32)]"
            ]
          },
          "metadata": {},
          "execution_count": 6
        }
      ],
      "id": "3dcba032-da1a-4818-8126-f4ab1e418c4d"
    },
    {
      "cell_type": "markdown",
      "source": [
        "The data array is the same as before:"
      ],
      "metadata": {
        "id": "1afb5959-335f-4ba0-a40b-91324cc408e0"
      },
      "id": "1afb5959-335f-4ba0-a40b-91324cc408e0"
    },
    {
      "cell_type": "code",
      "source": [
        "data_array = np.array([1, 2, 3])\n",
        "data_array"
      ],
      "metadata": {
        "colab": {
          "base_uri": "https://localhost:8080/"
        },
        "id": "b43f5478-c4aa-4b00-96c2-7d06f115f9b5",
        "outputId": "a15f8ac8-5c5e-4021-8253-91862a55e140"
      },
      "execution_count": 7,
      "outputs": [
        {
          "output_type": "execute_result",
          "data": {
            "text/plain": [
              "array([1, 2, 3])"
            ]
          },
          "metadata": {},
          "execution_count": 7
        }
      ],
      "id": "b43f5478-c4aa-4b00-96c2-7d06f115f9b5"
    },
    {
      "cell_type": "markdown",
      "source": [
        "This is all we need to create a data package:"
      ],
      "metadata": {
        "id": "8d887832-21d2-4ca6-aba2-d4f9e27c2c07"
      },
      "id": "8d887832-21d2-4ca6-aba2-d4f9e27c2c07"
    },
    {
      "cell_type": "code",
      "source": [
        "dp = bwp.create_datapackage()\n",
        "\n",
        "# Data objects can be vectors or arrays. Vectors will always produce the same matrix, while arrays have multiple possible values for each element of the matrix.\n",
        "\n",
        "# Persistent data is fixed, and can be completely loaded into memory and used directly or written to disk.\n",
        "# Dynamic data is only resolved as the data is used, during matrix construction and iteration.\n",
        "# Dynamic data is provided by interfaces - Python code that either generates the data, or wraps data coming from other software.\n",
        "\n",
        "dp.add_persistent_vector(\n",
        "    matrix=\"some name\",\n",
        "    data_array=data_array,\n",
        "    name=\"some name\",\n",
        "    indices_array=indices_array,\n",
        ")"
      ],
      "metadata": {
        "id": "9174a0c1-555f-4857-949f-6276d7d39bf9"
      },
      "execution_count": 8,
      "outputs": [],
      "id": "9174a0c1-555f-4857-949f-6276d7d39bf9"
    },
    {
      "cell_type": "markdown",
      "source": [
        "For such simple matrices, we can also use a shortcut:"
      ],
      "metadata": {
        "id": "c67db730-388f-4b92-9448-44b5b8058880"
      },
      "id": "c67db730-388f-4b92-9448-44b5b8058880"
    },
    {
      "cell_type": "code",
      "source": [
        "bwp.simple_graph({\n",
        "    \"some name\": [\n",
        "        (0, 1, 1),\n",
        "        (1, 1, 2),\n",
        "        (1, 1, 3),\n",
        "    ]\n",
        "})"
      ],
      "metadata": {
        "colab": {
          "base_uri": "https://localhost:8080/"
        },
        "id": "7e993ae8-8c3a-495e-9f74-a4efc1661475",
        "outputId": "b8bec264-265f-4c70-df03-6bd511e8022c"
      },
      "execution_count": 9,
      "outputs": [
        {
          "output_type": "execute_result",
          "data": {
            "text/plain": [
              "<bw_processing.datapackage.Datapackage at 0x7b418c0f5d20>"
            ]
          },
          "metadata": {},
          "execution_count": 9
        }
      ],
      "id": "7e993ae8-8c3a-495e-9f74-a4efc1661475"
    },
    {
      "cell_type": "markdown",
      "source": [
        "But before this gets too abstract, let's do the same for our example system:\n",
        "\n",
        "<img src='https://github.com/brightway-lca/from-the-ground-up/blob/main/images/simple-graph.png?raw=true' width='400'>"
      ],
      "metadata": {
        "id": "8081b317-4d2e-447e-a5dc-2e2485920030"
      },
      "id": "8081b317-4d2e-447e-a5dc-2e2485920030"
    },
    {
      "cell_type": "markdown",
      "source": [
        "In our technosphere matrix, we will have three production exchanges (each of amount 1), and two consumption exchanges. Our biosphere matrix will only have one number, the emission of $CO_{2}$ from carbon fibre production.\n",
        "\n",
        "Our matrices should look like this:\n",
        "\n",
        "## Technosphere matrix\n",
        "\n",
        "Dimensions are products (rows) by activities (columns).\n",
        "\n",
        "$$\n",
        "\\left[\\begin{array}{ccc}\n",
        "1 & 0 & 0\\\\\n",
        "-237 & 1 & 0\\\\\n",
        "0 & -2.5 & 1\\\\\n",
        "\\end{array}\\right]\n",
        "$$\n",
        "\n",
        "## Biosphere matrix\n",
        "\n",
        "Dimensions are flows (rows) by activities (columns).\n",
        "\n",
        "$$\n",
        "\\left[\\begin{array}{ccc}\n",
        "0 & 26.6 & 0\\\\\n",
        "\\end{array}\\right]\n",
        "$$\n",
        "\n",
        "## Characterization matrix\n",
        "\n",
        "Dimensions are flows (rows) by flows (columns).\n",
        "\n",
        "$$\n",
        "\\left[\\begin{array}{c}\n",
        "1\\\\\n",
        "\\end{array}\\right]\n",
        "$$"
      ],
      "metadata": {
        "id": "92f8c609-333e-4d9c-9829-1b5d6b9ed146"
      },
      "id": "92f8c609-333e-4d9c-9829-1b5d6b9ed146"
    },
    {
      "cell_type": "code",
      "source": [
        "natural_gas = 101\n",
        "carbon_fibre = 102\n",
        "bike = 103\n",
        "co2 = 201"
      ],
      "metadata": {
        "id": "7a30f9eb-8914-4273-925f-3d78893cd7bc"
      },
      "execution_count": null,
      "outputs": [],
      "id": "7a30f9eb-8914-4273-925f-3d78893cd7bc"
    },
    {
      "cell_type": "markdown",
      "source": [
        "# A first LCA calculation\n",
        "\n",
        "To use datapackages, we need to know four thing for each point: the row and column ids, the data value, and the sign. We only need to store the non-zero points. Here is an example for the technosphere matrix:"
      ],
      "metadata": {
        "id": "5a2d45da-125b-40a8-a0de-a10f05af12d1"
      },
      "id": "5a2d45da-125b-40a8-a0de-a10f05af12d1"
    },
    {
      "cell_type": "code",
      "source": [
        "# LCI data\n",
        "# https://github.com/brightway-lca/from-the-ground-up/blob/main/lci-bike.xlsx\n",
        "\n",
        "# Technosphere\n",
        "t_data = np.array([\n",
        "    1,   # production of natural gas\n",
        "    1,   # production of carbon fibre\n",
        "    1,   # production of bike\n",
        "    237, # input of natural gas\n",
        "    2.5, # input of carbon fibre\n",
        "])\n",
        "\n",
        "# We need integer indices for each concept. The numbers themselves are arbitrary,\n",
        "# the point is that we will use them consistently in the datapackages, and maintain a mapping from our concepts to these numbers.\n",
        "\n",
        "t_indices = np.array([\n",
        "    (101, 101), # production of natural gas\n",
        "    (102, 102), # production of carbon fibre\n",
        "    (103, 103), # production of bike\n",
        "    (101, 102), # input of natural gas\n",
        "    (102, 103), # input of carbon fibre\n",
        "    ],\n",
        "    dtype=bwp.INDICES_DTYPE\n",
        ")\n",
        "t_flip = np.array([False, False, False, True, True]) # Numerical sign of the inputs needs to be flipped negative"
      ],
      "metadata": {
        "id": "23951444-84a2-40b5-9687-e3cbd3053dc2"
      },
      "execution_count": null,
      "outputs": [],
      "id": "23951444-84a2-40b5-9687-e3cbd3053dc2"
    },
    {
      "cell_type": "markdown",
      "source": [
        "And similarly for the other matrices (no need to flip signs, so we skip that part):"
      ],
      "metadata": {
        "id": "b29dcb59-79eb-4ce4-8881-024b7b0892ab"
      },
      "id": "b29dcb59-79eb-4ce4-8881-024b7b0892ab"
    },
    {
      "cell_type": "code",
      "source": [
        "b_data = np.array([26.6])\n",
        "b_indices = np.array([\n",
        "    (201, 102), # emission of CO2\n",
        "    ],\n",
        "    dtype=bwp.INDICES_DTYPE\n",
        ")"
      ],
      "metadata": {
        "id": "15eaabd8-0b91-4973-a7d6-cb6b5ed9f54e"
      },
      "execution_count": null,
      "outputs": [],
      "id": "15eaabd8-0b91-4973-a7d6-cb6b5ed9f54e"
    },
    {
      "cell_type": "code",
      "source": [
        "c_data = np.array([1])\n",
        "c_indices = np.array([\n",
        "    (201, 201), # CF of CO2\n",
        "    ],\n",
        "    dtype=bwp.INDICES_DTYPE\n",
        ")"
      ],
      "metadata": {
        "id": "4e6efb7c-cac3-4536-b93e-da76fa2a49a3"
      },
      "execution_count": null,
      "outputs": [],
      "id": "4e6efb7c-cac3-4536-b93e-da76fa2a49a3"
    },
    {
      "cell_type": "markdown",
      "source": [
        "We can now create our datapackage, and add the data for all three matrices to it:"
      ],
      "metadata": {
        "id": "53f00163-c997-4555-a563-8a767e75f2fa"
      },
      "id": "53f00163-c997-4555-a563-8a767e75f2fa"
    },
    {
      "cell_type": "code",
      "source": [
        "# The main interface for using this library is the Datapackage class. You should use the utility functions create_datapackage and load_datapackage.\n",
        "# A datapackage is a set of file objects (either in-memory or on disk) that includes a metadata file object, and one or more data resource files objects.\n",
        "# The metadata file object includes both generic metadata (i.e. when it was created, the data license) and metadata specific to each data resource (how it can be used in calculations, its relationship to other data resources).\n",
        "\n",
        "dp_static = bwp.create_datapackage()"
      ],
      "metadata": {
        "id": "a7fc1602-4fad-45c8-a84f-f47943bfe739"
      },
      "execution_count": null,
      "outputs": [],
      "id": "a7fc1602-4fad-45c8-a84f-f47943bfe739"
    },
    {
      "cell_type": "code",
      "source": [
        "dp_static.add_persistent_vector(\n",
        "    matrix='technosphere_matrix',\n",
        "    indices_array=t_indices,\n",
        "    data_array=t_data,\n",
        "    flip_array=t_flip,\n",
        ")\n",
        "dp_static.add_persistent_vector(\n",
        "    matrix='biosphere_matrix',\n",
        "    indices_array=b_indices,\n",
        "    data_array=b_data,\n",
        ")\n",
        "dp_static.add_persistent_vector(\n",
        "    matrix='characterization_matrix',\n",
        "    indices_array=c_indices,\n",
        "    data_array=c_data,\n",
        ")"
      ],
      "metadata": {
        "id": "46e9a1b2-6ec3-4627-924a-646a4e8e64a1"
      },
      "execution_count": null,
      "outputs": [],
      "id": "46e9a1b2-6ec3-4627-924a-646a4e8e64a1"
    },
    {
      "cell_type": "markdown",
      "source": [
        "This is already enough to calculate an LCA score:"
      ],
      "metadata": {
        "id": "58cc32ba-d495-4a27-a7e6-a9c9ceaa7b85"
      },
      "id": "58cc32ba-d495-4a27-a7e6-a9c9ceaa7b85"
    },
    {
      "cell_type": "code",
      "source": [
        "# Base class for single and multi LCA classes\n",
        "lca = bc.LCA(\n",
        "    demand={bike: 1},\n",
        "    data_objs=[dp_static],\n",
        ")\n",
        "\n",
        "# The LC inventory. Calculate a life cycle inventory.\n",
        "lca.lci()\n",
        "# 1) Load LCI data, and construct the technosphere and biosphere matrices.\n",
        "# 2) Build the demand array\n",
        "# 3) Solve the linear system to get the supply array and life cycle inventory.\n",
        "\n",
        "lca.lcia() # Calculate the life cycle impact assessment.\n",
        "# 1) Load and construct the characterization matrix\n",
        "# 2) Multiply the characterization matrix by the life cycle inventory\n",
        "\n",
        "lca.score # The LCIA score as a float.\n"
      ],
      "metadata": {
        "colab": {
          "base_uri": "https://localhost:8080/"
        },
        "id": "4de9b4ab-ce03-4ab3-9e56-42420875356c",
        "outputId": "6747dc55-7668-462d-dac4-65f4107018f1"
      },
      "execution_count": null,
      "outputs": [
        {
          "output_type": "execute_result",
          "data": {
            "text/plain": [
              "66.5"
            ]
          },
          "metadata": {},
          "execution_count": 17
        }
      ],
      "id": "4de9b4ab-ce03-4ab3-9e56-42420875356c"
    },
    {
      "cell_type": "code",
      "execution_count": null,
      "outputs": [],
      "source": [
        "\n",
        "\n"
      ],
      "metadata": {
        "id": "cabbda562aa7a4c0"
      },
      "id": "cabbda562aa7a4c0"
    },
    {
      "cell_type": "markdown",
      "source": [
        "## Exercise\n",
        "\n",
        "Do the same for your steel bike. Make sure you get the same LCIA results as before."
      ],
      "metadata": {
        "collapsed": false,
        "id": "328a0d2edc9166ec"
      },
      "id": "328a0d2edc9166ec"
    },
    {
      "cell_type": "code",
      "source": [
        "# Steel Bike LCIA\n",
        "\n",
        "# In our technosphere matrix, we will have four production exchanges (each of amount 1),\n",
        "# and three consumption exchanges.\n",
        "# Our biosphere matrix will only have one number, the emission of Iron ore from Iron mining.\n",
        "\n",
        "\n",
        "# activity node\n",
        "coal = 100\n",
        "iron_ore = 201\n",
        "iron_mining = 101\n",
        "steel = 102\n",
        "steelbike = 103\n",
        "\n",
        "# Technosphere\n",
        "sb_t_data = np.array([\n",
        "    1,   # production of iron mining\n",
        "    1,   # production of coal\n",
        "    1,   # production of steel\n",
        "    1,   # production of steel bike\n",
        "    1.1, # input of iron mining\n",
        "    0.2, # input of coal\n",
        "    8,   # input of steel\n",
        "])\n",
        "\n",
        "# We need integer indices for each concept. The numbers themselves are arbitrary,\n",
        "# the point is that we will use them consistently in the datapackages, and maintain a mapping from our concepts to these numbers.\n",
        "\n",
        "sb_t_indices = np.array([\n",
        "    (101, 101), # production of iron mining\n",
        "    (100, 100), # production of coal\n",
        "    (102, 102), # production of steel\n",
        "    (103, 103), # production of steel bike\n",
        "    (101, 102), # input of iron mining\n",
        "    (100, 102), # input of coal\n",
        "    (102, 103), # input of steel\n",
        "    ],\n",
        "    dtype=bwp.INDICES_DTYPE\n",
        ")\n",
        "sb_t_flip = np.array([False, False, False, False, True, True, True]) # Numerical sign of the inputs needs to be flipped negative\n",
        "\n",
        "# Biosphere\n",
        "sb_b_data = np.array([1.25])\n",
        "sb_b_indices = np.array([\n",
        "    (201, 101), # emission of Iron ore\n",
        "    ],\n",
        "    dtype=bwp.INDICES_DTYPE\n",
        ")\n",
        "\n",
        "# Characterization matrix\n",
        "\n",
        "sb_c_data = np.array([1])\n",
        "sb_c_indices = np.array([\n",
        "    (201, 201), # Iron ore\n",
        "    ],\n",
        "    dtype=bwp.INDICES_DTYPE\n",
        ")\n",
        "\n",
        "\n"
      ],
      "metadata": {
        "id": "sc78Nv9aATpZ"
      },
      "id": "sc78Nv9aATpZ",
      "execution_count": 11,
      "outputs": []
    },
    {
      "cell_type": "code",
      "source": [
        "# The main interface for using this library is the Datapackage class. You should use the utility functions create_datapackage and load_datapackage.\n",
        "# A datapackage is a set of file objects (either in-memory or on disk) that includes a metadata file object, and one or more data resource files objects.\n",
        "# The metadata file object includes both generic metadata (i.e. when it was created, the data license) and metadata specific to each data resource (how it can be used in calculations, its relationship to other data resources).\n",
        "\n",
        "sb_dp_static = bwp.create_datapackage()\n",
        "\n",
        "sb_dp_static.add_persistent_vector(\n",
        "    matrix='technosphere_matrix',\n",
        "    indices_array=sb_t_indices,\n",
        "    data_array=sb_t_data,\n",
        "    flip_array=sb_t_flip,\n",
        ")\n",
        "sb_dp_static.add_persistent_vector(\n",
        "    matrix='biosphere_matrix',\n",
        "    indices_array=sb_b_indices,\n",
        "    data_array=sb_b_data,\n",
        ")\n",
        "sb_dp_static.add_persistent_vector(\n",
        "    matrix='characterization_matrix',\n",
        "    indices_array=sb_c_indices,\n",
        "    data_array=sb_c_data,\n",
        ")\n",
        "\n",
        "# Base class for single and multi LCA classes\n",
        "sb_lca = bc.LCA(\n",
        "    demand={steelbike: 1},\n",
        "    data_objs=[sb_dp_static],\n",
        ")\n",
        "\n",
        "# The LC inventory. Calculate a life cycle inventory.\n",
        "sb_lca.lci()\n",
        "# 1) Load LCI data, and construct the technosphere and biosphere matrices.\n",
        "# 2) Build the demand array\n",
        "# 3) Solve the linear system to get the supply array and life cycle inventory.\n",
        "\n",
        "sb_lca.lcia() # Calculate the life cycle impact assessment.\n",
        "# 1) Load and construct the characterization matrix\n",
        "# 2) Multiply the characterization matrix by the life cycle inventory\n",
        "\n",
        "sb_lca.score # The LCIA score as a float.\n",
        "# means 1.25 iron ore * 1.1 kg iron mining * 8 kg steal"
      ],
      "metadata": {
        "colab": {
          "base_uri": "https://localhost:8080/"
        },
        "id": "of_5NtHeTYEH",
        "outputId": "d8da570b-5db8-41f0-bfd9-8127cca35efa"
      },
      "id": "of_5NtHeTYEH",
      "execution_count": 13,
      "outputs": [
        {
          "output_type": "execute_result",
          "data": {
            "text/plain": [
              "11.0"
            ]
          },
          "metadata": {},
          "execution_count": 13
        }
      ]
    },
    {
      "cell_type": "markdown",
      "source": [
        "# A stochastic LCA\n",
        "\n",
        "This is pretty boring so far. The only marginally interesting thing is that we could put our datapackage on another computer, and do calculations on that computer - i.e. we are ready for cloud calculations. Indeed, the library `matrix_utils` allows us to specify datapackages on FTP sites and cloud storage such as Amazon S3.\n",
        "\n",
        "But we can make our example more interesting by adding uncertainty. To do this, we will use the standards in the [stats_arrays](https://stats-arrays.readthedocs.io/en/latest/) library.\n",
        "\n",
        "We will only add uncertainty to the inputs, and the CO2 emission. The other edges will have uncertainty type zero - no uncertainty."
      ],
      "metadata": {
        "id": "6f964f4d-28ca-4bbc-8ed2-18068c37cbe5"
      },
      "id": "6f964f4d-28ca-4bbc-8ed2-18068c37cbe5"
    },
    {
      "cell_type": "code",
      "source": [
        "t_uncertainty = np.array([\n",
        "        (0, 1, np.NaN, np.NaN, np.NaN, np.NaN, False),\n",
        "        (0, 1, np.NaN, np.NaN, np.NaN, np.NaN, False),\n",
        "        (0, 1, np.NaN, np.NaN, np.NaN, np.NaN, False),\n",
        "        (5, 237, np.NaN, np.NaN, 200, 300, False), # triangular uncertainty from 200 to 300\n",
        "        (5, 2.5, np.NaN, np.NaN, 2, 3, False), # triangular uncertainty from 2 to 3\n",
        "    ],\n",
        "    dtype=bwp.UNCERTAINTY_DTYPE\n",
        ")\n",
        "b_uncertainty = np.array([\n",
        "        (3, 26.6, 1.5, np.NaN, np.NaN, np.NaN, False), # normal uncertainty with std. dev. of 1.5\n",
        "    ],\n",
        "    dtype=bwp.UNCERTAINTY_DTYPE\n",
        ")"
      ],
      "metadata": {
        "id": "1c82ee36-07d3-4a3e-aaa3-164682d68344"
      },
      "execution_count": null,
      "outputs": [],
      "id": "1c82ee36-07d3-4a3e-aaa3-164682d68344"
    },
    {
      "cell_type": "markdown",
      "source": [
        "We then will create another data package, and use it to do Monte Carlo:"
      ],
      "metadata": {
        "id": "efc258ba-5ff1-4f87-bb7d-7b4d99e51e73"
      },
      "id": "efc258ba-5ff1-4f87-bb7d-7b4d99e51e73"
    },
    {
      "cell_type": "code",
      "source": [
        "dp_stochastic = bwp.create_datapackage()"
      ],
      "metadata": {
        "id": "bde2e4dd-cf2e-4ad7-8f22-b23c7f7cc847"
      },
      "execution_count": null,
      "outputs": [],
      "id": "bde2e4dd-cf2e-4ad7-8f22-b23c7f7cc847"
    },
    {
      "cell_type": "code",
      "source": [
        "dp_stochastic.add_persistent_vector(\n",
        "    matrix='technosphere_matrix',\n",
        "    indices_array=t_indices,\n",
        "    data_array=t_data,\n",
        "    flip_array=t_flip,\n",
        "    distributions_array=t_uncertainty,\n",
        ")\n",
        "dp_stochastic.add_persistent_vector(\n",
        "    matrix='biosphere_matrix',\n",
        "    indices_array=b_indices,\n",
        "    data_array=b_data,\n",
        "    distributions_array=b_uncertainty,\n",
        ")\n",
        "dp_stochastic.add_persistent_vector(\n",
        "    matrix='characterization_matrix',\n",
        "    indices_array=c_indices,\n",
        "    data_array=c_data,\n",
        ")"
      ],
      "metadata": {
        "id": "b1613950-5464-4774-b09c-e06dabe6c57e"
      },
      "execution_count": null,
      "outputs": [],
      "id": "b1613950-5464-4774-b09c-e06dabe6c57e"
    },
    {
      "cell_type": "code",
      "source": [
        "lca = bc.LCA(\n",
        "    demand={bike: 1},\n",
        "    data_objs=[dp_stochastic],\n",
        "    use_distributions=True,\n",
        ")\n",
        "lca.lci()\n",
        "lca.lcia()\n",
        "\n",
        "mc_results = [lca.score for _ in zip(range(50), lca)]"
      ],
      "metadata": {
        "id": "984c71e8-dfcc-445e-9acd-9ba0bc8c9fc9"
      },
      "execution_count": null,
      "outputs": [],
      "id": "984c71e8-dfcc-445e-9acd-9ba0bc8c9fc9"
    },
    {
      "cell_type": "code",
      "source": [
        "sb.displot(np.array(mc_results))"
      ],
      "metadata": {
        "colab": {
          "base_uri": "https://localhost:8080/",
          "height": 523
        },
        "id": "666b3486-280f-4503-85e4-9e25ea5f3f4e",
        "outputId": "a3afaeaa-9f02-49fb-a10c-5ba28de36f98"
      },
      "execution_count": null,
      "outputs": [
        {
          "output_type": "execute_result",
          "data": {
            "text/plain": [
              "<seaborn.axisgrid.FacetGrid at 0x7e5f6d67b4f0>"
            ]
          },
          "metadata": {},
          "execution_count": 24
        },
        {
          "output_type": "display_data",
          "data": {
            "text/plain": [
              "<Figure size 500x500 with 1 Axes>"
            ],
            "image/png": "[encoded data removed]"
          },
          "metadata": {}
        }
      ],
      "id": "666b3486-280f-4503-85e4-9e25ea5f3f4e"
    },
    {
      "cell_type": "code",
      "source": [
        "import numpy as np"
      ],
      "metadata": {
        "id": "bce3c9f5-cfd6-40f0-94af-5e36b8bcc3a3"
      },
      "execution_count": null,
      "outputs": [],
      "id": "bce3c9f5-cfd6-40f0-94af-5e36b8bcc3a3"
    },
    {
      "cell_type": "markdown",
      "source": [
        "## Class Exercise\n",
        "\n",
        "The numpy function for correlation coefficients is `corrcoef`. Can we do a basic sensitivity analysis on the Monte Carlo parameters? See if you can capture the matrix values during each iteration, and then calculate the correlation coefficients between this matrix values and the LCIA scores."
      ],
      "metadata": {
        "id": "a0e37bd1-bf63-4037-9916-06b9db6f9895"
      },
      "id": "a0e37bd1-bf63-4037-9916-06b9db6f9895"
    },
    {
      "cell_type": "markdown",
      "source": [
        "# Correlating exchanges\n",
        "\n",
        "If we sample each exchange independently, we lose some of the logic of our product system. In our example system, the $CO_{2}$ should be tied directly to the natural gas consumption, but it isn't:"
      ],
      "metadata": {
        "id": "688ed0a3-f5ff-476a-b1d6-cc1bc63abc6d"
      },
      "id": "688ed0a3-f5ff-476a-b1d6-cc1bc63abc6d"
    },
    {
      "cell_type": "code",
      "source": [
        "params = []\n",
        "\n",
        "for _ in range(100):\n",
        "    next(lca)\n",
        "    params.append({\n",
        "        'co2': lca.biosphere_matrix[lca.dicts.biosphere[co2], lca.dicts.activity[carbon_fibre]],\n",
        "        'ng': -1 * lca.technosphere_matrix[lca.dicts.product[natural_gas], lca.dicts.activity[carbon_fibre]],\n",
        "    })"
      ],
      "metadata": {
        "id": "1b926b98-7cee-4c69-a846-35f6cbb97aa3"
      },
      "execution_count": null,
      "outputs": [],
      "id": "1b926b98-7cee-4c69-a846-35f6cbb97aa3"
    },
    {
      "cell_type": "code",
      "source": [
        "sb.scatterplot(data=pd.DataFrame(params), x='ng', y='co2')"
      ],
      "metadata": {
        "colab": {
          "base_uri": "https://localhost:8080/",
          "height": 466
        },
        "id": "1c60872b-2309-4e15-b551-741266146c30",
        "outputId": "e22a3016-dc92-48aa-e3a5-c38e66bee927"
      },
      "execution_count": null,
      "outputs": [
        {
          "output_type": "execute_result",
          "data": {
            "text/plain": [
              "<Axes: xlabel='ng', ylabel='co2'>"
            ]
          },
          "metadata": {},
          "execution_count": 26
        },
        {
          "output_type": "display_data",
          "data": {
            "text/plain": [
              "<Figure size 640x480 with 1 Axes>"
            ],
            "image/png": "[encoded data removed]"
          },
          "metadata": {}
        }
      ],
      "id": "1c60872b-2309-4e15-b551-741266146c30"
    },
    {
      "cell_type": "markdown",
      "source": [
        "We fix this by drawing correlated samples ahead of time - this is the idea behind the `presamples` package, whose functionality is now integrated directly into Brightway. We will make up a model to illustrate how this would work; we can assume that (again, totally made up) 80% of the natural gas goes to energy, the ratio stays the same, but with a little bit of noise."
      ],
      "metadata": {
        "id": "7347e5e4-776f-4a1b-8ac7-dab734c74801"
      },
      "id": "7347e5e4-776f-4a1b-8ac7-dab734c74801"
    },
    {
      "cell_type": "code",
      "source": [
        "ng_samples = np.random.triangular(200, 237, 300, size=100)\n",
        "co2_samples = 26.6 / 237 * ng_samples * np.random.normal(loc=1, scale=0.025, size=100)"
      ],
      "metadata": {
        "id": "6412f750-65bd-42f7-b290-0cef96ddd4be"
      },
      "execution_count": null,
      "outputs": [],
      "id": "6412f750-65bd-42f7-b290-0cef96ddd4be"
    },
    {
      "cell_type": "markdown",
      "source": [
        "We can now add another datapackage which will overwrite our previous values (but only where we tell it to). Note that we are now creating `arrays`, not `vectors`.\n",
        "\n",
        "We need to tell the datapackage that these two resources are correlated - otherwise there would be two RNGs used to samples them independently again. We can do this by either setting `sequential=True` (in which case they would start with column 0, then column 1, etc.), or by using the same RNG seed for both resources."
      ],
      "metadata": {
        "id": "2cf9ceb1-b7f3-4b8f-b13f-3d4c05f46553"
      },
      "id": "2cf9ceb1-b7f3-4b8f-b13f-3d4c05f46553"
    },
    {
      "cell_type": "code",
      "source": [
        "dp_correlated = bwp.create_datapackage(seed=42)"
      ],
      "metadata": {
        "id": "18c956d5-a89c-423f-aad2-906012590a52"
      },
      "execution_count": null,
      "outputs": [],
      "id": "18c956d5-a89c-423f-aad2-906012590a52"
    },
    {
      "cell_type": "code",
      "source": [
        "dp_correlated.add_persistent_array(\n",
        "    matrix='technosphere_matrix',\n",
        "    indices_array=np.array([(101, 102)], dtype=bwp.INDICES_DTYPE),\n",
        "    data_array=ng_samples.reshape((1, -1)),\n",
        "    flip_array=np.array([True]) ,\n",
        ")\n",
        "dp_correlated.add_persistent_array(\n",
        "    matrix='biosphere_matrix',\n",
        "    indices_array=np.array([(201, 102)], dtype=bwp.INDICES_DTYPE),\n",
        "    data_array=co2_samples.reshape((1, -1)),\n",
        ")"
      ],
      "metadata": {
        "id": "b13c9c8a-cecc-4909-80c9-d8d5b451861f"
      },
      "execution_count": null,
      "outputs": [],
      "id": "b13c9c8a-cecc-4909-80c9-d8d5b451861f"
    },
    {
      "cell_type": "markdown",
      "source": [
        "And now the use of our correlated samples reflects reality a lot better. Note that we justs add the new datapackage after the original one, and set `use_arrays=True`:"
      ],
      "metadata": {
        "id": "192177b8-45e6-4f64-a201-c0fb0555f630"
      },
      "id": "192177b8-45e6-4f64-a201-c0fb0555f630"
    },
    {
      "cell_type": "code",
      "source": [
        "lca = bc.LCA(\n",
        "    demand={bike: 1},\n",
        "    data_objs=[dp_stochastic, dp_correlated],\n",
        "    use_distributions=True,\n",
        "    use_arrays=True,\n",
        ")\n",
        "lca.lci()\n",
        "lca.lcia()\n",
        "\n",
        "corr_params = []\n",
        "\n",
        "for _ in range(100):\n",
        "    next(lca)\n",
        "    corr_params.append({\n",
        "        'co2': lca.biosphere_matrix[lca.dicts.biosphere[co2], lca.dicts.activity[carbon_fibre]],\n",
        "        'ng': -1 * lca.technosphere_matrix[lca.dicts.product[natural_gas], lca.dicts.activity[carbon_fibre]],\n",
        "    })"
      ],
      "metadata": {
        "id": "7ac9c5fb-a726-40c4-9e51-d1e422fe93a2"
      },
      "execution_count": null,
      "outputs": [],
      "id": "7ac9c5fb-a726-40c4-9e51-d1e422fe93a2"
    },
    {
      "cell_type": "code",
      "source": [
        "sb.scatterplot(data=pd.DataFrame(corr_params), x='ng', y='co2')"
      ],
      "metadata": {
        "colab": {
          "base_uri": "https://localhost:8080/",
          "height": 466
        },
        "id": "d71fa519-7b1b-4122-be55-11cae2164437",
        "outputId": "f398e9d3-fbf8-4864-8f76-82c2acf3d115"
      },
      "execution_count": null,
      "outputs": [
        {
          "output_type": "execute_result",
          "data": {
            "text/plain": [
              "<Axes: xlabel='ng', ylabel='co2'>"
            ]
          },
          "metadata": {},
          "execution_count": 31
        },
        {
          "output_type": "display_data",
          "data": {
            "text/plain": [
              "<Figure size 640x480 with 1 Axes>"
            ],
            "image/png": "[encoded data removed]"
          },
          "metadata": {}
        }
      ],
      "id": "d71fa519-7b1b-4122-be55-11cae2164437"
    },
    {
      "cell_type": "markdown",
      "source": [
        "## Exercise\n",
        "\n",
        "Do the same for your steel bike - correlate iron ore resource consumption to mining."
      ],
      "metadata": {
        "collapsed": false,
        "id": "2f77c41ffa899b0b"
      },
      "id": "2f77c41ffa899b0b"
    },
    {
      "cell_type": "markdown",
      "source": [
        "# Using arrays for scenarios\n",
        "\n",
        "In addition to correlated samples, we can use arrays for scenarios. Let's imagine two different possibilities: a lightweight bike with 1.5 kilograms of carbon fibre, and a technology platform that allows for efficient bike sharing making each bike functionally equivalent to two bikes (I know, I find this silly as well). If we treat these as separate possibilities, we have four scenarios in total.\n",
        "\n",
        "For this to work, we will need to create **two** new arrays, one for each choice, and then tell the software to do combinatorial sampling:"
      ],
      "metadata": {
        "id": "8216209b-1a34-4e4c-86e6-a69862e463fe"
      },
      "id": "8216209b-1a34-4e4c-86e6-a69862e463fe"
    },
    {
      "cell_type": "code",
      "source": [
        "dp_scenarios = bwp.create_datapackage(combinatorial=True)"
      ],
      "metadata": {
        "id": "1c5af1e7-4063-46da-b3cc-3a25769e51c7"
      },
      "execution_count": null,
      "outputs": [],
      "id": "1c5af1e7-4063-46da-b3cc-3a25769e51c7"
    },
    {
      "cell_type": "code",
      "source": [
        "dp_scenarios.add_persistent_array(\n",
        "    matrix='technosphere_matrix',\n",
        "    indices_array=np.array([(102, 103)], dtype=bwp.INDICES_DTYPE),\n",
        "    data_array=np.array([(2.5, 1.5)]),\n",
        "    flip_array=np.array([True]),\n",
        "    name='cf scenario'\n",
        ")\n",
        "dp_scenarios.add_persistent_array(\n",
        "    matrix='technosphere_matrix',\n",
        "    indices_array=np.array([(103, 103)], dtype=bwp.INDICES_DTYPE),\n",
        "    data_array=np.array([(1, 2)]),\n",
        "    name='double bike'\n",
        ")"
      ],
      "metadata": {
        "id": "c4ad459f-29bd-4454-b51f-72dbc16a5356"
      },
      "execution_count": null,
      "outputs": [],
      "id": "c4ad459f-29bd-4454-b51f-72dbc16a5356"
    },
    {
      "cell_type": "code",
      "source": [
        "scenario_mapping = {\n",
        "    (0, 0): \"Original\",\n",
        "    (0, 1): \"Each bike counts double\",\n",
        "    (1, 0): \"Lightweight\",\n",
        "    (1, 1): \"Lightweight & each bike counts double\",\n",
        "}"
      ],
      "metadata": {
        "id": "f75e957c-077a-481f-82e6-09dfd1007bbe"
      },
      "execution_count": null,
      "outputs": [],
      "id": "f75e957c-077a-481f-82e6-09dfd1007bbe"
    },
    {
      "cell_type": "code",
      "execution_count": null,
      "outputs": [],
      "source": [
        " #run LCA calculations again with method\n",
        " lca = bc.LCA(\n",
        "    demand={bike: 1},\n",
        "    data_objs=[dp_static, dp_scenarios],\n",
        "    use_arrays=True,\n",
        ")\n",
        "lca.lci()\n",
        "lca.lcia()\n",
        "\n",
        "\n",
        "\n",
        "print(lca.inventory)\n",
        "\n",
        "print(lca.score)\n"
      ],
      "metadata": {
        "id": "cd1e109a8f1a5ac4"
      },
      "id": "cd1e109a8f1a5ac4"
    },
    {
      "cell_type": "code",
      "execution_count": null,
      "outputs": [],
      "source": [
        "print(lca.characterized_inventory)\n",
        "sum(lca.characterized_inventory)\n",
        "# the point with score is that what CM calls a method is an \"impact category\"...\n",
        "# so he then assumes (correctly) everything is summed up"
      ],
      "metadata": {
        "id": "201e13ebe24be7b8"
      },
      "id": "201e13ebe24be7b8"
    },
    {
      "cell_type": "code",
      "source": [
        "resource_group = next(grp for grp in lca.technosphere_mm.groups if grp.label == 'double bike').indexer.indexer"
      ],
      "metadata": {
        "id": "cf559abe-39d1-410c-9410-9ea46c0c3ef2"
      },
      "execution_count": null,
      "outputs": [],
      "id": "cf559abe-39d1-410c-9410-9ea46c0c3ef2"
    },
    {
      "cell_type": "code",
      "source": [
        "print(lca.score, scenario_mapping[resource_group.index])\n",
        "\n",
        "for scenario_result in lca:\n",
        "    print(lca.score, scenario_mapping[resource_group.index])"
      ],
      "metadata": {
        "colab": {
          "base_uri": "https://localhost:8080/"
        },
        "id": "f85dcaef-f510-45c1-9a99-56436aa9c93b",
        "outputId": "3de0a0cc-332c-4f61-e577-8f1baaa2aa35"
      },
      "execution_count": null,
      "outputs": [
        {
          "output_type": "stream",
          "name": "stdout",
          "text": [
            "66.5 Original\n",
            "33.25 Each bike counts double\n",
            "39.900000000000006 Lightweight\n",
            "19.950000000000003 Lightweight & each bike counts double\n"
          ]
        }
      ],
      "id": "f85dcaef-f510-45c1-9a99-56436aa9c93b"
    }
  ]
}