{
  "nbformat": 4,
  "nbformat_minor": 0,
  "metadata": {
    "colab": {
      "provenance": [],
      "authorship_tag": "ABX9TyOlLk2nRPHhi/CZQMilCj9D",
      "include_colab_link": true
    },
    "kernelspec": {
      "name": "python3",
      "display_name": "Python 3"
    },
    "language_info": {
      "name": "python"
    }
  },
  "cells": [
    {
      "cell_type": "markdown",
      "metadata": {
        "id": "view-in-github",
        "colab_type": "text"
      },
      "source": [
        "<a href=\"https://colab.research.google.com/github/alanbseo/LCAworkshop/blob/master/LCA_4_SerchingDatabases.ipynb\" target=\"_parent\"><img src=\"https://colab.research.google.com/assets/colab-badge.svg\" alt=\"Open In Colab\"/></a>"
      ]
    },
    {
      "cell_type": "code",
      "execution_count": 1,
      "metadata": {
        "colab": {
          "base_uri": "https://localhost:8080/"
        },
        "id": "lfa6sMCHtrjJ",
        "outputId": "b260382a-601c-4abe-f5df-c14b224493e2"
      },
      "outputs": [
        {
          "output_type": "stream",
          "name": "stdout",
          "text": [
            "Collecting brightway25\n",
            "  Downloading brightway25-1.0.6.tar.gz (12.0 MB)\n",
            "\u001b[2K     \u001b[90m━━━━━━━━━━━━━━━━━━━━━━━━━━━━━━━━━━━━━━━━\u001b[0m \u001b[32m12.0/12.0 MB\u001b[0m \u001b[31m60.3 MB/s\u001b[0m eta \u001b[36m0:00:00\u001b[0m\n",
            "\u001b[?25h  Preparing metadata (setup.py) ... \u001b[?25l\u001b[?25hdone\n",
            "Collecting bw2analyzer>=0.11.1 (from brightway25)\n",
            "  Downloading bw2analyzer-0.11.8-py3-none-any.whl (29 kB)\n",
            "Collecting bw2calc>=2.0.dev5 (from brightway25)\n",
            "  Downloading bw2calc-2.0.dev16-py3-none-any.whl (29 kB)\n",
            "Collecting bw2data>=4.0.dev11 (from brightway25)\n",
            "  Downloading bw2data-4.0.dev33.tar.gz (188 kB)\n",
            "\u001b[2K     \u001b[90m━━━━━━━━━━━━━━━━━━━━━━━━━━━━━━━━━━━━━━━━\u001b[0m \u001b[32m188.4/188.4 kB\u001b[0m \u001b[31m11.3 MB/s\u001b[0m eta \u001b[36m0:00:00\u001b[0m\n",
            "\u001b[?25h  Preparing metadata (setup.py) ... \u001b[?25l\u001b[?25hdone\n",
            "Collecting bw2io>=0.9.dev6 (from brightway25)\n",
            "  Downloading bw2io-0.9.dev26.tar.gz (27.9 MB)\n",
            "\u001b[2K     \u001b[90m━━━━━━━━━━━━━━━━━━━━━━━━━━━━━━━━━━━━━━━━\u001b[0m \u001b[32m27.9/27.9 MB\u001b[0m \u001b[31m18.5 MB/s\u001b[0m eta \u001b[36m0:00:00\u001b[0m\n",
            "\u001b[?25h  Preparing metadata (setup.py) ... \u001b[?25l\u001b[?25hdone\n",
            "Collecting bw2parameters>=0.6.6 (from brightway25)\n",
            "  Downloading bw2parameters-1.1.0-py3-none-any.whl (15 kB)\n",
            "Collecting bw_processing>=0.7.1 (from brightway25)\n",
            "  Downloading bw_processing-0.9-py3-none-any.whl (46 kB)\n",
            "\u001b[2K     \u001b[90m━━━━━━━━━━━━━━━━━━━━━━━━━━━━━━━━━━━━━━━━\u001b[0m \u001b[32m47.0/47.0 kB\u001b[0m \u001b[31m1.5 MB/s\u001b[0m eta \u001b[36m0:00:00\u001b[0m\n",
            "\u001b[?25hCollecting matrix_utils>=0.2.2 (from brightway25)\n",
            "  Downloading matrix_utils-0.4.1-py3-none-any.whl (19 kB)\n",
            "Collecting mrio_common_metadata>=0.2 (from brightway25)\n",
            "  Downloading mrio_common_metadata-0.2.1-py3-none-any.whl (18 kB)\n",
            "Collecting bw_migrations>=0.2 (from brightway25)\n",
            "  Downloading bw_migrations-0.2-py3-none-any.whl (9.3 kB)\n",
            "Requirement already satisfied: numpy>=1.20 in /usr/local/lib/python3.10/dist-packages (from brightway25) (1.23.5)\n",
            "Requirement already satisfied: scipy in /usr/local/lib/python3.10/dist-packages (from brightway25) (1.11.4)\n",
            "Collecting stats_arrays>=0.6.5 (from brightway25)\n",
            "  Downloading stats_arrays-0.6.6-py3-none-any.whl (26 kB)\n",
            "Requirement already satisfied: pandas in /usr/local/lib/python3.10/dist-packages (from bw_migrations>=0.2->brightway25) (1.5.3)\n",
            "Collecting fs (from bw_processing>=0.7.1->brightway25)\n",
            "  Downloading fs-2.4.16-py2.py3-none-any.whl (135 kB)\n",
            "\u001b[2K     \u001b[90m━━━━━━━━━━━━━━━━━━━━━━━━━━━━━━━━━━━━━━━━\u001b[0m \u001b[32m135.3/135.3 kB\u001b[0m \u001b[31m4.4 MB/s\u001b[0m eta \u001b[36m0:00:00\u001b[0m\n",
            "\u001b[?25hRequirement already satisfied: matplotlib in /usr/local/lib/python3.10/dist-packages (from bw2analyzer>=0.11.1->brightway25) (3.7.1)\n",
            "Requirement already satisfied: requests in /usr/local/lib/python3.10/dist-packages (from bw2analyzer>=0.11.1->brightway25) (2.31.0)\n",
            "Requirement already satisfied: tabulate in /usr/local/lib/python3.10/dist-packages (from bw2analyzer>=0.11.1->brightway25) (0.9.0)\n",
            "Requirement already satisfied: tqdm in /usr/local/lib/python3.10/dist-packages (from bw2analyzer>=0.11.1->brightway25) (4.66.1)\n",
            "Requirement already satisfied: lxml in /usr/local/lib/python3.10/dist-packages (from bw2data>=4.0.dev11->brightway25) (4.9.4)\n",
            "Requirement already satisfied: peewee>=3.9.4 in /usr/local/lib/python3.10/dist-packages (from bw2data>=4.0.dev11->brightway25) (3.17.0)\n",
            "Requirement already satisfied: platformdirs in /usr/local/lib/python3.10/dist-packages (from bw2data>=4.0.dev11->brightway25) (4.1.0)\n",
            "Collecting voluptuous (from bw2data>=4.0.dev11->brightway25)\n",
            "  Downloading voluptuous-0.14.1-py3-none-any.whl (30 kB)\n",
            "Collecting whoosh (from bw2data>=4.0.dev11->brightway25)\n",
            "  Downloading Whoosh-2.7.4-py2.py3-none-any.whl (468 kB)\n",
            "\u001b[2K     \u001b[90m━━━━━━━━━━━━━━━━━━━━━━━━━━━━━━━━━━━━━━━━\u001b[0m \u001b[32m468.8/468.8 kB\u001b[0m \u001b[31m19.4 MB/s\u001b[0m eta \u001b[36m0:00:00\u001b[0m\n",
            "\u001b[?25hRequirement already satisfied: wrapt in /usr/local/lib/python3.10/dist-packages (from bw2data>=4.0.dev11->brightway25) (1.14.1)\n",
            "Requirement already satisfied: openpyxl in /usr/local/lib/python3.10/dist-packages (from bw2io>=0.9.dev6->brightway25) (3.1.2)\n",
            "Collecting unidecode (from bw2io>=0.9.dev6->brightway25)\n",
            "  Downloading Unidecode-1.3.8-py3-none-any.whl (235 kB)\n",
            "\u001b[2K     \u001b[90m━━━━━━━━━━━━━━━━━━━━━━━━━━━━━━━━━━━━━━━━\u001b[0m \u001b[32m235.5/235.5 kB\u001b[0m \u001b[31m5.3 MB/s\u001b[0m eta \u001b[36m0:00:00\u001b[0m\n",
            "\u001b[?25hRequirement already satisfied: xlrd in /usr/local/lib/python3.10/dist-packages (from bw2io>=0.9.dev6->brightway25) (2.0.1)\n",
            "Collecting xlsxwriter (from bw2io>=0.9.dev6->brightway25)\n",
            "  Downloading XlsxWriter-3.1.9-py3-none-any.whl (154 kB)\n",
            "\u001b[2K     \u001b[90m━━━━━━━━━━━━━━━━━━━━━━━━━━━━━━━━━━━━━━━━\u001b[0m \u001b[32m154.8/154.8 kB\u001b[0m \u001b[31m10.2 MB/s\u001b[0m eta \u001b[36m0:00:00\u001b[0m\n",
            "\u001b[?25hCollecting asteval (from bw2parameters>=0.6.6->brightway25)\n",
            "  Downloading asteval-0.9.31-py3-none-any.whl (20 kB)\n",
            "Requirement already satisfied: astunparse in /usr/local/lib/python3.10/dist-packages (from bw2parameters>=0.6.6->brightway25) (1.6.3)\n",
            "Collecting pint (from bw2parameters>=0.6.6->brightway25)\n",
            "  Downloading Pint-0.23-py3-none-any.whl (305 kB)\n",
            "\u001b[2K     \u001b[90m━━━━━━━━━━━━━━━━━━━━━━━━━━━━━━━━━━━━━━━━\u001b[0m \u001b[32m305.0/305.0 kB\u001b[0m \u001b[31m23.9 MB/s\u001b[0m eta \u001b[36m0:00:00\u001b[0m\n",
            "\u001b[?25hCollecting pyxlsb (from mrio_common_metadata>=0.2->brightway25)\n",
            "  Downloading pyxlsb-1.0.10-py2.py3-none-any.whl (23 kB)\n",
            "Requirement already satisfied: wheel<1.0,>=0.23.0 in /usr/local/lib/python3.10/dist-packages (from astunparse->bw2parameters>=0.6.6->brightway25) (0.42.0)\n",
            "Requirement already satisfied: six<2.0,>=1.6.1 in /usr/local/lib/python3.10/dist-packages (from astunparse->bw2parameters>=0.6.6->brightway25) (1.16.0)\n",
            "Requirement already satisfied: appdirs~=1.4.3 in /usr/local/lib/python3.10/dist-packages (from fs->bw_processing>=0.7.1->brightway25) (1.4.4)\n",
            "Requirement already satisfied: setuptools in /usr/local/lib/python3.10/dist-packages (from fs->bw_processing>=0.7.1->brightway25) (67.7.2)\n",
            "Requirement already satisfied: contourpy>=1.0.1 in /usr/local/lib/python3.10/dist-packages (from matplotlib->bw2analyzer>=0.11.1->brightway25) (1.2.0)\n",
            "Requirement already satisfied: cycler>=0.10 in /usr/local/lib/python3.10/dist-packages (from matplotlib->bw2analyzer>=0.11.1->brightway25) (0.12.1)\n",
            "Requirement already satisfied: fonttools>=4.22.0 in /usr/local/lib/python3.10/dist-packages (from matplotlib->bw2analyzer>=0.11.1->brightway25) (4.47.0)\n",
            "Requirement already satisfied: kiwisolver>=1.0.1 in /usr/local/lib/python3.10/dist-packages (from matplotlib->bw2analyzer>=0.11.1->brightway25) (1.4.5)\n",
            "Requirement already satisfied: packaging>=20.0 in /usr/local/lib/python3.10/dist-packages (from matplotlib->bw2analyzer>=0.11.1->brightway25) (23.2)\n",
            "Requirement already satisfied: pillow>=6.2.0 in /usr/local/lib/python3.10/dist-packages (from matplotlib->bw2analyzer>=0.11.1->brightway25) (9.4.0)\n",
            "Requirement already satisfied: pyparsing>=2.3.1 in /usr/local/lib/python3.10/dist-packages (from matplotlib->bw2analyzer>=0.11.1->brightway25) (3.1.1)\n",
            "Requirement already satisfied: python-dateutil>=2.7 in /usr/local/lib/python3.10/dist-packages (from matplotlib->bw2analyzer>=0.11.1->brightway25) (2.8.2)\n",
            "Requirement already satisfied: et-xmlfile in /usr/local/lib/python3.10/dist-packages (from openpyxl->bw2io>=0.9.dev6->brightway25) (1.1.0)\n",
            "Requirement already satisfied: pytz>=2020.1 in /usr/local/lib/python3.10/dist-packages (from pandas->bw_migrations>=0.2->brightway25) (2023.3.post1)\n",
            "Requirement already satisfied: typing-extensions in /usr/local/lib/python3.10/dist-packages (from pint->bw2parameters>=0.6.6->brightway25) (4.5.0)\n",
            "Requirement already satisfied: charset-normalizer<4,>=2 in /usr/local/lib/python3.10/dist-packages (from requests->bw2analyzer>=0.11.1->brightway25) (3.3.2)\n",
            "Requirement already satisfied: idna<4,>=2.5 in /usr/local/lib/python3.10/dist-packages (from requests->bw2analyzer>=0.11.1->brightway25) (3.6)\n",
            "Requirement already satisfied: urllib3<3,>=1.21.1 in /usr/local/lib/python3.10/dist-packages (from requests->bw2analyzer>=0.11.1->brightway25) (2.0.7)\n",
            "Requirement already satisfied: certifi>=2017.4.17 in /usr/local/lib/python3.10/dist-packages (from requests->bw2analyzer>=0.11.1->brightway25) (2023.11.17)\n",
            "Building wheels for collected packages: brightway25, bw2data, bw2io\n",
            "  Building wheel for brightway25 (setup.py) ... \u001b[?25l\u001b[?25hdone\n",
            "  Created wheel for brightway25: filename=brightway25-1.0.6-py3-none-any.whl size=3453 sha256=19f1e69a076e3964b875ee862174dcb7b31f72f8e881127035b270beaf1d2cf7\n",
            "  Stored in directory: /root/.cache/pip/wheels/df/95/3b/d50d3d4340cee6afe567fc6972201a169b1e2818001f57d22b\n",
            "  Building wheel for bw2data (setup.py) ... \u001b[?25l\u001b[?25hdone\n",
            "  Created wheel for bw2data: filename=bw2data-4.0.dev33-py3-none-any.whl size=79245 sha256=66b8f6f3189bd9dd4d925d4a2287f3c5097c16cd93651480c6b88a55e0352571\n",
            "  Stored in directory: /root/.cache/pip/wheels/e4/82/3e/dd58ca35f521774303ae959e02440919f2f9dd482fb19e2767\n",
            "  Building wheel for bw2io (setup.py) ... \u001b[?25l\u001b[?25hdone\n",
            "  Created wheel for bw2io: filename=bw2io-0.9.dev26-py3-none-any.whl size=27612286 sha256=8a3871ec1d994e4e8bae3b4466ae79b43a56925e193ded6c4f0e435c94b72ffb\n",
            "  Stored in directory: /root/.cache/pip/wheels/90/48/54/58a072cb29b9f8a62bded832ddb1f99823dee77dfb37d404f1\n",
            "Successfully built brightway25 bw2data bw2io\n",
            "Installing collected packages: whoosh, pyxlsb, xlsxwriter, voluptuous, unidecode, pint, fs, asteval, stats_arrays, mrio_common_metadata, bw2parameters, bw_processing, matrix_utils, bw2data, bw2calc, bw_migrations, bw2io, bw2analyzer, brightway25\n",
            "Successfully installed asteval-0.9.31 brightway25-1.0.6 bw2analyzer-0.11.8 bw2calc-2.0.dev16 bw2data-4.0.dev33 bw2io-0.9.dev26 bw2parameters-1.1.0 bw_migrations-0.2 bw_processing-0.9 fs-2.4.16 matrix_utils-0.4.1 mrio_common_metadata-0.2.1 pint-0.23 pyxlsb-1.0.10 stats_arrays-0.6.6 unidecode-1.3.8 voluptuous-0.14.1 whoosh-2.7.4 xlsxwriter-3.1.9\n"
          ]
        }
      ],
      "source": [
        "# install the BW package\n",
        "!pip install brightway25\n",
        "\n"
      ]
    },
    {
      "cell_type": "code",
      "source": [
        "# Import BW25 packages. You'll notice the packages are imported individually, unlike a one-and-done import with BW2.\n",
        "import bw2data as bd\n",
        "import bw2io as bi\n",
        "import bw2calc as bc\n",
        "import bw2analyzer as bwa\n",
        "\n",
        "# Library for storing numeric data for use in matrix-based calculations. Designed for use with the Brightway life cycle assessment framework.\n",
        "import bw_processing as bwp\n",
        "\n",
        "import matrix_utils as mu\n",
        "import numpy as np\n",
        "import pandas as pd\n",
        "import seaborn as sb"
      ],
      "metadata": {
        "id": "JGu6ZnPhtyom"
      },
      "execution_count": 2,
      "outputs": []
    },
    {
      "cell_type": "code",
      "source": [],
      "metadata": {
        "colab": {
          "base_uri": "https://localhost:8080/"
        },
        "id": "pYDnlzQBvV2F",
        "outputId": "bc3682ef-b772-4f9c-c2cf-c7e818a1a667"
      },
      "execution_count": 5,
      "outputs": [
        {
          "output_type": "stream",
          "name": "stdout",
          "text": [
            "Brightway2 Method: IPCC\n"
          ]
        }
      ]
    },
    {
      "cell_type": "markdown",
      "source": [
        "Searching through the database\n",
        "\n",
        "In addition to storing and using nodes and edges, our graph database can be searched in different ways. Let's show this with a larger database.\n",
        "\n",
        "We can use a shortcut to install some data:"
      ],
      "metadata": {
        "id": "YzBb8ZzMwZ7o"
      }
    },
    {
      "cell_type": "code",
      "source": [
        "import bw2io as bi\n",
        "bi.install_project(\"USEEIO-1.1\")\n",
        "\n",
        "# If that doesn't work for whatever reason, we can import the original data with this:\n",
        "# bi.useeio11()"
      ],
      "metadata": {
        "colab": {
          "base_uri": "https://localhost:8080/",
          "height": 86
        },
        "id": "Ysrdjvu5t9_D",
        "outputId": "1a121e6c-39a2-4737-e17b-95075667732b"
      },
      "execution_count": 10,
      "outputs": [
        {
          "output_type": "stream",
          "name": "stdout",
          "text": [
            "Downloading USEEIO-1.1.tar.gz to /root/.local/share/Brightway3/bw2io_cache_dir/USEEIO-1.1.tar.gz\n"
          ]
        },
        {
          "output_type": "stream",
          "name": "stderr",
          "text": [
            "15925248it [00:01, 15801845.06it/s]                              \n"
          ]
        },
        {
          "output_type": "stream",
          "name": "stdout",
          "text": [
            "Restoring project backup archive - this could take a few minutes...\n"
          ]
        },
        {
          "output_type": "execute_result",
          "data": {
            "text/plain": [
              "'USEEIO-1.1'"
            ],
            "application/vnd.google.colaboratory.intrinsic+json": {
              "type": "string"
            }
          },
          "metadata": {},
          "execution_count": 10
        }
      ]
    },
    {
      "cell_type": "code",
      "source": [
        "bd.projects.set_current(\"USEEIO-1.1\")\n",
        "bd.databases\n"
      ],
      "metadata": {
        "colab": {
          "base_uri": "https://localhost:8080/"
        },
        "id": "fXLQDfuUwcLX",
        "outputId": "3344153f-e781-4ae8-9ebc-e52966decb54"
      },
      "execution_count": 12,
      "outputs": [
        {
          "output_type": "execute_result",
          "data": {
            "text/plain": [
              "Databases dictionary with 1 object(s):\n",
              "\tUSEEIO-1.1"
            ]
          },
          "metadata": {},
          "execution_count": 12
        }
      ]
    },
    {
      "cell_type": "code",
      "source": [
        "db = bd.Database(\"USEEIO-1.1\")\n",
        "db.name"
      ],
      "metadata": {
        "colab": {
          "base_uri": "https://localhost:8080/",
          "height": 35
        },
        "id": "6StDwvHlwhQd",
        "outputId": "477d7da2-5453-45eb-9e99-e1520545f7d7"
      },
      "execution_count": 14,
      "outputs": [
        {
          "output_type": "execute_result",
          "data": {
            "text/plain": [
              "'USEEIO-1.1'"
            ],
            "application/vnd.google.colaboratory.intrinsic+json": {
              "type": "string"
            }
          },
          "metadata": {},
          "execution_count": 14
        }
      ]
    },
    {
      "cell_type": "code",
      "source": [
        "{node['type'] for node in db}\n"
      ],
      "metadata": {
        "colab": {
          "base_uri": "https://localhost:8080/"
        },
        "id": "fwEVxYVRwnDL",
        "outputId": "27e9861a-50ff-4dae-d5be-12f465ec51dc"
      },
      "execution_count": 16,
      "outputs": [
        {
          "output_type": "execute_result",
          "data": {
            "text/plain": [
              "{'emission', 'process', 'product'}"
            ]
          },
          "metadata": {},
          "execution_count": 16
        }
      ]
    },
    {
      "cell_type": "code",
      "source": [
        "fun = db.search(\"amusement\")[0]\n",
        "fun['name'] = 'fun'\n",
        "fun.save()\n",
        "\n"
      ],
      "metadata": {
        "id": "AxS2hu8vwxCg"
      },
      "execution_count": 18,
      "outputs": []
    },
    {
      "cell_type": "code",
      "source": [
        "db.search('amusement')\n"
      ],
      "metadata": {
        "colab": {
          "base_uri": "https://localhost:8080/"
        },
        "id": "Xo6MmVUBwzz2",
        "outputId": "2dcce2e8-950c-4917-e07d-259481c423e7"
      },
      "execution_count": 19,
      "outputs": [
        {
          "output_type": "execute_result",
          "data": {
            "text/plain": [
              "['fun' (, United States, ('71: Arts, Entertainment, and Recreation', '7131: Amusement Parks and Arcades')),\n",
              " 'Golf courses, marinas, ski resorts, fitness and other rec centers and industries' (, United States, ('71: Arts, Entertainment, and Recreation', '7139: Other Amusement and Recreation Industries'))]"
            ]
          },
          "metadata": {},
          "execution_count": 19
        }
      ]
    },
    {
      "cell_type": "code",
      "source": [
        "db.search('forest')\n"
      ],
      "metadata": {
        "colab": {
          "base_uri": "https://localhost:8080/"
        },
        "id": "fLnB3uPRw4py",
        "outputId": "35b2595e-fbd3-4ad4-c832-b96fdfe49654"
      },
      "execution_count": 21,
      "outputs": [
        {
          "output_type": "execute_result",
          "data": {
            "text/plain": [
              "['Occupation, forest' (, None, ('resource', 'land')),\n",
              " 'Timber and raw forest products; at forest' (, United States, ('Technosphere Flows', '11: Agriculture, Forestry, Fishing and Hunting')),\n",
              " 'Timber and raw forest products; at forest' (USD, United States, None),\n",
              " 'Occupation, agriculture + forest' (, None, ('resource', 'land'))]"
            ]
          },
          "metadata": {},
          "execution_count": 21
        }
      ]
    },
    {
      "cell_type": "markdown",
      "source": [],
      "metadata": {
        "id": "ho_ifS18wppS"
      }
    },
    {
      "cell_type": "code",
      "source": [
        "{node['name'] for node in db if node['type'] == 'product'}\n"
      ],
      "metadata": {
        "colab": {
          "base_uri": "https://localhost:8080/"
        },
        "id": "NGKs9Ob_wtbt",
        "outputId": "c0cb7340-1584-4cec-bb5b-6d38b5ade1bc"
      },
      "execution_count": 22,
      "outputs": [
        {
          "output_type": "execute_result",
          "data": {
            "text/plain": [
              "{'Abrasive products; at manufacturer',\n",
              " 'Accounting, tax preparation, bookkeeping, and payroll',\n",
              " 'Adhesives; at manufacturer',\n",
              " 'Advertising and public relations',\n",
              " 'Agriculture and forestry support',\n",
              " 'Air and gas compressors; at manufacturer',\n",
              " 'Air conditioning, refrigeration, and warm air heating equipment; at manufacturer',\n",
              " 'Air purification and ventilation equipment; at manufacturer',\n",
              " 'Air transport',\n",
              " 'Aircraft engines and parts; at manufacturer',\n",
              " 'Aircraft; at manufacturer',\n",
              " 'All other converted paper products; at manufacturer',\n",
              " 'All other food and drinking places',\n",
              " 'All other foods; at manufacturer',\n",
              " 'All other forging, stamping, and sintering; at manufacturer',\n",
              " 'Aluminum products; at manufacturer',\n",
              " 'Aluminum; at manufacturer',\n",
              " 'Ambulances',\n",
              " 'Ammunition, arms, ordnance, and related accessories; at manufacturer',\n",
              " 'Analytical laboratory instruments; at manufacturer',\n",
              " 'Animal farms and aquaculture ponds (except cattle and poultry)',\n",
              " 'Architectural, engineering, and related services',\n",
              " 'Asphalt pavement; at manufacturer',\n",
              " 'Asphalt shingles; at manufacturer',\n",
              " 'Audio and video equipment; at manufacturer',\n",
              " 'Automatic controls for HVAC and refrigeration equipment; at manufacturer',\n",
              " 'Automobiles; at manufacturer',\n",
              " 'Ball and roller bearings; at manufacturer',\n",
              " 'Blood sugar, pregnancy, and other diagnostic test kits; at manufacturer',\n",
              " 'Boats; at manufacturer',\n",
              " 'Books, newspapers, magazines, and other print media; at manufacturer',\n",
              " 'Books; at publisher',\n",
              " 'Bread and other baked goods; at manufacturer',\n",
              " 'Breakfast cereals; at manufacturer',\n",
              " 'Breweries and beer; at manufacturer',\n",
              " 'Buildings and dwellings services',\n",
              " 'Business support',\n",
              " 'Cable and subscription programming',\n",
              " 'Carbon and graphite products; at manufacturer',\n",
              " 'Cardboard containers; at manufacturer',\n",
              " 'Cardboard; at manufacturer',\n",
              " 'Carpets and rugs; at manufacturer',\n",
              " 'Cast iron and steel; at manufacturer',\n",
              " 'Cattle ranches and feedlots',\n",
              " 'Cement; at manufacturer',\n",
              " 'Cheese; at manufacturer',\n",
              " 'Chemicals (except basic chemicals, agrichemicals, polymers, paints, pharmaceuticals,soaps, cleaning compounds); at manufacturer',\n",
              " 'Child day care',\n",
              " 'Civic, social, professional, and similar organizations',\n",
              " 'Clay and ceramic products; at manufacturer',\n",
              " 'Clothing; at manufacturer',\n",
              " 'Coal; at mine',\n",
              " 'Coffee and tea; at manufacturer',\n",
              " 'Colleges, universities, junior colleges, and professional schools',\n",
              " 'Commercial equipment rental',\n",
              " 'Commercial machinery repair',\n",
              " 'Commercial structures, including farm structures',\n",
              " 'Communication and energy wire and cable; at manufacturer',\n",
              " 'Communications equipment; at manufacturer',\n",
              " 'Community food, housing, and other relief services, including rehabilitation services',\n",
              " 'Company and enterprise management',\n",
              " 'Compressed Gases; at manufacturer',\n",
              " 'Computer storage device readers; at manufacturer',\n",
              " 'Computer systems design',\n",
              " 'Computer terminals and other computer peripheral equipment; at manufacturer',\n",
              " 'Computers; at manufacturer',\n",
              " 'Concrete pipe, bricks, and blocks; at manufacturer',\n",
              " 'Construction machinery; at manufacturer',\n",
              " 'Consumer goods and general rental centers',\n",
              " 'Cookies, crackers, pastas, and tortillas; at manufacturer',\n",
              " 'Copper, nickel, lead, and zinc; at mine',\n",
              " 'Corn products; at manufacturer',\n",
              " 'Couriers and messengers',\n",
              " 'Curtains and linens; at manufacturer',\n",
              " 'Custom computer programming',\n",
              " 'Custom metal rolls; at manufacturer',\n",
              " 'Cut stone and stone products; at manufacturer',\n",
              " 'Cutlery and handtools; at manufacturer',\n",
              " 'Cutting and machine tool accessory, rolling mill, and other metalworking machines; at manufacturer',\n",
              " 'Dairies',\n",
              " 'Data processing and hosting',\n",
              " 'Dental equipment and supplies; at manufacturer',\n",
              " 'Dental laboratories; at manufacturer',\n",
              " 'Dentists',\n",
              " 'Dimensional stone; at mine',\n",
              " 'Directory, mailing list, and other publishers; at publisher',\n",
              " 'Distilleries and spirits; at manufacturer',\n",
              " 'Dog and cat food; at manufacturer',\n",
              " 'Dolls, toys, and games; at manufacturer',\n",
              " 'Drinking water and wastewater treatment; at consumer',\n",
              " 'Dry, condensed, and evaporated dairy; at manufacturer',\n",
              " 'Dry-cleaning and laundry',\n",
              " 'Electricity; at consumer',\n",
              " 'Electromedical appartuses; at manufacturer',\n",
              " 'Electronic  equipment repair and maintenance',\n",
              " 'Electronic capacitors, resistors, coils, transformers, connectors and other components (except  semiconductors and printed circuit assemblies); at manufacturer',\n",
              " 'Elementary and secondary schools',\n",
              " 'Employment services',\n",
              " 'Environmental and other technical consulting services',\n",
              " 'External hard drives, CDs, other storage media; at manufacturer',\n",
              " 'Fabric; at manufacturer',\n",
              " 'Fabricated pipe and pipe fittings; at manufacturer',\n",
              " 'Facilities support',\n",
              " 'Farm machinery and equipment; at manufacturer',\n",
              " 'Federal government (defense)',\n",
              " 'Federal government (nondefense)',\n",
              " 'Federal government enterprises',\n",
              " 'Fertilizers; at manufacturer',\n",
              " 'Fiber, yarn, and thread; at manufacturer',\n",
              " 'Finished and coated fabric; at manufacturer',\n",
              " 'Flavored drink concentrates; at manufacturer',\n",
              " 'Flours and malts; at manufacturer',\n",
              " 'Fluid meters and counting devices; at manufacturer',\n",
              " 'Fluid milk and butter; at manufacturer',\n",
              " 'Food and beverage stores',\n",
              " 'Fresh fruits and tree nuts; at farm',\n",
              " 'Fresh soybeans, canola, flaxseeds, and other oilseeds; at farm',\n",
              " 'Fresh vegetables, melons, and potatoes; at farm',\n",
              " 'Fresh wheat, corn, rice, and other grains; at farm',\n",
              " 'Frozen food; at manufacturer',\n",
              " 'Fruit and vegetable preservation; at manufacturer',\n",
              " 'Full-service restaurants',\n",
              " 'Funds, trusts, and financial vehicles',\n",
              " 'Funerary services',\n",
              " 'Gambling establishments (except casino hotels)',\n",
              " 'Gaskets, seals, musical instruments, fasteners, brooms, brushes, mop and other misc. goods; at manufacturer',\n",
              " 'Gasoline, fuels, and by-products of petroleum refining; at manufacturer',\n",
              " 'General merchandise stores',\n",
              " 'Glass and glass products; at manufacturer',\n",
              " 'Golf courses, marinas, ski resorts, fitness and other rec centers and industries',\n",
              " 'Grantmaking, giving, and social advocacy organizations',\n",
              " 'Greenhouse crops, mushrooms, nurseries, and flowers; at farm',\n",
              " 'Ground or treated minerals and earth; at manufacturer',\n",
              " 'Guided missiles and space vehicles; at manufacturer',\n",
              " 'Health care buildings',\n",
              " 'Healthcare practitioners (except physicians and dentists)',\n",
              " 'Heating equipment other than warm air furnaces; at manufacturer',\n",
              " 'Heavy duty trucks; at manufacturer',\n",
              " 'Heavy gauge metal tanks; at manufacturer',\n",
              " 'Highways, streets, and bridges',\n",
              " 'Home cooking appliances; at manufacturer',\n",
              " 'Home furniture - Cabinets and non-wood, nonupholstered; at manufacturer',\n",
              " 'Home furniture - upholstered; at manufacturer',\n",
              " 'Home furniture - wood, nonupholstered; at manufacturer',\n",
              " 'Home healthcare',\n",
              " 'Home laundry machines; at manufacturer',\n",
              " 'Home refrigerators and freezers; at manufacturer',\n",
              " 'Hospitals',\n",
              " 'Hotels and campgrounds',\n",
              " 'Household employees',\n",
              " 'Household goods repair',\n",
              " 'Housing',\n",
              " 'Hydraulic pumps, motors, cylinders and actuators; at manufacturer',\n",
              " 'Ice cream and frozen desserts; at manufacturer',\n",
              " 'Independent artists, writers, and performers',\n",
              " 'Individual and family services',\n",
              " 'Industrial molds; at manufacturer',\n",
              " 'Industrial process furnaces and ovens; at manufacturer',\n",
              " 'Industrial process variable instruments; at manufacturer',\n",
              " 'Ink and ink cartridges; at manufacturer',\n",
              " 'Institutional furniture; at manufacturer',\n",
              " 'Insurance agencies and brokerages',\n",
              " 'Insurance carriers',\n",
              " 'Internet publishing and broadcasting',\n",
              " 'Investigation and security',\n",
              " 'Investment advice, portfolio management, and other financial advising services',\n",
              " 'Iron, gold, silver, and other metal ores; at mine',\n",
              " 'Irradiation apparatuses; at manufacturer',\n",
              " 'Jewelry and silverware; at manufacturer',\n",
              " 'Laminated plastic plates and shapes; at manufacturer',\n",
              " 'Lawn and garden equipment; at manufacturer',\n",
              " 'Leather; at manufacturer',\n",
              " 'Legal services',\n",
              " 'Lessors of nonfinancial intangible assets',\n",
              " 'Lids, jars, bottle caps, other metal closures and crowns; at manufacturer',\n",
              " 'Light bulbs; at manufacturer',\n",
              " 'Light fixtures; at manufacturer',\n",
              " 'Light gauge metal cans, boxes, and containers; at manufacturer',\n",
              " 'Lime and gypsum products; at manufacturer',\n",
              " 'Limited-service restaurants',\n",
              " 'Lumber and treated lumber; at manufacturer',\n",
              " 'Machine shops; at manufacturer',\n",
              " 'Machinery for the paper, textile, food or other industries (except semiconductor machinery); at manufacturer',\n",
              " 'Magazines and journals; at publisher',\n",
              " 'Major home appliances (except ovens, stoves, refrigerators and laundry machines); at manufacturer',\n",
              " 'Management consulting',\n",
              " 'Manufacturing buildings',\n",
              " 'Marketing research and all other miscellaneous professional, scientific, and technical services',\n",
              " 'Material handling equipment; at manufacturer',\n",
              " 'Mattresses, blinds and shades; at manufacturer',\n",
              " 'Mechanical power transmission equipment; at manufacturer',\n",
              " 'Medical laboratories',\n",
              " 'Medicinal and botanical ingredients; at manufacturer',\n",
              " 'Metal coatings, engravings, and heat treatments; at manufacturer',\n",
              " 'Metal cutting and forming machine tools; at manufacturer',\n",
              " 'Metal hinges, keys, lock, and other hardware; at manufacturer',\n",
              " 'Metal pipe fittings, ball and roller bearings, industrial patterns, metal bath fixtures, other misc. fabricated metals; at manufacturer',\n",
              " 'Metal plumbing drains, faucets, valves, and other fittings; at manufacturer',\n",
              " 'Metal structural products; at manufacturer',\n",
              " 'Metal windows, doors, and architectural products; at manufacturer',\n",
              " 'Military armored vehicles and tanks; at manufacturer',\n",
              " 'Mineral wool; at manufacturer',\n",
              " 'Mining and oil/gas field machinery; at manufacturer',\n",
              " 'Monetary authorities and depository credit intermediation',\n",
              " 'Motor homes; at manufacturer',\n",
              " 'Motor vehicle steering, suspension components (except spring), and brake systems; at manufacturer',\n",
              " 'Motorcycle, bicycle, and parts; at manufacturer',\n",
              " 'Motors and generators; at manufacturer',\n",
              " 'Movies and film',\n",
              " 'Multifamily homes',\n",
              " 'Museums, historical sites, zoos, and parks',\n",
              " 'Natural gas; at consumer',\n",
              " 'Navigation instruments; at manufacturer',\n",
              " 'News syndicates, libraries, archives, Internet publishing and all other information services',\n",
              " 'Newspapers; at publisher',\n",
              " 'Noncomparable imports',\n",
              " 'Nondepository credit intermediation and related activities',\n",
              " 'Nonferrous metal casts; at manufacturer',\n",
              " 'Nonresidential building repair and maintanence',\n",
              " 'Nursing and community care facilities',\n",
              " 'Office administration',\n",
              " 'Office furniture and custom architectural woodwork and millwork; at manufacturer',\n",
              " 'Office machinery; at manufacturer',\n",
              " 'Office supplies (not paper); at manufacturer',\n",
              " 'Ophthalmic goods; at manufacturer',\n",
              " 'Optical instruments and lenses; at manufacturer',\n",
              " 'Other aircraft parts; at manufacturer',\n",
              " 'Other animal food; at manufacturer',\n",
              " 'Other basic inorganic chemicals; at manufacturer',\n",
              " 'Other basic organic chemicals; at manufacturer',\n",
              " 'Other computer related services, including facilities management',\n",
              " 'Other concrete products; at manufacturer',\n",
              " 'Other educational services',\n",
              " 'Other engine equipment; at manufacturer',\n",
              " 'Other nonmetallic mineral products; at manufacturer',\n",
              " 'Other nonresidential structures',\n",
              " 'Other petroleum and coal products; at manufacturer',\n",
              " 'Other plastic products; at manufacturer',\n",
              " 'Other primary nonferrous metals; at manufacturer',\n",
              " 'Other real estate',\n",
              " 'Other residential structures',\n",
              " 'Other retail',\n",
              " 'Other rubber products; at manufacturer',\n",
              " 'Other secondary nonferrous metal products; at manufacturer',\n",
              " 'Other support activities for mining',\n",
              " 'Other support services',\n",
              " 'Other textiles; at manufacturer',\n",
              " 'Other transportation equipment; at manufacturer',\n",
              " 'Other vehicle parts; at manufacturer',\n",
              " 'Outpatient healthcare',\n",
              " 'Packaged meat (except poultry); at manufacturer',\n",
              " 'Packaged poultry; at manufacturer',\n",
              " 'Packaging machinery; at manufacturer',\n",
              " 'Paints and coatings; at manufacturer',\n",
              " 'Paper bags and coated paper; at manufacturer',\n",
              " 'Paper; at manufacturer',\n",
              " 'Passenger ground transport',\n",
              " 'Performances',\n",
              " 'Pesticides; at manufacturer',\n",
              " 'Pet care, photofinishing, parking and other sundry services',\n",
              " 'Petrochemicals; at manufacturer',\n",
              " 'Pharmaceutical products (pills, powders, solutions, etc.); at manufacturer',\n",
              " 'Photographers',\n",
              " 'Photography and photocopying equipment; at manufacturer',\n",
              " 'Physicians',\n",
              " 'Pickup trucks, vans, and SUVs; at manufacturer',\n",
              " 'Pipeline transport',\n",
              " 'Plastic bags, films, and sheets; at manufacturer',\n",
              " 'Plastic bottles; at manufacturer',\n",
              " 'Plastic pipe, fittings, and sausage casings; at manufacturer',\n",
              " 'Plastics and rubber industry machinery; at manufacturer',\n",
              " 'Plastics; at manufacturer',\n",
              " 'Plywood and veneer; at manufacturer',\n",
              " 'Polystyrene foam products; at manufacturer',\n",
              " 'Postal service',\n",
              " 'Poultry farms',\n",
              " 'Power boilers and heat exchangers; at manufacturer',\n",
              " 'Power tools; at manufacturer',\n",
              " 'Primary batteries; at manufacturer',\n",
              " 'Primary copper; at manufacturer',\n",
              " 'Primary iron, steel, and ferroalloy products; at manufacturer',\n",
              " 'Printed circuit and electronic assembly; at manufacturer',\n",
              " 'Printing support; at manufacturer',\n",
              " 'Promoters and agents',\n",
              " 'Propulsion units and parts for space vehicles and guided missiles; at manufacturer',\n",
              " 'Pumps and pumping equipment; at manufacturer',\n",
              " 'Radio and television',\n",
              " 'Rail transport',\n",
              " 'Railroad rolling stock; at manufacturer',\n",
              " 'Ready-mix concrete; at manufacturer',\n",
              " 'Refined vegetable, olive, and seed oils; at manufacturer',\n",
              " 'Relay and industrial controls; at manufacturer',\n",
              " 'Religious organizations',\n",
              " 'Residential building repair and maintanence',\n",
              " 'Residential mental retardation, mental health, substance abuse and other facilities',\n",
              " 'Rest of the world adjustment',\n",
              " 'Rubber and plastic belts and hoses; at manufacturer',\n",
              " 'Rubber tires; at manufacturer',\n",
              " 'Salons and barber shops',\n",
              " 'Sand, gravel, clay, phosphate, other nonmetallic minerals; at mine',\n",
              " 'Sanitary paper (tissues, napkins, diapers, etc.); at manufacturer',\n",
              " 'Satellite, telecommunications resellers, and all other telecommunications',\n",
              " 'Scenic and sightseeing transportation and support activities for transportation',\n",
              " 'Schools and vocational buildings',\n",
              " 'Scientific research and development',\n",
              " 'Screws, nuts, and bolts; at manufacturer',\n",
              " 'Seafood; at manufacturer',\n",
              " 'Seasonings and dressings; at manufacturer',\n",
              " 'Secondary copper products; at manufacturer',\n",
              " 'Secondary steel products; at manufacturer',\n",
              " 'Securities and commodities brokerage and exchanges',\n",
              " 'Semiconductor machinery; at manufacturer',\n",
              " 'Semiconductors; at manufacturer',\n",
              " 'Shelving and lockers; at manufacturer',\n",
              " 'Ships and ship repair; at manufacturer',\n",
              " 'Signal testing instruments; at manufacturer',\n",
              " 'Signs; at manufacturer',\n",
              " 'Single-family homes',\n",
              " 'Small electrical appliances; at manufacturer',\n",
              " 'Snack foods; at manufacturer',\n",
              " 'Soap and cleaning compounds; at manufacturer',\n",
              " 'Soft drinks, bottled water, and ice; at manufacturer',\n",
              " 'Software',\n",
              " 'Sound recording',\n",
              " 'Special tools, dies, jigs, and fixtures; at manufacturer',\n",
              " 'Specialized design',\n",
              " 'Specialty transformers; at manufacturer',\n",
              " 'Speed changers, industrial high-speed drives, and gears; at manufacturer',\n",
              " 'Sporting and athletic goods; at manufacturer',\n",
              " 'Sports',\n",
              " 'Springs and wires; at manufacturer',\n",
              " 'State and local government',\n",
              " 'State and local government enterprises',\n",
              " 'Stationery; at manufacturer',\n",
              " 'Storage batteries; at manufacturer',\n",
              " 'Sugar, candy, and chocolate; at manufacturer',\n",
              " 'Surgical and medical instruments; at manufacturer',\n",
              " 'Surgical appliance and supplies; at manufacturer',\n",
              " 'Switchgear and switchboards; at manufacturer',\n",
              " 'Synthetic dyes and pigments; at manufacturer',\n",
              " 'Synthetic rubber and artificial and synthetic fibers; at manufacturer',\n",
              " 'Telecommunications',\n",
              " 'Telephones; at manufacturer',\n",
              " 'Timber and raw forest products; at forest',\n",
              " 'Tobacco products; at manufacturer',\n",
              " 'Tobacco, cotton, sugarcane, peanuts, sugar beets, herbs and spices, and other crops; at farm',\n",
              " 'Toiletries; at manufacturer',\n",
              " 'Transmission and power train parts; at manufacturer',\n",
              " 'Travel arrangement and reservation',\n",
              " 'Travel trailer and campers; at manufacturer',\n",
              " 'Truck trailers; at manufacturer',\n",
              " 'Truck transport',\n",
              " 'Turbines and turbine generator sets; at manufacturer',\n",
              " 'Unrefined oil and gas; at extraction site',\n",
              " 'Urethane and other foam products; at manufacturer',\n",
              " 'Used and secondhand goods',\n",
              " 'Utilities buildings and infrastructure',\n",
              " 'Vaccines and other biological medical products; at manufacturer',\n",
              " 'Valve and fittings (except for plumbing); at manufacturer',\n",
              " 'Vegetable oils and by-products; at manufacturer',\n",
              " 'Vehicle bodies; at manufacturer',\n",
              " 'Vehicle electrical and electronic equipment; at manufacturer',\n",
              " 'Vehicle engines and engine parts; at manufacturer',\n",
              " 'Vehicle metal stamping; at manufacturer',\n",
              " 'Vehicle rental and leasing',\n",
              " 'Vehicle repair',\n",
              " 'Vehicle seating and interior trim (upholstery); at manufacturer',\n",
              " 'Vehicles and parts sales',\n",
              " 'Vending, commercial laundry, and other commercial and service industry machinery; at manufacturer',\n",
              " 'Veneer, plywood, and engineered wood; at manufacturer',\n",
              " 'Veterinarians',\n",
              " 'Warehousing',\n",
              " 'Waste management and remediation',\n",
              " 'Watches, clocks, and other measuring and controlling devices; at manufacturer',\n",
              " 'Water transport (boats, ships, ferries)',\n",
              " 'Welding and Soldering Equipment, Scales and Balances, and other general purpose machinery; at manufacturer',\n",
              " 'Well drilling',\n",
              " 'Wholesale trade',\n",
              " 'Wild-caught fish and game; at place of capture',\n",
              " 'Wineries and wine; at manufacturer',\n",
              " 'Wireless communications; at manufacturer',\n",
              " 'Wireless telecommunications',\n",
              " 'Wiring devices; at manufacturer',\n",
              " 'Wood kitchen cabinets and countertops; at manufacturer',\n",
              " 'Wood pulp; at manufacturer',\n",
              " 'Wooden windows, door, and flooring; at manufacturer',\n",
              " 'fun',\n",
              " 'other miscellaneous electrical equipment and components; at manufacturer'}"
            ]
          },
          "metadata": {},
          "execution_count": 22
        }
      ]
    },
    {
      "cell_type": "code",
      "source": [
        "from bw2analyzer.matrix_grapher import SparseMatrixGrapher\n"
      ],
      "metadata": {
        "id": "7HwWGch7xccK"
      },
      "execution_count": 23,
      "outputs": []
    },
    {
      "cell_type": "code",
      "source": [
        "ipcc = bd.Method(('IPCC',))\n",
        "print(ipcc)"
      ],
      "metadata": {
        "colab": {
          "base_uri": "https://localhost:8080/"
        },
        "id": "FNc7oyDxtttp",
        "outputId": "d106a8ae-db0d-4fe7-eef9-124def523805"
      },
      "execution_count": 24,
      "outputs": [
        {
          "output_type": "stream",
          "name": "stdout",
          "text": [
            "Brightway2 Method: IPCC\n"
          ]
        }
      ]
    }
  ]
}