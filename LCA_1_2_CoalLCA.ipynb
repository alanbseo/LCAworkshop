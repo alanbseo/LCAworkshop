{
  "nbformat": 4,
  "nbformat_minor": 0,
  "metadata": {
    "colab": {
      "provenance": [],
      "authorship_tag": "ABX9TyMK9tyJDzMvsFgiTQtZsPAH",
      "include_colab_link": true
    },
    "kernelspec": {
      "name": "python3",
      "display_name": "Python 3"
    },
    "language_info": {
      "name": "python"
    }
  },
  "cells": [
    {
      "cell_type": "markdown",
      "metadata": {
        "id": "view-in-github",
        "colab_type": "text"
      },
      "source": [
        "<a href=\"https://colab.research.google.com/github/alanbseo/LCAworkshop/blob/master/LCA_1_2_CoalLCA.ipynb\" target=\"_parent\"><img src=\"https://colab.research.google.com/assets/colab-badge.svg\" alt=\"Open In Colab\"/></a>"
      ]
    },
    {
      "cell_type": "code",
      "execution_count": 39,
      "metadata": {
        "colab": {
          "base_uri": "https://localhost:8080/"
        },
        "id": "mM8MDYBI1-pW",
        "outputId": "cb704c92-39c6-4660-ad1a-7b0a7df40003"
      },
      "outputs": [
        {
          "output_type": "stream",
          "name": "stdout",
          "text": [
            "Requirement already satisfied: brightway25 in /usr/local/lib/python3.10/dist-packages (1.0.6)\n",
            "Requirement already satisfied: bw2analyzer>=0.11.1 in /usr/local/lib/python3.10/dist-packages (from brightway25) (0.11.8)\n",
            "Requirement already satisfied: bw2calc>=2.0.dev5 in /usr/local/lib/python3.10/dist-packages (from brightway25) (2.0.dev16)\n",
            "Requirement already satisfied: bw2data>=4.0.dev11 in /usr/local/lib/python3.10/dist-packages (from brightway25) (4.0.dev33)\n",
            "Requirement already satisfied: bw2io>=0.9.dev6 in /usr/local/lib/python3.10/dist-packages (from brightway25) (0.9.dev26)\n",
            "Requirement already satisfied: bw2parameters>=0.6.6 in /usr/local/lib/python3.10/dist-packages (from brightway25) (1.1.0)\n",
            "Requirement already satisfied: bw-processing>=0.7.1 in /usr/local/lib/python3.10/dist-packages (from brightway25) (0.9)\n",
            "Requirement already satisfied: matrix-utils>=0.2.2 in /usr/local/lib/python3.10/dist-packages (from brightway25) (0.4.1)\n",
            "Requirement already satisfied: mrio-common-metadata>=0.2 in /usr/local/lib/python3.10/dist-packages (from brightway25) (0.2.1)\n",
            "Requirement already satisfied: bw-migrations>=0.2 in /usr/local/lib/python3.10/dist-packages (from brightway25) (0.2)\n",
            "Requirement already satisfied: numpy>=1.20 in /usr/local/lib/python3.10/dist-packages (from brightway25) (1.23.5)\n",
            "Requirement already satisfied: scipy in /usr/local/lib/python3.10/dist-packages (from brightway25) (1.11.4)\n",
            "Requirement already satisfied: stats-arrays>=0.6.5 in /usr/local/lib/python3.10/dist-packages (from brightway25) (0.6.6)\n",
            "Requirement already satisfied: pandas in /usr/local/lib/python3.10/dist-packages (from bw-migrations>=0.2->brightway25) (1.5.3)\n",
            "Requirement already satisfied: fs in /usr/local/lib/python3.10/dist-packages (from bw-processing>=0.7.1->brightway25) (2.4.16)\n",
            "Requirement already satisfied: matplotlib in /usr/local/lib/python3.10/dist-packages (from bw2analyzer>=0.11.1->brightway25) (3.7.1)\n",
            "Requirement already satisfied: requests in /usr/local/lib/python3.10/dist-packages (from bw2analyzer>=0.11.1->brightway25) (2.31.0)\n",
            "Requirement already satisfied: tabulate in /usr/local/lib/python3.10/dist-packages (from bw2analyzer>=0.11.1->brightway25) (0.9.0)\n",
            "Requirement already satisfied: tqdm in /usr/local/lib/python3.10/dist-packages (from bw2analyzer>=0.11.1->brightway25) (4.66.1)\n",
            "Requirement already satisfied: lxml in /usr/local/lib/python3.10/dist-packages (from bw2data>=4.0.dev11->brightway25) (4.9.4)\n",
            "Requirement already satisfied: peewee>=3.9.4 in /usr/local/lib/python3.10/dist-packages (from bw2data>=4.0.dev11->brightway25) (3.17.0)\n",
            "Requirement already satisfied: platformdirs in /usr/local/lib/python3.10/dist-packages (from bw2data>=4.0.dev11->brightway25) (4.1.0)\n",
            "Requirement already satisfied: voluptuous in /usr/local/lib/python3.10/dist-packages (from bw2data>=4.0.dev11->brightway25) (0.14.1)\n",
            "Requirement already satisfied: whoosh in /usr/local/lib/python3.10/dist-packages (from bw2data>=4.0.dev11->brightway25) (2.7.4)\n",
            "Requirement already satisfied: wrapt in /usr/local/lib/python3.10/dist-packages (from bw2data>=4.0.dev11->brightway25) (1.14.1)\n",
            "Requirement already satisfied: openpyxl in /usr/local/lib/python3.10/dist-packages (from bw2io>=0.9.dev6->brightway25) (3.1.2)\n",
            "Requirement already satisfied: unidecode in /usr/local/lib/python3.10/dist-packages (from bw2io>=0.9.dev6->brightway25) (1.3.8)\n",
            "Requirement already satisfied: xlrd in /usr/local/lib/python3.10/dist-packages (from bw2io>=0.9.dev6->brightway25) (2.0.1)\n",
            "Requirement already satisfied: xlsxwriter in /usr/local/lib/python3.10/dist-packages (from bw2io>=0.9.dev6->brightway25) (3.1.9)\n",
            "Requirement already satisfied: asteval in /usr/local/lib/python3.10/dist-packages (from bw2parameters>=0.6.6->brightway25) (0.9.31)\n",
            "Requirement already satisfied: astunparse in /usr/local/lib/python3.10/dist-packages (from bw2parameters>=0.6.6->brightway25) (1.6.3)\n",
            "Requirement already satisfied: pint in /usr/local/lib/python3.10/dist-packages (from bw2parameters>=0.6.6->brightway25) (0.23)\n",
            "Requirement already satisfied: pyxlsb in /usr/local/lib/python3.10/dist-packages (from mrio-common-metadata>=0.2->brightway25) (1.0.10)\n",
            "Requirement already satisfied: wheel<1.0,>=0.23.0 in /usr/local/lib/python3.10/dist-packages (from astunparse->bw2parameters>=0.6.6->brightway25) (0.42.0)\n",
            "Requirement already satisfied: six<2.0,>=1.6.1 in /usr/local/lib/python3.10/dist-packages (from astunparse->bw2parameters>=0.6.6->brightway25) (1.16.0)\n",
            "Requirement already satisfied: appdirs~=1.4.3 in /usr/local/lib/python3.10/dist-packages (from fs->bw-processing>=0.7.1->brightway25) (1.4.4)\n",
            "Requirement already satisfied: setuptools in /usr/local/lib/python3.10/dist-packages (from fs->bw-processing>=0.7.1->brightway25) (67.7.2)\n",
            "Requirement already satisfied: contourpy>=1.0.1 in /usr/local/lib/python3.10/dist-packages (from matplotlib->bw2analyzer>=0.11.1->brightway25) (1.2.0)\n",
            "Requirement already satisfied: cycler>=0.10 in /usr/local/lib/python3.10/dist-packages (from matplotlib->bw2analyzer>=0.11.1->brightway25) (0.12.1)\n",
            "Requirement already satisfied: fonttools>=4.22.0 in /usr/local/lib/python3.10/dist-packages (from matplotlib->bw2analyzer>=0.11.1->brightway25) (4.47.2)\n",
            "Requirement already satisfied: kiwisolver>=1.0.1 in /usr/local/lib/python3.10/dist-packages (from matplotlib->bw2analyzer>=0.11.1->brightway25) (1.4.5)\n",
            "Requirement already satisfied: packaging>=20.0 in /usr/local/lib/python3.10/dist-packages (from matplotlib->bw2analyzer>=0.11.1->brightway25) (23.2)\n",
            "Requirement already satisfied: pillow>=6.2.0 in /usr/local/lib/python3.10/dist-packages (from matplotlib->bw2analyzer>=0.11.1->brightway25) (9.4.0)\n",
            "Requirement already satisfied: pyparsing>=2.3.1 in /usr/local/lib/python3.10/dist-packages (from matplotlib->bw2analyzer>=0.11.1->brightway25) (3.1.1)\n",
            "Requirement already satisfied: python-dateutil>=2.7 in /usr/local/lib/python3.10/dist-packages (from matplotlib->bw2analyzer>=0.11.1->brightway25) (2.8.2)\n",
            "Requirement already satisfied: et-xmlfile in /usr/local/lib/python3.10/dist-packages (from openpyxl->bw2io>=0.9.dev6->brightway25) (1.1.0)\n",
            "Requirement already satisfied: pytz>=2020.1 in /usr/local/lib/python3.10/dist-packages (from pandas->bw-migrations>=0.2->brightway25) (2023.3.post1)\n",
            "Requirement already satisfied: typing-extensions in /usr/local/lib/python3.10/dist-packages (from pint->bw2parameters>=0.6.6->brightway25) (4.5.0)\n",
            "Requirement already satisfied: charset-normalizer<4,>=2 in /usr/local/lib/python3.10/dist-packages (from requests->bw2analyzer>=0.11.1->brightway25) (3.3.2)\n",
            "Requirement already satisfied: idna<4,>=2.5 in /usr/local/lib/python3.10/dist-packages (from requests->bw2analyzer>=0.11.1->brightway25) (3.6)\n",
            "Requirement already satisfied: urllib3<3,>=1.21.1 in /usr/local/lib/python3.10/dist-packages (from requests->bw2analyzer>=0.11.1->brightway25) (2.0.7)\n",
            "Requirement already satisfied: certifi>=2017.4.17 in /usr/local/lib/python3.10/dist-packages (from requests->bw2analyzer>=0.11.1->brightway25) (2023.11.17)\n"
          ]
        }
      ],
      "source": [
        "# install the BW package\n",
        "!pip install brightway25"
      ]
    },
    {
      "cell_type": "code",
      "source": [
        "import bw2data as bd\n",
        "import bw2io as bi\n",
        "import bw2calc as bc\n",
        "import bw2analyzer as bwa\n",
        "\n",
        "import bw_processing as bwp\n",
        "\n",
        "import os\n",
        "import numpy as np\n",
        "import seaborn as sb"
      ],
      "metadata": {
        "id": "vm7EQgkS2AxK"
      },
      "execution_count": 95,
      "outputs": []
    },
    {
      "cell_type": "code",
      "source": [
        "# Exercise: CO2 emissions from 1 kWh coal-fired electricity in the US\n",
        "\n",
        "# In our technosphere matrix, we will have four production exchanges (each of amount 1),\n",
        "# and three consumption exchanges.\n",
        "# Our biosphere matrix will only have one number, the emission of Iron ore from Iron mining.\n",
        "\n",
        "\n",
        "# activity node\n",
        "coal_mining = 101\n",
        "rail_transportation = 102\n",
        "electricity_generation = 103\n",
        "petroleum_refining = 104 # diesel\n",
        "\n",
        "coal = 200\n",
        "co2 = 201\n",
        "\n",
        "\n",
        "# Technosphere\n",
        "elec_t_data = np.array([\n",
        "    1,   # production of petroleum refining\n",
        "    1,   # production of coal mining\n",
        "    1,   # production of rail transportation\n",
        "    1,   # production of electricity generation\n",
        "    0.006482, # input of petroleum refining (tkm)\n",
        "    0.44186, # input of coal mining\n",
        "    0.46079  # input of rail transportation\n",
        "])\n",
        "\n",
        "# We need integer indices for each concept. The numbers themselves are arbitrary,\n",
        "# the point is that we will use them consistently in the datapackages, and maintain a mapping from our concepts to these numbers.\n",
        "\n",
        "elec_t_indices = np.array([\n",
        "    (104, 104), # production of petroleum refining\n",
        "    (101, 101), # production of coal mining\n",
        "    (102, 102), # production of rail transportation\n",
        "    (103, 103), # production of electricity generation\n",
        "    (104, 102), # input of petroleum refining\n",
        "    (101, 102), # input of coal mining\n",
        "    (102, 103)  # input of rail transportation\n",
        "    ],\n",
        "    dtype=bwp.INDICES_DTYPE\n",
        ")\n",
        "elec_t_flip = np.array([ False, False, False, False, True, True, True]) # Numerical sign of the inputs needs to be flipped negative\n",
        "\n",
        "# Biosphere\n",
        "elec_b_data = np.array([1.235,     # emission of coal (coal mining)\n",
        "                        0,         # emission of co2 (coal mining) - ignored\n",
        "                        0.018949,  # emission of co2 (rail transporation)\n",
        "                        0.99407])  # emission of co2 (electricity)\n",
        "elec_b_indices = np.array([\n",
        "    (200, 101), # emission of coal (coal mining)\n",
        "    (201, 101), # emission of co2 (coal mining)\n",
        "    (201, 102), # emission of co2 (rail transportation)\n",
        "    (201, 103), # emission of co2 (electicity geneneration)\n",
        "    ],\n",
        "    dtype=bwp.INDICES_DTYPE\n",
        ")\n",
        "\n",
        "# Characterization matrix\n",
        "elec_c_data = np.array([0, 1]) # ignore coal emission\n",
        "\n",
        "# try with the coal emission\n",
        "# elec_c_data = np.array([1, 1]) # consider coal emission - need a proper conversion factor\n",
        "\n",
        "elec_c_indices = np.array([\n",
        "    (200, 200), # coal\n",
        "    (201, 201), # cf of co2\n",
        "    ],\n",
        "    dtype=bwp.INDICES_DTYPE\n",
        ")\n",
        "\n",
        "\n",
        "\n"
      ],
      "metadata": {
        "id": "VSQtEYAm2BUx"
      },
      "execution_count": 96,
      "outputs": []
    },
    {
      "cell_type": "code",
      "source": [
        "# The main interface for using this library is the Datapackage class. You should use the utility functions create_datapackage and load_datapackage.\n",
        "# A datapackage is a set of file objects (either in-memory or on disk) that includes a metadata file object, and one or more data resource files objects.\n",
        "# The metadata file object includes both generic metadata (i.e. when it was created, the data license) and metadata specific to each data resource (how it can be used in calculations, its relationship to other data resources).\n",
        "\n",
        "elec_dp_static = bwp.create_datapackage()\n",
        "\n",
        "elec_dp_static.add_persistent_vector(\n",
        "    matrix='technosphere_matrix',\n",
        "    indices_array=elec_t_indices,\n",
        "    data_array=elec_t_data,\n",
        "    flip_array=elec_t_flip,\n",
        ")\n",
        "elec_dp_static.add_persistent_vector(\n",
        "    matrix='biosphere_matrix',\n",
        "    indices_array=elec_b_indices,\n",
        "    data_array=elec_b_data,\n",
        ")\n",
        "elec_dp_static.add_persistent_vector(\n",
        "    matrix='characterization_matrix',\n",
        "    indices_array=elec_c_indices,\n",
        "    data_array=elec_c_data,\n",
        ")\n",
        "\n",
        "# Base class for single and multi LCA classes\n",
        "elec_lca = bc.LCA(\n",
        "    demand={electricity_generation: 1},\n",
        "    data_objs=[elec_dp_static],\n",
        ")\n",
        "\n",
        "elec_lca\n",
        "\n",
        "# The LC inventory. Calculate a life cycle inventory.\n",
        "elec_lca.lci()\n",
        "# 1) Load LCI data, and construct the technosphere and biosphere matrices.\n",
        "# 2) Build the demand array\n",
        "# 3) Solve the linear system to get the supply array and life cycle inventory.\n",
        "\n",
        "elec_lca.lcia() # Calculate the life cycle impact assessment.\n",
        "# 1) Load and construct the characterization matrix\n",
        "# 2) Multiply the characterization matrix by the life cycle inventory\n",
        "\n",
        "elec_lca.score # The LCIA score as a float.\n",
        "# means 1.25 iron ore * 1.1 kg iron mining * 8 kg steal"
      ],
      "metadata": {
        "id": "kdKgYBVs2HXV",
        "colab": {
          "base_uri": "https://localhost:8080/"
        },
        "outputId": "088613ca-712e-470e-e9a0-d5173723cfd0"
      },
      "execution_count": 97,
      "outputs": [
        {
          "output_type": "execute_result",
          "data": {
            "text/plain": [
              "1.00280150971"
            ]
          },
          "metadata": {},
          "execution_count": 97
        }
      ]
    },
    {
      "cell_type": "code",
      "source": [],
      "metadata": {
        "id": "TaU1nSwhElNF"
      },
      "execution_count": null,
      "outputs": []
    },
    {
      "cell_type": "markdown",
      "source": [
        "# A stochastic LCA\n",
        "\n",
        "We can make our example more interesting by adding uncertainty. To do this, we will use the standards in the [stats_arrays](https://stats-arrays.readthedocs.io/en/latest/) library.\n",
        "*kursiver Text*\n",
        "We will only add uncertainty to the inputs, and the CO2 emission. The other edges will have uncertainty type zero - no uncertainty."
      ],
      "metadata": {
        "id": "pJiogTrNE-HG"
      }
    },
    {
      "cell_type": "code",
      "source": [
        "elec_t_uncertainty = np.array([\n",
        "        (0, 1, np.NaN, np.NaN, np.NaN, np.NaN, False), #static\n",
        "        (0, 1, np.NaN, np.NaN, np.NaN, np.NaN, False), #static\n",
        "        (0, 1, np.NaN, np.NaN, np.NaN, np.NaN, False), #static\n",
        "        (0, 1, np.NaN, np.NaN, np.NaN, np.NaN, False), #static\n",
        "        (5, 0.006482, np.NaN, np.NaN, 0.005, 0.008, False), # triangular uncertainty from 0.005 to 0.008\n",
        "        (5, 0.44186, np.NaN, np.NaN, 0.3, 0.6, False), # triangular uncertainty from 0.3 to 0.6\n",
        "        (5, 0.46079, np.NaN, np.NaN, 0.1, 0.8, False), # triangular uncertainty from 0.1 to 0.8\n",
        "    ],\n",
        "    dtype=bwp.UNCERTAINTY_DTYPE\n",
        ")\n",
        "\n",
        "elec_b_uncertainty = np.array([\n",
        "        (3, 1.235, 0.2, np.NaN, np.NaN, np.NaN, False), # normal uncertainty with std. dev. of 0.2\n",
        "        (0, 0, 0, np.NaN, np.NaN, np.NaN, False), # static\n",
        "        (5, 0.018949, np.NaN, np.NaN, 0.01, 0.03, False), # triangular uncertainty from 0.01 to 0.03\n",
        "        (3, 0.99407, 0.1, np.NaN, np.NaN, np.NaN, False), # normal uncertainty with std. dev. of 0.1\n",
        "    ],\n",
        "    dtype=bwp.UNCERTAINTY_DTYPE\n",
        ")\n"
      ],
      "metadata": {
        "id": "33yXWb2IFAS8"
      },
      "execution_count": 98,
      "outputs": []
    },
    {
      "cell_type": "code",
      "source": [
        "elec_dp_stochastic = bwp.create_datapackage()\n",
        "\n",
        "elec_dp_stochastic.add_persistent_vector(\n",
        "    matrix='technosphere_matrix',\n",
        "    indices_array=elec_t_indices,\n",
        "    data_array=elec_t_data,\n",
        "    flip_array=elec_t_flip,\n",
        "    distributions_array=elec_t_uncertainty,\n",
        ")\n",
        "\n",
        "elec_dp_stochastic.add_persistent_vector(\n",
        "    matrix='biosphere_matrix',\n",
        "    indices_array=elec_b_indices,\n",
        "    data_array=elec_b_data,\n",
        "    distributions_array=elec_b_uncertainty,\n",
        ")\n",
        "\n",
        "elec_dp_stochastic.add_persistent_vector(\n",
        "    matrix='characterization_matrix',\n",
        "    indices_array=elec_c_indices,\n",
        "    data_array=elec_c_data,\n",
        ")"
      ],
      "metadata": {
        "id": "r6G44U5TFDI1"
      },
      "execution_count": 101,
      "outputs": []
    },
    {
      "cell_type": "code",
      "source": [
        "elec_lca_sto = bc.LCA(\n",
        "    demand={electricity_generation: 1},\n",
        "    data_objs=[elec_dp_stochastic],\n",
        "    use_distributions=True, # To use uncertainty, we tell the LCA object to use the probability distributions.\n",
        ")\n",
        "elec_lca_sto.lci()\n",
        "elec_lca_sto.lcia()\n",
        "\n",
        "elec_mc_results = [elec_lca_sto.score for _ in zip(range(100), elec_lca_sto)] # Repeat 100 times as zip() makes an iterator that aggregates elements from each of the iterables."
      ],
      "metadata": {
        "id": "QFt4CubTFE8L"
      },
      "execution_count": 104,
      "outputs": []
    },
    {
      "cell_type": "code",
      "source": [
        "sb.displot(np.array(elec_mc_results))"
      ],
      "metadata": {
        "colab": {
          "base_uri": "https://localhost:8080/",
          "height": 523
        },
        "id": "KsTA6Jo7FGtl",
        "outputId": "116a48a0-f6a6-47fa-ef35-4ac201cdd054"
      },
      "execution_count": 103,
      "outputs": [
        {
          "output_type": "execute_result",
          "data": {
            "text/plain": [
              "<seaborn.axisgrid.FacetGrid at 0x7cf5dcb8f5e0>"
            ]
          },
          "metadata": {},
          "execution_count": 103
        },
        {
          "output_type": "display_data",
          "data": {
            "text/plain": [
              "<Figure size 500x500 with 1 Axes>"
            ],
            "image/png": "[encoded data removed]"
          },
          "metadata": {}
        }
      ]
    },
    {
      "cell_type": "markdown",
      "source": [
        "# Using arrays for scenarios\n",
        "\n",
        "Let's imagine two different possibilities: a shorter transporation and less co2 emission. If we treat these as separate possibilities, we have four scenarios in total.\n",
        "\n",
        "For this to work, we will need to create **two** new arrays, one for each choice, and then tell the software to do combinatorial sampling:"
      ],
      "metadata": {
        "id": "ea15mEE5LD42"
      }
    },
    {
      "cell_type": "code",
      "source": [
        "elec_dp_scenarios = bwp.create_datapackage(combinatorial=True)\n",
        "\n",
        "elec_dp_scenarios.add_persistent_array(\n",
        "    matrix='technosphere_matrix',\n",
        "    indices_array=np.array([(102, 103)], dtype=bwp.INDICES_DTYPE),\n",
        "    data_array=np.array([(0.46079, 0.46079/2)]),\n",
        "    flip_array=np.array([True]),\n",
        "    name='shorter transportation' # shorter transporation\n",
        ")\n",
        "\n",
        "elec_dp_scenarios.add_persistent_array(\n",
        "    matrix='technosphere_matrix',\n",
        "    indices_array=np.array([(101, 102)], dtype=bwp.INDICES_DTYPE),\n",
        "    data_array=np.array([(0.44186, 0.44186/2)]), # less coal\n",
        "    name='less coal'\n",
        ")\n",
        "\n",
        "# elec_dp_scenarios.add_persistent_array(\n",
        "#     matrix='biosphere_matrix',\n",
        "#     indices_array=np.array([(201, 102)], dtype=bwp.INDICES_DTYPE),\n",
        "#     data_array=np.array([(0.018949, 0.018949/2)]), # less emission from transportation\n",
        "#     name='less co2 emission (elec generation)'\n",
        "# )"
      ],
      "metadata": {
        "id": "-bxoHT0mLHcV"
      },
      "execution_count": 137,
      "outputs": []
    },
    {
      "cell_type": "code",
      "source": [
        "scenario_mapping = {\n",
        "    (0, 0): \"Baseline\",\n",
        "    (0, 1): \"Shorter transportation distance\",\n",
        "    (1, 0): \"Less coal\",\n",
        "    (1, 1): \"Shorter distance & less coal\",\n",
        "}"
      ],
      "metadata": {
        "id": "riD9puI9LK4w"
      },
      "execution_count": 143,
      "outputs": []
    },
    {
      "cell_type": "code",
      "source": [
        " #run LCA calculations again with method\n",
        " elec_lca_scenarios = bc.LCA(\n",
        "    demand={electricity_generation: 1},\n",
        "    data_objs=[elec_dp_static, elec_dp_scenarios],\n",
        "    use_arrays=True,\n",
        ")\n",
        "\n",
        "elec_lca_scenarios.lci()\n",
        "elec_lca_scenarios.lcia()\n",
        "\n",
        "print(elec_lca_scenarios.score) # doesn't print the sceanario outcomes\n"
      ],
      "metadata": {
        "colab": {
          "base_uri": "https://localhost:8080/"
        },
        "id": "_gJ7kzyNLMrx",
        "outputId": "439e065f-7849-4e2f-9e69-cf0a1e757e2c"
      },
      "execution_count": 144,
      "outputs": [
        {
          "output_type": "stream",
          "name": "stdout",
          "text": [
            "1.00280150971\n"
          ]
        }
      ]
    },
    {
      "cell_type": "code",
      "source": [
        "elec_lca_scenarios.technosphere_mm.groups"
      ],
      "metadata": {
        "colab": {
          "base_uri": "https://localhost:8080/"
        },
        "id": "fK9w6q8OU0Yv",
        "outputId": "b3bdce04-9dbc-48bc-dd81-950979558302"
      },
      "execution_count": 165,
      "outputs": [
        {
          "output_type": "execute_result",
          "data": {
            "text/plain": [
              "(<matrix_utils.resource_group.ResourceGroup at 0x7cf5da981900>,\n",
              " <matrix_utils.resource_group.ResourceGroup at 0x7cf5da9825f0>,\n",
              " <matrix_utils.resource_group.ResourceGroup at 0x7cf5da981f90>)"
            ]
          },
          "metadata": {},
          "execution_count": 165
        }
      ]
    },
    {
      "cell_type": "code",
      "source": [
        "resource_group = next(grp for grp in elec_lca_scenarios.technosphere_mm.groups if grp.label == 'shorter transportation').indexer.indexer"
      ],
      "metadata": {
        "id": "leDWqekrLOXM"
      },
      "execution_count": 151,
      "outputs": []
    },
    {
      "cell_type": "code",
      "source": [
        "print(elec_lca_scenarios.score, scenario_mapping[resource_group.index])\n",
        "\n",
        "for scenario_result in elec_lca_scenarios:\n",
        "    print(elec_lca_scenarios.score, scenario_mapping[resource_group.index])"
      ],
      "metadata": {
        "colab": {
          "base_uri": "https://localhost:8080/"
        },
        "id": "K7Vs-FHrLQND",
        "outputId": "45eb7993-e1fa-4241-8954-cd5c70f2ac4a"
      },
      "execution_count": 166,
      "outputs": [
        {
          "output_type": "stream",
          "name": "stdout",
          "text": [
            "1.00280150971 Baseline\n",
            "1.00280150971 Shorter transportation distance\n",
            "0.998435754855 Less coal\n",
            "0.998435754855 Shorter distance & less coal\n"
          ]
        }
      ]
    }
  ]
}