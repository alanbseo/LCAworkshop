{
  "nbformat": 4,
  "nbformat_minor": 0,
  "metadata": {
    "colab": {
      "provenance": [],
      "authorship_tag": "ABX9TyMAuvGQtJXg3RjSgmb0zrlv",
      "include_colab_link": true
    },
    "kernelspec": {
      "name": "python3",
      "display_name": "Python 3"
    },
    "language_info": {
      "name": "python"
    }
  },
  "cells": [
    {
      "cell_type": "markdown",
      "metadata": {
        "id": "view-in-github",
        "colab_type": "text"
      },
      "source": [
        "<a href=\"https://colab.research.google.com/github/alanbseo/LCAworkshop/blob/master/LCA_1_2_CoalLCA.ipynb\" target=\"_parent\"><img src=\"https://colab.research.google.com/assets/colab-badge.svg\" alt=\"Open In Colab\"/></a>"
      ]
    },
    {
      "cell_type": "code",
      "execution_count": 39,
      "metadata": {
        "colab": {
          "base_uri": "https://localhost:8080/"
        },
        "id": "mM8MDYBI1-pW",
        "outputId": "cb704c92-39c6-4660-ad1a-7b0a7df40003"
      },
      "outputs": [
        {
          "output_type": "stream",
          "name": "stdout",
          "text": [
            "Requirement already satisfied: brightway25 in /usr/local/lib/python3.10/dist-packages (1.0.6)\n",
            "Requirement already satisfied: bw2analyzer>=0.11.1 in /usr/local/lib/python3.10/dist-packages (from brightway25) (0.11.8)\n",
            "Requirement already satisfied: bw2calc>=2.0.dev5 in /usr/local/lib/python3.10/dist-packages (from brightway25) (2.0.dev16)\n",
            "Requirement already satisfied: bw2data>=4.0.dev11 in /usr/local/lib/python3.10/dist-packages (from brightway25) (4.0.dev33)\n",
            "Requirement already satisfied: bw2io>=0.9.dev6 in /usr/local/lib/python3.10/dist-packages (from brightway25) (0.9.dev26)\n",
            "Requirement already satisfied: bw2parameters>=0.6.6 in /usr/local/lib/python3.10/dist-packages (from brightway25) (1.1.0)\n",
            "Requirement already satisfied: bw-processing>=0.7.1 in /usr/local/lib/python3.10/dist-packages (from brightway25) (0.9)\n",
            "Requirement already satisfied: matrix-utils>=0.2.2 in /usr/local/lib/python3.10/dist-packages (from brightway25) (0.4.1)\n",
            "Requirement already satisfied: mrio-common-metadata>=0.2 in /usr/local/lib/python3.10/dist-packages (from brightway25) (0.2.1)\n",
            "Requirement already satisfied: bw-migrations>=0.2 in /usr/local/lib/python3.10/dist-packages (from brightway25) (0.2)\n",
            "Requirement already satisfied: numpy>=1.20 in /usr/local/lib/python3.10/dist-packages (from brightway25) (1.23.5)\n",
            "Requirement already satisfied: scipy in /usr/local/lib/python3.10/dist-packages (from brightway25) (1.11.4)\n",
            "Requirement already satisfied: stats-arrays>=0.6.5 in /usr/local/lib/python3.10/dist-packages (from brightway25) (0.6.6)\n",
            "Requirement already satisfied: pandas in /usr/local/lib/python3.10/dist-packages (from bw-migrations>=0.2->brightway25) (1.5.3)\n",
            "Requirement already satisfied: fs in /usr/local/lib/python3.10/dist-packages (from bw-processing>=0.7.1->brightway25) (2.4.16)\n",
            "Requirement already satisfied: matplotlib in /usr/local/lib/python3.10/dist-packages (from bw2analyzer>=0.11.1->brightway25) (3.7.1)\n",
            "Requirement already satisfied: requests in /usr/local/lib/python3.10/dist-packages (from bw2analyzer>=0.11.1->brightway25) (2.31.0)\n",
            "Requirement already satisfied: tabulate in /usr/local/lib/python3.10/dist-packages (from bw2analyzer>=0.11.1->brightway25) (0.9.0)\n",
            "Requirement already satisfied: tqdm in /usr/local/lib/python3.10/dist-packages (from bw2analyzer>=0.11.1->brightway25) (4.66.1)\n",
            "Requirement already satisfied: lxml in /usr/local/lib/python3.10/dist-packages (from bw2data>=4.0.dev11->brightway25) (4.9.4)\n",
            "Requirement already satisfied: peewee>=3.9.4 in /usr/local/lib/python3.10/dist-packages (from bw2data>=4.0.dev11->brightway25) (3.17.0)\n",
            "Requirement already satisfied: platformdirs in /usr/local/lib/python3.10/dist-packages (from bw2data>=4.0.dev11->brightway25) (4.1.0)\n",
            "Requirement already satisfied: voluptuous in /usr/local/lib/python3.10/dist-packages (from bw2data>=4.0.dev11->brightway25) (0.14.1)\n",
            "Requirement already satisfied: whoosh in /usr/local/lib/python3.10/dist-packages (from bw2data>=4.0.dev11->brightway25) (2.7.4)\n",
            "Requirement already satisfied: wrapt in /usr/local/lib/python3.10/dist-packages (from bw2data>=4.0.dev11->brightway25) (1.14.1)\n",
            "Requirement already satisfied: openpyxl in /usr/local/lib/python3.10/dist-packages (from bw2io>=0.9.dev6->brightway25) (3.1.2)\n",
            "Requirement already satisfied: unidecode in /usr/local/lib/python3.10/dist-packages (from bw2io>=0.9.dev6->brightway25) (1.3.8)\n",
            "Requirement already satisfied: xlrd in /usr/local/lib/python3.10/dist-packages (from bw2io>=0.9.dev6->brightway25) (2.0.1)\n",
            "Requirement already satisfied: xlsxwriter in /usr/local/lib/python3.10/dist-packages (from bw2io>=0.9.dev6->brightway25) (3.1.9)\n",
            "Requirement already satisfied: asteval in /usr/local/lib/python3.10/dist-packages (from bw2parameters>=0.6.6->brightway25) (0.9.31)\n",
            "Requirement already satisfied: astunparse in /usr/local/lib/python3.10/dist-packages (from bw2parameters>=0.6.6->brightway25) (1.6.3)\n",
            "Requirement already satisfied: pint in /usr/local/lib/python3.10/dist-packages (from bw2parameters>=0.6.6->brightway25) (0.23)\n",
            "Requirement already satisfied: pyxlsb in /usr/local/lib/python3.10/dist-packages (from mrio-common-metadata>=0.2->brightway25) (1.0.10)\n",
            "Requirement already satisfied: wheel<1.0,>=0.23.0 in /usr/local/lib/python3.10/dist-packages (from astunparse->bw2parameters>=0.6.6->brightway25) (0.42.0)\n",
            "Requirement already satisfied: six<2.0,>=1.6.1 in /usr/local/lib/python3.10/dist-packages (from astunparse->bw2parameters>=0.6.6->brightway25) (1.16.0)\n",
            "Requirement already satisfied: appdirs~=1.4.3 in /usr/local/lib/python3.10/dist-packages (from fs->bw-processing>=0.7.1->brightway25) (1.4.4)\n",
            "Requirement already satisfied: setuptools in /usr/local/lib/python3.10/dist-packages (from fs->bw-processing>=0.7.1->brightway25) (67.7.2)\n",
            "Requirement already satisfied: contourpy>=1.0.1 in /usr/local/lib/python3.10/dist-packages (from matplotlib->bw2analyzer>=0.11.1->brightway25) (1.2.0)\n",
            "Requirement already satisfied: cycler>=0.10 in /usr/local/lib/python3.10/dist-packages (from matplotlib->bw2analyzer>=0.11.1->brightway25) (0.12.1)\n",
            "Requirement already satisfied: fonttools>=4.22.0 in /usr/local/lib/python3.10/dist-packages (from matplotlib->bw2analyzer>=0.11.1->brightway25) (4.47.2)\n",
            "Requirement already satisfied: kiwisolver>=1.0.1 in /usr/local/lib/python3.10/dist-packages (from matplotlib->bw2analyzer>=0.11.1->brightway25) (1.4.5)\n",
            "Requirement already satisfied: packaging>=20.0 in /usr/local/lib/python3.10/dist-packages (from matplotlib->bw2analyzer>=0.11.1->brightway25) (23.2)\n",
            "Requirement already satisfied: pillow>=6.2.0 in /usr/local/lib/python3.10/dist-packages (from matplotlib->bw2analyzer>=0.11.1->brightway25) (9.4.0)\n",
            "Requirement already satisfied: pyparsing>=2.3.1 in /usr/local/lib/python3.10/dist-packages (from matplotlib->bw2analyzer>=0.11.1->brightway25) (3.1.1)\n",
            "Requirement already satisfied: python-dateutil>=2.7 in /usr/local/lib/python3.10/dist-packages (from matplotlib->bw2analyzer>=0.11.1->brightway25) (2.8.2)\n",
            "Requirement already satisfied: et-xmlfile in /usr/local/lib/python3.10/dist-packages (from openpyxl->bw2io>=0.9.dev6->brightway25) (1.1.0)\n",
            "Requirement already satisfied: pytz>=2020.1 in /usr/local/lib/python3.10/dist-packages (from pandas->bw-migrations>=0.2->brightway25) (2023.3.post1)\n",
            "Requirement already satisfied: typing-extensions in /usr/local/lib/python3.10/dist-packages (from pint->bw2parameters>=0.6.6->brightway25) (4.5.0)\n",
            "Requirement already satisfied: charset-normalizer<4,>=2 in /usr/local/lib/python3.10/dist-packages (from requests->bw2analyzer>=0.11.1->brightway25) (3.3.2)\n",
            "Requirement already satisfied: idna<4,>=2.5 in /usr/local/lib/python3.10/dist-packages (from requests->bw2analyzer>=0.11.1->brightway25) (3.6)\n",
            "Requirement already satisfied: urllib3<3,>=1.21.1 in /usr/local/lib/python3.10/dist-packages (from requests->bw2analyzer>=0.11.1->brightway25) (2.0.7)\n",
            "Requirement already satisfied: certifi>=2017.4.17 in /usr/local/lib/python3.10/dist-packages (from requests->bw2analyzer>=0.11.1->brightway25) (2023.11.17)\n"
          ]
        }
      ],
      "source": [
        "# install the BW package\n",
        "!pip install brightway25"
      ]
    },
    {
      "cell_type": "code",
      "source": [
        "import bw2data as bd\n",
        "import bw2io as bi\n",
        "import bw2calc as bc\n",
        "import bw2analyzer as bwa\n",
        "\n",
        "import bw_processing as bwp\n",
        "\n",
        "import os\n",
        "import numpy as np"
      ],
      "metadata": {
        "id": "vm7EQgkS2AxK"
      },
      "execution_count": 40,
      "outputs": []
    },
    {
      "cell_type": "code",
      "source": [
        "# Exercise: CO2 emissions from 1 kWh coal-fired electricity in the US\n",
        "\n",
        "# In our technosphere matrix, we will have four production exchanges (each of amount 1),\n",
        "# and three consumption exchanges.\n",
        "# Our biosphere matrix will only have one number, the emission of Iron ore from Iron mining.\n",
        "\n",
        "\n",
        "# activity node\n",
        "coal_mining = 101\n",
        "rail_transportation = 102\n",
        "electricity_generation = 103\n",
        "petroleum_refining = 104 # diesel\n",
        "\n",
        "coal = 200\n",
        "co2 = 201\n",
        "\n",
        "\n",
        "# Technosphere\n",
        "elec_t_data = np.array([\n",
        "    1,   # production of petroleum refining\n",
        "    1,   # production of coal mining\n",
        "    1,   # production of rail transportation\n",
        "    1,   # production of electricity generation\n",
        "    0.006482, # input of petroleum refining (tkm)\n",
        "    0.44186, # input of coal mining\n",
        "    0.46079 # input of rail transportation\n",
        "])\n",
        "\n",
        "# We need integer indices for each concept. The numbers themselves are arbitrary,\n",
        "# the point is that we will use them consistently in the datapackages, and maintain a mapping from our concepts to these numbers.\n",
        "\n",
        "elec_t_indices = np.array([\n",
        "    (104, 104), # production of petroleum refining\n",
        "    (101, 101), # production of coal mining\n",
        "    (102, 102), # production of rail transportation\n",
        "    (103, 103), # production of electricity generation\n",
        "    (104, 102), # input of petroleum refining\n",
        "    (101, 102), # input of coal mining\n",
        "    (102, 103) # input of rail transportation\n",
        "    ],\n",
        "    dtype=bwp.INDICES_DTYPE\n",
        ")\n",
        "elec_t_flip = np.array([ False, False, False, False, True, True, True]) # Numerical sign of the inputs needs to be flipped negative\n",
        "\n",
        "# Biosphere\n",
        "elec_b_data = np.array([0,         # emission of co2 (coal mining) - ignored (could be 1.235?)\n",
        "                        0.018949,  # emission of co2 (rail transporation)\n",
        "                        0.99407])  # emission of co2 (electricity)\n",
        "elec_b_indices = np.array([\n",
        "    (201, 101), # emission of co2 (coal mining)\n",
        "    (201, 102), # emission of co2 (rail transportation)\n",
        "    (201, 103), # emission of co2 (electicity geneneration)\n",
        "    ],\n",
        "    dtype=bwp.INDICES_DTYPE\n",
        ")\n",
        "\n",
        "# Characterization matrix\n",
        "elec_c_data = np.array([0, 1]) # ignore coal emission\n",
        "elec_c_indices = np.array([\n",
        "    (200, 200), # coal\n",
        "    (201, 201), # cf of co2\n",
        "    ],\n",
        "    dtype=bwp.INDICES_DTYPE\n",
        ")\n",
        "\n",
        "\n",
        "\n"
      ],
      "metadata": {
        "id": "VSQtEYAm2BUx"
      },
      "execution_count": 76,
      "outputs": []
    },
    {
      "cell_type": "code",
      "source": [
        "# The main interface for using this library is the Datapackage class. You should use the utility functions create_datapackage and load_datapackage.\n",
        "# A datapackage is a set of file objects (either in-memory or on disk) that includes a metadata file object, and one or more data resource files objects.\n",
        "# The metadata file object includes both generic metadata (i.e. when it was created, the data license) and metadata specific to each data resource (how it can be used in calculations, its relationship to other data resources).\n",
        "\n",
        "elec_dp_static = bwp.create_datapackage()\n",
        "\n",
        "elec_dp_static.add_persistent_vector(\n",
        "    matrix='technosphere_matrix',\n",
        "    indices_array=elec_t_indices,\n",
        "    data_array=elec_t_data,\n",
        "    flip_array=elec_t_flip,\n",
        ")\n",
        "elec_dp_static.add_persistent_vector(\n",
        "    matrix='biosphere_matrix',\n",
        "    indices_array=elec_b_indices,\n",
        "    data_array=elec_b_data,\n",
        ")\n",
        "elec_dp_static.add_persistent_vector(\n",
        "    matrix='characterization_matrix',\n",
        "    indices_array=elec_c_indices,\n",
        "    data_array=elec_c_data,\n",
        ")\n",
        "\n",
        "# Base class for single and multi LCA classes\n",
        "elec_lca = bc.LCA(\n",
        "    demand={electricity_generation: 1},\n",
        "    data_objs=[elec_dp_static],\n",
        ")\n",
        "\n",
        "elec_lca\n",
        "\n",
        "# The LC inventory. Calculate a life cycle inventory.\n",
        "elec_lca.lci()\n",
        "# 1) Load LCI data, and construct the technosphere and biosphere matrices.\n",
        "# 2) Build the demand array\n",
        "# 3) Solve the linear system to get the supply array and life cycle inventory.\n",
        "\n",
        "elec_lca.lcia() # Calculate the life cycle impact assessment.\n",
        "# 1) Load and construct the characterization matrix\n",
        "# 2) Multiply the characterization matrix by the life cycle inventory\n",
        "\n",
        "elec_lca.score # The LCIA score as a float.\n",
        "# means 1.25 iron ore * 1.1 kg iron mining * 8 kg steal"
      ],
      "metadata": {
        "id": "kdKgYBVs2HXV",
        "colab": {
          "base_uri": "https://localhost:8080/"
        },
        "outputId": "f64ca640-b055-438a-cf80-4dcd2c99bd49"
      },
      "execution_count": 78,
      "outputs": [
        {
          "output_type": "execute_result",
          "data": {
            "text/plain": [
              "1.00280150971"
            ]
          },
          "metadata": {},
          "execution_count": 78
        }
      ]
    }
  ]
}