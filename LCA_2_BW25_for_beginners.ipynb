{
  "cells": [
    {
      "cell_type": "markdown",
      "metadata": {
        "id": "view-in-github",
        "colab_type": "text"
      },
      "source": [
        "<a href=\"https://colab.research.google.com/github/alanbseo/LCAworkshop/blob/master/LCA_2_BW25_for_beginners.ipynb\" target=\"_parent\"><img src=\"https://colab.research.google.com/assets/colab-badge.svg\" alt=\"Open In Colab\"/></a>"
      ]
    },
    {
      "cell_type": "markdown",
      "metadata": {
        "id": "HNARvsNU8UQG"
      },
      "source": [
        "\n",
        "# BW25 for Beginners"
      ]
    },
    {
      "cell_type": "markdown",
      "metadata": {
        "id": "RHWJxsqo8UQJ"
      },
      "source": [
        "References:\n",
        "https://learn.brightway.dev/en/latest/content/notebooks/BW25_for_beginners.html\n",
        "\n",
        "https://live.brightway.dev/lab/index.html\n",
        "\n",
        "https://github.com/maximikos/Brightway2_Intro/blob/master/BW2_tutorial.ipynb\n",
        "\n",
        "Please see the overview at https://wiki.ubc.ca/Documentation:Brightway_Tutorials\n",
        "\n",
        "API documentation https://docs.brightway.dev/en/latest/api/index.html\n"
      ]
    },
    {
      "cell_type": "markdown",
      "metadata": {
        "jp-MarkdownHeadingCollapsed": true,
        "id": "i1TTtkLx8UQJ"
      },
      "source": [
        "# Introductory note\n",
        "<a id='section0'></a>\n",
        "This is a [Jupyter Notebook](https://jupyter-notebook-beginner-guide.readthedocs.io/en/latest/what_is_jupyter.html) with the purpose of making you familiar with the basic Python-based [Brightway25 LCA framework](https://documentation.brightway.dev/en/latest/index.html) and its various functionalities, all developed by Chris Mutel and colleagues.\n",
        "\n",
        "This notebook is designed to get you started with creating your own project, setting up your database(s) (used as background systems) and simple foreground systems, performing your first impact assessments, analysing your results, and running Monte Carlo simulations in calculation setups.\n",
        "\n",
        "Since Brightway2 builds on Python, a widely used programming language for scientific analysis, and can be installed easiest through the package and environment mangement system [*conda*](https://docs.conda.io/projects/conda/en/latest/), we need to get either [Anaconda](https://www.anaconda.com/), an open source distribution for multiple languages including Python and R, or at least [Miniconda](https://docs.conda.io/en/latest/miniconda.html), the bootstrap version of Anaconda. The full Anaconda installation contains, among others, a terminal and an IDE (integrated development environment). And, good for us, it natively installs the setup for Jupyter Notebooks, through which we can work most effectively with Brightway2. Both Jupyter and Brightway can also be installed through [*pip*](https://jupyter.readthedocs.io/en/latest/install.html#new-to-python-and-jupyter), but it may be a tad trickier.\n",
        "\n",
        "For clarification: *conda* is, just like *pip*, a package and environment management system; the difference, however, is that \"*pip* installs python packages within any environment; *conda* installs any package within conda environments.\" (quote from [here](https://jakevdp.github.io/blog/2016/08/25/conda-myths-and-misconceptions/))\n",
        "\n",
        "<br>\n",
        "\n",
        "---\n",
        "\n",
        "**Recommended prerequisites are:**\n",
        "* having installed [Brightway25](https://docs.brightway.dev/en/latest/content/installation/installation.html) + all relevant packages (make sure to do so in the correct virtual environment) and possibly even having had a first quick look at its [documentation](https://docs.brightway.dev/en/latest/index.html).\n",
        "  <ins>\n",
        "* knowledge of the foundations of life cycle assessment. If you don't have this knowledge (or simply need a refresher), have a look at the [online teaching resources](http://www.teaching.industrialecology.uni-freiburg.de/) provided by the Industrial Ecology Freiburg Group, led by Stefan Pauliuk.\n",
        "* familiarity with any programming language - no Python-specific requirements, as most methods are quite intuitive and will be explained anyway. In case you are a total beginner, check [this](https://github.com/PoutineAndRosti/Brightway-Seminar-2017/blob/master/Day%201%20AM/1%20-%20Python%20and%20notebook%20basics.ipynb) out :)\n",
        "\n",
        "<br>\n",
        "\n",
        "---\n",
        "\n",
        "**For Jupyter newbies**\n",
        "\n",
        "In a [Jupyter notebook](https://jupyter-notebook.readthedocs.io/en/stable/index.html) everything is live and interactive. And, perhaps more interesting, markdown elements and actual code are mixed - and you can even include images, videos, and other formats. There are [many](https://github.com/jupyter/jupyter/wiki/A-gallery-of-interesting-Jupyter-Notebooks), [many](https://rise.readthedocs.io/en/maint-5.5/index.html) things that you can do with such notebooks, and there are also many [cool](https://blog.dominodatalab.com/lesser-known-ways-of-using-notebooks/) [tricks](https://www.dataquest.io/blog/jupyter-notebook-tips-tricks-shortcuts/) as well as some [extensions](https://github.com/ipython-contrib/jupyter_contrib_nbextensions).\n",
        "\n",
        "To get you started, you might want to press the `h`-key, which gives you an overview of keyboard shortcuts. Then, you have markdown (richt text containing) cells and code cells: if you hover over and select any cell by clicking on it (notice the blue bar on the left of the cell; turns green when you are in edit mode, i.e. having clicked into the cell box) you can turn it into either a markdown one by pressing `m` or into a code cell by pressing `y`; there are other types, too, but they are not relevant for what we want to do. Click on a cell to select it or simply use the arrow keys to navigate. If you want to run a cell, simply press `shift+enter`. And if you want to insert an empty cell above or below the current one, simply press `a` or `b`. For changing the contents of a cell, either doubleclick a markdown cell or click a code cell; pressing `enter` works, too. You can exit a cell using `Esc` and can copy, cut, and paste cells when pressing the keys `c`, `x`, and `v` when having selected a cell. As for the output of a command, note that clicking on it once makes it scroll-able, clicking on it twice results in hiding it.\n",
        "\n",
        "You will notice further below that there are sometimes commands starting with `import`. These ones are needed to \"import\" the code of the respective package into the present code. For instance, by importing the Brightway2 package you enable the present notebook to use the Brightway2 functionalities. To have access to these packages, you need to download them first; otherwise you will receive an error message. You can download such packages in two ways: either in the notebook or in the terminal (make sure to be in the right virtual environment).\n",
        "\n",
        "These are the absolute basics, but they are already more than what you need here.\n",
        "\n",
        "<br>\n",
        "\n",
        "---\n",
        "\n",
        "**Recap on LCA**\n",
        "\n",
        "To make sure we are on the same page, let's recapitulate the basics of LCA, expressed in a single formula (the notation may differ to the one that you are familiar with):\n",
        "\n",
        "$$h = CBA^{-1}f$$\n",
        "\n",
        "where:\n",
        "- $A$... transaction matrix (dimensions *p x q*)\n",
        "- $B$... environmental interventions matrix (dimensions *r x q*)\n",
        "- $C$... characterisation matrix (dimensions *p x q*)\n",
        "- $f$... final demand vector (dimensions *p x 1*)\n",
        "- $h$... characterised inventory matrix (dimensions *1 x 1*)\n",
        "\n",
        "with the dimensions being:\n",
        "- *p*... number of products\n",
        "- *q*... number of activities/processes\n",
        "- *r*... number of elementary flows\n",
        "\n",
        "Specific parts of the above formula have distinct names. Since these names are also used in the Brightway2-framework, we will note them down here:\n",
        "- $f$... demand array\n",
        "- $A{^-1}f$... supply array\n",
        "- $BA{^-1}f$... inventory\n",
        "- $CBA{^-1}f$... characterised inventory\n",
        "\n",
        "To not only get a single score per impact category, we can diagonalise the supply array (how this can be realised in the Brightway2-framework is not shown in this notebook) so that we can see the environmental impacts per process:\n",
        "\n",
        "$$h_{process} = CB~diag(A^{-1}f)$$\n",
        "\n",
        "You can do the same for breaking down the total environmental impact to the stressors:\n",
        "\n",
        "$$h_{stressor} = C~diag(BA^{-1}f)$$\n",
        "\n",
        "Another way of representing your results is to show the environmental stressors per activity for a specific impact category:\n",
        "\n",
        "$$h_{category} = diag(C)~B~diag(A^{-1}f)$$\n",
        "\n",
        "<br>\n",
        "\n",
        "---\n",
        "\n",
        "**The notebook is structured as follows:**\n",
        "1. [Setup of a project](#section1): *How to set up a project to work in*\n",
        "2. [Database import/setup](#section2): *How to import a database and get it ready for use*<br><br>\n",
        "    2.1 [Importing ecoinvent and Forwast](#section21)<br>\n",
        "    2.2 [Database selection and a first look at activities](#section22)<br>\n",
        "    2.3 [Importing a dataset from Excel](#section23)<br><br>\n",
        "3. [Manual database creation](#section3): *How to manually create a database*\n",
        "4. [LCIA](#section4): *Basics of the LCIA calculations*\n",
        "5. [Foreground system](#section5): *How to set up a very simple product system and ways to explore BW2's functionalities*<br><br>\n",
        "    5.1 [Simple product system](#section51)<br>\n",
        "    5.2 [Bottle production](#section52)<br><br>\n",
        "6. [Manipulating an exchange](#section6): *How to manipulate an activity in multiple ways*<br><br>\n",
        "    6.1 [Copying and deleting an activity](#section61)<br>\n",
        "    6.2 [First attempts at manipulating an exchange's keys/values](#section62)<br>\n",
        "    6.3 [Substituting an exchange](#section63)<br>\n",
        "    6.4 [Successfully manipulating an exchange](#section64)<br><br>\n",
        "7. [Basic contribution analysis](#section7): *How to examine the LCA results*<br><br>\n",
        "    7.1 [Recalculation of the inventory](#section71)<br>\n",
        "    7.2 [Basic contribution analysis](#section72)<br>\n",
        "    7.3 [Top emissions and processes by name](#section73)<br><br>\n",
        "8. [Multi-LCA](#section8): *How to compare multiple alternatives across multiple impact categories simultaneously*<br><br>\n",
        "    8.1 [Manually comparing products](#section81)<br>\n",
        "    8.2 [Calculation setups](#section82)<br>\n",
        "    8.3 [MLCA](#section83)<br><br>\n",
        "9. [Monte Carlo simulation](#section9): *How to quantify uncertainties of the LCA result*<br><br>\n",
        "\n",
        "<br>\n",
        "\n",
        "---\n",
        "\n",
        "**Outcomes - what are we going to learn?**\n",
        "\n",
        "By completing this notebook (run it locally on your machine and don't just read the code), we will:\n",
        "- have understood the basics of the Brightway25 LCA framework\n",
        "- know how to import/generate/handle datasets in Brightway25\n",
        "- be able to run simple LCAs (both linearly and in parallel)\n",
        "- be able to analyse a product system and the results of an LCA\n",
        "- know the contirbution analysis of a product\n",
        "- be able to visualise data in form of tables and figures\n",
        "\n",
        "<br>\n",
        "\n",
        "---\n",
        "Just for clarification, abbreviations used in the markdown cells of this notebook are:\n",
        "\n",
        "| Abbreviation(s) | Written out |\n",
        "| --- | --- |\n",
        "| bw, BW25 | Brightway25 |\n",
        "| FU | Functional unit |\n",
        "| LCA | Life cycle assessment |\n",
        "| LCI | Life cycle inventory |\n",
        "| LCIA | Life cycle impact assessment |\n",
        "| EI| Ecoinvent |\n",
        "---\n",
        "\n",
        "So, that would be it what we're up to do. But if you're super keen then you might also be interested in checking out the **[Activity browser](https://github.com/LCA-ActivityBrowser/activity-browser)** and **[LCOPT](https://lcopt.readthedocs.io/en/latest/)**, both of which are essentially graphical user interfaces for BW25. The latter one can be used particularly for parametrised inventories (you'll learn more about the basics of this later).\n",
        "\n",
        "<br>\n",
        "\n",
        "---"
      ]
    },
    {
      "cell_type": "markdown",
      "metadata": {
        "id": "BuM4wnBI8UQK"
      },
      "source": [
        "<a id='section1'></a>\n",
        "# 1. Setup of a project\n",
        "\n",
        "A project gets instantiated and relevant libraries/packages imported."
      ]
    },
    {
      "cell_type": "code",
      "execution_count": null,
      "metadata": {
        "id": "dtddKrHb8UQK"
      },
      "outputs": [],
      "source": [
        "# Import basic packages we'll need later on in this tutorial\n",
        "import os\n",
        "import matplotlib.pyplot as plt\n",
        "import numpy as np\n",
        "import pandas as pd\n"
      ]
    },
    {
      "cell_type": "code",
      "source": [
        "# Connect your Gdrive to the Colab notebook\n",
        "from google.colab import drive\n",
        "drive.mount('/content/gdrive')"
      ],
      "metadata": {
        "colab": {
          "base_uri": "https://localhost:8080/"
        },
        "id": "ZBOSiTst_0yk",
        "outputId": "a30d42d6-1dc3-4d9b-e7ce-8a8ee1e2e088"
      },
      "execution_count": null,
      "outputs": [
        {
          "output_type": "stream",
          "name": "stdout",
          "text": [
            "Mounted at /content/gdrive\n"
          ]
        }
      ]
    },
    {
      "cell_type": "code",
      "source": [
        "# install the BW package\n",
        "!pip install brightway25"
      ],
      "metadata": {
        "colab": {
          "base_uri": "https://localhost:8080/"
        },
        "id": "0AcCtB6I-Nz9",
        "outputId": "2285b0b1-4cb1-40a5-a8f8-407ee7e02953"
      },
      "execution_count": null,
      "outputs": [
        {
          "output_type": "stream",
          "name": "stdout",
          "text": [
            "Requirement already satisfied: brightway25 in /usr/local/lib/python3.10/dist-packages (1.0.6)\n",
            "Requirement already satisfied: bw2analyzer>=0.11.1 in /usr/local/lib/python3.10/dist-packages (from brightway25) (0.11.8)\n",
            "Requirement already satisfied: bw2calc>=2.0.dev5 in /usr/local/lib/python3.10/dist-packages (from brightway25) (2.0.dev16)\n",
            "Requirement already satisfied: bw2data>=4.0.dev11 in /usr/local/lib/python3.10/dist-packages (from brightway25) (4.0.dev33)\n",
            "Requirement already satisfied: bw2io>=0.9.dev6 in /usr/local/lib/python3.10/dist-packages (from brightway25) (0.9.dev26)\n",
            "Requirement already satisfied: bw2parameters>=0.6.6 in /usr/local/lib/python3.10/dist-packages (from brightway25) (1.1.0)\n",
            "Requirement already satisfied: bw-processing>=0.7.1 in /usr/local/lib/python3.10/dist-packages (from brightway25) (0.9)\n",
            "Requirement already satisfied: matrix-utils>=0.2.2 in /usr/local/lib/python3.10/dist-packages (from brightway25) (0.4.1)\n",
            "Requirement already satisfied: mrio-common-metadata>=0.2 in /usr/local/lib/python3.10/dist-packages (from brightway25) (0.2.1)\n",
            "Requirement already satisfied: bw-migrations>=0.2 in /usr/local/lib/python3.10/dist-packages (from brightway25) (0.2)\n",
            "Requirement already satisfied: numpy>=1.20 in /usr/local/lib/python3.10/dist-packages (from brightway25) (1.23.5)\n",
            "Requirement already satisfied: scipy in /usr/local/lib/python3.10/dist-packages (from brightway25) (1.11.4)\n",
            "Requirement already satisfied: stats-arrays>=0.6.5 in /usr/local/lib/python3.10/dist-packages (from brightway25) (0.6.6)\n",
            "Requirement already satisfied: pandas in /usr/local/lib/python3.10/dist-packages (from bw-migrations>=0.2->brightway25) (1.5.3)\n",
            "Requirement already satisfied: fs in /usr/local/lib/python3.10/dist-packages (from bw-processing>=0.7.1->brightway25) (2.4.16)\n",
            "Requirement already satisfied: matplotlib in /usr/local/lib/python3.10/dist-packages (from bw2analyzer>=0.11.1->brightway25) (3.7.1)\n",
            "Requirement already satisfied: requests in /usr/local/lib/python3.10/dist-packages (from bw2analyzer>=0.11.1->brightway25) (2.31.0)\n",
            "Requirement already satisfied: tabulate in /usr/local/lib/python3.10/dist-packages (from bw2analyzer>=0.11.1->brightway25) (0.9.0)\n",
            "Requirement already satisfied: tqdm in /usr/local/lib/python3.10/dist-packages (from bw2analyzer>=0.11.1->brightway25) (4.66.1)\n",
            "Requirement already satisfied: lxml in /usr/local/lib/python3.10/dist-packages (from bw2data>=4.0.dev11->brightway25) (4.9.4)\n",
            "Requirement already satisfied: peewee>=3.9.4 in /usr/local/lib/python3.10/dist-packages (from bw2data>=4.0.dev11->brightway25) (3.17.0)\n",
            "Requirement already satisfied: platformdirs in /usr/local/lib/python3.10/dist-packages (from bw2data>=4.0.dev11->brightway25) (4.1.0)\n",
            "Requirement already satisfied: voluptuous in /usr/local/lib/python3.10/dist-packages (from bw2data>=4.0.dev11->brightway25) (0.14.1)\n",
            "Requirement already satisfied: whoosh in /usr/local/lib/python3.10/dist-packages (from bw2data>=4.0.dev11->brightway25) (2.7.4)\n",
            "Requirement already satisfied: wrapt in /usr/local/lib/python3.10/dist-packages (from bw2data>=4.0.dev11->brightway25) (1.14.1)\n",
            "Requirement already satisfied: openpyxl in /usr/local/lib/python3.10/dist-packages (from bw2io>=0.9.dev6->brightway25) (3.1.2)\n",
            "Requirement already satisfied: unidecode in /usr/local/lib/python3.10/dist-packages (from bw2io>=0.9.dev6->brightway25) (1.3.8)\n",
            "Requirement already satisfied: xlrd in /usr/local/lib/python3.10/dist-packages (from bw2io>=0.9.dev6->brightway25) (2.0.1)\n",
            "Requirement already satisfied: xlsxwriter in /usr/local/lib/python3.10/dist-packages (from bw2io>=0.9.dev6->brightway25) (3.1.9)\n",
            "Requirement already satisfied: asteval in /usr/local/lib/python3.10/dist-packages (from bw2parameters>=0.6.6->brightway25) (0.9.31)\n",
            "Requirement already satisfied: astunparse in /usr/local/lib/python3.10/dist-packages (from bw2parameters>=0.6.6->brightway25) (1.6.3)\n",
            "Requirement already satisfied: pint in /usr/local/lib/python3.10/dist-packages (from bw2parameters>=0.6.6->brightway25) (0.23)\n",
            "Requirement already satisfied: pyxlsb in /usr/local/lib/python3.10/dist-packages (from mrio-common-metadata>=0.2->brightway25) (1.0.10)\n",
            "Requirement already satisfied: wheel<1.0,>=0.23.0 in /usr/local/lib/python3.10/dist-packages (from astunparse->bw2parameters>=0.6.6->brightway25) (0.42.0)\n",
            "Requirement already satisfied: six<2.0,>=1.6.1 in /usr/local/lib/python3.10/dist-packages (from astunparse->bw2parameters>=0.6.6->brightway25) (1.16.0)\n",
            "Requirement already satisfied: appdirs~=1.4.3 in /usr/local/lib/python3.10/dist-packages (from fs->bw-processing>=0.7.1->brightway25) (1.4.4)\n",
            "Requirement already satisfied: setuptools in /usr/local/lib/python3.10/dist-packages (from fs->bw-processing>=0.7.1->brightway25) (67.7.2)\n",
            "Requirement already satisfied: contourpy>=1.0.1 in /usr/local/lib/python3.10/dist-packages (from matplotlib->bw2analyzer>=0.11.1->brightway25) (1.2.0)\n",
            "Requirement already satisfied: cycler>=0.10 in /usr/local/lib/python3.10/dist-packages (from matplotlib->bw2analyzer>=0.11.1->brightway25) (0.12.1)\n",
            "Requirement already satisfied: fonttools>=4.22.0 in /usr/local/lib/python3.10/dist-packages (from matplotlib->bw2analyzer>=0.11.1->brightway25) (4.47.0)\n",
            "Requirement already satisfied: kiwisolver>=1.0.1 in /usr/local/lib/python3.10/dist-packages (from matplotlib->bw2analyzer>=0.11.1->brightway25) (1.4.5)\n",
            "Requirement already satisfied: packaging>=20.0 in /usr/local/lib/python3.10/dist-packages (from matplotlib->bw2analyzer>=0.11.1->brightway25) (23.2)\n",
            "Requirement already satisfied: pillow>=6.2.0 in /usr/local/lib/python3.10/dist-packages (from matplotlib->bw2analyzer>=0.11.1->brightway25) (9.4.0)\n",
            "Requirement already satisfied: pyparsing>=2.3.1 in /usr/local/lib/python3.10/dist-packages (from matplotlib->bw2analyzer>=0.11.1->brightway25) (3.1.1)\n",
            "Requirement already satisfied: python-dateutil>=2.7 in /usr/local/lib/python3.10/dist-packages (from matplotlib->bw2analyzer>=0.11.1->brightway25) (2.8.2)\n",
            "Requirement already satisfied: et-xmlfile in /usr/local/lib/python3.10/dist-packages (from openpyxl->bw2io>=0.9.dev6->brightway25) (1.1.0)\n",
            "Requirement already satisfied: pytz>=2020.1 in /usr/local/lib/python3.10/dist-packages (from pandas->bw-migrations>=0.2->brightway25) (2023.3.post1)\n",
            "Requirement already satisfied: typing-extensions in /usr/local/lib/python3.10/dist-packages (from pint->bw2parameters>=0.6.6->brightway25) (4.5.0)\n",
            "Requirement already satisfied: charset-normalizer<4,>=2 in /usr/local/lib/python3.10/dist-packages (from requests->bw2analyzer>=0.11.1->brightway25) (3.3.2)\n",
            "Requirement already satisfied: idna<4,>=2.5 in /usr/local/lib/python3.10/dist-packages (from requests->bw2analyzer>=0.11.1->brightway25) (3.6)\n",
            "Requirement already satisfied: urllib3<3,>=1.21.1 in /usr/local/lib/python3.10/dist-packages (from requests->bw2analyzer>=0.11.1->brightway25) (2.0.7)\n",
            "Requirement already satisfied: certifi>=2017.4.17 in /usr/local/lib/python3.10/dist-packages (from requests->bw2analyzer>=0.11.1->brightway25) (2023.11.17)\n"
          ]
        }
      ]
    },
    {
      "cell_type": "markdown",
      "source": [
        "Whenever the CoLab runtime is reset (it can happen unexpectedly, esp. you are away from the screen for a while), we need to run this set-up script again to get the data ready."
      ],
      "metadata": {
        "id": "HJ6Tp81R_2U7"
      }
    },
    {
      "cell_type": "code",
      "source": [
        "# Import BW25 packages. You'll notice the packages are imported individually, unlike a one-and-done import with BW2.\n",
        "import bw2data as bd\n",
        "import bw2io as bi\n",
        "import bw2calc as bc\n",
        "import bw2analyzer as bwa"
      ],
      "metadata": {
        "id": "T4hT3x8X-PU1"
      },
      "execution_count": null,
      "outputs": []
    },
    {
      "cell_type": "markdown",
      "metadata": {
        "id": "Fd2NPDMI8UQL"
      },
      "source": [
        "Let's list the available projects."
      ]
    },
    {
      "cell_type": "code",
      "execution_count": null,
      "metadata": {
        "id": "Jx--jQAz8UQL",
        "outputId": "de0dcd8a-ab95-4c67-e5f4-4b06ae6e5482",
        "colab": {
          "base_uri": "https://localhost:8080/"
        }
      },
      "outputs": [
        {
          "output_type": "execute_result",
          "data": {
            "text/plain": [
              "Brightway2 projects manager with 3 objects:\n",
              "\tbw25-tuto\n",
              "\tdefault\n",
              "\ttest project\n",
              "Use `projects.report()` to get a report on all projects."
            ]
          },
          "metadata": {},
          "execution_count": 20
        }
      ],
      "source": [
        "# If you're just starting out, this should only have \"default\" in it.\n",
        "# Else, you'll see all the previous projects you've worked on.\n",
        "\n",
        "bd.projects"
      ]
    },
    {
      "cell_type": "markdown",
      "metadata": {
        "id": "nQSbROIe8UQM"
      },
      "source": [
        "We can see where our projects are stored using the following command (info that's good to know but not essential to run your LCA)."
      ]
    },
    {
      "cell_type": "code",
      "execution_count": null,
      "metadata": {
        "id": "i27jajLX8UQM",
        "outputId": "b5863ea8-0f8a-40ff-ffc1-ad97466b74b7",
        "colab": {
          "base_uri": "https://localhost:8080/"
        }
      },
      "outputs": [
        {
          "output_type": "execute_result",
          "data": {
            "text/plain": [
              "PosixPath('/root/.local/share/Brightway3/test-project.ecda82b2')"
            ]
          },
          "metadata": {},
          "execution_count": 21
        }
      ],
      "source": [
        "bd.projects.dir"
      ]
    },
    {
      "cell_type": "code",
      "source": [],
      "metadata": {
        "id": "_67wGhtlCg9W"
      },
      "execution_count": null,
      "outputs": []
    },
    {
      "cell_type": "markdown",
      "metadata": {
        "id": "RadawPmq8UQM"
      },
      "source": [
        "#### 1.1.a Creating a new project\n",
        "\n",
        "To create a new project, we need to set it up:"
      ]
    },
    {
      "cell_type": "markdown",
      "metadata": {
        "id": "P7npGqT-8UQN"
      },
      "source": [
        "Confirm that your project has been registered:"
      ]
    },
    {
      "cell_type": "code",
      "execution_count": null,
      "metadata": {
        "id": "HmeRr8qT8UQN",
        "outputId": "beb2814b-2449-4743-ed44-0af0d2d79528",
        "colab": {
          "base_uri": "https://localhost:8080/"
        }
      },
      "outputs": [
        {
          "output_type": "execute_result",
          "data": {
            "text/plain": [
              "Brightway2 projects manager with 3 objects:\n",
              "\tbw25-tuto\n",
              "\tdefault\n",
              "\ttest project\n",
              "Use `projects.report()` to get a report on all projects."
            ]
          },
          "metadata": {},
          "execution_count": 22
        }
      ],
      "source": [
        "bd.projects"
      ]
    },
    {
      "cell_type": "markdown",
      "metadata": {
        "id": "ZV1V64zt8UQN"
      },
      "source": [
        "#### 1.1.b Use an existing project\n",
        "\n",
        "The code here is commented out to avoid any confusion with those starting a new project. If you already have a project, then uncomment this code and run the cell below."
      ]
    },
    {
      "cell_type": "code",
      "execution_count": null,
      "metadata": {
        "id": "xBTNqnfm8UQM"
      },
      "outputs": [],
      "source": [
        "# You need to set a project. Give it a name!\n",
        "name = \"bw25-tuto\"\n",
        "bd.projects.set_current(name)"
      ]
    },
    {
      "cell_type": "code",
      "execution_count": null,
      "metadata": {
        "id": "gFAjsH9h8UQN"
      },
      "outputs": [],
      "source": [
        "# Your name variable should be the name of the project.\n",
        "\n",
        "name = \"test project\"\n",
        "bd.projects.set_current(name)"
      ]
    },
    {
      "cell_type": "code",
      "source": [
        "bi.add_example_database(searchable=False)"
      ],
      "metadata": {
        "colab": {
          "base_uri": "https://localhost:8080/"
        },
        "id": "rB4dXBznJZvP",
        "outputId": "771deeea-3154-4ee6-a5fc-e416ebc6774e"
      },
      "execution_count": null,
      "outputs": [
        {
          "output_type": "stream",
          "name": "stderr",
          "text": [
            "/usr/local/lib/python3.10/dist-packages/openpyxl/worksheet/_reader.py:329: UserWarning: Unknown extension is not supported and will be removed\n",
            "  warn(msg)\n"
          ]
        },
        {
          "output_type": "stream",
          "name": "stdout",
          "text": [
            "Extracted 4 worksheets in 0.07 seconds\n",
            "Applying strategy: csv_restore_tuples\n",
            "Applying strategy: csv_restore_booleans\n",
            "Applying strategy: csv_numerize\n",
            "Applying strategy: csv_drop_unknown\n",
            "Applying strategy: csv_add_missing_exchanges_section\n",
            "Applying strategy: strip_biosphere_exc_locations\n",
            "Applying strategy: set_code_by_activity_hash\n",
            "Applying strategy: assign_only_product_as_production\n",
            "Applying strategy: drop_falsey_uncertainty_fields_but_keep_zeros\n",
            "Applying strategy: convert_uncertainty_types_to_integers\n",
            "Applying strategy: convert_activity_parameters_to_list\n",
            "Applied 11 strategies in 0.01 seconds\n",
            "Applying strategy: link_iterable_by_fields\n",
            "Not able to determine geocollections for all datasets. This database is not ready for regionalization.\n"
          ]
        },
        {
          "output_type": "stream",
          "name": "stderr",
          "text": [
            "100%|██████████| 9/9 [00:00<00:00, 23031.57it/s]\n"
          ]
        },
        {
          "output_type": "stream",
          "name": "stdout",
          "text": [
            "Vacuuming database \n",
            "Created database: Mobility example\n"
          ]
        }
      ]
    },
    {
      "cell_type": "code",
      "source": [
        "We can now do normal Brightway operations in the Browser:"
      ],
      "metadata": {
        "id": "hY4jNY4TKGCw"
      },
      "execution_count": null,
      "outputs": []
    },
    {
      "cell_type": "code",
      "source": [
        "bd.databases"
      ],
      "metadata": {
        "colab": {
          "base_uri": "https://localhost:8080/"
        },
        "id": "DfbnuqFgKIrQ",
        "outputId": "ad3ce0f7-85df-43d0-83b4-d091f7a3cade"
      },
      "execution_count": null,
      "outputs": [
        {
          "output_type": "execute_result",
          "data": {
            "text/plain": [
              "Databases dictionary with 3 object(s):\n",
              "\t3D\n",
              "\tMobility example\n",
              "\tbiosphere3"
            ]
          },
          "metadata": {},
          "execution_count": 42
        }
      ]
    },
    {
      "cell_type": "code",
      "source": [
        "for obj in bd.Database(\"Mobility example\"):\n",
        "    print(obj)"
      ],
      "metadata": {
        "colab": {
          "base_uri": "https://localhost:8080/"
        },
        "id": "Jh4dpsTAKWa1",
        "outputId": "5b65fed7-76f8-4edc-ed39-a3c040590453"
      },
      "execution_count": null,
      "outputs": [
        {
          "output_type": "stream",
          "name": "stdout",
          "text": [
            "'CO2' (kilogram, None, None)\n",
            "'Electric car' (unit, GLO, ('Electric car',))\n",
            "'Steel' (kilogram, GLO, None)\n",
            "'Lithium' (kilogram, GLO, None)\n",
            "'Driving an electric car' (kilometer, Europe, None)\n",
            "'Combustion car' (unit, GLO, ('Combustion car',))\n",
            "'Electric car battery' (unit, GLO, ('Electric car battery',))\n",
            "'Electricity' (kilowatt hour, GLO, None)\n",
            "'Driving an combustion car' (kilometer, Europe, None)\n"
          ]
        }
      ]
    },
    {
      "cell_type": "code",
      "source": [
        "co2 = bd.get_node(name=\"CO2\")"
      ],
      "metadata": {
        "id": "BPdGOGX8KOtM"
      },
      "execution_count": null,
      "outputs": []
    },
    {
      "cell_type": "code",
      "source": [
        "gwp = bd.Method((\"GWP\", \"simple\"))\n",
        "gwp.write([(co2.key, 1)])"
      ],
      "metadata": {
        "id": "IKQm1709KdtN"
      },
      "execution_count": null,
      "outputs": []
    },
    {
      "cell_type": "code",
      "source": [
        "print(gwp)"
      ],
      "metadata": {
        "colab": {
          "base_uri": "https://localhost:8080/"
        },
        "id": "7S1xLBfWKibc",
        "outputId": "43fd10f4-3551-4b65-99b2-24039863fb57"
      },
      "execution_count": null,
      "outputs": [
        {
          "output_type": "stream",
          "name": "stdout",
          "text": [
            "Brightway2 Method: GWP: simple\n"
          ]
        }
      ]
    },
    {
      "cell_type": "code",
      "source": [
        "lca = bc.LCA({bd.get_node(name=\"Electric car\"):1}, method=(\"GWP\", \"simple\"))"
      ],
      "metadata": {
        "id": "ea8nWXd7KxiL"
      },
      "execution_count": null,
      "outputs": []
    },
    {
      "cell_type": "code",
      "source": [
        "lca.lci()\n",
        "lca.lcia()\n",
        "lca.score"
      ],
      "metadata": {
        "colab": {
          "base_uri": "https://localhost:8080/"
        },
        "id": "2Qmlf01gKvmg",
        "outputId": "3c13f0a8-f0fe-4b52-872e-b5a36a882a05"
      },
      "execution_count": null,
      "outputs": [
        {
          "output_type": "execute_result",
          "data": {
            "text/plain": [
              "4096.320047855377"
            ]
          },
          "metadata": {},
          "execution_count": 51
        }
      ]
    },
    {
      "cell_type": "markdown",
      "metadata": {
        "id": "yCB028sY8UQN"
      },
      "source": [
        "You **must** execute the bd.projects.set_current() command **_before_** importing the biosphere flows (or progressing further for that matter)!"
      ]
    },
    {
      "cell_type": "markdown",
      "metadata": {
        "id": "oXTrID-Q8UQN"
      },
      "source": [
        "<a id='section2'></a>\n",
        "# 2. Database import/setup"
      ]
    },
    {
      "cell_type": "code",
      "source": [],
      "metadata": {
        "id": "mGIBjc1-_-2Q"
      },
      "execution_count": null,
      "outputs": []
    },
    {
      "cell_type": "markdown",
      "metadata": {
        "id": "CCVkD-7O8UQO"
      },
      "source": [
        "<a id='section21'></a>\n",
        "## 2.1 Importing biosphere flows\n",
        "\n",
        "We will now add our first database to the project. Let's see what databases we have:"
      ]
    },
    {
      "cell_type": "code",
      "execution_count": null,
      "metadata": {
        "tags": [],
        "id": "edeo46wa8UQO",
        "outputId": "674aa940-a6b6-4418-826d-f9bc9ce46b17",
        "colab": {
          "base_uri": "https://localhost:8080/"
        }
      },
      "outputs": [
        {
          "output_type": "execute_result",
          "data": {
            "text/plain": [
              "Databases dictionary with 1 object(s):\n",
              "\tbiosphere3"
            ]
          },
          "metadata": {},
          "execution_count": 26
        }
      ],
      "source": [
        "# If this is your first time using this BW25 project, this should be an empty dictionary!\n",
        "bd.databases"
      ]
    },
    {
      "cell_type": "markdown",
      "metadata": {
        "id": "L3XNzSE88UQO"
      },
      "source": [
        "We will now import the biosphere matrix to our project."
      ]
    },
    {
      "cell_type": "code",
      "execution_count": 57,
      "metadata": {
        "id": "luMk9gOZ8UQO",
        "outputId": "e8e88727-b917-4ef5-a84f-ff5a031c70fc",
        "colab": {
          "base_uri": "https://localhost:8080/"
        }
      },
      "outputs": [
        {
          "output_type": "stream",
          "name": "stdout",
          "text": [
            "Biosphere database already present!!! No setup is needed\n"
          ]
        }
      ],
      "source": [
        "# If this is the first time you've set up the project, you need to install the biosphere flows.\n",
        "# You do not need to run this subsequent times.\n",
        "\n",
        "bi.bw2setup() ## THIS YIELDS AN ERROR AT THE MOMENT"
      ]
    },
    {
      "cell_type": "markdown",
      "metadata": {
        "id": "mO47sm6e8UQO"
      },
      "source": [
        "<a id='section22'></a>\n",
        "## 2.2. Importing a backend database"
      ]
    },
    {
      "cell_type": "markdown",
      "metadata": {
        "id": "eK6k08uG8UQP"
      },
      "source": [
        "<a id='section22a'></a>\n",
        "### 2.2.a Importing ecoinvent\n",
        "\n",
        "LCA draws on a lot of background data. Those can be found in numerous databases, for instance ecoinvent. We can check which databases are available in the current project with the following command:"
      ]
    },
    {
      "cell_type": "code",
      "execution_count": 56,
      "metadata": {
        "id": "MJB_B3Hv8UQP",
        "outputId": "7399a0f4-6888-4f86-879f-d22599a2404a",
        "colab": {
          "base_uri": "https://localhost:8080/"
        }
      },
      "outputs": [
        {
          "output_type": "execute_result",
          "data": {
            "text/plain": [
              "Databases dictionary with 3 object(s):\n",
              "\t3D\n",
              "\tMobility example\n",
              "\tbiosphere3"
            ]
          },
          "metadata": {},
          "execution_count": 56
        }
      ],
      "source": [
        "# List the available databases.\n",
        "# It is important that now you see the biosphere database!\n",
        "bd.databases"
      ]
    },
    {
      "cell_type": "markdown",
      "metadata": {
        "id": "Xexnou678UQP"
      },
      "source": [
        "If the list does not yet include the database we want, we can import it.\n",
        "<br><br>As an example, we first import the ecoinvent cut-off database and check on some of the import's statistics. You'll need to have the path to your ecoinvent database and a name that you'll use for it. The EI database will need to be **unzipped** and the the path should end at the **datasets** folder."
      ]
    },
    {
      "cell_type": "markdown",
      "metadata": {
        "id": "-dlUyjl68UQQ"
      },
      "source": [
        "Check the database is now in your project."
      ]
    },
    {
      "cell_type": "code",
      "execution_count": 58,
      "metadata": {
        "id": "hCnfppG88UQQ",
        "outputId": "1ef87fb0-5637-41bb-de85-776c90d6a726",
        "colab": {
          "base_uri": "https://localhost:8080/"
        }
      },
      "outputs": [
        {
          "output_type": "execute_result",
          "data": {
            "text/plain": [
              "Databases dictionary with 3 object(s):\n",
              "\t3D\n",
              "\tMobility example\n",
              "\tbiosphere3"
            ]
          },
          "metadata": {},
          "execution_count": 58
        }
      ],
      "source": [
        "bd.databases"
      ]
    },
    {
      "cell_type": "markdown",
      "metadata": {
        "id": "4YREQhEH8UQQ"
      },
      "source": [
        "For some background:\n",
        "\n",
        "The function apply_strategies() will convert the database format to something compatible with the BW25 architecture.\n",
        "\n",
        "The function statistics() will give you some details on your dataset.\n",
        "\n",
        "We will then need to write the database to disk, using the write_database() function."
      ]
    },
    {
      "cell_type": "markdown",
      "metadata": {
        "id": "p7Q-CfUK8UQQ"
      },
      "source": [
        "In some cases, you may encounter and issue with unlinked exchanges. If you have this issue, run the cell below and then re-run the cell that imports, applies strategies, and writes the database."
      ]
    },
    {
      "cell_type": "markdown",
      "metadata": {
        "id": "KfB9EWKf8UQQ"
      },
      "source": [
        "In some cases, we may get an error related to \"unlinked exchanges\". This is because there are some biosphere flows used in ecoinvent that do not exist in the BW25 biosphere3 database (and, consequently, in our LCIA methods). The best we can do is to import these unlinked flows into another biosphere database. If these flows are important to you, you should do further matching or modify the relevant LCIA methods to include them."
      ]
    },
    {
      "cell_type": "markdown",
      "metadata": {
        "id": "cFasvIu18UQR"
      },
      "source": [
        "<a id='section22'></a>\n",
        "## 2.3 Database selection and a first look at activities\n",
        "\n",
        "If our database of choice is already included, then we just make use of it directly. For convenience, we need to assign a variable to it so that the database can be worked with more easily."
      ]
    },
    {
      "cell_type": "code",
      "execution_count": 61,
      "metadata": {
        "id": "LQOpaJYd8UQR"
      },
      "outputs": [],
      "source": [
        "bio3db = bd.Database(\"biosphere3\")"
      ]
    },
    {
      "cell_type": "markdown",
      "metadata": {
        "id": "Q2-nhR558UQR"
      },
      "source": [
        "We can also check up on the type and length of our imported database."
      ]
    },
    {
      "cell_type": "code",
      "execution_count": 62,
      "metadata": {
        "id": "kQ_LAuHk8UQR",
        "outputId": "9de831e3-766c-48a9-d9b4-c09c9ac198d2",
        "colab": {
          "base_uri": "https://localhost:8080/"
        }
      },
      "outputs": [
        {
          "output_type": "stream",
          "name": "stdout",
          "text": [
            "The imported database is of type <class 'bw2data.backends.base.SQLiteBackend'> and has a length of 4709.\n"
          ]
        }
      ],
      "source": [
        "print(\"The imported database is of type {} and has a length of {}.\".format(type(bio3db), len(bio3db)))"
      ]
    },
    {
      "cell_type": "markdown",
      "metadata": {
        "id": "iEJmuIH38UQS"
      },
      "source": [
        "And we can even visualise our technospheres:"
      ]
    },
    {
      "cell_type": "code",
      "execution_count": 64,
      "metadata": {
        "scrolled": true,
        "id": "2UFbShpT8UQS",
        "outputId": "5ddd4356-6d41-415c-b04a-0905723df454",
        "colab": {
          "base_uri": "https://localhost:8080/",
          "height": 334
        }
      },
      "outputs": [
        {
          "output_type": "error",
          "ename": "EmptyArray",
          "evalue": "Empty array can't be used to map values",
          "traceback": [
            "\u001b[0;31m---------------------------------------------------------------------------\u001b[0m",
            "\u001b[0;31mEmptyArray\u001b[0m                                Traceback (most recent call last)",
            "\u001b[0;32m<ipython-input-64-bba9f5e55beb>\u001b[0m in \u001b[0;36m<cell line: 2>\u001b[0;34m()\u001b[0m\n\u001b[1;32m      1\u001b[0m \u001b[0;31m# Be patient, this can take a couple seconds ;)\u001b[0m\u001b[0;34m\u001b[0m\u001b[0;34m\u001b[0m\u001b[0m\n\u001b[0;32m----> 2\u001b[0;31m \u001b[0mbio3db\u001b[0m\u001b[0;34m.\u001b[0m\u001b[0mgraph_technosphere\u001b[0m\u001b[0;34m(\u001b[0m\u001b[0;34m)\u001b[0m\u001b[0;34m\u001b[0m\u001b[0;34m\u001b[0m\u001b[0m\n\u001b[0m",
            "\u001b[0;32m/usr/local/lib/python3.10/dist-packages/bw2data/backends/base.py\u001b[0m in \u001b[0;36mgraph_technosphere\u001b[0;34m(self, filename, **kwargs)\u001b[0m\n\u001b[1;32m    900\u001b[0m \u001b[0;34m\u001b[0m\u001b[0m\n\u001b[1;32m    901\u001b[0m         \u001b[0mlca\u001b[0m \u001b[0;34m=\u001b[0m \u001b[0mLCA\u001b[0m\u001b[0;34m(\u001b[0m\u001b[0;34m{\u001b[0m\u001b[0mself\u001b[0m\u001b[0;34m.\u001b[0m\u001b[0mrandom\u001b[0m\u001b[0;34m(\u001b[0m\u001b[0;34m)\u001b[0m\u001b[0;34m:\u001b[0m \u001b[0;36m1\u001b[0m\u001b[0;34m}\u001b[0m\u001b[0;34m)\u001b[0m\u001b[0;34m\u001b[0m\u001b[0;34m\u001b[0m\u001b[0m\n\u001b[0;32m--> 902\u001b[0;31m         \u001b[0mlca\u001b[0m\u001b[0;34m.\u001b[0m\u001b[0mlci\u001b[0m\u001b[0;34m(\u001b[0m\u001b[0;34m)\u001b[0m\u001b[0;34m\u001b[0m\u001b[0;34m\u001b[0m\u001b[0m\n\u001b[0m\u001b[1;32m    903\u001b[0m \u001b[0;34m\u001b[0m\u001b[0m\n\u001b[1;32m    904\u001b[0m         \u001b[0msmg\u001b[0m \u001b[0;34m=\u001b[0m \u001b[0mSparseMatrixGrapher\u001b[0m\u001b[0;34m(\u001b[0m\u001b[0mlca\u001b[0m\u001b[0;34m.\u001b[0m\u001b[0mtechnosphere_matrix\u001b[0m\u001b[0;34m)\u001b[0m\u001b[0;34m\u001b[0m\u001b[0;34m\u001b[0m\u001b[0m\n",
            "\u001b[0;32m/usr/local/lib/python3.10/dist-packages/bw2calc/lca.py\u001b[0m in \u001b[0;36mlci\u001b[0;34m(self, demand, factorize)\u001b[0m\n\u001b[1;32m    398\u001b[0m         \"\"\"\n\u001b[1;32m    399\u001b[0m         \u001b[0;32mif\u001b[0m \u001b[0;32mnot\u001b[0m \u001b[0mhasattr\u001b[0m\u001b[0;34m(\u001b[0m\u001b[0mself\u001b[0m\u001b[0;34m,\u001b[0m \u001b[0;34m\"technosphere_matrix\"\u001b[0m\u001b[0;34m)\u001b[0m\u001b[0;34m:\u001b[0m\u001b[0;34m\u001b[0m\u001b[0;34m\u001b[0m\u001b[0m\n\u001b[0;32m--> 400\u001b[0;31m             \u001b[0mself\u001b[0m\u001b[0;34m.\u001b[0m\u001b[0mload_lci_data\u001b[0m\u001b[0;34m(\u001b[0m\u001b[0;34m)\u001b[0m\u001b[0;34m\u001b[0m\u001b[0;34m\u001b[0m\u001b[0m\n\u001b[0m\u001b[1;32m    401\u001b[0m         \u001b[0;32mif\u001b[0m \u001b[0mdemand\u001b[0m \u001b[0;32mis\u001b[0m \u001b[0;32mnot\u001b[0m \u001b[0;32mNone\u001b[0m\u001b[0;34m:\u001b[0m\u001b[0;34m\u001b[0m\u001b[0;34m\u001b[0m\u001b[0m\n\u001b[1;32m    402\u001b[0m             \u001b[0mself\u001b[0m\u001b[0;34m.\u001b[0m\u001b[0m__check_demand\u001b[0m\u001b[0;34m(\u001b[0m\u001b[0mdemand\u001b[0m\u001b[0;34m)\u001b[0m\u001b[0;34m\u001b[0m\u001b[0;34m\u001b[0m\u001b[0m\n",
            "\u001b[0;32m/usr/local/lib/python3.10/dist-packages/bw2calc/lca.py\u001b[0m in \u001b[0;36mload_lci_data\u001b[0;34m(self, nonsquare_ok)\u001b[0m\n\u001b[1;32m    216\u001b[0m         \u001b[0muse_arrays\u001b[0m\u001b[0;34m,\u001b[0m \u001b[0muse_distributions\u001b[0m \u001b[0;34m=\u001b[0m \u001b[0mself\u001b[0m\u001b[0;34m.\u001b[0m\u001b[0mcheck_selective_use\u001b[0m\u001b[0;34m(\u001b[0m\u001b[0;34m\"technosphere_matrix\"\u001b[0m\u001b[0;34m)\u001b[0m\u001b[0;34m\u001b[0m\u001b[0;34m\u001b[0m\u001b[0m\n\u001b[1;32m    217\u001b[0m \u001b[0;34m\u001b[0m\u001b[0m\n\u001b[0;32m--> 218\u001b[0;31m         self.technosphere_mm = mu.MappedMatrix(\n\u001b[0m\u001b[1;32m    219\u001b[0m             \u001b[0mpackages\u001b[0m\u001b[0;34m=\u001b[0m\u001b[0mself\u001b[0m\u001b[0;34m.\u001b[0m\u001b[0mpackages\u001b[0m\u001b[0;34m,\u001b[0m\u001b[0;34m\u001b[0m\u001b[0;34m\u001b[0m\u001b[0m\n\u001b[1;32m    220\u001b[0m             \u001b[0mmatrix\u001b[0m\u001b[0;34m=\u001b[0m\u001b[0;34m\"technosphere_matrix\"\u001b[0m\u001b[0;34m,\u001b[0m\u001b[0;34m\u001b[0m\u001b[0;34m\u001b[0m\u001b[0m\n",
            "\u001b[0;32m/usr/local/lib/python3.10/dist-packages/matrix_utils/mapped_matrix.py\u001b[0m in \u001b[0;36m__init__\u001b[0;34m(self, packages, matrix, use_vectors, use_arrays, use_distributions, row_mapper, col_mapper, seed_override, indexer_override, diagonal, transpose, custom_filter, empty_ok)\u001b[0m\n\u001b[1;32m    110\u001b[0m         \u001b[0mself\u001b[0m\u001b[0;34m.\u001b[0m\u001b[0madd_indexers\u001b[0m\u001b[0;34m(\u001b[0m\u001b[0mindexer_override\u001b[0m\u001b[0;34m,\u001b[0m \u001b[0mseed_override\u001b[0m\u001b[0;34m)\u001b[0m\u001b[0;34m\u001b[0m\u001b[0;34m\u001b[0m\u001b[0m\n\u001b[1;32m    111\u001b[0m \u001b[0;34m\u001b[0m\u001b[0m\n\u001b[0;32m--> 112\u001b[0;31m         self.row_mapper = row_mapper or ArrayMapper(\n\u001b[0m\u001b[1;32m    113\u001b[0m             array=safe_concatenate_indices(\n\u001b[1;32m    114\u001b[0m                 \u001b[0;34m[\u001b[0m\u001b[0mobj\u001b[0m\u001b[0;34m.\u001b[0m\u001b[0munique_row_indices_for_mapping\u001b[0m\u001b[0;34m(\u001b[0m\u001b[0;34m)\u001b[0m \u001b[0;32mfor\u001b[0m \u001b[0mobj\u001b[0m \u001b[0;32min\u001b[0m \u001b[0mself\u001b[0m\u001b[0;34m.\u001b[0m\u001b[0mgroups\u001b[0m\u001b[0;34m]\u001b[0m\u001b[0;34m,\u001b[0m \u001b[0mempty_ok\u001b[0m\u001b[0;34m\u001b[0m\u001b[0;34m\u001b[0m\u001b[0m\n",
            "\u001b[0;32m/usr/local/lib/python3.10/dist-packages/matrix_utils/array_mapper.py\u001b[0m in \u001b[0;36m__init__\u001b[0;34m(self, array, sparse_cutoff, empty_ok)\u001b[0m\n\u001b[1;32m     43\u001b[0m                 \u001b[0mself\u001b[0m\u001b[0;34m.\u001b[0m\u001b[0mmax_value\u001b[0m \u001b[0;34m=\u001b[0m \u001b[0;36m0\u001b[0m\u001b[0;34m\u001b[0m\u001b[0;34m\u001b[0m\u001b[0m\n\u001b[1;32m     44\u001b[0m             \u001b[0;32melse\u001b[0m\u001b[0;34m:\u001b[0m\u001b[0;34m\u001b[0m\u001b[0;34m\u001b[0m\u001b[0m\n\u001b[0;32m---> 45\u001b[0;31m                 \u001b[0;32mraise\u001b[0m \u001b[0mEmptyArray\u001b[0m\u001b[0;34m(\u001b[0m\u001b[0;34m\"Empty array can't be used to map values\"\u001b[0m\u001b[0;34m)\u001b[0m\u001b[0;34m\u001b[0m\u001b[0;34m\u001b[0m\u001b[0m\n\u001b[0m\u001b[1;32m     46\u001b[0m         \u001b[0;32melse\u001b[0m\u001b[0;34m:\u001b[0m\u001b[0;34m\u001b[0m\u001b[0;34m\u001b[0m\u001b[0m\n\u001b[1;32m     47\u001b[0m             \u001b[0mself\u001b[0m\u001b[0;34m.\u001b[0m\u001b[0mmax_value\u001b[0m \u001b[0;34m=\u001b[0m \u001b[0mint\u001b[0m\u001b[0;34m(\u001b[0m\u001b[0mself\u001b[0m\u001b[0;34m.\u001b[0m\u001b[0marray\u001b[0m\u001b[0;34m.\u001b[0m\u001b[0mmax\u001b[0m\u001b[0;34m(\u001b[0m\u001b[0;34m)\u001b[0m\u001b[0;34m)\u001b[0m\u001b[0;34m\u001b[0m\u001b[0;34m\u001b[0m\u001b[0m\n",
            "\u001b[0;31mEmptyArray\u001b[0m: Empty array can't be used to map values"
          ]
        }
      ],
      "source": [
        "# Be patient, this can take a couple seconds ;)\n",
        "bio3db.graph_technosphere()"
      ]
    },
    {
      "cell_type": "markdown",
      "metadata": {
        "id": "eVYLue5e8UQS"
      },
      "source": [
        "Nice graphic! But it doesn't really tell us much... Let's have a bit of a closer look at what our database contains. We can, for instance, examine a random process of the imported ecoinvent database by doing the following:"
      ]
    },
    {
      "cell_type": "code",
      "execution_count": null,
      "metadata": {
        "id": "BdTykvi58UQS",
        "outputId": "fd3c206e-400b-4747-d492-e38bf155805f"
      },
      "outputs": [
        {
          "data": {
            "text/plain": [
              "{'comment': \"This is a market activity. Each market represents the consumption mix of a product in a given geography, connecting suppliers with consumers of the same product in the same geographical area. Markets group the producers and also the imports of the product (if relevant) within the same geographical area. They also account for transport to the consumer and for the losses during that process, when relevant.\\nThis dataset describes the electricity available on the high voltage level in China Southern Power Grid. This is done by showing the transmission of 1kWh electricity at high voltage.\\nTechnology:  Average technology used to transmit and distribute electricity. Includes underground and overhead lines, as well as air-, vacuum- and SF6-insulated high-to-medium voltage switching stations. Electricity production according to related technology datasets.\\nTime period:  The 'Start of Period' and 'End of Period' do not refer to the year for which this market is valid. See general comment for the year for which the shares are based on.\",\n",
              " 'classifications': [('ISIC rev.4 ecoinvent',\n",
              "   '3510:Electric power generation, transmission and distribution'),\n",
              "  ('EcoSpold01Categories', 'photovoltaic/power plants'),\n",
              "  ('CPC', '17100: Electrical energy')],\n",
              " 'activity type': 'market activity',\n",
              " 'activity': 'b4ce482f-1f40-5b5c-a301-a74e5703578b',\n",
              " 'database': 'ecoinvent-391-cutoff',\n",
              " 'filename': 'b4ce482f-1f40-5b5c-a301-a74e5703578b_d69294d7-8d64-4915-a896-9996a014c410.spold',\n",
              " 'location': 'CN-CSG',\n",
              " 'name': 'market for electricity, low voltage',\n",
              " 'synonyms': [],\n",
              " 'parameters': [],\n",
              " 'authors': {'data entry': {'name': 'Karin Treyer',\n",
              "   'email': 'karin.treyer@psi.ch'},\n",
              "  'data generator': {'name': 'Karin Treyer', 'email': 'karin.treyer@psi.ch'}},\n",
              " 'type': 'process',\n",
              " 'reference product': 'electricity, low voltage',\n",
              " 'flow': 'd69294d7-8d64-4915-a896-9996a014c410',\n",
              " 'unit': 'kilowatt hour',\n",
              " 'production amount': 1.0,\n",
              " 'code': 'b9e29bfda0ef60749e76d170f3a2bcbb',\n",
              " 'id': 19998}"
            ]
          },
          "execution_count": 37,
          "metadata": {},
          "output_type": "execute_result"
        }
      ],
      "source": [
        "random_act = eidb.random()\n",
        "random_act.as_dict()"
      ]
    },
    {
      "cell_type": "markdown",
      "metadata": {
        "id": "BOPX8oTY8UQT"
      },
      "source": [
        "To get an overview of all exchanges of the selected process, type:"
      ]
    },
    {
      "cell_type": "code",
      "execution_count": null,
      "metadata": {
        "id": "rSh4W9GC8UQT",
        "outputId": "edb1da66-7c3f-4924-8ddd-78c977b13c39"
      },
      "outputs": [
        {
          "name": "stdout",
          "output_type": "stream",
          "text": [
            "Exchange: 1.0 kilowatt hour 'market for electricity, low voltage' (kilowatt hour, CN-CSG, None) to 'market for electricity, low voltage' (kilowatt hour, CN-CSG, None)>\n",
            "Exchange: 8.74048809653223e-08 kilometer 'market for distribution network, electricity, low voltage' (kilometer, GLO, None) to 'market for electricity, low voltage' (kilowatt hour, CN-CSG, None)>\n",
            "Exchange: 0.002526569039557459 kilowatt hour 'electricity production, photovoltaic, 570kWp open ground installation, multi-Si' (kilowatt hour, CN-YN, None) to 'market for electricity, low voltage' (kilowatt hour, CN-CSG, None)>\n",
            "Exchange: 0.0002143684433536061 kilowatt hour 'electricity production, photovoltaic, 3kWp slanted-roof installation, multi-Si, panel, mounted' (kilowatt hour, CN-GX, None) to 'market for electricity, low voltage' (kilowatt hour, CN-CSG, None)>\n",
            "Exchange: 0.0006992795537960195 kilowatt hour 'electricity production, photovoltaic, 3kWp slanted-roof installation, multi-Si, panel, mounted' (kilowatt hour, CN-GD, None) to 'market for electricity, low voltage' (kilowatt hour, CN-CSG, None)>\n",
            "Exchange: 0.9858011741163558 kilowatt hour 'electricity voltage transformation from medium to low voltage' (kilowatt hour, CN-CSG, None) to 'market for electricity, low voltage' (kilowatt hour, CN-CSG, None)>\n",
            "Exchange: 0.0005626589493276578 kilowatt hour 'electricity production, photovoltaic, 3kWp slanted-roof installation, single-Si, panel, mounted' (kilowatt hour, CN-YN, None) to 'market for electricity, low voltage' (kilowatt hour, CN-CSG, None)>\n",
            "Exchange: 0.00252140216364629 kilowatt hour 'electricity production, photovoltaic, 570kWp open ground installation, multi-Si' (kilowatt hour, CN-GD, None) to 'market for electricity, low voltage' (kilowatt hour, CN-CSG, None)>\n",
            "Exchange: 0.0003503740925849345 kilowatt hour 'electricity production, photovoltaic, 570kWp open ground installation, multi-Si' (kilowatt hour, CN-HA, None) to 'market for electricity, low voltage' (kilowatt hour, CN-CSG, None)>\n",
            "Exchange: 0.0007729513239092022 kilowatt hour 'electricity production, photovoltaic, 570kWp open ground installation, multi-Si' (kilowatt hour, CN-GX, None) to 'market for electricity, low voltage' (kilowatt hour, CN-CSG, None)>\n",
            "Exchange: 0.0001721338198097884 kilowatt hour 'electricity production, photovoltaic, 3kWp slanted-roof installation, single-Si, panel, mounted' (kilowatt hour, CN-GX, None) to 'market for electricity, low voltage' (kilowatt hour, CN-CSG, None)>\n",
            "Exchange: 0.000913652612186081 kilowatt hour 'electricity production, photovoltaic, 3kWp slanted-roof installation, multi-Si, panel, mounted' (kilowatt hour, CN-GZ, None) to 'market for electricity, low voltage' (kilowatt hour, CN-CSG, None)>\n",
            "Exchange: 0.00073364582796993 kilowatt hour 'electricity production, photovoltaic, 3kWp slanted-roof installation, single-Si, panel, mounted' (kilowatt hour, CN-GZ, None) to 'market for electricity, low voltage' (kilowatt hour, CN-CSG, None)>\n",
            "Exchange: 0.003294370128057621 kilowatt hour 'electricity production, photovoltaic, 570kWp open ground installation, multi-Si' (kilowatt hour, CN-GZ, None) to 'market for electricity, low voltage' (kilowatt hour, CN-CSG, None)>\n",
            "Exchange: 0.0005615083023728475 kilowatt hour 'electricity production, photovoltaic, 3kWp slanted-roof installation, single-Si, panel, mounted' (kilowatt hour, CN-GD, None) to 'market for electricity, low voltage' (kilowatt hour, CN-CSG, None)>\n",
            "Exchange: 9.717190008679985e-05 kilowatt hour 'electricity production, photovoltaic, 3kWp slanted-roof installation, multi-Si, panel, mounted' (kilowatt hour, CN-HA, None) to 'market for electricity, low voltage' (kilowatt hour, CN-CSG, None)>\n",
            "Exchange: 0.02184220753983677 kilowatt hour 'market for electricity, low voltage' (kilowatt hour, CN-CSG, None) to 'market for electricity, low voltage' (kilowatt hour, CN-CSG, None)>\n",
            "Exchange: 7.80272043703983e-05 kilowatt hour 'electricity production, photovoltaic, 3kWp slanted-roof installation, single-Si, panel, mounted' (kilowatt hour, CN-HA, None) to 'market for electricity, low voltage' (kilowatt hour, CN-CSG, None)>\n",
            "Exchange: 0.000700712522615423 kilowatt hour 'electricity production, photovoltaic, 3kWp slanted-roof installation, multi-Si, panel, mounted' (kilowatt hour, CN-YN, None) to 'market for electricity, low voltage' (kilowatt hour, CN-CSG, None)>\n",
            "Exchange: 9.09e-09 kilogram 'market for sulfur hexafluoride, liquid' (kilogram, RoW, None) to 'market for electricity, low voltage' (kilowatt hour, CN-CSG, None)>\n",
            "Exchange: 9.09e-09 kg 'Sulfur hexafluoride' (kg, None, None) to 'market for electricity, low voltage' (kilowatt hour, CN-CSG, None)>\n"
          ]
        }
      ],
      "source": [
        "for exc in random_act.exchanges():\n",
        "    print(exc)"
      ]
    },
    {
      "cell_type": "markdown",
      "metadata": {
        "id": "KuEnpi8M8UQT"
      },
      "source": [
        "And if you want to get more information on one specific exchange of the chosen process, do:"
      ]
    },
    {
      "cell_type": "code",
      "execution_count": null,
      "metadata": {
        "id": "8v_tZxuz8UQT",
        "outputId": "3803bfa1-7e33-4d1e-9280-1a3a3ef65a83"
      },
      "outputs": [
        {
          "data": {
            "text/plain": [
              "{'flow': 'd69294d7-8d64-4915-a896-9996a014c410',\n",
              " 'type': 'production',\n",
              " 'name': 'electricity, low voltage',\n",
              " 'classifications': {'CPC': ['17100: Electrical energy']},\n",
              " 'production volume': 772610481477.1199,\n",
              " 'properties': {'carbon allocation': {'amount': 0.0, 'unit': 'kg'},\n",
              "  'carbon content': {'amount': 0.0, 'unit': 'dimensionless'},\n",
              "  'price': {'amount': 0.107,\n",
              "   'comment': 'Temporary price data. Calculated as 90% of purchasers price based on: IEA Key world energy statistics 2004 (www.iea.org/textbase/nppdf/free/2004/keyworld2004.pdf)',\n",
              "   'unit': 'EUR2005'}},\n",
              " 'activity': 'b4ce482f-1f40-5b5c-a301-a74e5703578b',\n",
              " 'unit': 'kilowatt hour',\n",
              " 'amount': 1.0,\n",
              " 'uncertainty type': 0,\n",
              " 'loc': 1.0,\n",
              " 'input': ('ecoinvent-391-cutoff', 'b9e29bfda0ef60749e76d170f3a2bcbb'),\n",
              " 'output': ('ecoinvent-391-cutoff', 'b9e29bfda0ef60749e76d170f3a2bcbb')}"
            ]
          },
          "execution_count": 39,
          "metadata": {},
          "output_type": "execute_result"
        }
      ],
      "source": [
        "#change the numeral to check out the other exchanges (as from the list above)\n",
        "[exc for exc in random_act.exchanges()][0].as_dict()"
      ]
    },
    {
      "cell_type": "markdown",
      "metadata": {
        "id": "CkH6lNbl8UQU"
      },
      "source": [
        "Sometimes it can also be helpful to have some activity characteristics at hand, for instance if you want to search a database using an activity's code or want to get an activity's name when only having its key..."
      ]
    },
    {
      "cell_type": "code",
      "execution_count": null,
      "metadata": {
        "id": "YC6yjFxI8UQU",
        "outputId": "4ee60e04-9d90-4e2c-8a47-d520ce79c423"
      },
      "outputs": [
        {
          "data": {
            "text/plain": [
              "'b9e29bfda0ef60749e76d170f3a2bcbb'"
            ]
          },
          "execution_count": 40,
          "metadata": {},
          "output_type": "execute_result"
        }
      ],
      "source": [
        "#getting an activity's code\n",
        "random_act['code']"
      ]
    },
    {
      "cell_type": "code",
      "execution_count": null,
      "metadata": {
        "id": "eHqAfXYS8UQU",
        "outputId": "b9be21d8-d71e-4c98-9317-862ad5bc4047"
      },
      "outputs": [
        {
          "data": {
            "text/plain": [
              "'market for electricity, low voltage' (kilowatt hour, CN-CSG, None)"
            ]
          },
          "execution_count": 41,
          "metadata": {},
          "output_type": "execute_result"
        }
      ],
      "source": [
        "#getting an activity's name through its code\n",
        "eidb.get(random_act['code'])"
      ]
    },
    {
      "cell_type": "code",
      "execution_count": null,
      "metadata": {
        "id": "aZ9HF7PZ8UQU",
        "outputId": "02a8c530-c0fc-4d8f-cefc-3485ff3153ce"
      },
      "outputs": [
        {
          "data": {
            "text/plain": [
              "('ecoinvent-391-cutoff', 'b9e29bfda0ef60749e76d170f3a2bcbb')"
            ]
          },
          "execution_count": 42,
          "metadata": {},
          "output_type": "execute_result"
        }
      ],
      "source": [
        "#getting an activity's key\n",
        "random_act.key"
      ]
    },
    {
      "cell_type": "code",
      "execution_count": null,
      "metadata": {
        "id": "FP5cvcnt8UQU",
        "outputId": "fe307faf-bf24-4a56-d1da-62af573e63e6"
      },
      "outputs": [
        {
          "data": {
            "text/plain": [
              "'market for electricity, low voltage' (kilowatt hour, CN-CSG, None)"
            ]
          },
          "execution_count": 43,
          "metadata": {},
          "output_type": "execute_result"
        }
      ],
      "source": [
        "#getting an activity's name using its key\n",
        "bd.get_activity(random_act.key)"
      ]
    },
    {
      "cell_type": "markdown",
      "metadata": {
        "id": "NOaFJSqz8UQU"
      },
      "source": [
        "<a id='section23'></a>\n",
        "## 2.3 Importing a foreground dataset from Excel\n",
        "\n",
        "In addition to the import of a standard background database, we can also create a database, like a bespoke foreground. There are several file types that work when developing a foreground inventory, one of them being Excel (more on file types for foreground development <span style=\"color:red\">HERE[need link here] </span>.\n",
        "\n",
        "This works relatively smoothly, provided the Excel workbook is created correctly. Here, we import a flawless dataset, but it may be that you have a dataset that has some inconsistencies in the import. In that case, check that the units in the foreground match those in the background database (1L of diesel vs 1kg of diesel, for example), check your reference products are correct for the database you are referencing, look for spelling errors, ...\n",
        "\n",
        "More information on creating a foreground inventory in Excel can be found <span style=\"color:red\">HERE[need link here] </span>.\n",
        "\n",
        "If you have a foreground database with several activites that calls on data from other databases that you have created, _all_ of the databases will need to be added. For example, there's one database, \"car_db\" that contains a process \"car\" that contains processes \"body\", \"steering wheel\" from the database \"parts_db\", you need to execute this process for both of these databases."
      ]
    },
    {
      "cell_type": "code",
      "execution_count": null,
      "metadata": {
        "id": "B4-4zrjn8UQU",
        "outputId": "cc302dfd-c5c8-4aa9-deb3-b3e7e7373148"
      },
      "outputs": [
        {
          "name": "stdout",
          "output_type": "stream",
          "text": [
            "Extracted 2 worksheets in 0.05 seconds\n"
          ]
        },
        {
          "name": "stderr",
          "output_type": "stream",
          "text": [
            "/home/bolowich/mambaforge/envs/terra/lib/python3.10/site-packages/openpyxl/worksheet/_read_only.py:79: UserWarning: Unknown extension is not supported and will be removed\n",
            "  for idx, row in parser.parse():\n"
          ]
        }
      ],
      "source": [
        "# Include the path to the foreground database\n",
        "fg_db = \"excel_importer_example.xlsx\"\n",
        "\n",
        "# Import your LCI\n",
        "lci = bi.ExcelImporter(fg_db)"
      ]
    },
    {
      "cell_type": "code",
      "execution_count": null,
      "metadata": {
        "id": "b38JnA728UQU"
      },
      "outputs": [],
      "source": [
        "# Need to match FG_DB to itself\n",
        "lci.match_database(fields=[\"name\", \"unit\"])"
      ]
    },
    {
      "cell_type": "code",
      "execution_count": null,
      "metadata": {
        "id": "QoAG3vzA8UQU",
        "outputId": "ad8b6fa7-0c67-4439-b8c1-b89c40998e40"
      },
      "outputs": [
        {
          "name": "stdout",
          "output_type": "stream",
          "text": [
            "Applying strategy: link_iterable_by_fields\n",
            "Applying strategy: link_iterable_by_fields\n"
          ]
        }
      ],
      "source": [
        "# Need to match FG_DB to the biosphere\n",
        "lci.match_database(fields=[\"name\", \"categories\"])\n",
        "lci.match_database(\"biosphere3\", fields=[\"name\", \"categories\"])"
      ]
    },
    {
      "cell_type": "code",
      "execution_count": null,
      "metadata": {
        "id": "HjqWFHMT8UQU"
      },
      "outputs": [],
      "source": [
        "bi.create_core_migrations()"
      ]
    },
    {
      "cell_type": "code",
      "execution_count": null,
      "metadata": {
        "scrolled": true,
        "id": "e03Xb3528UQV",
        "outputId": "c3c2e170-a0d1-4df5-ef04-fb3015d1b965"
      },
      "outputs": [
        {
          "name": "stdout",
          "output_type": "stream",
          "text": [
            "Applying strategy: csv_restore_tuples\n",
            "Applying strategy: csv_restore_booleans\n",
            "Applying strategy: csv_numerize\n",
            "Applying strategy: csv_drop_unknown\n",
            "Applying strategy: csv_add_missing_exchanges_section\n",
            "Applying strategy: normalize_units\n",
            "Applying strategy: normalize_biosphere_categories\n",
            "Applying strategy: normalize_biosphere_names\n",
            "Applying strategy: strip_biosphere_exc_locations\n",
            "Applying strategy: set_code_by_activity_hash\n",
            "Applying strategy: link_iterable_by_fields\n",
            "Applying strategy: assign_only_product_as_production\n",
            "Applying strategy: link_technosphere_by_activity_hash\n",
            "Applying strategy: drop_falsey_uncertainty_fields_but_keep_zeros\n",
            "Applying strategy: convert_uncertainty_types_to_integers\n",
            "Applying strategy: convert_activity_parameters_to_list\n",
            "Applied 16 strategies in 6.86 seconds\n",
            "2 datasets\n",
            "7 exchanges\n",
            "4 unlinked exchanges\n",
            "  Type biosphere: 1 unique unlinked exchanges\n",
            "  Type technosphere: 3 unique unlinked exchanges\n"
          ]
        },
        {
          "data": {
            "text/plain": [
              "(2, 7, 4)"
            ]
          },
          "execution_count": 55,
          "metadata": {},
          "output_type": "execute_result"
        }
      ],
      "source": [
        "# Once your package is imported we need to apply strategies\n",
        "lci.apply_strategies()\n",
        "\n",
        "# We need to match databases - name and categories but ATTENTION! the categories in\n",
        "# the excel file is \"None\" so we will also need to match against unit.\n",
        "\n",
        "lci.statistics()"
      ]
    },
    {
      "cell_type": "markdown",
      "metadata": {
        "id": "B05EQDeQ8UQV"
      },
      "source": [
        "You can check whether the import went as expected by having a look at an Excel sheet, that includes our process data. The location of this file is given as output of the following command:\n",
        "\n",
        "This is not an essential process, but good to know :)"
      ]
    },
    {
      "cell_type": "code",
      "execution_count": null,
      "metadata": {
        "id": "S5nDZb0D8UQV"
      },
      "outputs": [],
      "source": [
        "lci.write_excel()"
      ]
    },
    {
      "cell_type": "markdown",
      "metadata": {
        "id": "aAdYO_WC8UQV"
      },
      "source": [
        "Seems like everything went fine :)\n",
        "\n",
        "If an exchange cannot be linked using the above applied strategies, because the respective input is listed multiple times in the database, you would have to link it manually. An example for such a case is `treatment of aluminium scrap, post-consumer, prepared for recycling, at refiner`, for which two ecoinvent (3.5 cutoff) entries exist.\n",
        "\n",
        "<span style=\"color:red\">NEED TO KNOW HOW TO ADD A FG INPUT MANUALLY</span>"
      ]
    },
    {
      "cell_type": "markdown",
      "metadata": {
        "id": "9NgrcX9x8UQV"
      },
      "source": [
        "Having imported the data, we also need to write it to a database to save it. This will write it to disk."
      ]
    },
    {
      "cell_type": "code",
      "execution_count": null,
      "metadata": {
        "id": "OBOemOre8UQV",
        "outputId": "2d112808-071e-4666-80c2-63984e1c4b95"
      },
      "outputs": [
        {
          "ename": "TypeError",
          "evalue": "keywords must be strings",
          "output_type": "error",
          "traceback": [
            "\u001b[0;31m---------------------------------------------------------------------------\u001b[0m",
            "\u001b[0;31mTypeError\u001b[0m                                 Traceback (most recent call last)",
            "Cell \u001b[0;32mIn[44], line 2\u001b[0m\n\u001b[1;32m      1\u001b[0m \u001b[38;5;66;03m# Write the foreground (or custom Excel database) to disk.\u001b[39;00m\n\u001b[0;32m----> 2\u001b[0m \u001b[43mlci\u001b[49m\u001b[38;5;241;43m.\u001b[39;49m\u001b[43mwrite_database\u001b[49m\u001b[43m(\u001b[49m\u001b[43m)\u001b[49m\n",
            "File \u001b[0;32m~/mambaforge/envs/bw-tutos/lib/python3.11/site-packages/bw2io/importers/excel.py:282\u001b[0m, in \u001b[0;36mExcelImporter.write_database\u001b[0;34m(self, **kwargs)\u001b[0m\n\u001b[1;32m    280\u001b[0m \u001b[38;5;250m\u001b[39m\u001b[38;5;124;03m\"\"\"Same as base ``write_database`` method, but ``activate_parameters`` is True by default.\"\"\"\u001b[39;00m\n\u001b[1;32m    281\u001b[0m kwargs[\u001b[38;5;124m\"\u001b[39m\u001b[38;5;124mactivate_parameters\u001b[39m\u001b[38;5;124m\"\u001b[39m] \u001b[38;5;241m=\u001b[39m kwargs\u001b[38;5;241m.\u001b[39mget(\u001b[38;5;124m\"\u001b[39m\u001b[38;5;124mactivate_parameters\u001b[39m\u001b[38;5;124m\"\u001b[39m, \u001b[38;5;28;01mTrue\u001b[39;00m)\n\u001b[0;32m--> 282\u001b[0m \u001b[38;5;28;43msuper\u001b[39;49m\u001b[43m(\u001b[49m\u001b[43mExcelImporter\u001b[49m\u001b[43m,\u001b[49m\u001b[43m \u001b[49m\u001b[38;5;28;43mself\u001b[39;49m\u001b[43m)\u001b[49m\u001b[38;5;241;43m.\u001b[39;49m\u001b[43mwrite_database\u001b[49m\u001b[43m(\u001b[49m\u001b[38;5;241;43m*\u001b[39;49m\u001b[38;5;241;43m*\u001b[39;49m\u001b[43mkwargs\u001b[49m\u001b[43m)\u001b[49m\n",
            "File \u001b[0;32m~/mambaforge/envs/bw-tutos/lib/python3.11/site-packages/bw2io/importers/base_lci.py:272\u001b[0m, in \u001b[0;36mLCIImporter.write_database\u001b[0;34m(self, data, delete_existing, backend, activate_parameters, db_name, **kwargs)\u001b[0m\n\u001b[1;32m    270\u001b[0m         warnings\u001b[38;5;241m.\u001b[39msimplefilter(\u001b[38;5;124m\"\u001b[39m\u001b[38;5;124mignore\u001b[39m\u001b[38;5;124m\"\u001b[39m)\n\u001b[1;32m    271\u001b[0m         db \u001b[38;5;241m=\u001b[39m Database(db_name, backend\u001b[38;5;241m=\u001b[39mbackend)\n\u001b[0;32m--> 272\u001b[0m         \u001b[43mdb\u001b[49m\u001b[38;5;241;43m.\u001b[39;49m\u001b[43mregister\u001b[49m\u001b[43m(\u001b[49m\u001b[38;5;241;43m*\u001b[39;49m\u001b[38;5;241;43m*\u001b[39;49m\u001b[38;5;28;43mself\u001b[39;49m\u001b[38;5;241;43m.\u001b[39;49m\u001b[43mmetadata\u001b[49m\u001b[43m)\u001b[49m\n\u001b[1;32m    274\u001b[0m \u001b[38;5;28mself\u001b[39m\u001b[38;5;241m.\u001b[39mwrite_database_parameters(activate_parameters, delete_existing)\n\u001b[1;32m    276\u001b[0m existing\u001b[38;5;241m.\u001b[39mupdate(data)\n",
            "\u001b[0;31mTypeError\u001b[0m: keywords must be strings"
          ]
        }
      ],
      "source": [
        "# Write the foreground (or custom Excel database) to disk.\n",
        "lci.write_database()"
      ]
    },
    {
      "cell_type": "code",
      "execution_count": 53,
      "metadata": {
        "id": "T-PrLuzu8UQV",
        "outputId": "e3cafa8a-97ca-4b57-9a3d-e895b888d391",
        "colab": {
          "base_uri": "https://localhost:8080/"
        }
      },
      "outputs": [
        {
          "output_type": "execute_result",
          "data": {
            "text/plain": [
              "Databases dictionary with 3 object(s):\n",
              "\t3D\n",
              "\tMobility example\n",
              "\tbiosphere3"
            ]
          },
          "metadata": {},
          "execution_count": 53
        }
      ],
      "source": [
        "# Check that your db now exists\n",
        "bd.databases"
      ]
    },
    {
      "cell_type": "code",
      "execution_count": 54,
      "metadata": {
        "id": "2SZWCKgl8UQV"
      },
      "outputs": [],
      "source": [
        "wbi = bd.Database(\"BW2 Excel water bottle import\")\n",
        "for act in wbi:\n",
        "    print(act)"
      ]
    },
    {
      "cell_type": "code",
      "execution_count": 55,
      "metadata": {
        "id": "ubjq5oCY8UQV",
        "outputId": "2ebf331f-0068-41e8-ff93-067d612b4534",
        "colab": {
          "base_uri": "https://localhost:8080/",
          "height": 208
        }
      },
      "outputs": [
        {
          "output_type": "error",
          "ename": "IndexError",
          "evalue": "list index out of range",
          "traceback": [
            "\u001b[0;31m---------------------------------------------------------------------------\u001b[0m",
            "\u001b[0;31mIndexError\u001b[0m                                Traceback (most recent call last)",
            "\u001b[0;32m<ipython-input-55-28d57a2d9ead>\u001b[0m in \u001b[0;36m<cell line: 1>\u001b[0;34m()\u001b[0m\n\u001b[0;32m----> 1\u001b[0;31m \u001b[0mwbp\u001b[0m \u001b[0;34m=\u001b[0m \u001b[0;34m[\u001b[0m\u001b[0mact\u001b[0m \u001b[0;32mfor\u001b[0m \u001b[0mact\u001b[0m \u001b[0;32min\u001b[0m \u001b[0mwbi\u001b[0m\u001b[0;34m]\u001b[0m\u001b[0;34m[\u001b[0m\u001b[0;36m0\u001b[0m\u001b[0;34m]\u001b[0m\u001b[0;34m\u001b[0m\u001b[0;34m\u001b[0m\u001b[0m\n\u001b[0m\u001b[1;32m      2\u001b[0m \u001b[0;32mfor\u001b[0m \u001b[0mexc\u001b[0m \u001b[0;32min\u001b[0m \u001b[0mwbp\u001b[0m\u001b[0;34m.\u001b[0m\u001b[0mexchanges\u001b[0m\u001b[0;34m(\u001b[0m\u001b[0;34m)\u001b[0m\u001b[0;34m:\u001b[0m\u001b[0;34m\u001b[0m\u001b[0;34m\u001b[0m\u001b[0m\n\u001b[1;32m      3\u001b[0m     \u001b[0mprint\u001b[0m\u001b[0;34m(\u001b[0m\u001b[0mexc\u001b[0m\u001b[0;34m)\u001b[0m\u001b[0;34m\u001b[0m\u001b[0;34m\u001b[0m\u001b[0m\n",
            "\u001b[0;31mIndexError\u001b[0m: list index out of range"
          ]
        }
      ],
      "source": [
        "wbp = [act for act in wbi][0]\n",
        "for exc in wbp.exchanges():\n",
        "    print(exc)"
      ]
    },
    {
      "cell_type": "markdown",
      "metadata": {
        "id": "ASMTsVGk8UQV"
      },
      "source": [
        "See whether the details of our biosphere exchange are correct:"
      ]
    },
    {
      "cell_type": "code",
      "execution_count": null,
      "metadata": {
        "id": "txnlLmK-8UQV"
      },
      "outputs": [],
      "source": [
        "ex = [act for act in wbi if 'water bottle production' in act['name']][0]\n",
        "[exc for exc in ex.exchanges() if 'Carbon dioxide' in str(exc)][0].as_dict()"
      ]
    },
    {
      "cell_type": "markdown",
      "metadata": {
        "id": "5a0fX_kt8UQW"
      },
      "source": [
        "Final check whether really everything worked - these commands will be explained later in detail:"
      ]
    },
    {
      "cell_type": "code",
      "execution_count": null,
      "metadata": {
        "id": "xheJLUEk8UQW"
      },
      "outputs": [],
      "source": [
        "lca = bw.LCA(\n",
        "    {(\"BW2 Excel water bottle import\", \"WriteSomeCode_UUID_isFineButNotNecessary\"): 1},\n",
        "    ('IPCC 2013', 'climate change', 'GWP 100a')\n",
        ")\n",
        "lca.lci()\n",
        "lca.lcia()\n",
        "lca.score"
      ]
    },
    {
      "cell_type": "markdown",
      "metadata": {
        "id": "tFrkyyFJ8UQW"
      },
      "source": [
        "Ok, enough with that. Let's delete this database (not the Excel file!) and the associated variables now:"
      ]
    },
    {
      "cell_type": "code",
      "execution_count": null,
      "metadata": {
        "id": "6YORP2578UQW"
      },
      "outputs": [],
      "source": [
        "del databases[wbi.name]\n",
        "#or:\n",
        "#wbi.delete()\n",
        "del wbi, wbp"
      ]
    },
    {
      "cell_type": "markdown",
      "metadata": {
        "id": "rnvjjlGY8UQW"
      },
      "source": [
        "Alternatively, we can also deregister the database, which removes all metadata:"
      ]
    },
    {
      "cell_type": "code",
      "execution_count": null,
      "metadata": {
        "id": "zl_Xckad8UQW"
      },
      "outputs": [],
      "source": [
        "bd.Database('BW2 Excel water bottle import').deregister()"
      ]
    },
    {
      "cell_type": "code",
      "execution_count": null,
      "metadata": {
        "id": "n2-7qNfF8UQW"
      },
      "outputs": [],
      "source": [
        "bd.databases"
      ]
    },
    {
      "cell_type": "markdown",
      "metadata": {
        "id": "WrjJhvjN8UQW"
      },
      "source": [
        "**Continue, or back to [table of contents](#section0)?**\n",
        "***"
      ]
    },
    {
      "cell_type": "markdown",
      "metadata": {
        "id": "_adWDY_q8UQW"
      },
      "source": [
        "<a id='section3'></a>\n",
        "# 3. Manual database creation\n",
        "In addition, let's add a new database manually. There are two very similar ways of doing so, shown below. Mind that this database needs to be saved as well so that we can work with it."
      ]
    },
    {
      "cell_type": "code",
      "source": [
        "os.makedirs(\"MyLCA\")\n",
        "print(os.path.abspath(\"MyLCA\")) #print the path\n",
        "\n",
        "os.chdir('MyLCA')\n",
        "\n",
        "print(os.getcwd())          #print the current working directory\n",
        "os.makedirs(\"ecoinvent 3.9.1_cutoff_ecoSpold02/datasets\")\n",
        "os.makedirs(\"ecoinvent 3.9.1_cutoff_ecoSpold02/datasets\", exist_ok=True)\n",
        "os.listdir('.')"
      ],
      "metadata": {
        "colab": {
          "base_uri": "https://localhost:8080/"
        },
        "id": "qT1eaxIDC2wk",
        "outputId": "f87a2099-6ddd-4f16-d7b2-5e9da5d5da2d"
      },
      "execution_count": null,
      "outputs": [
        {
          "output_type": "stream",
          "name": "stdout",
          "text": [
            "/content/MyLCA\n",
            "/content\n",
            "/content\n"
          ]
        }
      ]
    },
    {
      "cell_type": "code",
      "execution_count": null,
      "metadata": {
        "id": "4WpaG9fo8UQW",
        "colab": {
          "base_uri": "https://localhost:8080/"
        },
        "outputId": "a4ec0ecc-07cc-4e3e-bf26-f41dd7b9276e"
      },
      "outputs": [
        {
          "output_type": "stream",
          "name": "stdout",
          "text": [
            "Not able to determine geocollections for all datasets. This database is not ready for regionalization.\n"
          ]
        },
        {
          "output_type": "stream",
          "name": "stderr",
          "text": [
            "100%|██████████| 1/1 [00:00<00:00, 1866.62it/s]"
          ]
        },
        {
          "output_type": "stream",
          "name": "stdout",
          "text": [
            "Vacuuming database \n"
          ]
        },
        {
          "output_type": "stream",
          "name": "stderr",
          "text": [
            "\n"
          ]
        }
      ],
      "source": [
        "#One way of manually creating a database:\n",
        "db1 = bd.Database('3D')\n",
        "db1.register()\n",
        "db1.write({('3D', 'Printer'):{\n",
        "    'name': 'Printer',\n",
        "    'exchanges': [],\n",
        "    'unit': 'unit',\n",
        "    'location': 'somewhere',\n",
        "    'categories': ('in the', 'universe')\n",
        "}})\n",
        "\n"
      ]
    },
    {
      "cell_type": "code",
      "source": [
        "\n",
        "\n",
        "#Another way of manually creating a database is to have the data in a separate dictionary and then write it into an instantiated database:\n",
        "db2 = Database(\"example\")\n",
        "example_data = {\n",
        "    (\"example\", \"A\"): {\n",
        "        \"name\": \"A\",\n",
        "        \"exchanges\": [{\n",
        "            \"amount\": 1.0,\n",
        "            \"input\": (\"example\", \"B\"),\n",
        "            \"type\": \"technosphere\"\n",
        "            }],\n",
        "        'unit': 'kilogram',\n",
        "        'location': 'here',\n",
        "        'categories': (\"very\", \"interesting\")\n",
        "        },\n",
        "    (\"example\", \"B\"): {\n",
        "        \"name\": \"B\",\n",
        "        \"exchanges\": [],\n",
        "        'unit': 'microgram',\n",
        "        'location': 'there',\n",
        "        'categories': ('quite', 'boring')\n",
        "        }\n",
        "    }\n",
        "\n",
        "db2.write(example_data)"
      ],
      "metadata": {
        "id": "RYrc0skjIFWh"
      },
      "execution_count": null,
      "outputs": []
    },
    {
      "cell_type": "markdown",
      "metadata": {
        "id": "AaBEtnPK8UQW"
      },
      "source": [
        "Let's see if our databases actually exist:"
      ]
    },
    {
      "cell_type": "code",
      "execution_count": null,
      "metadata": {
        "id": "g9tDSu9S8UQW"
      },
      "outputs": [],
      "source": [
        "bw.databases"
      ]
    },
    {
      "cell_type": "markdown",
      "metadata": {
        "id": "q1LkCQCq8UQX"
      },
      "source": [
        "Well, seems like it. Now, let's have a look at a random activity in our second database:"
      ]
    },
    {
      "cell_type": "code",
      "execution_count": null,
      "metadata": {
        "id": "zTevyg3P8UQX"
      },
      "outputs": [],
      "source": [
        "db2.random()"
      ]
    },
    {
      "cell_type": "markdown",
      "metadata": {
        "id": "n_R_eYbq8UQX"
      },
      "source": [
        "If we want to get some information on the number of exchanges in each activity contained in the database, we type in:"
      ]
    },
    {
      "cell_type": "code",
      "execution_count": null,
      "metadata": {
        "id": "dvJ7rGiF8UQX"
      },
      "outputs": [],
      "source": [
        "num_exchanges = [(activity, len(activity.exchanges())) for activity in db2]\n",
        "num_exchanges"
      ]
    },
    {
      "cell_type": "markdown",
      "metadata": {
        "id": "u41t2bRp8UQX"
      },
      "source": [
        "We can also look for our activities, in this case all of them, by typing:"
      ]
    },
    {
      "cell_type": "code",
      "execution_count": null,
      "metadata": {
        "id": "KoCsrZvJ8UQX"
      },
      "outputs": [],
      "source": [
        "db1.search(\"*\")"
      ]
    },
    {
      "cell_type": "markdown",
      "metadata": {
        "id": "dxOa_KHg8UQX"
      },
      "source": [
        "However, we don't want to use these databases in the following. Therefore, we simply delete them, just like we deleted the dataset imported from an Excel file above:"
      ]
    },
    {
      "cell_type": "code",
      "execution_count": null,
      "metadata": {
        "id": "RAAeMz328UQX"
      },
      "outputs": [],
      "source": [
        "del databases[db1.name]\n",
        "del databases[db2.name]"
      ]
    },
    {
      "cell_type": "code",
      "execution_count": null,
      "metadata": {
        "id": "Q9d0_yZ78UQX"
      },
      "outputs": [],
      "source": [
        "#make sure that the databases got deleted\n",
        "bw.databases"
      ]
    },
    {
      "cell_type": "markdown",
      "metadata": {
        "id": "UXDgZbqF8UQX"
      },
      "source": [
        "Okay, now that we have our background data (be it manually created or imported from an existing database), it's time to model our foreground system!"
      ]
    },
    {
      "cell_type": "markdown",
      "metadata": {
        "id": "PjiWJATj8UQX"
      },
      "source": [
        "**Continue, or back to [table of contents](#section0)?**\n",
        "***"
      ]
    },
    {
      "cell_type": "markdown",
      "metadata": {
        "id": "3-J8xIYP8UQX"
      },
      "source": [
        "<a id='section4'></a>\n",
        "# 4. LCIA\n",
        "\n",
        "Before continuing with a simple product system example, the basics of the inventory caluclation shall be introduced. First, let's have a look at which LCIA methods we can access:"
      ]
    },
    {
      "cell_type": "code",
      "execution_count": null,
      "metadata": {
        "id": "6976SIho8UQY"
      },
      "outputs": [],
      "source": [
        "list(bw.methods)\n",
        "\n",
        "#or use the built-in method\n",
        "#bw.methods.list\n",
        "\n",
        "#or the following\n",
        "#bw.methods.items()"
      ]
    },
    {
      "cell_type": "markdown",
      "metadata": {
        "id": "yvYsm40v8UQY"
      },
      "source": [
        "Ok, we see that there are quite a few methods that we could use for our LCA. Can we get more details on them? Sure we can! Those details are stored as values (`bw.methods.values()`), with the method names being the keys (`bw.methods.keys()`):"
      ]
    },
    {
      "cell_type": "code",
      "execution_count": null,
      "metadata": {
        "id": "O-ZziBkM8UQY"
      },
      "outputs": [],
      "source": [
        "for key in bw.methods:\n",
        "    print(key, ':', bw.methods[key])"
      ]
    },
    {
      "cell_type": "markdown",
      "metadata": {
        "id": "qngEeiMz8UQY"
      },
      "source": [
        "To access the description of only one method, type:"
      ]
    },
    {
      "cell_type": "code",
      "execution_count": null,
      "metadata": {
        "id": "4FmKrxPt8UQY"
      },
      "outputs": [],
      "source": [
        "bw.methods.get(('CML 2001', 'acidification potential', 'average European'))"
      ]
    },
    {
      "cell_type": "markdown",
      "metadata": {
        "id": "eD3SCUBj8UQY"
      },
      "source": [
        "As you can see, this is a nested dictionary. You can also access values within the nested one, for example:"
      ]
    },
    {
      "cell_type": "code",
      "execution_count": null,
      "metadata": {
        "id": "P4m49sva8UQY"
      },
      "outputs": [],
      "source": [
        "bw.methods.get(('ILCD 1.0.8 2016 midpoint', 'ecosystem quality', 'marine eutrophication')).get('unit')"
      ]
    },
    {
      "cell_type": "markdown",
      "metadata": {
        "id": "rfd5g0l_8UQY"
      },
      "source": [
        "Now, let's select a set of LCIA methods to be applied in an inventory calculation, in this case the IPCC 2013 GWP100a (no LT)."
      ]
    },
    {
      "cell_type": "code",
      "execution_count": null,
      "metadata": {
        "id": "8DC6noSs8UQY"
      },
      "outputs": [],
      "source": [
        "CC_method = [m for m in bw.methods if 'IPCC 2013' in str(m) and  'climate change' in str(m) and 'GWP 100a' in str(m) and not 'no LT' in str(m)][0]\n",
        "CC_method"
      ]
    },
    {
      "cell_type": "markdown",
      "metadata": {
        "id": "UL6wN2iW8UQY"
      },
      "source": [
        "Let's define the functional unit/ reference flow; for now, this is only a random one, picked from our ecoinvent database:"
      ]
    },
    {
      "cell_type": "code",
      "execution_count": null,
      "metadata": {
        "id": "d1JuM7lR8UQY"
      },
      "outputs": [],
      "source": [
        "# select a process to be defined as functional unit\n",
        "process = eidb.random()\n",
        "process"
      ]
    },
    {
      "cell_type": "code",
      "execution_count": null,
      "metadata": {
        "id": "GcDHJciH8UQY"
      },
      "outputs": [],
      "source": [
        "functional_unit = {process:1}"
      ]
    },
    {
      "cell_type": "markdown",
      "metadata": {
        "id": "bGRg1obC8UQY"
      },
      "source": [
        "Now we can calculate the inventory!"
      ]
    },
    {
      "cell_type": "code",
      "execution_count": null,
      "metadata": {
        "id": "1KeaKjpD8UQY"
      },
      "outputs": [],
      "source": [
        "lca = LCA(functional_unit,CC_method)\n",
        "\n",
        "# alternatively, you can enter both functional unit and LCIA method directly into the LCA-command:\n",
        "# myFirstLCA_quick = bw.LCA({process:1}, ('IPCC 2013', 'climate change', 'GWP 100a'))"
      ]
    },
    {
      "cell_type": "markdown",
      "metadata": {
        "id": "Z-uhKggE8UQZ"
      },
      "source": [
        "And here we perform the actual impact calculation! Mind that this does not yield an output."
      ]
    },
    {
      "cell_type": "code",
      "execution_count": null,
      "metadata": {
        "id": "Ayaq47T-8UQZ"
      },
      "outputs": [],
      "source": [
        "lca.lci()\n",
        "lca.lcia()"
      ]
    },
    {
      "cell_type": "markdown",
      "metadata": {
        "id": "UtZmO-Su8UQZ"
      },
      "source": [
        "To see the actual impact as mid- or endpoint indicator (according to the impact assessment method used), we type in:"
      ]
    },
    {
      "cell_type": "code",
      "execution_count": null,
      "metadata": {
        "id": "lg9q0MkX8UQZ"
      },
      "outputs": [],
      "source": [
        "lca.score"
      ]
    },
    {
      "cell_type": "markdown",
      "metadata": {
        "id": "CxhkpcAr8UQZ"
      },
      "source": [
        "This result is given in the unit specified by the impact assessment method."
      ]
    },
    {
      "cell_type": "markdown",
      "metadata": {
        "id": "iC9K9rIx8UQZ"
      },
      "source": [
        "You can also check which LCIA method was applied for a given result:"
      ]
    },
    {
      "cell_type": "code",
      "execution_count": null,
      "metadata": {
        "id": "bDxutNMd8UQZ"
      },
      "outputs": [],
      "source": [
        "lca.method"
      ]
    },
    {
      "cell_type": "markdown",
      "metadata": {
        "id": "M03_b4Xk8UQZ"
      },
      "source": [
        "To see what else you can do with the lca-object, press tab in the next cell:"
      ]
    },
    {
      "cell_type": "code",
      "execution_count": null,
      "metadata": {
        "id": "4kpxjBRH8UQZ"
      },
      "outputs": [],
      "source": [
        "lca."
      ]
    },
    {
      "cell_type": "markdown",
      "metadata": {
        "id": "TUa1HMaD8UQZ"
      },
      "source": [
        "**Change the method**"
      ]
    },
    {
      "cell_type": "markdown",
      "metadata": {
        "id": "57GJhka_8UQZ"
      },
      "source": [
        "Now let's change the impact assessment method and experiment with two other methods, `redo_lci` and `redo_lcia`:"
      ]
    },
    {
      "cell_type": "code",
      "execution_count": null,
      "metadata": {
        "id": "ghznjNtn8UQZ"
      },
      "outputs": [],
      "source": [
        "agri_land_occ = [m for m in bw.methods if 'ReCiPe Midpoint (H)' in str(m) and  'agricultural land occupation' in str(m) and not 'w/o LT' in str(m) ][0]\n",
        "lca.switch_method(agri_land_occ)"
      ]
    },
    {
      "cell_type": "markdown",
      "metadata": {
        "id": "7D1m18Bv8UQZ"
      },
      "source": [
        "We can recalculate our LCI, including a changed demand, i.e. a new functional unit:"
      ]
    },
    {
      "cell_type": "code",
      "execution_count": null,
      "metadata": {
        "id": "xFL37kNz8UQZ"
      },
      "outputs": [],
      "source": [
        "demand = {process:2}\n",
        "lca.redo_lci(demand)\n",
        "lca.score"
      ]
    },
    {
      "cell_type": "markdown",
      "metadata": {
        "id": "O8Zbo25w8UQZ"
      },
      "source": [
        "The above command, however, has neither adopted the changed impact assessment method, nor has it recalculated the impacts. What's more, we don't see the change of the inventory reflected in our score - simply because it wasn't recalculated. Only the inventory as well as the demand and supply arrays got changed. To recalculate our inventory with our newly chosen impact assessment method (and, if you like, an adjusted demand), we need to type the following:"
      ]
    },
    {
      "cell_type": "code",
      "execution_count": null,
      "metadata": {
        "id": "SpWa7p7f8UQZ"
      },
      "outputs": [],
      "source": [
        "demand2 = {process:3}\n",
        "lca.redo_lcia(demand2)\n",
        "lca.score"
      ]
    },
    {
      "cell_type": "markdown",
      "metadata": {
        "id": "NLITRr3H8UQZ"
      },
      "source": [
        "**Additional stuff**"
      ]
    },
    {
      "cell_type": "markdown",
      "metadata": {
        "id": "lBiQmnC58UQa"
      },
      "source": [
        "Ok, enough with adjustments and recalculations. Let's check out some matrices now:\n",
        "\n",
        "- the technosphere matrix:"
      ]
    },
    {
      "cell_type": "code",
      "execution_count": null,
      "metadata": {
        "id": "b7H7G1iJ8UQa"
      },
      "outputs": [],
      "source": [
        "lca.technosphere_matrix"
      ]
    },
    {
      "cell_type": "code",
      "execution_count": null,
      "metadata": {
        "id": "erTYWjPz8UQa"
      },
      "outputs": [],
      "source": [
        "print(lca.technosphere_matrix)"
      ]
    },
    {
      "cell_type": "markdown",
      "metadata": {
        "id": "w80T82Hp8UQa"
      },
      "source": [
        "- the biosphere matrix:"
      ]
    },
    {
      "cell_type": "code",
      "execution_count": null,
      "metadata": {
        "id": "eAlnO6xM8UQa"
      },
      "outputs": [],
      "source": [
        "lca.biosphere_matrix"
      ]
    },
    {
      "cell_type": "code",
      "execution_count": null,
      "metadata": {
        "id": "weLVeOc08UQa"
      },
      "outputs": [],
      "source": [
        "print(lca.biosphere_matrix)"
      ]
    },
    {
      "cell_type": "markdown",
      "metadata": {
        "id": "WI5XT4Ki8UQa"
      },
      "source": [
        "- the characterisation matrix:"
      ]
    },
    {
      "cell_type": "code",
      "execution_count": null,
      "metadata": {
        "id": "kBrEnbk98UQa"
      },
      "outputs": [],
      "source": [
        "lca.characterization_matrix"
      ]
    },
    {
      "cell_type": "code",
      "execution_count": null,
      "metadata": {
        "id": "7HHvPCyo8UQa"
      },
      "outputs": [],
      "source": [
        "print(lca.characterization_matrix)"
      ]
    },
    {
      "cell_type": "markdown",
      "metadata": {
        "id": "04r2kbH-8UQa"
      },
      "source": [
        "- the inventory:"
      ]
    },
    {
      "cell_type": "code",
      "execution_count": null,
      "metadata": {
        "id": "C84Tz2fn8UQa"
      },
      "outputs": [],
      "source": [
        "lca.inventory"
      ]
    },
    {
      "cell_type": "code",
      "execution_count": null,
      "metadata": {
        "id": "JwaLMGmH8UQa"
      },
      "outputs": [],
      "source": [
        "print(lca.inventory)"
      ]
    },
    {
      "cell_type": "markdown",
      "metadata": {
        "id": "hbHg4p5F8UQa"
      },
      "source": [
        "- the characterised inventory:"
      ]
    },
    {
      "cell_type": "code",
      "execution_count": null,
      "metadata": {
        "id": "b88p2W318UQa"
      },
      "outputs": [],
      "source": [
        "lca.characterized_inventory"
      ]
    },
    {
      "cell_type": "code",
      "execution_count": null,
      "metadata": {
        "id": "HZhWXTKb8UQa"
      },
      "outputs": [],
      "source": [
        "print(lca.characterized_inventory)"
      ]
    },
    {
      "cell_type": "markdown",
      "metadata": {
        "id": "HU0vAphY8UQa"
      },
      "source": [
        "+ and the demand as well as supply arrays:"
      ]
    },
    {
      "cell_type": "code",
      "execution_count": null,
      "metadata": {
        "id": "PoHoi08o8UQa"
      },
      "outputs": [],
      "source": [
        "lca.demand_array #contains what we entered as final demand. Check that it only contains this demand by summing up the whole array"
      ]
    },
    {
      "cell_type": "code",
      "execution_count": null,
      "metadata": {
        "id": "SkirUKBa8UQa"
      },
      "outputs": [],
      "source": [
        "lca.demand_array.sum()"
      ]
    },
    {
      "cell_type": "code",
      "execution_count": null,
      "metadata": {
        "id": "jCtV-rRQ8UQa"
      },
      "outputs": [],
      "source": [
        "lca.supply_array #equals the multiplication of our inverted transaction matrix by the final demand, i.e. (Ae-1)*y"
      ]
    },
    {
      "cell_type": "markdown",
      "metadata": {
        "id": "u6m67qy-8UQb"
      },
      "source": [
        "**Continue, or back to [table of contents](#section0)?**\n",
        "***"
      ]
    },
    {
      "cell_type": "markdown",
      "metadata": {
        "id": "BI4B3Yn08UQb"
      },
      "source": [
        "<a id='section5'></a>\n",
        "# 5. Foreground system\n",
        "\n",
        "For modeling a foreground system, a new database is created that is linked to ecoinvent via exchanges. Some steps need to be considered, exemplified below for two simple product systems."
      ]
    },
    {
      "cell_type": "markdown",
      "metadata": {
        "id": "IE2ujPzc8UQb"
      },
      "source": [
        "<a id='section51'></a>\n",
        "## 5.1 How to create a simple product system?"
      ]
    },
    {
      "cell_type": "markdown",
      "metadata": {
        "id": "XSbJvX6M8UQb"
      },
      "source": [
        "Now we want to create the product system for a fictitious aluminium waste handling process, consisting of inputs from the treatment of aluminium scrap as well as markets for transports and compressed air. For creating a product system, we need to create foreground processes that we link to background processes. For the latter, we can search in the background database. When we don't know the exact name of an activity, we can first search for the parts of the name that we are sure about, e.g. low-voltage electricity:"
      ]
    },
    {
      "cell_type": "markdown",
      "metadata": {
        "id": "nrUPRSrU8UQb"
      },
      "source": [
        "**Setup of technosphere**"
      ]
    },
    {
      "cell_type": "code",
      "execution_count": null,
      "metadata": {
        "id": "PJdanGl08UQb"
      },
      "outputs": [],
      "source": [
        "#this search does not yield the complete list as we will see later\n",
        "eidb.search('electricity, low voltage')"
      ]
    },
    {
      "cell_type": "code",
      "execution_count": null,
      "metadata": {
        "id": "a-7rrI2o8UQb"
      },
      "outputs": [],
      "source": [
        "#this search, however, does yield the complete list\n",
        "for act in [act for act in eidb if 'electricity, low voltage' in act['name']]:\n",
        "    print(act)"
      ]
    },
    {
      "cell_type": "markdown",
      "metadata": {
        "id": "gj8NUjrB8UQb"
      },
      "source": [
        "From this list, we can select the target activity through a more narrow description including indexing."
      ]
    },
    {
      "cell_type": "code",
      "execution_count": null,
      "metadata": {
        "id": "ei-SvXbw8UQb"
      },
      "outputs": [],
      "source": [
        "process = [act for act in eidb if 'electricity, low voltage' in act['name'] and 'CA-ON' in act['location']][0]\n",
        "process"
      ]
    },
    {
      "cell_type": "markdown",
      "metadata": {
        "id": "6ZcvFbhz8UQb"
      },
      "source": [
        "Have a closer look at the description of the target activity."
      ]
    },
    {
      "cell_type": "code",
      "execution_count": null,
      "metadata": {
        "id": "XtL3NOGR8UQb"
      },
      "outputs": [],
      "source": [
        "process.as_dict()"
      ]
    },
    {
      "cell_type": "markdown",
      "metadata": {
        "id": "i0WtYBLR8UQb"
      },
      "source": [
        "Side note: You can also find the name of an activity by its code:"
      ]
    },
    {
      "cell_type": "code",
      "execution_count": null,
      "metadata": {
        "id": "Y6bGt6PE8UQb"
      },
      "outputs": [],
      "source": [
        "eidb.get('cfd25c57d2a355b94813229866ae9f5d')"
      ]
    },
    {
      "cell_type": "markdown",
      "metadata": {
        "id": "Z4BCw1Qg8UQb"
      },
      "source": [
        "Now, let's create and save a new activity for which we design the product system."
      ]
    },
    {
      "cell_type": "code",
      "execution_count": null,
      "metadata": {
        "id": "mah09-Ty8UQb"
      },
      "outputs": [],
      "source": [
        "waste_handling = eidb.new_activity(code = 'test1', name = \"Waste handling\", unit = \"unit\")\n",
        "waste_handling.save()"
      ]
    },
    {
      "cell_type": "markdown",
      "metadata": {
        "id": "T9ic6f3f8UQb"
      },
      "source": [
        "**Include parameters**"
      ]
    },
    {
      "cell_type": "markdown",
      "metadata": {
        "id": "rZghL5Gi8UQb"
      },
      "source": [
        "Adding some parameters on the project level works like the following. Mind that there are also parameters on the activity and database level. The commands for handling and saving those are quite similar; for more details, look [here](https://docs.brightwaylca.org/technical/bw2data.html#parameters)"
      ]
    },
    {
      "cell_type": "code",
      "execution_count": null,
      "metadata": {
        "id": "jOGvyQwy8UQb"
      },
      "outputs": [],
      "source": [
        "project_data = [{\n",
        "    'name': 'M',\n",
        "    'amount': 0.06,\n",
        "}, {\n",
        "    'name': 'D',\n",
        "    'amount': 200\n",
        "}]\n",
        "\n",
        "parameters.new_project_parameters(project_data)"
      ]
    },
    {
      "cell_type": "code",
      "execution_count": null,
      "metadata": {
        "id": "dAEwKbND8UQc"
      },
      "outputs": [],
      "source": [
        "# have a look at existing project parameters\n",
        "for param in ProjectParameter.select():\n",
        "    print(param, param.amount)"
      ]
    },
    {
      "cell_type": "markdown",
      "metadata": {
        "id": "M-NQtyQg8UQc"
      },
      "source": [
        "Let's make use of the entered parameters by parametrising the input amounts!"
      ]
    },
    {
      "cell_type": "code",
      "execution_count": null,
      "metadata": {
        "id": "4__qryC18UQc"
      },
      "outputs": [],
      "source": [
        "aluminium = [act for act in eidb if act['name']=='treatment of aluminium scrap, post-consumer, prepared for recycling, at refiner' and 'RER' in act['location']][0]\n",
        "waste_handling.new_exchange(input=aluminium.key,amount=0,unit=\"kilogram\",type='technosphere', formula='M').save()\n",
        "waste_handling.save()\n",
        "\n",
        "transport = [act for act in eidb if act['name']=='market for transport, freight, lorry 3.5-7.5 metric ton, EURO5' and 'RoW' in act['location']][0]\n",
        "waste_handling.new_exchange(input=transport.key,amount=0,unit=\"ton kilometer\",type='technosphere', formula='D*M/1000').save()\n",
        "waste_handling.save()\n",
        "\n",
        "air = [act for act in eidb if act['name']=='market for compressed air, 600 kPa gauge' and 'GLO' in act['location']][0]\n",
        "waste_handling.new_exchange(input=air.key,amount=0,unit=\"cubic meter\",type='technosphere', formula='D*M/1000').save()\n",
        "waste_handling.save()"
      ]
    },
    {
      "cell_type": "markdown",
      "metadata": {
        "id": "heIqCKA18UQc"
      },
      "source": [
        "Before the parameters become valid, we also need to save them by adding them to a group. Then we need to recalculate the exchanges based on the parameters."
      ]
    },
    {
      "cell_type": "code",
      "execution_count": null,
      "metadata": {
        "id": "05Nvasb88UQc"
      },
      "outputs": [],
      "source": [
        "parameters.add_exchanges_to_group(\"again another group\", waste_handling)\n",
        "ActivityParameter.recalculate_exchanges(\"again another group\")"
      ]
    },
    {
      "cell_type": "markdown",
      "metadata": {
        "id": "KuRYBBpc8UQc"
      },
      "source": [
        "Now we can have a look at the inputs to our waste handling activity. There are two ways:\n",
        "\n",
        "- one that quantifies the input:"
      ]
    },
    {
      "cell_type": "code",
      "execution_count": null,
      "metadata": {
        "id": "AY6wbs338UQc"
      },
      "outputs": [],
      "source": [
        "#Have a look at all exchanges of the selected activity\n",
        "for exc in waste_handling.exchanges():\n",
        "    print(exc)"
      ]
    },
    {
      "cell_type": "markdown",
      "metadata": {
        "id": "-bg3FEAd8UQc"
      },
      "source": [
        "- and one that does not:"
      ]
    },
    {
      "cell_type": "code",
      "execution_count": null,
      "metadata": {
        "id": "8hPhB1-28UQc"
      },
      "outputs": [],
      "source": [
        "for act in waste_handling.technosphere():\n",
        "    print(act.input)"
      ]
    },
    {
      "cell_type": "markdown",
      "metadata": {
        "id": "LstwVIPv8UQc"
      },
      "source": [
        "Moreover, we can check on some details of our new activity:"
      ]
    },
    {
      "cell_type": "code",
      "execution_count": null,
      "metadata": {
        "id": "hIiR4REp8UQc"
      },
      "outputs": [],
      "source": [
        "#get general information on the new activity\n",
        "act = eidb.get('test1')\n",
        "act"
      ]
    },
    {
      "cell_type": "code",
      "execution_count": null,
      "metadata": {
        "id": "vGjWpZVc8UQc"
      },
      "outputs": [],
      "source": [
        "#or like that\n",
        "eidb.search('waste handling')"
      ]
    },
    {
      "cell_type": "markdown",
      "metadata": {
        "id": "S4LFTUp58UQc"
      },
      "source": [
        "**Delete parameters and activities**"
      ]
    },
    {
      "cell_type": "code",
      "execution_count": null,
      "metadata": {
        "id": "KgCWDYD98UQc"
      },
      "outputs": [],
      "source": [
        "#delete a set of parameters; does not delete the parameter from the project parameters list?!?\n",
        "name = ['M']\n",
        "for name in ProjectParameter.select():\n",
        "    name.delete()"
      ]
    },
    {
      "cell_type": "code",
      "execution_count": null,
      "metadata": {
        "id": "ZTJrosQA8UQc"
      },
      "outputs": [],
      "source": [
        "#should delete the parameters but doesn't?!?\n",
        "ProjectParameter.delete()"
      ]
    },
    {
      "cell_type": "code",
      "execution_count": null,
      "metadata": {
        "id": "kFl8ex3u8UQc"
      },
      "outputs": [],
      "source": [
        "#remove the respective exchanges from the group; does not yet change anything about the exchanges?!?\n",
        "parameters.remove_exchanges_from_group(\"again another group\", waste_handling)"
      ]
    },
    {
      "cell_type": "code",
      "execution_count": null,
      "metadata": {
        "id": "HlxEA4xe8UQc"
      },
      "outputs": [],
      "source": [
        "#should remove parameters, but does not really work\n",
        "parameters.remove_from_group(\"again another group\", waste_handling)"
      ]
    },
    {
      "cell_type": "code",
      "execution_count": null,
      "metadata": {
        "id": "Kh535O2J8UQc"
      },
      "outputs": [],
      "source": [
        "#Delete the list of project data (or any other dictionary); does not affect the parametrised exchanges until they get recalculated\n",
        "project_data.clear() #.remove would only clear the content but leave empty instances\n",
        "#quick check to see that it got deleted\n",
        "for data in project_data:\n",
        "    print(data)"
      ]
    },
    {
      "cell_type": "code",
      "execution_count": null,
      "metadata": {
        "id": "JxONCl1p8UQc"
      },
      "outputs": [],
      "source": [
        "#delete the table of existing project parameters, i.e. actually deletes the project parameters\n",
        "ProjectParameter.drop_table(safe=True, drop_sequences=True)\n",
        "#create a new empty table of project parameters\n",
        "ProjectParameter.create_table()\n",
        "\n",
        "for name in ProjectParameter.select():\n",
        "    name.print()"
      ]
    },
    {
      "cell_type": "code",
      "execution_count": null,
      "metadata": {
        "id": "i9XwC4PF8UQc"
      },
      "outputs": [],
      "source": [
        "#delete all waste handling activities that were accidentally created\n",
        "for activity in [act for act in eidb if act['name']=='Waste handling' and 'GLO' in act['location']]:\n",
        "    activity.delete()\n",
        "#delete individual bottle production activity\n",
        "#waste_handling.delete"
      ]
    },
    {
      "cell_type": "code",
      "execution_count": null,
      "metadata": {
        "id": "qPreC27v8UQd"
      },
      "outputs": [],
      "source": [
        "#check that the activity actually got deleted\n",
        "eidb.search('waste handling')"
      ]
    },
    {
      "cell_type": "markdown",
      "metadata": {
        "id": "oTrzEbyL8UQd"
      },
      "source": [
        "Seems like it..."
      ]
    },
    {
      "cell_type": "markdown",
      "metadata": {
        "id": "EffwPYc_8UQd"
      },
      "source": [
        "<a id='section52'></a>\n",
        "## 5.2 Bottle production\n",
        "Okay, now that we know the basics for creating (and deleting) a simple product system, we will create another one, explore it, and perform an LCA on it. So, here's a first short example on a simplified plastic bottle production. This process only has three inputs: electricity, transport, and polyethylene."
      ]
    },
    {
      "cell_type": "markdown",
      "metadata": {
        "id": "9vSpMQ0S8UQd"
      },
      "source": [
        "**Setup of the product system**"
      ]
    },
    {
      "cell_type": "markdown",
      "metadata": {
        "id": "dxkNowre8UQd"
      },
      "source": [
        "As mentioned earlier, the 'eidb.search' function does not give all the items that actually match the search criteria. We see this by comparing the following command with the one thereafter:"
      ]
    },
    {
      "cell_type": "code",
      "execution_count": null,
      "metadata": {
        "id": "jvseayhL8UQd"
      },
      "outputs": [],
      "source": [
        "#incomplete search results\n",
        "eidb.search('electricity production, photovoltaic, 3kWp slanted-roof installation,')#, filter={'location': 'CA-ON'})"
      ]
    },
    {
      "cell_type": "code",
      "execution_count": null,
      "metadata": {
        "id": "4wHj5C2l8UQd"
      },
      "outputs": [],
      "source": [
        "#complete search results\n",
        "for act in [act for act in eidb if 'electricity production, photovoltaic, 3kWp slanted-roof installation,' in act['name']]:# and 'CA-ON' in act['location']]:\n",
        "    print(act)"
      ]
    },
    {
      "cell_type": "code",
      "execution_count": null,
      "metadata": {
        "id": "39PWoHJ98UQd"
      },
      "outputs": [],
      "source": [
        "#we can also sort our search results\n",
        "list_to_be_sorted = [act for act in eidb if 'electricity production, photovoltaic, 3kWp slanted-roof installation,' in act['name']] # and 'CA-ON' in act['location']]:\n",
        "newlist = sorted(list_to_be_sorted, key=lambda k: k['name'])\n",
        "\n",
        "#for multiple keys, its works like this:\n",
        "#newlist = sorted(list_to_be_sorted, key = itemgetter('name','categories'))\n",
        "#or\n",
        "#newlist = sorted(list_to_be_sorted, key=lambda k: (k['name'],k['categories']))\n",
        "\n",
        "newlist"
      ]
    },
    {
      "cell_type": "code",
      "execution_count": null,
      "metadata": {
        "id": "LtelF8L88UQd"
      },
      "outputs": [],
      "source": [
        "#now let's refine the search and pick one activity\n",
        "[act for act in eidb if 'electricity production, photovoltaic, 3kWp slanted-roof installation,' in act['name'] and 'CA-ON' in act['location']][0]"
      ]
    },
    {
      "cell_type": "markdown",
      "metadata": {
        "id": "pTC-g0x98UQd"
      },
      "source": [
        "mind:\n",
        "    Activities do not have very many required fields; aside from database and code, the only other required field is name, but most activities will have a location and unit as well. If no type is specified for an activity, then the activity is assumed to be a process. Other types include product and biosphere for biosphere flows. Activity type is used to determine whether an activity should be placed in the biosphere or technosphere matrices during LCA calculations.\n",
        "\n",
        "\n",
        "Let's now create our [parameterised product system](https://docs.brightwaylca.org/intro.html#parameterized-datasets):"
      ]
    },
    {
      "cell_type": "code",
      "execution_count": null,
      "metadata": {
        "scrolled": true,
        "id": "CJQwq0oq8UQd"
      },
      "outputs": [],
      "source": [
        "#The following for-loop is only to guarantee that we can create a new bottle production process\n",
        "for activity in [act for act in eidb if 'Bottle production' in act['name'] and 'GLO' in act['location']]:\n",
        "    activity.delete()\n",
        "\n",
        "# activities and exchanges for simple bottle production model\n",
        "bottle_production = eidb.new_activity(code = 'test1', name = \"Bottle production\", unit = \"unit\")\n",
        "#bottle_production.save()\n",
        "\n",
        "project_data = [{\n",
        "    'name': 'M',\n",
        "    'amount': 0.06,\n",
        "}, {\n",
        "    'name': 'D',\n",
        "    'amount': 200\n",
        "}]\n",
        "\n",
        "parameters.new_project_parameters(project_data)\n",
        "\n",
        "for param in ProjectParameter.select():\n",
        "    print(param, param.amount)\n",
        "\n",
        "electricity = [act for act in eidb if act['name']=='electricity production, photovoltaic, 3kWp slanted-roof installation, multi-Si, panel, mounted, label-certified' and 'CH' in act['location']][0]\n",
        "bottle_production.new_exchange(input=electricity.key,amount=0,unit=\"kilowatt hour\",type='technosphere', formula='20*M/3.6').save()\n",
        "bottle_production.save()\n",
        "\n",
        "#mind how the following activity is treated differently! The reason for this will be shown later\n",
        "polyethylene = [act for act in eidb if act['name']=='market for polyethylene, high density, granulate' and 'GLO' in act['location']][0]\n",
        "pe = bottle_production.new_exchange(input=polyethylene.key,amount=0,unit=\"kilogram\",type='technosphere', formula='M')\n",
        "pe.save()\n",
        "bottle_production.save()\n",
        "\n",
        "transport = [act for act in eidb if act['name']=='market for transport, freight, lorry 3.5-7.5 metric ton, EURO5' and 'RER' in act['location']][0]\n",
        "bottle_production.new_exchange(input=transport.key,amount=0,unit=\"ton kilometer\",type='technosphere', formula='D*M/1000').save()\n",
        "bottle_production.save()\n",
        "\n",
        "parameters.add_exchanges_to_group(\"again another group\", bottle_production)\n",
        "ActivityParameter.recalculate_exchanges(\"again another group\")"
      ]
    },
    {
      "cell_type": "markdown",
      "metadata": {
        "id": "ZdPw2oaW8UQd"
      },
      "source": [
        "**Cross-check the exchanges**"
      ]
    },
    {
      "cell_type": "markdown",
      "metadata": {
        "id": "BQqYllkD8UQd"
      },
      "source": [
        "Let's check whether everything went ok when creating our exchanges:"
      ]
    },
    {
      "cell_type": "code",
      "execution_count": null,
      "metadata": {
        "scrolled": true,
        "id": "RK83lNj18UQd"
      },
      "outputs": [],
      "source": [
        "for exc in bottle_production.exchanges():\n",
        "    print(exc)"
      ]
    },
    {
      "cell_type": "code",
      "execution_count": null,
      "metadata": {
        "scrolled": true,
        "id": "sBW8Rt5c8UQd"
      },
      "outputs": [],
      "source": [
        "bottle_production.as_dict()"
      ]
    },
    {
      "cell_type": "code",
      "execution_count": null,
      "metadata": {
        "id": "xb6b5wRm8UQd"
      },
      "outputs": [],
      "source": [
        "#also this works:\n",
        "for key in bottle_production:\n",
        "    print(key, ':', bottle_production[key])"
      ]
    },
    {
      "cell_type": "markdown",
      "metadata": {
        "id": "_hka-c-D8UQd"
      },
      "source": [
        "Ok, seems like everything is fine with the bottle production activity. But what about the inputs - can we check how they are actually linked? Sure! To see the **inputs** of, for instance, our polyethylene input, we type:"
      ]
    },
    {
      "cell_type": "code",
      "execution_count": null,
      "metadata": {
        "id": "_mPZAzVD8UQe"
      },
      "outputs": [],
      "source": [
        "for exc in polyethylene.exchanges():\n",
        "    print(exc)"
      ]
    },
    {
      "cell_type": "markdown",
      "metadata": {
        "id": "_gnMGoNn8UQe"
      },
      "source": [
        "And to see the **outputs** of this activity, i.e. the upstream exchanges across the whole database, we type:"
      ]
    },
    {
      "cell_type": "code",
      "execution_count": null,
      "metadata": {
        "scrolled": true,
        "id": "sEnXHR6x8UQe"
      },
      "outputs": [],
      "source": [
        "for exc in polyethylene.upstream():\n",
        "    print(exc)"
      ]
    },
    {
      "cell_type": "markdown",
      "metadata": {
        "id": "Q-c8VNxD8UQe"
      },
      "source": [
        "... and yes, here it is. We can find our newly created exchange at the very bottom of the window!"
      ]
    },
    {
      "cell_type": "markdown",
      "metadata": {
        "id": "mKNnCgBH8UQe"
      },
      "source": [
        "Alternatively, we can also look straight for the **output of a new exchange** (and some other methods of the exchange). For doing so, it is important to have given a name to the exchange that you now want to examine further (as done when creating the product system)."
      ]
    },
    {
      "cell_type": "code",
      "execution_count": null,
      "metadata": {
        "id": "pg-I1mcN8UQe"
      },
      "outputs": [],
      "source": [
        "pe.input, pe.output, pe.amount, pe.unit, pe.uncertainty_type"
      ]
    },
    {
      "cell_type": "markdown",
      "metadata": {
        "id": "D0Jo39rw8UQe"
      },
      "source": [
        "Mind that the **amount equals to zero** here. This might possibly be due to the fact that this amount is parametrised but was set to zero initially (or because of the parameter level, i.e. project in this case)."
      ]
    },
    {
      "cell_type": "markdown",
      "metadata": {
        "id": "A0j-7ZSV8UQe"
      },
      "source": [
        "**Troubleshooting**\n",
        "\n",
        "In case something went wrong during the setup of the product system, make sure to remove all parameters and the saved activities (as shown below) and rerun the window for creating the product system."
      ]
    },
    {
      "cell_type": "code",
      "execution_count": null,
      "metadata": {
        "id": "tnOmY7tk8UQe"
      },
      "outputs": [],
      "source": [
        "#Delete the list of project data (or any other dictionary); does not affect the parametrised exchanges until they get recalculated\n",
        "project_data.clear() #.remove would only clear the content but leave empty instances\n",
        "#quick check to see that it got deleted\n",
        "for data in project_data:\n",
        "    print(data)"
      ]
    },
    {
      "cell_type": "code",
      "execution_count": null,
      "metadata": {
        "id": "Tj0_dyQP8UQe"
      },
      "outputs": [],
      "source": [
        "#delete the table of existing project parameters, i.e. actually deletes the project parameters\n",
        "ProjectParameter.drop_table(safe=True, drop_sequences=True)\n",
        "#create a new empty table of project parameters\n",
        "ProjectParameter.create_table()\n",
        "\n",
        "for name in ProjectParameter.select():\n",
        "    name.print()"
      ]
    },
    {
      "cell_type": "code",
      "execution_count": null,
      "metadata": {
        "id": "WEFZYveU8UQe"
      },
      "outputs": [],
      "source": [
        "#delete all bottle production activities that were accidentally created\n",
        "for activity in [act for act in eidb if act['name']=='Bottle production' and 'GLO' in act['location']]:\n",
        "    activity.delete()\n",
        "#delete individual bottle production activity\n",
        "#waste_handling.delete"
      ]
    },
    {
      "cell_type": "markdown",
      "metadata": {
        "id": "1Ec90ryF8UQe"
      },
      "source": [
        "Now let's see whether really everthing got deleted:"
      ]
    },
    {
      "cell_type": "code",
      "execution_count": null,
      "metadata": {
        "scrolled": true,
        "id": "LQFvkuhG8UQe"
      },
      "outputs": [],
      "source": [
        "for exc in bottle_production.exchanges():\n",
        "    print(exc)"
      ]
    },
    {
      "cell_type": "markdown",
      "metadata": {
        "id": "lzdxTuH-8UQe"
      },
      "source": [
        "**Definition of LCIA methods and functional unit**"
      ]
    },
    {
      "cell_type": "code",
      "execution_count": null,
      "metadata": {
        "id": "NfWRGRQL8UQe"
      },
      "outputs": [],
      "source": [
        "method_key = [m for m in bw.methods if 'ReCiPe' in str(m) and  'Midpoint (H)' in str(m) and 'climate change' in str(m)][0]\n",
        "\n",
        "functional_unit = {bottle_production:1}"
      ]
    },
    {
      "cell_type": "markdown",
      "metadata": {
        "id": "VKenv5ae8UQe"
      },
      "source": [
        "**LCA calculation**"
      ]
    },
    {
      "cell_type": "code",
      "execution_count": null,
      "metadata": {
        "id": "2AwiV_1Y8UQe"
      },
      "outputs": [],
      "source": [
        "lca = bw.LCA(functional_unit,method_key)"
      ]
    },
    {
      "cell_type": "code",
      "execution_count": null,
      "metadata": {
        "id": "i11Ssv_-8UQe"
      },
      "outputs": [],
      "source": [
        "lca.lci()\n",
        "lca.lcia()"
      ]
    },
    {
      "cell_type": "code",
      "execution_count": null,
      "metadata": {
        "id": "8YOcQTwU8UQf"
      },
      "outputs": [],
      "source": [
        "lca.demand"
      ]
    },
    {
      "cell_type": "code",
      "execution_count": null,
      "metadata": {
        "id": "npEDAkEQ8UQf"
      },
      "outputs": [],
      "source": [
        "lca.method"
      ]
    },
    {
      "cell_type": "code",
      "execution_count": null,
      "metadata": {
        "id": "Pu3RPE6e8UQf"
      },
      "outputs": [],
      "source": [
        "lca.score"
      ]
    },
    {
      "cell_type": "markdown",
      "metadata": {
        "id": "ClGGoSXl8UQf"
      },
      "source": [
        "**Elementary and product flows**\n",
        "\n",
        "There are a few ways to examine the elementary flows of our product system which are explained below. The same goes for product flows."
      ]
    },
    {
      "cell_type": "code",
      "execution_count": null,
      "metadata": {
        "id": "MkTI5osM8UQf"
      },
      "outputs": [],
      "source": [
        "eidb.filepath_processed()"
      ]
    },
    {
      "cell_type": "code",
      "execution_count": null,
      "metadata": {
        "id": "VTuPCxx48UQf"
      },
      "outputs": [],
      "source": [
        "your_structured_array = np.load(eidb.filepath_processed())\n",
        "pd.DataFrame(your_structured_array).head()"
      ]
    },
    {
      "cell_type": "code",
      "execution_count": null,
      "metadata": {
        "id": "DMu2BOU78UQf"
      },
      "outputs": [],
      "source": [
        "pd.Series(bw.mapping).head()"
      ]
    },
    {
      "cell_type": "code",
      "execution_count": null,
      "metadata": {
        "id": "TVJq2oOu8UQf"
      },
      "outputs": [],
      "source": [
        "pd.DataFrame(lca.bio_params).head(6)"
      ]
    },
    {
      "cell_type": "code",
      "execution_count": null,
      "metadata": {
        "id": "2i4EmL2I8UQf"
      },
      "outputs": [],
      "source": [
        "lca.activity_dict"
      ]
    },
    {
      "cell_type": "code",
      "execution_count": null,
      "metadata": {
        "id": "h7U9BVC08UQf"
      },
      "outputs": [],
      "source": [
        "# Getting the key from the \"demand\" attribute:\n",
        "act_key = list(lca.demand)[0].key\n",
        "# Getting the column number from the activity_dict:\n",
        "col_index = lca.activity_dict[act_key]\n",
        "print(\"The column index for activity {} is {}\".format(act_key, col_index))"
      ]
    },
    {
      "cell_type": "code",
      "execution_count": null,
      "metadata": {
        "id": "4qzxrxO-8UQf"
      },
      "outputs": [],
      "source": [
        "#have the numbering, i.e. the value, in the beginning\n",
        "myFirstLCA_rev_activity_dict = {value:key for key, value in lca.activity_dict.items()}\n",
        "myFirstLCA_rev_activity_dict"
      ]
    },
    {
      "cell_type": "code",
      "execution_count": null,
      "metadata": {
        "id": "JmwxISuL8UQf"
      },
      "outputs": [],
      "source": [
        "lca_rev_act_dict, lca_rev_product_dict, lca_rev_bio_dict = lca.reverse_dict()"
      ]
    },
    {
      "cell_type": "markdown",
      "metadata": {
        "id": "cO3SMwr38UQf"
      },
      "source": [
        "As done earlier for another product system, let's check out the technosphere:"
      ]
    },
    {
      "cell_type": "code",
      "execution_count": null,
      "metadata": {
        "id": "F2QRXTOE8UQf"
      },
      "outputs": [],
      "source": [
        "lca.technosphere_matrix"
      ]
    },
    {
      "cell_type": "code",
      "execution_count": null,
      "metadata": {
        "id": "_BA508hB8UQf"
      },
      "outputs": [],
      "source": [
        "print(lca.technosphere_matrix)"
      ]
    },
    {
      "cell_type": "code",
      "execution_count": null,
      "metadata": {
        "id": "ZCvnHQLC8UQf"
      },
      "outputs": [],
      "source": [
        "from bw2analyzer.matrix_grapher import SparseMatrixGrapher"
      ]
    },
    {
      "cell_type": "code",
      "execution_count": null,
      "metadata": {
        "id": "V3HNA_aY8UQf"
      },
      "outputs": [],
      "source": [
        "SparseMatrixGrapher(lca.biosphere_matrix).graph()"
      ]
    },
    {
      "cell_type": "code",
      "execution_count": null,
      "metadata": {
        "id": "WRSxJDzU8UQf"
      },
      "outputs": [],
      "source": [
        "lca.technosphere_matrix"
      ]
    },
    {
      "cell_type": "code",
      "execution_count": null,
      "metadata": {
        "id": "-_rkIlgo8UQf"
      },
      "outputs": [],
      "source": [
        "SparseMatrixGrapher(lca.technosphere_matrix).ordered_graph()"
      ]
    },
    {
      "cell_type": "markdown",
      "metadata": {
        "id": "EE4qcVR48UQf"
      },
      "source": [
        "If you're now wondering that this looks very similar to the result of the command `eidb.graph_technosphere()`, then you're right. The only difference is that our foreground system is now included."
      ]
    },
    {
      "cell_type": "markdown",
      "metadata": {
        "id": "xevofV158UQf"
      },
      "source": [
        "Before being able to get deeper insights, we need to prepare a few variables, all based on the column index, which we get like that:"
      ]
    },
    {
      "cell_type": "code",
      "execution_count": null,
      "metadata": {
        "id": "euXiTpdg8UQf"
      },
      "outputs": [],
      "source": [
        "print(\"As a reminder, the column index for  {} is  {}\".format(act_key, col_index))"
      ]
    },
    {
      "cell_type": "markdown",
      "metadata": {
        "id": "WAZreNNG8UQf"
      },
      "source": [
        "The column is given in *compressed sparse row* format. We can see that by doing as follows:"
      ]
    },
    {
      "cell_type": "code",
      "execution_count": null,
      "metadata": {
        "id": "S9vNU0938UQf"
      },
      "outputs": [],
      "source": [
        "myColumn = lca.technosphere_matrix[:, col_index]\n",
        "myColumn"
      ]
    },
    {
      "cell_type": "code",
      "execution_count": null,
      "metadata": {
        "id": "UzPWZ5Ir8UQf"
      },
      "outputs": [],
      "source": [
        "print(myColumn)"
      ]
    },
    {
      "cell_type": "markdown",
      "metadata": {
        "id": "sqCLw1Ul8UQg"
      },
      "source": [
        "Now let's switch from the *compressed sparse row* format to the *coordinate* format. With that we can examine our columns a bit further :) And, interestingly, the print-outs of our columns look exactly the same."
      ]
    },
    {
      "cell_type": "code",
      "execution_count": null,
      "metadata": {
        "id": "PgVl97Rq8UQg"
      },
      "outputs": [],
      "source": [
        "myColumnCOO = myColumn.tocoo()\n",
        "myColumnCOO"
      ]
    },
    {
      "cell_type": "markdown",
      "metadata": {
        "id": "Ub2dt6zF8UQg"
      },
      "source": [
        "The output is unchanged for that:"
      ]
    },
    {
      "cell_type": "code",
      "execution_count": null,
      "metadata": {
        "id": "Ac_wTEG_8UQg"
      },
      "outputs": [],
      "source": [
        "print(myColumnCOO)"
      ]
    },
    {
      "cell_type": "code",
      "execution_count": null,
      "metadata": {
        "id": "BJbKnW2M8UQg"
      },
      "outputs": [],
      "source": [
        "myColumnCOO.row"
      ]
    },
    {
      "cell_type": "markdown",
      "metadata": {
        "id": "MHrbE9Zt8UQg"
      },
      "source": [
        "Let's have a look again at the identifiers of our foreground activities:"
      ]
    },
    {
      "cell_type": "code",
      "execution_count": null,
      "metadata": {
        "id": "MLVfaKWI8UQg"
      },
      "outputs": [],
      "source": [
        "[lca_rev_product_dict[i] for i in myColumnCOO.row]"
      ]
    },
    {
      "cell_type": "markdown",
      "metadata": {
        "id": "TxaJJTQx8UQg"
      },
      "source": [
        "Through these identifiers we can also get the names of our activities:"
      ]
    },
    {
      "cell_type": "code",
      "execution_count": null,
      "metadata": {
        "id": "jYFNEyyc8UQg"
      },
      "outputs": [],
      "source": [
        "names_of_my_inputs = [bw.get_activity(lca_rev_product_dict[i])['name'] for i in myColumnCOO.row]\n",
        "names_of_my_inputs"
      ]
    },
    {
      "cell_type": "markdown",
      "metadata": {
        "id": "1dIkG24S8UQg"
      },
      "source": [
        "And those names can of course be linked to the actual amounts (which then looks much nicer in a table than above, only with the keys)."
      ]
    },
    {
      "cell_type": "code",
      "execution_count": null,
      "metadata": {
        "id": "2adUH6ZJ8UQg"
      },
      "outputs": [],
      "source": [
        "# First create a dict with the information I want:\n",
        "myColumnAsDict = dict(zip(names_of_my_inputs,myColumnCOO.data))\n",
        "# Create Pandas Series from dict\n",
        "pd.Series(myColumnAsDict, name=\"A series with information on exchanges in my foreground process\")"
      ]
    },
    {
      "cell_type": "markdown",
      "metadata": {
        "id": "iKuhNq2n8UQg"
      },
      "source": [
        "An alternative way to generate such a table is as follows, not depending on all the column-preparation..."
      ]
    },
    {
      "cell_type": "code",
      "execution_count": null,
      "metadata": {
        "id": "GaxRJEfS8UQg"
      },
      "outputs": [],
      "source": [
        "pd.Series({bw.get_activity(exc.input)['name']:exc.amount for exc in bottle_production.technosphere()},\n",
        "          name=\"alternative way to generate exchanges\")"
      ]
    },
    {
      "cell_type": "markdown",
      "metadata": {
        "id": "FEFVfkXz8UQg"
      },
      "source": [
        "Which, to be honest, does not give more information than the command we already used a couple of times (the data is simply presented in a different way):"
      ]
    },
    {
      "cell_type": "code",
      "execution_count": null,
      "metadata": {
        "id": "nzW-1RJe8UQg"
      },
      "outputs": [],
      "source": [
        "for exc in bottle_production.exchanges():\n",
        "    print(exc)"
      ]
    },
    {
      "cell_type": "markdown",
      "metadata": {
        "id": "wGO8mFlG8UQg"
      },
      "source": [
        "**Continue, or back to [table of contents](#section0)?**\n",
        "***"
      ]
    },
    {
      "cell_type": "markdown",
      "metadata": {
        "id": "G5rXBhEN8UQg"
      },
      "source": [
        "<a id='section6'></a>\n",
        "# 6. Manipulating an exchange"
      ]
    },
    {
      "cell_type": "markdown",
      "metadata": {
        "id": "HHm-Am0O8UQg"
      },
      "source": [
        "In the following, we want to manipulate the electricity exchange. This we want to do by not only changing the amount, but by manipulating the underlying formula."
      ]
    },
    {
      "cell_type": "markdown",
      "metadata": {
        "id": "RWG1XR9H8UQg"
      },
      "source": [
        "<a id='section61'></a>\n",
        "## 6.1 Copying and deleting activities\n",
        "\n",
        "First, let's copy our bottle production product system!"
      ]
    },
    {
      "cell_type": "code",
      "execution_count": null,
      "metadata": {
        "id": "tBePqbJN8UQg"
      },
      "outputs": [],
      "source": [
        "bottle_production_copy = bottle_production.copy()"
      ]
    },
    {
      "cell_type": "markdown",
      "metadata": {
        "id": "xHEjDUEe8UQg"
      },
      "source": [
        "To see whether it really got copied, let's have a look at the exchanges:"
      ]
    },
    {
      "cell_type": "code",
      "execution_count": null,
      "metadata": {
        "id": "q3II_kHo8UQg"
      },
      "outputs": [],
      "source": [
        "for exc in bottle_production_copy.exchanges():\n",
        "    print(exc)"
      ]
    },
    {
      "cell_type": "code",
      "execution_count": null,
      "metadata": {
        "id": "D9KNr9Of8UQg"
      },
      "outputs": [],
      "source": [
        "bottle_production_copy.save()"
      ]
    },
    {
      "cell_type": "markdown",
      "metadata": {
        "id": "VzTuuYWu8UQg"
      },
      "source": [
        "Ok, seems like it worked."
      ]
    },
    {
      "cell_type": "markdown",
      "metadata": {
        "id": "bmNxg8-r8UQh"
      },
      "source": [
        "You can delete the entire technosphere of an activity like this:"
      ]
    },
    {
      "cell_type": "code",
      "execution_count": null,
      "metadata": {
        "id": "Z_tXeIWt8UQh"
      },
      "outputs": [],
      "source": [
        "bottle_production_copy.technosphere().delete()"
      ]
    },
    {
      "cell_type": "markdown",
      "metadata": {
        "id": "EzBP4HXM8UQh"
      },
      "source": [
        "If you even want to delete the activity itself, you can do it this way:"
      ]
    },
    {
      "cell_type": "code",
      "execution_count": null,
      "metadata": {
        "id": "S5Fk_udd8UQh"
      },
      "outputs": [],
      "source": [
        "bottle_production_copy.delete()"
      ]
    },
    {
      "cell_type": "markdown",
      "metadata": {
        "id": "2Rpw6q_18UQh"
      },
      "source": [
        "Check whether the activity is still in the database:"
      ]
    },
    {
      "cell_type": "code",
      "execution_count": null,
      "metadata": {
        "id": "b1OhK_lJ8UQh"
      },
      "outputs": [],
      "source": [
        "bottle_production_copy in eidb"
      ]
    },
    {
      "cell_type": "markdown",
      "metadata": {
        "id": "fAMIe9s38UQh"
      },
      "source": [
        "But now let's get our copy back and start working with it:"
      ]
    },
    {
      "cell_type": "code",
      "execution_count": null,
      "metadata": {
        "id": "XPrHIKGa8UQh"
      },
      "outputs": [],
      "source": [
        "bottle_production_copy = bottle_production.copy()\n",
        "bottle_production_copy.save()"
      ]
    },
    {
      "cell_type": "code",
      "execution_count": null,
      "metadata": {
        "id": "Hnz7MFk88UQh"
      },
      "outputs": [],
      "source": [
        "bottle_production_copy.as_dict()"
      ]
    },
    {
      "cell_type": "markdown",
      "metadata": {
        "id": "-t7TPhe58UQh"
      },
      "source": [
        "<a id='section62'></a>\n",
        "## 6.2 First attempts at manipulating an exchange's keys/values\n",
        "\n",
        "First a short reminder what an exchange of our activity looks like. Let's for example take the first exchange, which is electricity. There are different ways of getting (almost) the same information:"
      ]
    },
    {
      "cell_type": "code",
      "execution_count": null,
      "metadata": {
        "id": "dHAY6xqd8UQh"
      },
      "outputs": [],
      "source": [
        "[exc for exc in bottle_production_copy.exchanges()][0]"
      ]
    },
    {
      "cell_type": "code",
      "execution_count": null,
      "metadata": {
        "id": "_XaU9PpK8UQh"
      },
      "outputs": [],
      "source": [
        "print([exc for exc in bottle_production_copy.exchanges()][0].items)"
      ]
    },
    {
      "cell_type": "code",
      "execution_count": null,
      "metadata": {
        "scrolled": true,
        "id": "O9cfnRsp8UQh"
      },
      "outputs": [],
      "source": [
        "[exc for exc in bottle_production_copy.exchanges()][0].as_dict()"
      ]
    },
    {
      "cell_type": "markdown",
      "metadata": {
        "id": "w9ZFZcCs8UQh"
      },
      "source": [
        "And quite obviously the output of this exchange is our bottle production..."
      ]
    },
    {
      "cell_type": "code",
      "execution_count": null,
      "metadata": {
        "id": "nTPnobSR8UQh"
      },
      "outputs": [],
      "source": [
        "[exc for exc in bottle_production_copy.exchanges()][0].output"
      ]
    },
    {
      "cell_type": "markdown",
      "metadata": {
        "id": "kI7YrZu28UQh"
      },
      "source": [
        "Let's have a look at the formula of our exchange of interest - there's again two ways of doing so:"
      ]
    },
    {
      "cell_type": "code",
      "execution_count": null,
      "metadata": {
        "id": "TI61hkNC8UQh"
      },
      "outputs": [],
      "source": [
        "[exc for exc in bottle_production_copy.exchanges()][0]['formula']"
      ]
    },
    {
      "cell_type": "code",
      "execution_count": null,
      "metadata": {
        "id": "S0X24gXO8UQh"
      },
      "outputs": [],
      "source": [
        "print([exc for exc in bottle_production_copy.exchanges()][0].get('formula'))"
      ]
    },
    {
      "cell_type": "markdown",
      "metadata": {
        "id": "34BONcas8UQh"
      },
      "source": [
        "Let's see if we can manipulate this formula or the exchange in general:"
      ]
    },
    {
      "cell_type": "code",
      "execution_count": null,
      "metadata": {
        "id": "tTjILqso8UQh"
      },
      "outputs": [],
      "source": [
        "#add another key with value\n",
        "[exc for exc in bottle_production_copy.exchanges()][0]['key']='value'"
      ]
    },
    {
      "cell_type": "code",
      "execution_count": null,
      "metadata": {
        "id": "Gk-h4JVk8UQh"
      },
      "outputs": [],
      "source": [
        "del [exc for exc in bottle_production_copy.exchanges()][0]['key']"
      ]
    },
    {
      "cell_type": "code",
      "execution_count": null,
      "metadata": {
        "id": "7yJ7us0h8UQh"
      },
      "outputs": [],
      "source": [
        "#change the formula and by that the amount of our exchange\n",
        "#[exc for exc in bottle_production_copy.exchanges()][0].update({'formula': '40*M/3.6'})\n",
        "list(exc for exc in bottle_production_copy.exchanges())[0].update({'formula': '40*M/3.6'})\n",
        "[exc for exc in bottle_production_copy.exchanges()][0].save()\n",
        "bottle_production_copy.save()"
      ]
    },
    {
      "cell_type": "code",
      "execution_count": null,
      "metadata": {
        "id": "6UnBio1h8UQh"
      },
      "outputs": [],
      "source": [
        "[exc for exc in bottle_production_copy.exchanges()][0]"
      ]
    },
    {
      "cell_type": "code",
      "execution_count": null,
      "metadata": {
        "id": "AIpjqa7D8UQh"
      },
      "outputs": [],
      "source": [
        "list(exc for exc in bottle_production_copy.exchanges())[0]"
      ]
    },
    {
      "cell_type": "code",
      "execution_count": null,
      "metadata": {
        "id": "YEo0oEu08UQh"
      },
      "outputs": [],
      "source": [
        "example = [exc for exc in bottle_production_copy.exchanges()][0]\n",
        "print(example.update({'formula': '40*M/3.6'}))\n",
        "example"
      ]
    },
    {
      "cell_type": "code",
      "execution_count": null,
      "metadata": {
        "id": "WTiLBekC8UQh"
      },
      "outputs": [],
      "source": [
        "example.update? #no the update command is used differently."
      ]
    },
    {
      "cell_type": "code",
      "execution_count": null,
      "metadata": {
        "id": "dV_bkKpg8UQh"
      },
      "outputs": [],
      "source": [
        "bottle_production_copy.substitution? #no, the substitution command is used for something else."
      ]
    },
    {
      "cell_type": "code",
      "execution_count": null,
      "metadata": {
        "id": "XTrEgO1g8UQh"
      },
      "outputs": [],
      "source": [
        "[exc for exc in bottle_production_copy.exchanges()][0].update"
      ]
    },
    {
      "cell_type": "code",
      "execution_count": null,
      "metadata": {
        "id": "DDyNyzj88UQi"
      },
      "outputs": [],
      "source": [
        "#change the formula and by that the amount of our exchange\n",
        "[exc for exc in bottle_production_copy.exchanges()][0]['formula']='40*M/3.6'"
      ]
    },
    {
      "cell_type": "code",
      "execution_count": null,
      "metadata": {
        "id": "dB0uvaHP8UQi"
      },
      "outputs": [],
      "source": [
        "#see if the formula in the respective exchange changed\n",
        "[exc for exc in bottle_production_copy.exchanges()][0].as_dict()"
      ]
    },
    {
      "cell_type": "markdown",
      "metadata": {
        "id": "pEm5g6L28UQi"
      },
      "source": [
        "Ok, so we see that nothing of this really works. Maybe we'll still find a solution for doing so. Actually we are super close, jsut a tiny part needs to be changed. But for now, let's try to substitute an exchange first."
      ]
    },
    {
      "cell_type": "markdown",
      "metadata": {
        "id": "cPDMHouw8UQi"
      },
      "source": [
        "<a id='section63'></a>\n",
        "## 6.3 Substituting an exchange\n",
        "\n",
        "So, let's first delete our activity and then recreate it:"
      ]
    },
    {
      "cell_type": "code",
      "execution_count": null,
      "metadata": {
        "id": "uBNVGhOY8UQi"
      },
      "outputs": [],
      "source": [
        "#delete individual bottle production activity\n",
        "bottle_production_copy.delete()"
      ]
    },
    {
      "cell_type": "code",
      "execution_count": null,
      "metadata": {
        "id": "Bs5Sr72v8UQi"
      },
      "outputs": [],
      "source": [
        "#delete all bottle production activities that were accidentally created\n",
        "for activity in [act for act in eidb if act['name']=='Bottle production copy' and 'GLO' in act['location']]:\n",
        "    activity.delete()"
      ]
    },
    {
      "cell_type": "code",
      "execution_count": null,
      "metadata": {
        "id": "P5nwah8H8UQi"
      },
      "outputs": [],
      "source": [
        "bottle_production_copy = bottle_production.copy(code='test2', name=\"Bottle production copy\")\n",
        "bottle_production_copy.save()"
      ]
    },
    {
      "cell_type": "markdown",
      "metadata": {
        "id": "dksxjLBv8UQi"
      },
      "source": [
        "Check whether the copy was actually created and saved:"
      ]
    },
    {
      "cell_type": "code",
      "execution_count": null,
      "metadata": {
        "id": "LpUOVh2Y8UQi"
      },
      "outputs": [],
      "source": [
        "eidb.search('Bottle production')#, filter={'code': 'test2'})"
      ]
    },
    {
      "cell_type": "markdown",
      "metadata": {
        "id": "hdayIf2q8UQi"
      },
      "source": [
        "Let's have a look at the exchanges of our production system:"
      ]
    },
    {
      "cell_type": "code",
      "execution_count": null,
      "metadata": {
        "scrolled": true,
        "id": "hLF1O_tR8UQi"
      },
      "outputs": [],
      "source": [
        "[exc for exc in bottle_production_copy.exchanges()]"
      ]
    },
    {
      "cell_type": "markdown",
      "metadata": {
        "id": "wZQNJ59Q8UQi"
      },
      "source": [
        "Once again, let's see the details of our exchange of interest, i.e. electricity:"
      ]
    },
    {
      "cell_type": "code",
      "execution_count": null,
      "metadata": {
        "scrolled": true,
        "id": "KWwSKIkV8UQi"
      },
      "outputs": [],
      "source": [
        "[exc for exc in bottle_production_copy.exchanges()][0].as_dict()"
      ]
    },
    {
      "cell_type": "markdown",
      "metadata": {
        "id": "ODPaDtIU8UQi"
      },
      "source": [
        "Reminder: We can also see all upstream exchanges of our activity of interest, i.e. electricity production:"
      ]
    },
    {
      "cell_type": "code",
      "execution_count": null,
      "metadata": {
        "id": "tyxjRt048UQi"
      },
      "outputs": [],
      "source": [
        "[exc for exc in electricity.upstream()]\n",
        "\n",
        "#same as:\n",
        "#for exc in electricity.upstream():\n",
        "#    print(exc)"
      ]
    },
    {
      "cell_type": "markdown",
      "metadata": {
        "id": "1KmrhQRK8UQi"
      },
      "source": [
        "Now let's delete an exchange either from the upstream or the downstream perspective:"
      ]
    },
    {
      "cell_type": "code",
      "execution_count": null,
      "metadata": {
        "id": "iwF_tLr88UQi"
      },
      "outputs": [],
      "source": [
        "#downstream\n",
        "[exc for exc in bottle_production_copy.exchanges()][0].delete()"
      ]
    },
    {
      "cell_type": "code",
      "execution_count": null,
      "metadata": {
        "id": "0skE5Aih8UQi"
      },
      "outputs": [],
      "source": [
        "#upstream\n",
        "[exc for exc in electricity.upstream()][2].delete()"
      ]
    },
    {
      "cell_type": "markdown",
      "metadata": {
        "id": "8Q5lnh5h8UQi"
      },
      "source": [
        "Now we add a new exchange as replacement for our deleted one. This action has to be validated by adding the exchange to the group so that the amount (calculated through a formula) is correct."
      ]
    },
    {
      "cell_type": "code",
      "execution_count": null,
      "metadata": {
        "id": "ZiE97D0_8UQi"
      },
      "outputs": [],
      "source": [
        "#this is our replacement for the original electricity input\n",
        "el_subst = [act for act in eidb if act['name']=='electricity production, photovoltaic, 3kWp slanted-roof installation, multi-Si, panel, mounted, label-certified' and 'CH' in act['location']][0]"
      ]
    },
    {
      "cell_type": "code",
      "execution_count": null,
      "metadata": {
        "id": "c7akec3I8UQi"
      },
      "outputs": [],
      "source": [
        "bottle_production_copy.new_exchange(input=el_subst.key,amount=0,unit=\"kilowatt hour\",type='technosphere', formula='40*M/3.6').save()\n",
        "bottle_production_copy.save()\n",
        "\n",
        "parameters.add_exchanges_to_group(\"again another group\", bottle_production_copy)\n",
        "ActivityParameter.recalculate_exchanges(\"again another group\")"
      ]
    },
    {
      "cell_type": "markdown",
      "metadata": {
        "id": "SoHm8_xT8UQi"
      },
      "source": [
        "Let's check our exchanges and whether we got what we wanted!"
      ]
    },
    {
      "cell_type": "code",
      "execution_count": null,
      "metadata": {
        "id": "BcB9_UUZ8UQi"
      },
      "outputs": [],
      "source": [
        "[exc for exc in bottle_production_copy.exchanges()]"
      ]
    },
    {
      "cell_type": "markdown",
      "metadata": {
        "id": "-DpVrryG8UQi"
      },
      "source": [
        "Yesss!!! Now, a more in-detail look at our exchange of interest (especially regarding the formula and the amount):"
      ]
    },
    {
      "cell_type": "code",
      "execution_count": null,
      "metadata": {
        "scrolled": true,
        "id": "8blfUMod8UQj"
      },
      "outputs": [],
      "source": [
        "[exc for exc in bottle_production_copy.exchanges()][2].as_dict()"
      ]
    },
    {
      "cell_type": "markdown",
      "metadata": {
        "id": "maayG3dA8UQj"
      },
      "source": [
        "<a id='section64'></a>\n",
        "## 6.4 Successfully manipulating an exchange"
      ]
    },
    {
      "cell_type": "markdown",
      "metadata": {
        "id": "alONoQtJ8UQj"
      },
      "source": [
        "Now let's finally manipulate a key,value pair of an exchange. There are two ways for doing so, depending on whether you want to assign a name to your exchange. **Alternative A** is the long version, **alternative B** the short one."
      ]
    },
    {
      "cell_type": "markdown",
      "metadata": {
        "id": "pps5ArrO8UQj"
      },
      "source": [
        "+ **Alternative A**\n",
        "\n",
        "Here, we want to first add another exchange to our production system, assign a variable to it, and then change its amount through an adjustment of its formula."
      ]
    },
    {
      "cell_type": "code",
      "execution_count": null,
      "metadata": {
        "id": "hncVh44m8UQj"
      },
      "outputs": [],
      "source": [
        "#add another electricity source to our bottle production system\n",
        "el_extra = [act for act in eidb if act['name']=='electricity production, photovoltaic, 3kWp slanted-roof installation, single-Si, panel, mounted, label-certified' and 'CH' in act['location']][0]\n",
        "\n",
        "el_ext = bottle_production_copy.new_exchange(input=el_extra.key,amount=0,unit=\"kilowatt hour\",type='technosphere', formula='10*M/3.6')\n",
        "el_ext.save()\n",
        "bottle_production.save()\n",
        "\n",
        "parameters.add_exchanges_to_group(\"again another group\", bottle_production_copy)\n",
        "ActivityParameter.recalculate_exchanges(\"again another group\")"
      ]
    },
    {
      "cell_type": "code",
      "execution_count": null,
      "metadata": {
        "id": "a8k9ypil8UQj"
      },
      "outputs": [],
      "source": [
        "#check our exchanges\n",
        "[exc for exc in bottle_production_copy.exchanges()]"
      ]
    },
    {
      "cell_type": "code",
      "execution_count": null,
      "metadata": {
        "id": "S8_QapzV8UQj"
      },
      "outputs": [],
      "source": [
        "#have a look at the created exchange\n",
        "el_ext.as_dict()"
      ]
    },
    {
      "cell_type": "code",
      "execution_count": null,
      "metadata": {
        "id": "NIKp_bht8UQj"
      },
      "outputs": [],
      "source": [
        "#let's change the amount of this exchange through an adjustment of the formula\n",
        "\n",
        "#btw: for getting a subset of the exchange-dictionary, you can type (to get the formula):\n",
        "#wanted_key = ['formula']\n",
        "#formula = dict((k, el_ext[k]) for k in wanted_key if k in el_ext)\n",
        "\n",
        "el_ext['formula']='20*M/3.6'\n",
        "\n",
        "el_ext.save()\n",
        "bottle_production.save()\n",
        "\n",
        "parameters.add_exchanges_to_group(\"again another group\", bottle_production_copy)\n",
        "ActivityParameter.recalculate_exchanges(\"again another group\")"
      ]
    },
    {
      "cell_type": "code",
      "execution_count": null,
      "metadata": {
        "id": "Bl2xCTM38UQj"
      },
      "outputs": [],
      "source": [
        "#check whether it worked and got adopted in the product system\n",
        "[exc for exc in bottle_production_copy.exchanges()]"
      ]
    },
    {
      "cell_type": "markdown",
      "metadata": {
        "id": "a52TmOPM8UQj"
      },
      "source": [
        "Great! It worked."
      ]
    },
    {
      "cell_type": "markdown",
      "metadata": {
        "id": "q2RU_-8M8UQj"
      },
      "source": [
        "+ **Alternative B**\n",
        "\n",
        "A quicker way for changing the formula of an exchange is to do the following. This also allows to manipulate exchanges that have no name (as compared to `el_ext` in the above example); you just need to give an intermediate name to the respective exchange."
      ]
    },
    {
      "cell_type": "code",
      "execution_count": null,
      "metadata": {
        "id": "B1I7x_T78UQj"
      },
      "outputs": [],
      "source": [
        "el_exc=[exc for exc in bottle_production_copy.exchanges()][3]\n",
        "el_exc['formula']='30*M/3.6'\n",
        "el_exc\n",
        "\n",
        "el_exc.save()\n",
        "bottle_production.save()\n",
        "\n",
        "parameters.add_exchanges_to_group(\"again another group\", bottle_production_copy)\n",
        "ActivityParameter.recalculate_exchanges(\"again another group\")"
      ]
    },
    {
      "cell_type": "code",
      "execution_count": null,
      "metadata": {
        "id": "1i7c0_Lu8UQj"
      },
      "outputs": [],
      "source": [
        "#let's see whether our change got adopted in the exchange-dictionary\n",
        "[exc for exc in bottle_production_copy.exchanges()][3].as_dict()"
      ]
    },
    {
      "cell_type": "code",
      "execution_count": null,
      "metadata": {
        "id": "NPw5NmCR8UQj"
      },
      "outputs": [],
      "source": [
        "#check whether it is also included in the product system\n",
        "[exc for exc in bottle_production_copy.exchanges()]"
      ]
    },
    {
      "cell_type": "markdown",
      "metadata": {
        "id": "OAwOvl9k8UQj"
      },
      "source": [
        "Yeah, awesome! Now we know how to do that."
      ]
    },
    {
      "cell_type": "markdown",
      "metadata": {
        "id": "tYd82oEk8UQj"
      },
      "source": [
        "**Troubleshooting**\n",
        "\n",
        "If anything went wrong when copying or manipulating an activity, you can do the following things and restart - but if there's no error message anywhere, don't execute these following commands, because we will use our bottle production systems later again:"
      ]
    },
    {
      "cell_type": "markdown",
      "metadata": {
        "id": "ZEG0CDvr8UQj"
      },
      "source": [
        "* Only delete a selected exchange (via two ways) - be sure to index correctly, otherwise you may have to reinstantiate your database:"
      ]
    },
    {
      "cell_type": "code",
      "execution_count": null,
      "metadata": {
        "id": "Qn0vtJRY8UQj"
      },
      "outputs": [],
      "source": [
        "[exc for exc in bottle_production_copy.exchanges()][0].delete()"
      ]
    },
    {
      "cell_type": "code",
      "execution_count": null,
      "metadata": {
        "id": "uC8Jcqtk8UQj"
      },
      "outputs": [],
      "source": [
        "[exc for exc in electricity.upstream()][2].delete()"
      ]
    },
    {
      "cell_type": "markdown",
      "metadata": {
        "id": "RftV4SKM8UQj"
      },
      "source": [
        "- Delete all exchanges that you copied accidentally:"
      ]
    },
    {
      "cell_type": "code",
      "execution_count": null,
      "metadata": {
        "id": "Cxo_B09V8UQj"
      },
      "outputs": [],
      "source": [
        "for act in [act for act in eidb if 'Bottle production copy' in act['name'] and 'GLO' in act['location']]:\n",
        "    act.delete()"
      ]
    },
    {
      "cell_type": "markdown",
      "metadata": {
        "id": "OpE9xTFQ8UQj"
      },
      "source": [
        "**Continue, or back to [table of contents](#section0)?**\n",
        "***"
      ]
    },
    {
      "cell_type": "markdown",
      "metadata": {
        "id": "Sy6t5Xge8UQj"
      },
      "source": [
        "<a id='section7'></a>\n",
        "# 7. Basic contribution analysis\n",
        "\n",
        "Based on the bottle production product system: Let's have a bit of a closer look at the inventory and the contributions of individual exchanges/activities!"
      ]
    },
    {
      "cell_type": "markdown",
      "metadata": {
        "id": "PF-EV43x8UQj"
      },
      "source": [
        "But before that, we recalculate our inventory:"
      ]
    },
    {
      "cell_type": "markdown",
      "metadata": {
        "id": "cE0ayaQd8UQj"
      },
      "source": [
        "<a id='section71'></a>\n",
        "## 7.1 Recalculation of the inventory"
      ]
    },
    {
      "cell_type": "code",
      "execution_count": null,
      "metadata": {
        "id": "ozUxeoVv8UQk"
      },
      "outputs": [],
      "source": [
        "#these are our method and functional unit, same as above in section 5.\n",
        "method_key = [m for m in bw.methods if 'ReCiPe' in str(m) and  'Midpoint (H)' in str(m) and 'climate change' in str(m)][0]\n",
        "\n",
        "functional_unit = {bottle_production:1}"
      ]
    },
    {
      "cell_type": "code",
      "execution_count": null,
      "metadata": {
        "id": "dogZAzRs8UQk"
      },
      "outputs": [],
      "source": [
        "lca = bw.LCA(functional_unit, method_key)"
      ]
    },
    {
      "cell_type": "code",
      "execution_count": null,
      "metadata": {
        "id": "cId6N4GQ8UQk"
      },
      "outputs": [],
      "source": [
        "lca.lci()\n",
        "lca.lcia()"
      ]
    },
    {
      "cell_type": "code",
      "execution_count": null,
      "metadata": {
        "id": "6at6ycZt8UQk"
      },
      "outputs": [],
      "source": [
        "lca.demand"
      ]
    },
    {
      "cell_type": "code",
      "execution_count": null,
      "metadata": {
        "id": "q395iEVe8UQk"
      },
      "outputs": [],
      "source": [
        "lca.method"
      ]
    },
    {
      "cell_type": "code",
      "execution_count": null,
      "metadata": {
        "id": "a2Cxnb5_8UQk"
      },
      "outputs": [],
      "source": [
        "print(\"The {} process accounts for {:f} {}.\".format(\n",
        "    list(functional_unit.keys())[0]['name'],\n",
        "    lca.score,\n",
        "    bw.methods.get(method_key).get('unit')\n",
        "    ))"
      ]
    },
    {
      "cell_type": "markdown",
      "metadata": {
        "id": "_G1jguPM8UQk"
      },
      "source": [
        "And now over to the contribution analysis. Let's find the most damaging activities and biosphere flows."
      ]
    },
    {
      "cell_type": "markdown",
      "metadata": {
        "id": "-w6n8Udo8UQk"
      },
      "source": [
        "<a id='section72'></a>\n",
        "## 7.2 Basic contribution analysis"
      ]
    },
    {
      "cell_type": "code",
      "execution_count": null,
      "metadata": {
        "id": "QO6OU7398UQk"
      },
      "outputs": [],
      "source": [
        "import bw2analyzer as bwa"
      ]
    },
    {
      "cell_type": "code",
      "execution_count": null,
      "metadata": {
        "id": "E-VfY3928UQk"
      },
      "outputs": [],
      "source": [
        "ca = bwa.ContributionAnalysis()\n",
        "ca.annotated_top_processes(lca, limit=5) #returns a list of tuples: (lca score, supply amount, activity name)"
      ]
    },
    {
      "cell_type": "markdown",
      "metadata": {
        "id": "rLlzM7bD8UQk"
      },
      "source": [
        "We can also set a limit below one, which will filter by fraction of impact instead of number of activities; we can also return activity keys instead of names."
      ]
    },
    {
      "cell_type": "code",
      "execution_count": null,
      "metadata": {
        "id": "ZgyqkuTW8UQk"
      },
      "outputs": [],
      "source": [
        "#change \"False\" to \"True\" and this command will give a similar result as the following one, only that we set a limit here\n",
        "ca.annotated_top_processes(lca, names=False, limit=0.001, limit_type='percent')"
      ]
    },
    {
      "cell_type": "markdown",
      "metadata": {
        "id": "m3OP1RCr8UQk"
      },
      "source": [
        "Another way of listing the most contributing activities is this:"
      ]
    },
    {
      "cell_type": "code",
      "execution_count": null,
      "metadata": {
        "scrolled": true,
        "id": "EqFo6vfC8UQk"
      },
      "outputs": [],
      "source": [
        "lca.top_activities() #this command essentially relies on the annotated_top_process command from above. Hence, the output is given as (lca score, supply amount, activity name)"
      ]
    },
    {
      "cell_type": "markdown",
      "metadata": {
        "id": "ZXITILMl8UQk"
      },
      "source": [
        "And of course we can do the same for elementary flows:"
      ]
    },
    {
      "cell_type": "code",
      "execution_count": null,
      "metadata": {
        "id": "9biUF6Vm8UQk"
      },
      "outputs": [],
      "source": [
        "ca.annotated_top_emissions(lca, limit=0.02, limit_type='percent')"
      ]
    },
    {
      "cell_type": "code",
      "execution_count": null,
      "metadata": {
        "scrolled": true,
        "id": "fz2Wf-Zi8UQk"
      },
      "outputs": [],
      "source": [
        "#or like that\n",
        "lca.top_emissions()"
      ]
    },
    {
      "cell_type": "markdown",
      "metadata": {
        "id": "EC6lGW948UQk"
      },
      "source": [
        "Notice that you can use the bw2analyzer.ContributionAnalysis method for analysing your results further, for instance through a Hinton matrix - see for yourself:"
      ]
    },
    {
      "cell_type": "code",
      "execution_count": null,
      "metadata": {
        "id": "A1KRElXh8UQk"
      },
      "outputs": [],
      "source": [
        "ca.hinton_matrix(lca, rows=10, cols=10)"
      ]
    },
    {
      "cell_type": "markdown",
      "metadata": {
        "id": "NxayOEev8UQk"
      },
      "source": [
        "<a id='section73'></a>\n",
        "## 7.3 Top emissions and processes by name"
      ]
    },
    {
      "cell_type": "markdown",
      "metadata": {
        "id": "v3afV5VT8UQk"
      },
      "source": [
        "In addition to the basic contribution analysis, we can also look at individual activities (columns) or flows (rows).\n",
        "\n",
        "What if we want to group names together, i.e. to get the total impact for all \"phosphates\"? There isn't a built-in function for this, but it is relatively easy to do. Let's start with creating different lists:"
      ]
    },
    {
      "cell_type": "code",
      "execution_count": null,
      "metadata": {
        "id": "E-KBXwgT8UQk"
      },
      "outputs": [],
      "source": [
        "from collections import defaultdict\n",
        "\n",
        "#get the keys for each biosphere flow of the same name\n",
        "all_unique_names_and_their_keys = defaultdict(list)\n",
        "\n",
        "for flow in bw.Database(\"biosphere3\"):\n",
        "    if flow.key in lca.biosphere_dict:\n",
        "        all_unique_names_and_their_keys[flow['name']].append(flow.key)\n",
        "\n",
        "all_unique_names_and_their_keys"
      ]
    },
    {
      "cell_type": "code",
      "execution_count": null,
      "metadata": {
        "id": "6M4l-Vc88UQk"
      },
      "outputs": [],
      "source": [
        "#get the rows for all biosphere flows of the same name\n",
        "all_unique_names_and_their_rows = {\n",
        "    name: [lca.biosphere_dict[key] for key in keys]\n",
        "    for name, keys in all_unique_names_and_their_keys.items()\n",
        "}\n",
        "\n",
        "all_unique_names_and_their_rows"
      ]
    },
    {
      "cell_type": "code",
      "execution_count": null,
      "metadata": {
        "id": "vrrBwsyk8UQk"
      },
      "outputs": [],
      "source": [
        "#get the scores for all biosphere flows of the same name\n",
        "all_unique_names_and_their_scores = {\n",
        "    name: [lca.characterized_inventory[row, :].sum() for row in rows]\n",
        "    for name, rows in all_unique_names_and_their_rows.items()\n",
        "}\n",
        "\n",
        "all_unique_names_and_their_scores"
      ]
    },
    {
      "cell_type": "markdown",
      "metadata": {
        "id": "q1z6Mft58UQl"
      },
      "source": [
        "Now, let's sort this list by the score and only display the first 10 results."
      ]
    },
    {
      "cell_type": "code",
      "execution_count": null,
      "metadata": {
        "id": "KGjQwpkk8UQl"
      },
      "outputs": [],
      "source": [
        "#get the first 10 scores of the most contributing biosphere flows\n",
        "sorted_scores = sorted(\n",
        "    [(sum(scores), name) for name, scores in all_unique_names_and_their_scores.items()],\n",
        "    reverse=True\n",
        ")\n",
        "\n",
        "sorted_scores[:10]"
      ]
    },
    {
      "cell_type": "markdown",
      "metadata": {
        "id": "JQPHkt6D8UQl"
      },
      "source": [
        "We can also encapsulate all this functionality in a single function."
      ]
    },
    {
      "cell_type": "code",
      "execution_count": null,
      "metadata": {
        "id": "SnCgoIff8UQl"
      },
      "outputs": [],
      "source": [
        "from collections import defaultdict\n",
        "\n",
        "def top_emissions_by_name(lca, biosphere_database='biosphere3'):\n",
        "    names = defaultdict(list)\n",
        "\n",
        "    for flow in bw.Database(\"biosphere3\"):\n",
        "        if flow.key in lca.biosphere_dict:\n",
        "            names[flow['name']].append(\n",
        "                lca.characterized_inventory[lca.biosphere_dict[flow.key], :].sum()\n",
        "            )\n",
        "\n",
        "    return sorted(\n",
        "        [(sum(scores), name) for name, scores in names.items()],\n",
        "        reverse=True\n",
        "    )"
      ]
    },
    {
      "cell_type": "code",
      "execution_count": null,
      "metadata": {
        "id": "ltkp9euG8UQl"
      },
      "outputs": [],
      "source": [
        "top_emissions_by_name(lca)[:5]"
      ]
    },
    {
      "cell_type": "markdown",
      "metadata": {
        "id": "1gD491_a8UQl"
      },
      "source": [
        "We can see that this function also groups emissions according to their type, e.g. all fossil carbon dioxide emissions are summed to \"Carbon dioxide, fossil\", as compared to the command in the top `ca.annotated_top_emissions`."
      ]
    },
    {
      "cell_type": "markdown",
      "metadata": {
        "id": "mmJJ3PL-8UQl"
      },
      "source": [
        "Possibly we can do the same for the technosphere flows with only slight adaptations to the above function:"
      ]
    },
    {
      "cell_type": "code",
      "execution_count": null,
      "metadata": {
        "id": "EijiNUhv8UQl"
      },
      "outputs": [],
      "source": [
        "from collections import defaultdict\n",
        "\n",
        "def top_processes_by_name(lca, technosphere_database='ecoinvent 3.5_cutoff_ecoSpold02'):\n",
        "    names = defaultdict(list)\n",
        "\n",
        "    for flow in eidb:\n",
        "        if flow.key in lca.activity_dict:\n",
        "            names[flow['name']].append(\n",
        "                lca.characterized_inventory[:, lca.activity_dict[flow.key]].sum()\n",
        "            )\n",
        "\n",
        "    return sorted(\n",
        "        [(sum(scores), name) for name, scores in names.items()],\n",
        "        reverse=True\n",
        "    )"
      ]
    },
    {
      "cell_type": "code",
      "execution_count": null,
      "metadata": {
        "id": "Wk-6veO-8UQl"
      },
      "outputs": [],
      "source": [
        "top_processes_by_name(lca)[:5]"
      ]
    },
    {
      "cell_type": "markdown",
      "metadata": {
        "id": "E5uQpqad8UQl"
      },
      "source": [
        "Let's check whether both the top_processes_by_name and the top_emissions_by_name equal our lca.score:"
      ]
    },
    {
      "cell_type": "code",
      "execution_count": null,
      "metadata": {
        "id": "HuYpqVgA8UQl"
      },
      "outputs": [],
      "source": [
        "l = [t[0] for t in top_processes_by_name(lca)]\n",
        "sum(l)"
      ]
    },
    {
      "cell_type": "code",
      "execution_count": null,
      "metadata": {
        "id": "BhU6ea_28UQl"
      },
      "outputs": [],
      "source": [
        "l = [t[0] for t in top_emissions_by_name(lca)]\n",
        "sum(l)"
      ]
    },
    {
      "cell_type": "code",
      "execution_count": null,
      "metadata": {
        "id": "pP-2mODH8UQl"
      },
      "outputs": [],
      "source": [
        "lca.score"
      ]
    },
    {
      "cell_type": "markdown",
      "metadata": {
        "id": "5CR2PptQ8UQl"
      },
      "source": [
        "Well, I guess we can say that is close enough, as these tiny deviations may be due to some rounding errors."
      ]
    },
    {
      "cell_type": "markdown",
      "metadata": {
        "id": "p4ZusQ938UQl"
      },
      "source": [
        "**Continue, or back to [table of contents](#section0)?**\n",
        "***"
      ]
    },
    {
      "cell_type": "markdown",
      "metadata": {
        "id": "hyfCHCTn8UQl"
      },
      "source": [
        "<a id='section8'></a>\n",
        "# 8. Multi-LCA\n",
        "\n",
        "To speed up comparative LCA, i.e. to compare multiple product alternatives (possibly across multiple impact categories), we can use the M-LCA functionality."
      ]
    },
    {
      "cell_type": "markdown",
      "metadata": {
        "id": "dfmf1PSf8UQl"
      },
      "source": [
        "<a id='section81'></a>\n",
        "## 8.1 Manually comparing products"
      ]
    },
    {
      "cell_type": "markdown",
      "metadata": {
        "id": "WP9a8uQr8UQl"
      },
      "source": [
        "The original code for such a comparative static LCA can be found [here](https://nbviewer.jupyter.org/github/PascalLesage/Shared-BW2-notebooks/blob/master/Comparative%20static%20LCA%20in%20Brightway2.ipynb). Here, we want to look at **bananas instead of dairy**. So let's see which activities we have in ecoinvent:"
      ]
    },
    {
      "cell_type": "code",
      "execution_count": null,
      "metadata": {
        "id": "avaGdto58UQl"
      },
      "outputs": [],
      "source": [
        "bananas_unsorted = [act for act in eidb if 'banana' in act['name']]\n",
        "bananas = sorted(bananas_unsorted, key=lambda k: k['name'])\n",
        "bananas"
      ]
    },
    {
      "cell_type": "markdown",
      "metadata": {
        "id": "M7xbgX7d8UQl"
      },
      "source": [
        "Of these activities, we now select the banana production processes for Colombia, Costa Rica, and India, and we select three impact methods on climate change, land use, and water stress."
      ]
    },
    {
      "cell_type": "code",
      "execution_count": null,
      "metadata": {
        "id": "EpjnZL3D8UQl"
      },
      "outputs": [],
      "source": [
        "banana_CO = [act for act in eidb if 'banana' in act['name'] and 'CO' in act['location']][0]\n",
        "banana_CR = [act for act in eidb if 'banana' in act['name'] and 'CR' in act['location']][0]\n",
        "banana_IN = [act for act in eidb if 'banana' in act['name'] and 'IN' in act['location']][0]\n",
        "\n",
        "inventory = [banana_CO, banana_CR, banana_IN]\n",
        "\n",
        "methods = [[m for m in bw.methods if 'ReCiPe Midpoint (H)' in str(m) and 'climate change' in str(m)][0],\n",
        "           [m for m in bw.methods if 'ReCiPe Midpoint (H)' in str(m) and  'agricultural land occupation' in str(m) and not 'w/o LT' in str(m) ][0],\n",
        "           [m for m in bw.methods if 'ReCiPe Midpoint (H)' in str(m) and  'water depletion' in str(m) and not 'w/o LT' in str(m) and not 'V1.13' in str(m)][0]]\n",
        "\n",
        "print(\"Let's compare\\n{},\\n{}, and\\n{}\".format(banana_CO, banana_CR, banana_IN))"
      ]
    },
    {
      "cell_type": "code",
      "execution_count": null,
      "metadata": {
        "id": "FOqCDE8f8UQl"
      },
      "outputs": [],
      "source": [
        "results = []\n",
        "\n",
        "for banana in inventory:\n",
        "    lca = bw.LCA({banana:1})\n",
        "    lca.lci()\n",
        "    for method in methods:\n",
        "        lca.switch_method(method)\n",
        "        lca.lcia()\n",
        "        results.append((banana[\"name\"], banana[\"location\"], method[1].title(), lca.score, bw.methods.get(method).get('unit')))\n",
        "results"
      ]
    },
    {
      "cell_type": "markdown",
      "metadata": {
        "id": "uWgGG0A08UQl"
      },
      "source": [
        "We should probably present these results in a nicer form. Let's use `pandas` for that:"
      ]
    },
    {
      "cell_type": "code",
      "execution_count": null,
      "metadata": {
        "id": "yg8b60xi8UQl"
      },
      "outputs": [],
      "source": [
        "results_df = pd.DataFrame(results, columns=[\"Name\", \"Location\", \"Method\", \"Score\", \"Unit\"])\n",
        "results_df = pd.pivot_table(results_df, index = [\"Name\", \"Location\"], columns = [\"Method\", \"Unit\"], values = \"Score\")\n",
        "results_df"
      ]
    },
    {
      "cell_type": "code",
      "execution_count": null,
      "metadata": {
        "id": "08_nAIVM8UQl"
      },
      "outputs": [],
      "source": [
        "df = pd.DataFrame.from_dict(results).T\n",
        "df"
      ]
    },
    {
      "cell_type": "markdown",
      "metadata": {
        "id": "oBkMFqDW8UQl"
      },
      "source": [
        "We can also normalise these results, which may help to get a better overview:"
      ]
    },
    {
      "cell_type": "code",
      "execution_count": null,
      "metadata": {
        "id": "xDGE_BQ28UQl"
      },
      "outputs": [],
      "source": [
        "NormResults_df = results_df / results_df.max()\n",
        "NormResults_df"
      ]
    },
    {
      "cell_type": "markdown",
      "metadata": {
        "id": "4FOVdizH8UQm"
      },
      "source": [
        "Sidenote: We can certainly run this kind of comparative LCA with our own product systems, e.g. the bottle production from above. We would just have to select the respective reference flow..."
      ]
    },
    {
      "cell_type": "markdown",
      "metadata": {
        "id": "-EW83vD88UQm"
      },
      "source": [
        "<a id='section82'></a>\n",
        "## 8.2 Calculation setups"
      ]
    },
    {
      "cell_type": "markdown",
      "metadata": {
        "id": "9LR9-nCy8UQm"
      },
      "source": [
        "A faster way of running comparative LCAs is through calculation setups. So, let's get familiar with them! This can be done best by just employing random activities as funcitonal units and selecting the LCIA methods which can be applied to the present biosphere flows (only a subset of these ones). Due to computation time, we decide to use the FORWAST database instead of ecoinvent - although this certainly works, too."
      ]
    },
    {
      "cell_type": "code",
      "execution_count": null,
      "metadata": {
        "id": "h8aTPeeV8UQm"
      },
      "outputs": [],
      "source": [
        "# define the functional units and LCIA methods; taken from example notebook\n",
        "functional_units = [{fw.random(): 1} for _ in range(20)]\n",
        "\n",
        "import random\n",
        "\n",
        "all_forwast_flows = {exc.input for ds in fw for exc in ds.biosphere()}\n",
        "suitable_methods = [method\n",
        "                    for method in bw.methods\n",
        "                    if {cf[0] for cf in Method(method).load()}.intersection(all_forwast_flows)]\n",
        "\n",
        "print(\"Can use {} of {} LCIA methods\".format(len(suitable_methods), len(bw.methods)))\n",
        "chosen_methods = random.sample(suitable_methods, 8)"
      ]
    },
    {
      "cell_type": "code",
      "execution_count": null,
      "metadata": {
        "id": "FNSdIh8p8UQm"
      },
      "outputs": [],
      "source": [
        "functional_units"
      ]
    },
    {
      "cell_type": "code",
      "execution_count": null,
      "metadata": {
        "id": "jzgFNq7s8UQm"
      },
      "outputs": [],
      "source": [
        "chosen_methods"
      ]
    },
    {
      "cell_type": "markdown",
      "metadata": {
        "id": "z1xs8ohD8UQm"
      },
      "source": [
        "Now we come to the actual calculation setup which gets defined through our functional units and the chosen LCIA methods:"
      ]
    },
    {
      "cell_type": "code",
      "execution_count": null,
      "metadata": {
        "id": "HdIv0ZRB8UQm"
      },
      "outputs": [],
      "source": [
        "my_calculation_setup = {'inv': functional_units, 'ia': chosen_methods}"
      ]
    },
    {
      "cell_type": "code",
      "execution_count": null,
      "metadata": {
        "id": "DTJVkSf98UQm"
      },
      "outputs": [],
      "source": [
        "calculation_setups['set of calculation setups'] = my_calculation_setup"
      ]
    },
    {
      "cell_type": "code",
      "execution_count": null,
      "metadata": {
        "id": "25RlyeXX8UQm"
      },
      "outputs": [],
      "source": [
        "mlca = MultiLCA('set of calculation setups')\n",
        "mlca.results"
      ]
    },
    {
      "cell_type": "markdown",
      "metadata": {
        "id": "DX7zKILd8UQm"
      },
      "source": [
        "Hm, does not seem to be so difficult. Therefore, let's try it on a better chosen example."
      ]
    },
    {
      "cell_type": "markdown",
      "metadata": {
        "id": "OsrAafyY8UQm"
      },
      "source": [
        "<a id='section83'></a>\n",
        "## 8.3 MLCA"
      ]
    },
    {
      "cell_type": "markdown",
      "metadata": {
        "id": "GOdTPy8j8UQm"
      },
      "source": [
        "Let's decide on our LCIA method selection:"
      ]
    },
    {
      "cell_type": "code",
      "execution_count": null,
      "metadata": {
        "id": "-A2zKjVN8UQm"
      },
      "outputs": [],
      "source": [
        "[m for m in bw.methods if 'ReCiPe' in str(m) and  'Midpoint (H)' in str(m) and 'land' in str(m)][:3]"
      ]
    },
    {
      "cell_type": "markdown",
      "metadata": {
        "id": "rq8ATFs18UQm"
      },
      "source": [
        "Now a different way fo setting up our list of selected LCIA methods:"
      ]
    },
    {
      "cell_type": "code",
      "execution_count": null,
      "metadata": {
        "id": "qY1vDJhG8UQm"
      },
      "outputs": [],
      "source": [
        "land_methods = [m for m in bw.methods if 'ReCiPe' in str(m) and  'Midpoint (H)' in str(m) and 'land' in str(m)][:3]\n",
        "methods = land_methods + [[m for m in bw.methods if 'ReCiPe' in str(m) and  'Midpoint (H)' in str(m) and 'climate change' in str(m)][0],\n",
        "          [m for m in bw.methods if 'ReCiPe' in str(m) and  'Midpoint (H)' in str(m) and 'water depletion' in str(m)][0]]\n",
        "print(methods)"
      ]
    },
    {
      "cell_type": "markdown",
      "metadata": {
        "id": "noGHAjcM8UQm"
      },
      "source": [
        "And now we calculate the results for one functional unit (our banana production from above) and multiple LCIA methods:"
      ]
    },
    {
      "cell_type": "markdown",
      "metadata": {
        "id": "S--TfJu68UQm"
      },
      "source": [
        "**One functional unit, multiple impact categories**"
      ]
    },
    {
      "cell_type": "code",
      "execution_count": null,
      "metadata": {
        "id": "-lTxFcDb8UQm"
      },
      "outputs": [],
      "source": [
        "all_scores = {}\n",
        "banana_lca = bw.LCA({banana_CO:1}, methods[0])\n",
        "banana_lca.lci()\n",
        "banana_lca.lcia()\n",
        "for category in methods:\n",
        "    banana_lca.switch_method(category)\n",
        "    banana_lca.lcia()\n",
        "    all_scores[category] = {}\n",
        "    all_scores[category]['score'] = banana_lca.score\n",
        "    all_scores[category]['unit'] = bw.Method(category).metadata['unit']\n",
        "    print(\"The score is {:f} {} for impact category {}\".format(banana_lca.score,\n",
        "                                                 bw.Method(category).metadata['unit'],\n",
        "                                                 bw.Method(category).name)\n",
        "    )"
      ]
    },
    {
      "cell_type": "markdown",
      "metadata": {
        "id": "-QgOQHLy8UQm"
      },
      "source": [
        "We can certainly present these results also in a nice table:"
      ]
    },
    {
      "cell_type": "code",
      "execution_count": null,
      "metadata": {
        "id": "Yz1ayi4l8UQm"
      },
      "outputs": [],
      "source": [
        "df = pd.DataFrame.from_dict(all_scores).T\n",
        "df"
      ]
    },
    {
      "cell_type": "markdown",
      "metadata": {
        "id": "5DLudNqT8UQm"
      },
      "source": [
        "And now let's visualise the results only for the scores that have the same unit, i.e. in this example agricultural and urban land occupation."
      ]
    },
    {
      "cell_type": "code",
      "execution_count": null,
      "metadata": {
        "id": "FqM1q3K98UQm"
      },
      "outputs": [],
      "source": [
        "%matplotlib inline\n",
        "import matplotlib.pyplot as plt"
      ]
    },
    {
      "cell_type": "code",
      "execution_count": null,
      "metadata": {
        "id": "DJvpWVVp8UQm"
      },
      "outputs": [],
      "source": [
        "df_m2 = df[df['unit']=='square meter-year']\n",
        "df_m2"
      ]
    },
    {
      "cell_type": "code",
      "execution_count": null,
      "metadata": {
        "id": "Dzl9rUFR8UQm"
      },
      "outputs": [],
      "source": [
        "df_m2.plot(kind='barh')"
      ]
    },
    {
      "cell_type": "markdown",
      "metadata": {
        "id": "ndxflr4j8UQm"
      },
      "source": [
        "And of course we can find the relative contributions for our selected functional unit, too:"
      ]
    },
    {
      "cell_type": "code",
      "execution_count": null,
      "metadata": {
        "id": "DPWOMJ2M8UQm"
      },
      "outputs": [],
      "source": [
        "banana_lca_unitProcessContribution = banana_lca.characterized_inventory.sum(axis=0).A1\n",
        "banana_lca_unitProcessRelativeContribution = banana_lca_unitProcessContribution/banana_lca.score\n",
        "banana_lca_unitProcessRelativeContribution"
      ]
    },
    {
      "cell_type": "markdown",
      "metadata": {
        "id": "TB-wkKAM8UQm"
      },
      "source": [
        "And now we calculate the results for multiple functional units and multiple LCIA methods:"
      ]
    },
    {
      "cell_type": "markdown",
      "metadata": {
        "id": "_LEHW1g18UQm"
      },
      "source": [
        "**Multiple functional units, multiple impact categories**"
      ]
    },
    {
      "cell_type": "code",
      "execution_count": null,
      "metadata": {
        "id": "B27UcAHS8UQn"
      },
      "outputs": [],
      "source": [
        "#Set up the production system\n",
        "prod_sys = [{banana_CO.key:1}, {banana_CR.key:1}, {banana_IN.key:1}]\n",
        "prod_sys"
      ]
    },
    {
      "cell_type": "code",
      "execution_count": null,
      "metadata": {
        "id": "zMOUDhxA8UQn"
      },
      "outputs": [],
      "source": [
        "bw.calculation_setups['multiLCA'] = {'inv': prod_sys, 'ia': methods}\n",
        "bw.calculation_setups['multiLCA']\n",
        "myMultiLCA = bw.MultiLCA('multiLCA')\n",
        "myMultiLCA.results\n",
        "\n",
        "df_impact = pd.DataFrame(data = myMultiLCA.results, columns = methods)\n",
        "df_impact"
      ]
    },
    {
      "cell_type": "markdown",
      "metadata": {
        "id": "2x8fa2uj8UQn"
      },
      "source": [
        "Just in case we cannot remember for some reason our functional units, we can easily find their definition again:"
      ]
    },
    {
      "cell_type": "code",
      "execution_count": null,
      "metadata": {
        "id": "XQLFrx0J8UQn"
      },
      "outputs": [],
      "source": [
        "myMultiLCA.func_units"
      ]
    },
    {
      "cell_type": "markdown",
      "metadata": {
        "id": "d6FB7A4r8UQn"
      },
      "source": [
        "The same certainly goes for our chosen LCIA methods:"
      ]
    },
    {
      "cell_type": "code",
      "execution_count": null,
      "metadata": {
        "id": "NJfW26Gd8UQn"
      },
      "outputs": [],
      "source": [
        "myMultiLCA.methods"
      ]
    },
    {
      "cell_type": "markdown",
      "metadata": {
        "id": "7uQR7YwJ8UQn"
      },
      "source": [
        "**Continue, or back to [table of contents](#section0)?**\n",
        "***"
      ]
    },
    {
      "cell_type": "markdown",
      "metadata": {
        "id": "FCUnn7SN8UQn"
      },
      "source": [
        "<a id='section9'></a>\n",
        "# 9. Monte Carlo simulation\n",
        "\n",
        "According to British statistician George Cox \"all models are wrong but some are useful\" - in that light, quantifying uncertainty makes LCA results more reliable/robust. One of the easiest/ most common ways to do so is to perform a [Monte Carlo simulation](https://en.wikipedia.org/wiki/Monte_Carlo_method), a random sampling technique. Before elaborating on that, we need to understand how uncertainty information is stored in Brightway:"
      ]
    },
    {
      "cell_type": "markdown",
      "metadata": {
        "id": "r3RdZi5O8UQn"
      },
      "source": [
        "### Uncertainty information in Brightway"
      ]
    },
    {
      "cell_type": "markdown",
      "metadata": {
        "id": "gdNk3ftL8UQn"
      },
      "source": [
        "Uncertainty is stored at the level of the exchanges - remember this! So, let's have a look at a random ecoinvent exchange:"
      ]
    },
    {
      "cell_type": "code",
      "execution_count": null,
      "metadata": {
        "id": "PRCdNo-Q8UQn"
      },
      "outputs": [],
      "source": [
        "[exc for exc in eidb.random().exchanges()][0].as_dict()"
      ]
    },
    {
      "cell_type": "markdown",
      "metadata": {
        "id": "LfobL6o_8UQn"
      },
      "source": [
        "The *necessary* uncertainty information of an exchange is described in the following fields:  \n",
        "  - **'uncertainty type'** : type of probability distribution function that the exchange follows. For example, the uncertainty type = 2 indicates a `lognormal`  distribution.  \n",
        "  - **'loc', 'scale', 'shape', 'minimum', 'maximum'**: parameters of the distribution function, which are respectively the location (mean $\\mu$, mode, offset, or median), scale (e.g. standard deviation $\\sigma$), and shape as well as minimum and maximum of the underlying distribution. Mind that different distribution functions require different parameters - not all parameters have to be defined for each distribution.\n",
        "\n",
        "Some *additional* uncertainty related information ('scale without pedigree', 'pedigree') are also there, but are not directly used in the calculation of the uncertainty. They are also specific to ecoinvent.\n",
        "\n",
        "Uncertainty in Brightway is dealt with using a Python package called `stats_arrays` (see [here](http://stats-arrays.readthedocs.io/en/latest/)), developed by Chris Mutel in the context of the development of Brightway but applicable to any stochastic model in Python. Have a look at it to see which probability distribution functions are available. And then, let's import this package!"
      ]
    },
    {
      "cell_type": "code",
      "execution_count": null,
      "metadata": {
        "id": "pIEvBypr8UQn"
      },
      "outputs": [],
      "source": [
        "import stats_arrays"
      ]
    },
    {
      "cell_type": "markdown",
      "metadata": {
        "id": "nW1K3swe8UQn"
      },
      "source": [
        "Just to give a brief example of how the uncertainty information \"works\", let's have a look at the lognormal distribution. As a reminder:   \n",
        "  - a random variable $X$ is a lognormal if its natural logarithm $ln(X)$ is normally distributed  \n",
        "  - the natural logarithm of the *median* of the lognormal distribution is equal to the median (=mean) of the underlying distribution  \n",
        "\n",
        "Taking the deterministic amount `amount` to be the median, we should have `loc` = `ln('amount')`. Let's do this for the first exchange of a random ecoinvent activity that has a lognormal distribution:"
      ]
    },
    {
      "cell_type": "code",
      "execution_count": null,
      "metadata": {
        "id": "YwgnfZbz8UQn"
      },
      "outputs": [],
      "source": [
        "#run this cell again if the output is empty\n",
        "e = [exc for exc in eidb.random().exchanges() if exc['uncertainty type'] == 2][0]\n",
        "e.as_dict()"
      ]
    },
    {
      "cell_type": "code",
      "execution_count": null,
      "metadata": {
        "id": "bm9dHfGn8UQn"
      },
      "outputs": [],
      "source": [
        "e['loc'] == np.log(e['amount'])"
      ]
    },
    {
      "cell_type": "markdown",
      "metadata": {
        "id": "yjpKPI2l8UQn"
      },
      "source": [
        "### Basic Monte Carlo simulation"
      ]
    },
    {
      "cell_type": "markdown",
      "metadata": {
        "id": "S7wsBIhl8UQn"
      },
      "source": [
        "**One functional unit, one impact category**"
      ]
    },
    {
      "cell_type": "code",
      "execution_count": null,
      "metadata": {
        "id": "G21UeeHK8UQn"
      },
      "outputs": [],
      "source": [
        "#MC simulation with 10 iterations for our banana production and the IPCC GWP100a method\n",
        "mc = bw.MonteCarloLCA({banana_CO:1},  ('IPCC 2013', 'climate change', 'GWP 100a'))\n",
        "scores = [next(mc) for _ in range(10)]\n",
        "scores\n",
        "\n",
        "#or this way:\n",
        "#for _ in range(10):\n",
        "#    print(next(mc))"
      ]
    },
    {
      "cell_type": "markdown",
      "metadata": {
        "id": "b09Ro57H8UQn"
      },
      "source": [
        "Let's print the results of our MC:"
      ]
    },
    {
      "cell_type": "code",
      "execution_count": null,
      "metadata": {
        "id": "FbjBUtii8UQn"
      },
      "outputs": [],
      "source": [
        "import matplotlib.pyplot as plt"
      ]
    },
    {
      "cell_type": "code",
      "execution_count": null,
      "metadata": {
        "id": "iojn06Wy8UQn"
      },
      "outputs": [],
      "source": [
        "plt.hist(scores,bins=40)"
      ]
    },
    {
      "cell_type": "markdown",
      "metadata": {
        "id": "_ZOetupb8UQn"
      },
      "source": [
        "Well, this doesn't really look like anything yet. We should increase the number of iterations - which yields more robust results. Around 10,000 iterations is a good starting point. However, this takes a while, so we will just give it a try with 1000 now. See for yourself how long it would take for a higher number of iterations."
      ]
    },
    {
      "cell_type": "code",
      "execution_count": null,
      "metadata": {
        "id": "qgSgZSxl8UQn"
      },
      "outputs": [],
      "source": [
        "#define the number of iterations\n",
        "n_runs = 1000"
      ]
    },
    {
      "cell_type": "code",
      "execution_count": null,
      "metadata": {
        "id": "Y8dM3EHf8UQn"
      },
      "outputs": [],
      "source": [
        "%%time\n",
        "values = [next(mc) for _ in range(n_runs)]"
      ]
    },
    {
      "cell_type": "code",
      "execution_count": null,
      "metadata": {
        "id": "G6HDL4FX8UQn"
      },
      "outputs": [],
      "source": [
        "plt.hist(values, bins=40)"
      ]
    },
    {
      "cell_type": "markdown",
      "metadata": {
        "id": "Frdi-AUf8UQn"
      },
      "source": [
        "We can also **run the MCs in parallel** which speeds up the computation time - see the following and compare the calculation times!"
      ]
    },
    {
      "cell_type": "code",
      "execution_count": null,
      "metadata": {
        "id": "SS0bFdVT8UQn"
      },
      "outputs": [],
      "source": [
        "# We can also create parallel Monte Carlo that will run simultations on multiple workers simultaneoulsy\n",
        "bw.ParallelMonteCarlo?"
      ]
    },
    {
      "cell_type": "code",
      "execution_count": null,
      "metadata": {
        "id": "KJZQHh6V8UQn"
      },
      "outputs": [],
      "source": [
        "pmc = bw.ParallelMonteCarlo(mc.demand, mc.method, iterations=n_runs)"
      ]
    },
    {
      "cell_type": "code",
      "execution_count": null,
      "metadata": {
        "id": "KJu4jlVe8UQo"
      },
      "outputs": [],
      "source": [
        "%%time\n",
        "values = pmc.calculate()"
      ]
    },
    {
      "cell_type": "code",
      "execution_count": null,
      "metadata": {
        "id": "vx9cMaS38UQo"
      },
      "outputs": [],
      "source": [
        "plt.hist(values, bins=40)"
      ]
    },
    {
      "cell_type": "markdown",
      "metadata": {
        "id": "vuNgmLBI8UQo"
      },
      "source": [
        "**One functional unit, multiple impact categories**"
      ]
    },
    {
      "cell_type": "code",
      "execution_count": null,
      "metadata": {
        "id": "MPqwoCap8UQo"
      },
      "outputs": [],
      "source": [
        "# define the function for MC simulation\n",
        "def multiImpactMonteCarloLCA(functional_unit, list_methods, iterations):\n",
        "    # Step 1\n",
        "    MC_lca = bw.MonteCarloLCA(functional_unit)\n",
        "    MC_lca.lci()\n",
        "    # Step 2\n",
        "    C_matrices = {}\n",
        "    # Step 3\n",
        "    for method in list_methods:\n",
        "        MC_lca.switch_method(method)\n",
        "        C_matrices[method] = MC_lca.characterization_matrix\n",
        "    # Step 4\n",
        "    results = np.empty((len(list_methods), iterations))\n",
        "    # Step 5\n",
        "    for iteration in range(iterations):\n",
        "        next(MC_lca)\n",
        "        for method_index, method in enumerate(list_methods):\n",
        "            results[method_index, iteration] = (C_matrices[method]*MC_lca.inventory).sum()\n",
        "    return results\n",
        "\n",
        "# define the LCIA methods, functional unit, and the number of iterations\n",
        "ILCD = [method for method in bw.methods if \"ILCD\" in str(method) and \"no LT\" not in str(method)]\n",
        "fu = {banana_CO:1}\n",
        "iterations = 100\n",
        "\n",
        "# let it run!\n",
        "test_results = multiImpactMonteCarloLCA(fu, ILCD, iterations)\n",
        "test_results"
      ]
    },
    {
      "cell_type": "code",
      "execution_count": null,
      "metadata": {
        "id": "dZljbPfb8UQo"
      },
      "outputs": [],
      "source": [
        "ILCD"
      ]
    },
    {
      "cell_type": "code",
      "execution_count": null,
      "metadata": {
        "id": "Fq3IylFW8UQo"
      },
      "outputs": [],
      "source": [
        "#we can get the plots for all 34 ILCD methods (--> type: len(ILCD)) by changing the index in the brackets\n",
        "plt.hist(test_results[33], bins=40)"
      ]
    },
    {
      "cell_type": "markdown",
      "metadata": {
        "id": "G30fkXr68UQo"
      },
      "source": [
        "If you are interested in applying a **sensitivity analysis**, check out this [notebook](https://github.com/PoutineAndRosti/Brightway-Seminar-2017/blob/master/Day%202%20PM/Sensitivity%20analysis%20-%20example%20with%20PAWN%20indices.ipynb)."
      ]
    },
    {
      "cell_type": "markdown",
      "metadata": {
        "id": "B_9ZIGLP8UQo"
      },
      "source": [
        "---\n",
        "\n",
        "At this point, it's worth pointing again at the **[Activity browser](https://github.com/LCA-ActivityBrowser/activity-browser)** and **[LCOPT](https://lcopt.readthedocs.io/en/latest/)**. These two Brightway2-extensions serve different purposes and require different settings, so check them out if you're curious.\n",
        "\n",
        "---"
      ]
    },
    {
      "cell_type": "markdown",
      "metadata": {
        "id": "tbLn9Lmw8UQo"
      },
      "source": [
        "And now, last but not least, here's our reward for finishing this notebook :)"
      ]
    },
    {
      "cell_type": "code",
      "execution_count": null,
      "metadata": {
        "id": "E3oKlblC8UQo"
      },
      "outputs": [],
      "source": [
        "from IPython.display import Image\n",
        "Image(url=\"https://cdn.shopify.com/s/files/1/1869/0319/products/ART-dabbing-unicorn_color-powder-blue_1024x1024.jpg?v=1523903512\")"
      ]
    },
    {
      "cell_type": "markdown",
      "metadata": {
        "id": "aCBBrqOu8UQo"
      },
      "source": [
        "**Back to [table of contents](#section0)?**\n",
        "***"
      ]
    },
    {
      "cell_type": "markdown",
      "metadata": {
        "id": "p23AQ-Yb8UQo"
      },
      "source": [
        "#### Troubleshooting\n",
        "\n",
        "Add his part from Section 1"
      ]
    },
    {
      "cell_type": "code",
      "execution_count": null,
      "metadata": {
        "id": "1CeXcCDJ8UQo"
      },
      "outputs": [],
      "source": []
    }
  ],
  "metadata": {
    "kernelspec": {
      "display_name": "Python 3 (ipykernel)",
      "language": "python",
      "name": "python3"
    },
    "language_info": {
      "codemirror_mode": {
        "name": "ipython",
        "version": 3
      },
      "file_extension": ".py",
      "mimetype": "text/x-python",
      "name": "python",
      "nbconvert_exporter": "python",
      "pygments_lexer": "ipython3",
      "version": "3.10.8"
    },
    "colab": {
      "provenance": [],
      "toc_visible": true,
      "collapsed_sections": [
        "oXTrID-Q8UQN",
        "_adWDY_q8UQW"
      ],
      "include_colab_link": true
    }
  },
  "nbformat": 4,
  "nbformat_minor": 0
}